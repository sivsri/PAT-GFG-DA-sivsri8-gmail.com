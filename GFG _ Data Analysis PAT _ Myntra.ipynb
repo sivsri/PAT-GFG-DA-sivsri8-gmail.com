{
 "cells": [
  {
   "cell_type": "code",
   "execution_count": 3,
   "metadata": {
    "_cell_guid": "b1076dfc-b9ad-4769-8c92-a6c4dae69d19",
    "_uuid": "8f2839f25d086af736a60e9eeb907d3b93b6e0e5"
   },
   "outputs": [
    {
     "data": {
      "text/html": [
       "<div>\n",
       "<style scoped>\n",
       "    .dataframe tbody tr th:only-of-type {\n",
       "        vertical-align: middle;\n",
       "    }\n",
       "\n",
       "    .dataframe tbody tr th {\n",
       "        vertical-align: top;\n",
       "    }\n",
       "\n",
       "    .dataframe thead th {\n",
       "        text-align: right;\n",
       "    }\n",
       "</style>\n",
       "<table border=\"1\" class=\"dataframe\">\n",
       "  <thead>\n",
       "    <tr style=\"text-align: right;\">\n",
       "      <th></th>\n",
       "      <th>product_name</th>\n",
       "      <th>brand_name</th>\n",
       "      <th>rating</th>\n",
       "      <th>rating_count</th>\n",
       "      <th>marked_price</th>\n",
       "      <th>discounted_price</th>\n",
       "      <th>sizes</th>\n",
       "      <th>product_link</th>\n",
       "      <th>img_link</th>\n",
       "      <th>product_tag</th>\n",
       "      <th>brand_tag</th>\n",
       "      <th>discount_amount</th>\n",
       "      <th>discount_percent</th>\n",
       "    </tr>\n",
       "  </thead>\n",
       "  <tbody>\n",
       "    <tr>\n",
       "      <th>0</th>\n",
       "      <td>Croc Textured Two Fold Wallet</td>\n",
       "      <td>Lino Perros</td>\n",
       "      <td>0.0</td>\n",
       "      <td>0</td>\n",
       "      <td>1295</td>\n",
       "      <td>828</td>\n",
       "      <td>Onesize</td>\n",
       "      <td>wallets/lino-perros/lino-perros-women-peach-co...</td>\n",
       "      <td>https://assets.myntassets.com/dpr_2,q_60,w_210...</td>\n",
       "      <td>wallets</td>\n",
       "      <td>lino-perros</td>\n",
       "      <td>467</td>\n",
       "      <td>36</td>\n",
       "    </tr>\n",
       "    <tr>\n",
       "      <th>1</th>\n",
       "      <td>Men Striped Sliders</td>\n",
       "      <td>Mast &amp; Harbour</td>\n",
       "      <td>4.0</td>\n",
       "      <td>76</td>\n",
       "      <td>1299</td>\n",
       "      <td>584</td>\n",
       "      <td>UK6,UK7,UK8,UK9,UK10,UK11</td>\n",
       "      <td>flip-flops/mast--harbour/mast--harbour-men-nav...</td>\n",
       "      <td>https://assets.myntassets.com/dpr_2,q_60,w_210...</td>\n",
       "      <td>flip-flops</td>\n",
       "      <td>mast--harbour</td>\n",
       "      <td>715</td>\n",
       "      <td>55</td>\n",
       "    </tr>\n",
       "    <tr>\n",
       "      <th>2</th>\n",
       "      <td>Printed A-line Kurta</td>\n",
       "      <td>Biba</td>\n",
       "      <td>4.3</td>\n",
       "      <td>66</td>\n",
       "      <td>1999</td>\n",
       "      <td>1599</td>\n",
       "      <td>S,M,L,XL,XXL,3XL</td>\n",
       "      <td>kurtas/biba/biba-women-off-white--black-printe...</td>\n",
       "      <td>https://assets.myntassets.com/dpr_2,q_60,w_210...</td>\n",
       "      <td>kurtas</td>\n",
       "      <td>biba</td>\n",
       "      <td>400</td>\n",
       "      <td>20</td>\n",
       "    </tr>\n",
       "    <tr>\n",
       "      <th>3</th>\n",
       "      <td>Girls Floral Printed T-shirt</td>\n",
       "      <td>Anthrilo</td>\n",
       "      <td>0.0</td>\n",
       "      <td>0</td>\n",
       "      <td>599</td>\n",
       "      <td>539</td>\n",
       "      <td>7-8Y,8-9Y,9-10Y</td>\n",
       "      <td>tshirts/anthrilo/anthrilo-girls-white-floral-p...</td>\n",
       "      <td>https://assets.myntassets.com/dpr_2,q_60,w_210...</td>\n",
       "      <td>tshirts</td>\n",
       "      <td>anthrilo</td>\n",
       "      <td>60</td>\n",
       "      <td>10</td>\n",
       "    </tr>\n",
       "    <tr>\n",
       "      <th>4</th>\n",
       "      <td>Women Printed Kurta with Skirt</td>\n",
       "      <td>FASHION DWAR</td>\n",
       "      <td>0.0</td>\n",
       "      <td>0</td>\n",
       "      <td>2899</td>\n",
       "      <td>2899</td>\n",
       "      <td>S,M,L,XL</td>\n",
       "      <td>kurta-sets/fashion-dwar/fashion-dwar-women-mul...</td>\n",
       "      <td>https://assets.myntassets.com/dpr_2,q_60,w_210...</td>\n",
       "      <td>kurta-sets</td>\n",
       "      <td>fashion-dwar</td>\n",
       "      <td>0</td>\n",
       "      <td>0</td>\n",
       "    </tr>\n",
       "  </tbody>\n",
       "</table>\n",
       "</div>"
      ],
      "text/plain": [
       "                     product_name      brand_name  rating  rating_count  \\\n",
       "0   Croc Textured Two Fold Wallet     Lino Perros     0.0             0   \n",
       "1             Men Striped Sliders  Mast & Harbour     4.0            76   \n",
       "2            Printed A-line Kurta            Biba     4.3            66   \n",
       "3    Girls Floral Printed T-shirt        Anthrilo     0.0             0   \n",
       "4  Women Printed Kurta with Skirt    FASHION DWAR     0.0             0   \n",
       "\n",
       "   marked_price  discounted_price                      sizes  \\\n",
       "0          1295               828                    Onesize   \n",
       "1          1299               584  UK6,UK7,UK8,UK9,UK10,UK11   \n",
       "2          1999              1599           S,M,L,XL,XXL,3XL   \n",
       "3           599               539            7-8Y,8-9Y,9-10Y   \n",
       "4          2899              2899                   S,M,L,XL   \n",
       "\n",
       "                                        product_link  \\\n",
       "0  wallets/lino-perros/lino-perros-women-peach-co...   \n",
       "1  flip-flops/mast--harbour/mast--harbour-men-nav...   \n",
       "2  kurtas/biba/biba-women-off-white--black-printe...   \n",
       "3  tshirts/anthrilo/anthrilo-girls-white-floral-p...   \n",
       "4  kurta-sets/fashion-dwar/fashion-dwar-women-mul...   \n",
       "\n",
       "                                            img_link product_tag  \\\n",
       "0  https://assets.myntassets.com/dpr_2,q_60,w_210...     wallets   \n",
       "1  https://assets.myntassets.com/dpr_2,q_60,w_210...  flip-flops   \n",
       "2  https://assets.myntassets.com/dpr_2,q_60,w_210...      kurtas   \n",
       "3  https://assets.myntassets.com/dpr_2,q_60,w_210...     tshirts   \n",
       "4  https://assets.myntassets.com/dpr_2,q_60,w_210...  kurta-sets   \n",
       "\n",
       "       brand_tag  discount_amount  discount_percent  \n",
       "0    lino-perros              467                36  \n",
       "1  mast--harbour              715                55  \n",
       "2           biba              400                20  \n",
       "3       anthrilo               60                10  \n",
       "4   fashion-dwar                0                 0  "
      ]
     },
     "execution_count": 3,
     "metadata": {},
     "output_type": "execute_result"
    }
   ],
   "source": [
    "import numpy as np\n",
    "import pandas as pd\n",
    "import seaborn as sns\n",
    "import matplotlib.pyplot as plt\n",
    "\n",
    "df = pd.read_csv('data.csv')\n",
    "df.head()"
   ]
  },
  {
   "cell_type": "markdown",
   "metadata": {},
   "source": [
    "### 1. How many unique products are there in the dataset? (5 marks)\n",
    "You need to find product ID of each product from product_link and then find the number of unique product ids\n",
    "\n",
    "- Finding Unique Products as per their Product ID\n",
    "- Removing Products with Duplicate Product ID"
   ]
  },
  {
   "cell_type": "code",
   "execution_count": 4,
   "metadata": {},
   "outputs": [],
   "source": [
    "df['product_id'] = df['product_link'].str.split('/').str[-2]"
   ]
  },
  {
   "cell_type": "code",
   "execution_count": 5,
   "metadata": {},
   "outputs": [
    {
     "data": {
      "text/plain": [
       "0         18070682\n",
       "1         12548958\n",
       "2         13446092\n",
       "3         18017006\n",
       "4         18015232\n",
       "            ...   \n",
       "168024    18245896\n",
       "168025    18713222\n",
       "168026    18713224\n",
       "168027    18054182\n",
       "168028    18511552\n",
       "Name: product_id, Length: 168029, dtype: object"
      ]
     },
     "execution_count": 5,
     "metadata": {},
     "output_type": "execute_result"
    }
   ],
   "source": [
    "df['product_id']"
   ]
  },
  {
   "cell_type": "code",
   "execution_count": 6,
   "metadata": {},
   "outputs": [],
   "source": [
    "num_unique_products = df['product_id'].nunique()"
   ]
  },
  {
   "cell_type": "code",
   "execution_count": 7,
   "metadata": {},
   "outputs": [
    {
     "data": {
      "text/plain": [
       "146435"
      ]
     },
     "execution_count": 7,
     "metadata": {},
     "output_type": "execute_result"
    }
   ],
   "source": [
    "num_unique_products"
   ]
  },
  {
   "cell_type": "markdown",
   "metadata": {},
   "source": [
    "### 2. What is the average rating of the products? (2 mark)\n",
    "- Try it without the product that are having rating 0\n",
    "- Try it without the product that are having 0 people given any rating"
   ]
  },
  {
   "cell_type": "code",
   "execution_count": 8,
   "metadata": {},
   "outputs": [],
   "source": [
    "df_filtered = df[df['rating'] > 0]\n",
    "df_filtered = df_filtered[df_filtered['rating_count'] > 0]"
   ]
  },
  {
   "cell_type": "code",
   "execution_count": 9,
   "metadata": {},
   "outputs": [],
   "source": [
    "avg_rating = df_filtered['rating'].mean()"
   ]
  },
  {
   "cell_type": "code",
   "execution_count": 10,
   "metadata": {},
   "outputs": [
    {
     "data": {
      "text/plain": [
       "4.16546541286693"
      ]
     },
     "execution_count": 10,
     "metadata": {},
     "output_type": "execute_result"
    }
   ],
   "source": [
    "avg_rating"
   ]
  },
  {
   "cell_type": "markdown",
   "metadata": {},
   "source": [
    "### 3. What is the average discount percentage of the products? (1 mark)"
   ]
  },
  {
   "cell_type": "code",
   "execution_count": 11,
   "metadata": {},
   "outputs": [],
   "source": [
    "avg_discount_percent = df['discount_percent'].mean()"
   ]
  },
  {
   "cell_type": "code",
   "execution_count": 12,
   "metadata": {},
   "outputs": [
    {
     "data": {
      "text/plain": [
       "37.25190889667855"
      ]
     },
     "execution_count": 12,
     "metadata": {},
     "output_type": "execute_result"
    }
   ],
   "source": [
    "avg_discount_percent"
   ]
  },
  {
   "cell_type": "markdown",
   "metadata": {},
   "source": [
    "### 4. What are the top 5 most expensive products? (2 marks)\n",
    "- Make sure that there can be multiple brands with same name so you can take brand ID also into considration"
   ]
  },
  {
   "cell_type": "code",
   "execution_count": 23,
   "metadata": {},
   "outputs": [],
   "source": [
    "top5_expensive = df.sort_values('marked_price', ascending=False).head(5)"
   ]
  },
  {
   "cell_type": "code",
   "execution_count": 24,
   "metadata": {},
   "outputs": [
    {
     "data": {
      "text/html": [
       "<div>\n",
       "<style scoped>\n",
       "    .dataframe tbody tr th:only-of-type {\n",
       "        vertical-align: middle;\n",
       "    }\n",
       "\n",
       "    .dataframe tbody tr th {\n",
       "        vertical-align: top;\n",
       "    }\n",
       "\n",
       "    .dataframe thead th {\n",
       "        text-align: right;\n",
       "    }\n",
       "</style>\n",
       "<table border=\"1\" class=\"dataframe\">\n",
       "  <thead>\n",
       "    <tr style=\"text-align: right;\">\n",
       "      <th></th>\n",
       "      <th>product_name</th>\n",
       "      <th>brand_name</th>\n",
       "      <th>rating</th>\n",
       "      <th>rating_count</th>\n",
       "      <th>marked_price</th>\n",
       "      <th>discounted_price</th>\n",
       "      <th>sizes</th>\n",
       "      <th>product_link</th>\n",
       "      <th>img_link</th>\n",
       "      <th>product_tag</th>\n",
       "      <th>brand_tag</th>\n",
       "      <th>discount_amount</th>\n",
       "      <th>discount_percent</th>\n",
       "      <th>product_id</th>\n",
       "    </tr>\n",
       "  </thead>\n",
       "  <tbody>\n",
       "    <tr>\n",
       "      <th>27039</th>\n",
       "      <td>Lord Krishna Showpiece</td>\n",
       "      <td>eCraftIndia</td>\n",
       "      <td>0.0</td>\n",
       "      <td>0</td>\n",
       "      <td>113999</td>\n",
       "      <td>45599</td>\n",
       "      <td>Onesize</td>\n",
       "      <td>showpieces/ecraftindia/ecraftindia-gold-toned-...</td>\n",
       "      <td>https://assets.myntassets.com/dpr_2,q_60,w_210...</td>\n",
       "      <td>showpieces</td>\n",
       "      <td>ecraftindia</td>\n",
       "      <td>68400</td>\n",
       "      <td>60</td>\n",
       "      <td>15890266</td>\n",
       "    </tr>\n",
       "    <tr>\n",
       "      <th>56197</th>\n",
       "      <td>Durga Maa On Lion Showpiece</td>\n",
       "      <td>eCraftIndia</td>\n",
       "      <td>0.0</td>\n",
       "      <td>0</td>\n",
       "      <td>71999</td>\n",
       "      <td>28799</td>\n",
       "      <td>Onesize</td>\n",
       "      <td>showpieces/ecraftindia/ecraftindia-gold-toned-...</td>\n",
       "      <td>https://assets.myntassets.com/dpr_2,q_60,w_210...</td>\n",
       "      <td>showpieces</td>\n",
       "      <td>ecraftindia</td>\n",
       "      <td>43200</td>\n",
       "      <td>60</td>\n",
       "      <td>17649064</td>\n",
       "    </tr>\n",
       "    <tr>\n",
       "      <th>117817</th>\n",
       "      <td>Men Stainless Steel Straps Multi Function Auto...</td>\n",
       "      <td>EARNSHAW</td>\n",
       "      <td>0.0</td>\n",
       "      <td>0</td>\n",
       "      <td>63950</td>\n",
       "      <td>38370</td>\n",
       "      <td>Onesize</td>\n",
       "      <td>watches/earnshaw/earnshaw-men-rose-gold-toned-...</td>\n",
       "      <td>https://assets.myntassets.com/dpr_2,q_60,w_210...</td>\n",
       "      <td>watches</td>\n",
       "      <td>earnshaw</td>\n",
       "      <td>25580</td>\n",
       "      <td>40</td>\n",
       "      <td>18249258</td>\n",
       "    </tr>\n",
       "    <tr>\n",
       "      <th>117809</th>\n",
       "      <td>Men Stainless Steel Straps Multi Function Auto...</td>\n",
       "      <td>EARNSHAW</td>\n",
       "      <td>0.0</td>\n",
       "      <td>0</td>\n",
       "      <td>63950</td>\n",
       "      <td>38370</td>\n",
       "      <td>Onesize</td>\n",
       "      <td>watches/earnshaw/earnshaw-men-rose-gold-toned-...</td>\n",
       "      <td>https://assets.myntassets.com/dpr_2,q_60,w_210...</td>\n",
       "      <td>watches</td>\n",
       "      <td>earnshaw</td>\n",
       "      <td>25580</td>\n",
       "      <td>40</td>\n",
       "      <td>18249258</td>\n",
       "    </tr>\n",
       "    <tr>\n",
       "      <th>116473</th>\n",
       "      <td>Men Stainless Steel Straps Multi Function Auto...</td>\n",
       "      <td>EARNSHAW</td>\n",
       "      <td>0.0</td>\n",
       "      <td>0</td>\n",
       "      <td>63950</td>\n",
       "      <td>38370</td>\n",
       "      <td>Onesize</td>\n",
       "      <td>watches/earnshaw/earnshaw-men-black-dial--silv...</td>\n",
       "      <td>https://assets.myntassets.com/dpr_2,q_60,w_210...</td>\n",
       "      <td>watches</td>\n",
       "      <td>earnshaw</td>\n",
       "      <td>25580</td>\n",
       "      <td>40</td>\n",
       "      <td>18249252</td>\n",
       "    </tr>\n",
       "  </tbody>\n",
       "</table>\n",
       "</div>"
      ],
      "text/plain": [
       "                                             product_name   brand_name  \\\n",
       "27039                              Lord Krishna Showpiece  eCraftIndia   \n",
       "56197                         Durga Maa On Lion Showpiece  eCraftIndia   \n",
       "117817  Men Stainless Steel Straps Multi Function Auto...     EARNSHAW   \n",
       "117809  Men Stainless Steel Straps Multi Function Auto...     EARNSHAW   \n",
       "116473  Men Stainless Steel Straps Multi Function Auto...     EARNSHAW   \n",
       "\n",
       "        rating  rating_count  marked_price  discounted_price    sizes  \\\n",
       "27039      0.0             0        113999             45599  Onesize   \n",
       "56197      0.0             0         71999             28799  Onesize   \n",
       "117817     0.0             0         63950             38370  Onesize   \n",
       "117809     0.0             0         63950             38370  Onesize   \n",
       "116473     0.0             0         63950             38370  Onesize   \n",
       "\n",
       "                                             product_link  \\\n",
       "27039   showpieces/ecraftindia/ecraftindia-gold-toned-...   \n",
       "56197   showpieces/ecraftindia/ecraftindia-gold-toned-...   \n",
       "117817  watches/earnshaw/earnshaw-men-rose-gold-toned-...   \n",
       "117809  watches/earnshaw/earnshaw-men-rose-gold-toned-...   \n",
       "116473  watches/earnshaw/earnshaw-men-black-dial--silv...   \n",
       "\n",
       "                                                 img_link product_tag  \\\n",
       "27039   https://assets.myntassets.com/dpr_2,q_60,w_210...  showpieces   \n",
       "56197   https://assets.myntassets.com/dpr_2,q_60,w_210...  showpieces   \n",
       "117817  https://assets.myntassets.com/dpr_2,q_60,w_210...     watches   \n",
       "117809  https://assets.myntassets.com/dpr_2,q_60,w_210...     watches   \n",
       "116473  https://assets.myntassets.com/dpr_2,q_60,w_210...     watches   \n",
       "\n",
       "          brand_tag  discount_amount  discount_percent product_id  \n",
       "27039   ecraftindia            68400                60   15890266  \n",
       "56197   ecraftindia            43200                60   17649064  \n",
       "117817     earnshaw            25580                40   18249258  \n",
       "117809     earnshaw            25580                40   18249258  \n",
       "116473     earnshaw            25580                40   18249252  "
      ]
     },
     "execution_count": 24,
     "metadata": {},
     "output_type": "execute_result"
    }
   ],
   "source": [
    "top5_expensive"
   ]
  },
  {
   "cell_type": "markdown",
   "metadata": {},
   "source": [
    "### 5. What are the top 10 brands by the number of products in the dataset? (2 mark)"
   ]
  },
  {
   "cell_type": "code",
   "execution_count": 25,
   "metadata": {},
   "outputs": [],
   "source": [
    "top_brands = df['brand_name'].value_counts()"
   ]
  },
  {
   "cell_type": "code",
   "execution_count": 27,
   "metadata": {},
   "outputs": [
    {
     "data": {
      "text/plain": [
       "Roadster                 4982\n",
       "Mast & Harbour           2640\n",
       "DressBerry               2330\n",
       "H&M                      2188\n",
       "max                      2045\n",
       "Anouk                    1962\n",
       "HRX by Hrithik Roshan    1922\n",
       "HERE&NOW                 1816\n",
       "Puma                     1805\n",
       "MANGO                    1741\n",
       "Name: brand_name, dtype: int64"
      ]
     },
     "execution_count": 27,
     "metadata": {},
     "output_type": "execute_result"
    }
   ],
   "source": [
    "top_brands.head(10)"
   ]
  },
  {
   "cell_type": "markdown",
   "metadata": {},
   "source": [
    "### 6. List top 5 brands with maxiumum average rating of products? (2 marks)\n",
    "Neglect the products which are not reviewed by any person"
   ]
  },
  {
   "cell_type": "code",
   "execution_count": 28,
   "metadata": {},
   "outputs": [],
   "source": [
    "rated_products = df[df['rating_count'] > 0]"
   ]
  },
  {
   "cell_type": "code",
   "execution_count": 29,
   "metadata": {},
   "outputs": [],
   "source": [
    "brand_ratings = rated_products.groupby('brand_name')['rating'].mean()"
   ]
  },
  {
   "cell_type": "code",
   "execution_count": 30,
   "metadata": {},
   "outputs": [],
   "source": [
    "top_brands = brand_ratings.sort_values(ascending=False).head(5)"
   ]
  },
  {
   "cell_type": "code",
   "execution_count": 31,
   "metadata": {},
   "outputs": [
    {
     "data": {
      "text/plain": [
       "brand_name\n",
       "1 Stop Fashion              5.0\n",
       "Luxure by Louis Philippe    5.0\n",
       "Tiara                       5.0\n",
       "Anahi                       5.0\n",
       "SHIRT THEORY                5.0\n",
       "Name: rating, dtype: float64"
      ]
     },
     "execution_count": 31,
     "metadata": {},
     "output_type": "execute_result"
    }
   ],
   "source": [
    "top_brands"
   ]
  },
  {
   "cell_type": "markdown",
   "metadata": {},
   "source": [
    "### 7. Plot a histogram of the distribution of ratings of following brand. (3 marks)\n",
    "- H&M\n",
    "- max\n",
    "- Puma\n",
    "- MANGO\n",
    "\n",
    "Neglect the products which are not reviewed by any person"
   ]
  },
  {
   "cell_type": "code",
   "execution_count": null,
   "metadata": {},
   "outputs": [],
   "source": []
  },
  {
   "cell_type": "markdown",
   "metadata": {},
   "source": [
    "### 8. What is the distribution of discounts by brand for specific brands mentioned below? (2 marks)\n",
    "\n",
    "- H&M\n",
    "- max\n",
    "- Puma\n",
    "- MANGO\n",
    "\n",
    "Neglect the products which are not reviewed by any person.\n",
    "Neglect the products which are not on any discount."
   ]
  },
  {
   "cell_type": "code",
   "execution_count": null,
   "metadata": {
    "execution": {
     "iopub.execute_input": "2023-04-05T10:26:48.099811Z",
     "iopub.status.busy": "2023-04-05T10:26:48.099398Z",
     "iopub.status.idle": "2023-04-05T10:26:48.326916Z",
     "shell.execute_reply": "2023-04-05T10:26:48.325510Z",
     "shell.execute_reply.started": "2023-04-05T10:26:48.099776Z"
    }
   },
   "outputs": [],
   "source": []
  },
  {
   "cell_type": "markdown",
   "metadata": {},
   "source": [
    "### 9. Is there any trend or pattern you can find between discount percent and rating of the product? (3 marks)"
   ]
  },
  {
   "cell_type": "code",
   "execution_count": null,
   "metadata": {},
   "outputs": [],
   "source": []
  },
  {
   "cell_type": "markdown",
   "metadata": {},
   "source": [
    "### 10. What are the top 10 most popular tags in the dataset? (2 marks)"
   ]
  },
  {
   "cell_type": "code",
   "execution_count": 32,
   "metadata": {},
   "outputs": [],
   "source": [
    "top_tags = df['product_tag'].value_counts()"
   ]
  },
  {
   "cell_type": "code",
   "execution_count": 34,
   "metadata": {},
   "outputs": [
    {
     "data": {
      "text/plain": [
       "tshirts         16978\n",
       "shirts          12044\n",
       "dresses         11836\n",
       "tops             9049\n",
       "kurta-sets       8170\n",
       "kurtas           8043\n",
       "jeans            7669\n",
       "trousers         5756\n",
       "casual-shoes     5230\n",
       "handbags         4944\n",
       "Name: product_tag, dtype: int64"
      ]
     },
     "execution_count": 34,
     "metadata": {},
     "output_type": "execute_result"
    }
   ],
   "source": [
    "top_tags.head(10)"
   ]
  },
  {
   "cell_type": "markdown",
   "metadata": {},
   "source": [
    "### 11. Are there any relations between the rating and number of people who rated the products? (4 marks)\n",
    "- Neglect the products that are not reviewed by any person\n",
    "- Neglect the products that are having zero rating"
   ]
  },
  {
   "cell_type": "code",
   "execution_count": null,
   "metadata": {},
   "outputs": [],
   "source": []
  },
  {
   "cell_type": "markdown",
   "metadata": {},
   "source": [
    "### 12. What are the top 10 Most Expensive brands? (3 marks)\n",
    "- Use marked price as the reference to find the most expensive brand"
   ]
  },
  {
   "cell_type": "code",
   "execution_count": 35,
   "metadata": {},
   "outputs": [],
   "source": [
    "avg_price_by_brand = df.groupby('brand_name')['marked_price'].mean()"
   ]
  },
  {
   "cell_type": "code",
   "execution_count": 36,
   "metadata": {},
   "outputs": [
    {
     "data": {
      "text/plain": [
       "brand_name\n",
       "1 Stop Fashion    5339.000000\n",
       "1st Step          2999.000000\n",
       "20Dresses         1757.377210\n",
       "39 THREADS         969.666667\n",
       "3PIN               599.000000\n",
       "                     ...     \n",
       "x2o               2659.000000\n",
       "yelloe            2138.275862\n",
       "yoho               727.571429\n",
       "zebu              1410.235294\n",
       "zink Z            1533.615385\n",
       "Name: marked_price, Length: 3194, dtype: float64"
      ]
     },
     "execution_count": 36,
     "metadata": {},
     "output_type": "execute_result"
    }
   ],
   "source": [
    "avg_price_by_brand"
   ]
  },
  {
   "cell_type": "code",
   "execution_count": 37,
   "metadata": {},
   "outputs": [],
   "source": [
    "top10_expensive_brands = avg_price_by_brand.sort_values(ascending=False)"
   ]
  },
  {
   "cell_type": "code",
   "execution_count": 39,
   "metadata": {},
   "outputs": [
    {
     "data": {
      "text/plain": [
       "brand_name\n",
       "EARNSHAW                 47603.846154\n",
       "Victorinox               44000.000000\n",
       "MOSCHINO COUTURE         40000.000000\n",
       "dyson                    39233.333333\n",
       "Tom Ford                 38800.000000\n",
       "Valuchi                  38050.000000\n",
       "Bottega Veneta           34490.000000\n",
       "Versace Jeans Couture    33125.000000\n",
       "TISSOT                   31928.571429\n",
       "DUCATI CORSE             31665.666667\n",
       "Name: marked_price, dtype: float64"
      ]
     },
     "execution_count": 39,
     "metadata": {},
     "output_type": "execute_result"
    }
   ],
   "source": [
    "top10_expensive_brands.head(10)"
   ]
  },
  {
   "cell_type": "markdown",
   "metadata": {},
   "source": [
    "### 13. What are the top 10 Most Expensive Product Category? (4 marks)\n",
    "- Use marked price as the reference to find the most expensive brand"
   ]
  },
  {
   "cell_type": "code",
   "execution_count": 46,
   "metadata": {},
   "outputs": [],
   "source": [
    "top10_expensive_categories = df.groupby('product_tag')['marked_price'].mean()"
   ]
  },
  {
   "cell_type": "code",
   "execution_count": 47,
   "metadata": {},
   "outputs": [
    {
     "data": {
      "text/plain": [
       "product_tag\n",
       "trolley-bag           13329.343333\n",
       "suits                 11926.784566\n",
       "fitness-bands         11713.285714\n",
       "watch-gift-set        10951.516129\n",
       "badminton-racquets    10850.000000\n",
       "sherwani              10004.250000\n",
       "floor-lamps            8979.891892\n",
       "smart-watches          8946.029661\n",
       "air-fryer              8850.000000\n",
       "carpets                8693.397727\n",
       "Name: marked_price, dtype: float64"
      ]
     },
     "execution_count": 47,
     "metadata": {},
     "output_type": "execute_result"
    }
   ],
   "source": [
    "top10_expensive_categories.sort_values(ascending=False).head(10)"
   ]
  },
  {
   "cell_type": "markdown",
   "metadata": {},
   "source": [
    "### 14. Analyse the Violen Plot of watches of following brands mentioned below ? (5 marks)\n",
    "\n",
    " - Take Marked Price for Reference\n",
    " - Take product_tag as watches\n",
    " - Take brand_tag as tommy-hilfiger, daniel-wellington, armani-exchange, emporio-armani, earnshaw, tissot\n",
    " - Make sure to write your inference based on the violen plot of following watch brands price"
   ]
  },
  {
   "cell_type": "code",
   "execution_count": null,
   "metadata": {},
   "outputs": [],
   "source": []
  },
  {
   "cell_type": "markdown",
   "metadata": {},
   "source": [
    "### 15. List top 5 brands which are having most wide range or products\n",
    "- Use marked price as the reference"
   ]
  },
  {
   "cell_type": "code",
   "execution_count": 52,
   "metadata": {},
   "outputs": [],
   "source": [
    "brand_counts = df.groupby('brand_name')['product_id'].nunique()"
   ]
  },
  {
   "cell_type": "code",
   "execution_count": 57,
   "metadata": {},
   "outputs": [],
   "source": [
    "top5_brand_with_wide_range = brand_counts.sort_values(ascending=False).head(5)"
   ]
  },
  {
   "cell_type": "code",
   "execution_count": 58,
   "metadata": {},
   "outputs": [
    {
     "data": {
      "text/plain": [
       "brand_name\n",
       "Roadster          4557\n",
       "Mast & Harbour    2397\n",
       "DressBerry        2073\n",
       "H&M               1998\n",
       "Anouk             1784\n",
       "Name: product_id, dtype: int64"
      ]
     },
     "execution_count": 58,
     "metadata": {},
     "output_type": "execute_result"
    }
   ],
   "source": [
    "top5_brand_with_wide_range"
   ]
  }
 ],
 "metadata": {
  "kernelspec": {
   "display_name": "Python 3 (ipykernel)",
   "language": "python",
   "name": "python3"
  },
  "language_info": {
   "codemirror_mode": {
    "name": "ipython",
    "version": 3
   },
   "file_extension": ".py",
   "mimetype": "text/x-python",
   "name": "python",
   "nbconvert_exporter": "python",
   "pygments_lexer": "ipython3",
   "version": "3.9.13"
  }
 },
 "nbformat": 4,
 "nbformat_minor": 4
}
