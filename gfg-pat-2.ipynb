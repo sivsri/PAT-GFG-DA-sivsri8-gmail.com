{
 "cells": [
  {
   "cell_type": "code",
   "execution_count": 1,
   "id": "0bb10f48",
   "metadata": {
    "execution": {
     "iopub.execute_input": "2023-07-14T09:29:56.056926Z",
     "iopub.status.busy": "2023-07-14T09:29:56.056093Z",
     "iopub.status.idle": "2023-07-14T09:29:56.932586Z",
     "shell.execute_reply": "2023-07-14T09:29:56.931518Z"
    },
    "papermill": {
     "duration": 0.89212,
     "end_time": "2023-07-14T09:29:56.934475",
     "exception": false,
     "start_time": "2023-07-14T09:29:56.042355",
     "status": "completed"
    },
    "tags": []
   },
   "outputs": [
    {
     "data": {
      "text/html": [
       "        <script type=\"text/javascript\">\n",
       "        window.PlotlyConfig = {MathJaxConfig: 'local'};\n",
       "        if (window.MathJax && window.MathJax.Hub && window.MathJax.Hub.Config) {window.MathJax.Hub.Config({SVG: {font: \"STIX-Web\"}});}\n",
       "        if (typeof require !== 'undefined') {\n",
       "        require.undef(\"plotly\");\n",
       "        requirejs.config({\n",
       "            paths: {\n",
       "                'plotly': ['https://cdn.plot.ly/plotly-2.24.1.min']\n",
       "            }\n",
       "        });\n",
       "        require(['plotly'], function(Plotly) {\n",
       "            window._Plotly = Plotly;\n",
       "        });\n",
       "        }\n",
       "        </script>\n",
       "        "
      ]
     },
     "metadata": {},
     "output_type": "display_data"
    },
    {
     "data": {
      "text/html": [
       "<div>\n",
       "<style scoped>\n",
       "    .dataframe tbody tr th:only-of-type {\n",
       "        vertical-align: middle;\n",
       "    }\n",
       "\n",
       "    .dataframe tbody tr th {\n",
       "        vertical-align: top;\n",
       "    }\n",
       "\n",
       "    .dataframe thead th {\n",
       "        text-align: right;\n",
       "    }\n",
       "</style>\n",
       "<table border=\"1\" class=\"dataframe\">\n",
       "  <thead>\n",
       "    <tr style=\"text-align: right;\">\n",
       "      <th></th>\n",
       "      <th>Name</th>\n",
       "      <th>Age</th>\n",
       "      <th>Net_Worth</th>\n",
       "      <th>Income Source</th>\n",
       "      <th>Citizenship</th>\n",
       "    </tr>\n",
       "  </thead>\n",
       "  <tbody>\n",
       "    <tr>\n",
       "      <th>0</th>\n",
       "      <td>Paul Saville</td>\n",
       "      <td>66</td>\n",
       "      <td>$1.6 B</td>\n",
       "      <td>Real Estate</td>\n",
       "      <td>United States</td>\n",
       "    </tr>\n",
       "    <tr>\n",
       "      <th>1</th>\n",
       "      <td>Georg Haub</td>\n",
       "      <td>60</td>\n",
       "      <td>$2.2 B</td>\n",
       "      <td>Fashion &amp; Retail</td>\n",
       "      <td>Germany</td>\n",
       "    </tr>\n",
       "    <tr>\n",
       "      <th>2</th>\n",
       "      <td>Arvind Tiku</td>\n",
       "      <td>52</td>\n",
       "      <td>$2.2 B</td>\n",
       "      <td>Energy</td>\n",
       "      <td>India</td>\n",
       "    </tr>\n",
       "    <tr>\n",
       "      <th>3</th>\n",
       "      <td>Bill Gross</td>\n",
       "      <td>77</td>\n",
       "      <td>$1.6 B</td>\n",
       "      <td>Finance &amp; Investments</td>\n",
       "      <td>United States</td>\n",
       "    </tr>\n",
       "    <tr>\n",
       "      <th>4</th>\n",
       "      <td>Hartono Kweefanus</td>\n",
       "      <td>72</td>\n",
       "      <td>$1.2 B</td>\n",
       "      <td>Food &amp; Beverage</td>\n",
       "      <td>Indonesia</td>\n",
       "    </tr>\n",
       "  </tbody>\n",
       "</table>\n",
       "</div>"
      ],
      "text/plain": [
       "                 Name Age Net_Worth           Income Source    Citizenship\n",
       "0       Paul Saville   66    $1.6 B            Real Estate   United States\n",
       "1         Georg Haub   60    $2.2 B       Fashion & Retail         Germany\n",
       "2        Arvind Tiku   52    $2.2 B                 Energy           India\n",
       "3         Bill Gross   77    $1.6 B  Finance & Investments   United States\n",
       "4  Hartono Kweefanus   72    $1.2 B        Food & Beverage       Indonesia"
      ]
     },
     "execution_count": 1,
     "metadata": {},
     "output_type": "execute_result"
    }
   ],
   "source": [
    "# imports\n",
    "import pandas as pd\n",
    "import numpy as np\n",
    "\n",
    "import plotly.express as px\n",
    "import plotly.graph_objects as go\n",
    "from plotly.subplots import make_subplots\n",
    "\n",
    "from plotly.offline import iplot, init_notebook_mode\n",
    "init_notebook_mode(connected=True)\n",
    "\n",
    "\n",
    "# load dataset\n",
    "df = pd.read_csv('/kaggle/input/gfg-pat/finalPAT.csv', encoding='latin-1')\n",
    "\n",
    "\n",
    "# first 5 records\n",
    "df.head()"
   ]
  },
  {
   "cell_type": "markdown",
   "id": "97bff487",
   "metadata": {
    "papermill": {
     "duration": 0.010553,
     "end_time": "2023-07-14T09:29:56.956333",
     "exception": false,
     "start_time": "2023-07-14T09:29:56.945780",
     "status": "completed"
    },
    "tags": []
   },
   "source": [
    "# Q1: Which is the 8th country that has produced maximum number of billionaires?"
   ]
  },
  {
   "cell_type": "code",
   "execution_count": 2,
   "id": "01ea3f25",
   "metadata": {
    "execution": {
     "iopub.execute_input": "2023-07-14T09:29:56.981358Z",
     "iopub.status.busy": "2023-07-14T09:29:56.980935Z",
     "iopub.status.idle": "2023-07-14T09:29:56.999622Z",
     "shell.execute_reply": "2023-07-14T09:29:56.998890Z"
    },
    "papermill": {
     "duration": 0.033475,
     "end_time": "2023-07-14T09:29:57.001999",
     "exception": false,
     "start_time": "2023-07-14T09:29:56.968524",
     "status": "completed"
    },
    "tags": []
   },
   "outputs": [],
   "source": [
    "# group 'Citizenship' column, count the size of each country and take the top 10\n",
    "\n",
    "top10 = df.groupby('Citizenship').size().reset_index(name='count').nlargest(10, 'count')"
   ]
  },
  {
   "cell_type": "code",
   "execution_count": 3,
   "id": "c9b248ff",
   "metadata": {
    "execution": {
     "iopub.execute_input": "2023-07-14T09:29:57.027427Z",
     "iopub.status.busy": "2023-07-14T09:29:57.026788Z",
     "iopub.status.idle": "2023-07-14T09:29:57.034681Z",
     "shell.execute_reply": "2023-07-14T09:29:57.033698Z"
    },
    "papermill": {
     "duration": 0.02254,
     "end_time": "2023-07-14T09:29:57.036328",
     "exception": false,
     "start_time": "2023-07-14T09:29:57.013788",
     "status": "completed"
    },
    "tags": []
   },
   "outputs": [
    {
     "data": {
      "text/html": [
       "<div>\n",
       "<style scoped>\n",
       "    .dataframe tbody tr th:only-of-type {\n",
       "        vertical-align: middle;\n",
       "    }\n",
       "\n",
       "    .dataframe tbody tr th {\n",
       "        vertical-align: top;\n",
       "    }\n",
       "\n",
       "    .dataframe thead th {\n",
       "        text-align: right;\n",
       "    }\n",
       "</style>\n",
       "<table border=\"1\" class=\"dataframe\">\n",
       "  <thead>\n",
       "    <tr style=\"text-align: right;\">\n",
       "      <th></th>\n",
       "      <th>Citizenship</th>\n",
       "      <th>count</th>\n",
       "    </tr>\n",
       "  </thead>\n",
       "  <tbody>\n",
       "    <tr>\n",
       "      <th>11</th>\n",
       "      <td>Brazil</td>\n",
       "      <td>62</td>\n",
       "    </tr>\n",
       "  </tbody>\n",
       "</table>\n",
       "</div>"
      ],
      "text/plain": [
       "   Citizenship  count\n",
       "11      Brazil     62"
      ]
     },
     "execution_count": 3,
     "metadata": {},
     "output_type": "execute_result"
    }
   ],
   "source": [
    "# slice 8th position\n",
    "\n",
    "top10[7:8]"
   ]
  },
  {
   "cell_type": "markdown",
   "id": "9c9034cb",
   "metadata": {
    "papermill": {
     "duration": 0.011133,
     "end_time": "2023-07-14T09:29:57.059166",
     "exception": false,
     "start_time": "2023-07-14T09:29:57.048033",
     "status": "completed"
    },
    "tags": []
   },
   "source": [
    "### **Brazil** is the 8th country that has produced maximum number of *62* billionaires."
   ]
  },
  {
   "cell_type": "markdown",
   "id": "79238d42",
   "metadata": {
    "papermill": {
     "duration": 0.010875,
     "end_time": "2023-07-14T09:29:57.081287",
     "exception": false,
     "start_time": "2023-07-14T09:29:57.070412",
     "status": "completed"
    },
    "tags": []
   },
   "source": [
    "# Q2: How many Duplicate Values are present in the Dataframe\n",
    "* Find Duplicate using Name"
   ]
  },
  {
   "cell_type": "code",
   "execution_count": 4,
   "id": "8f50bed2",
   "metadata": {
    "execution": {
     "iopub.execute_input": "2023-07-14T09:29:57.105392Z",
     "iopub.status.busy": "2023-07-14T09:29:57.104749Z",
     "iopub.status.idle": "2023-07-14T09:29:57.114103Z",
     "shell.execute_reply": "2023-07-14T09:29:57.112833Z"
    },
    "papermill": {
     "duration": 0.023665,
     "end_time": "2023-07-14T09:29:57.116133",
     "exception": false,
     "start_time": "2023-07-14T09:29:57.092468",
     "status": "completed"
    },
    "tags": []
   },
   "outputs": [
    {
     "data": {
      "text/plain": [
       "2"
      ]
     },
     "execution_count": 4,
     "metadata": {},
     "output_type": "execute_result"
    }
   ],
   "source": [
    "# take 'Name' column and check for duplicates\n",
    "\n",
    "df['Name'].duplicated().sum()"
   ]
  },
  {
   "cell_type": "markdown",
   "id": "bca2d9ca",
   "metadata": {
    "papermill": {
     "duration": 0.01148,
     "end_time": "2023-07-14T09:29:57.139571",
     "exception": false,
     "start_time": "2023-07-14T09:29:57.128091",
     "status": "completed"
    },
    "tags": []
   },
   "source": [
    "### There are **2** duplicate *Name* values are present in the Dataframe."
   ]
  },
  {
   "cell_type": "markdown",
   "id": "2bdb3603",
   "metadata": {
    "papermill": {
     "duration": 0.011455,
     "end_time": "2023-07-14T09:29:57.162811",
     "exception": false,
     "start_time": "2023-07-14T09:29:57.151356",
     "status": "completed"
    },
    "tags": []
   },
   "source": [
    "# Q3: Which is the industry with the highest and Lowest average net worth for billionaires in the Forbes dataset?\n",
    "* Industry here refers to Income Source \n",
    "* Check for type mismatch errors before finding mean \n",
    "* You have to find the mean of all the similar Income Sources and find the highest among them and then lowest among them"
   ]
  },
  {
   "cell_type": "code",
   "execution_count": 5,
   "id": "0b8f04dc",
   "metadata": {
    "execution": {
     "iopub.execute_input": "2023-07-14T09:29:57.191742Z",
     "iopub.status.busy": "2023-07-14T09:29:57.191127Z",
     "iopub.status.idle": "2023-07-14T09:29:57.199490Z",
     "shell.execute_reply": "2023-07-14T09:29:57.198285Z"
    },
    "papermill": {
     "duration": 0.028148,
     "end_time": "2023-07-14T09:29:57.202803",
     "exception": false,
     "start_time": "2023-07-14T09:29:57.174655",
     "status": "completed"
    },
    "tags": []
   },
   "outputs": [],
   "source": [
    "# The 'Net_Worth' column consists of $(symbol for US dollars) and B(unit for Billion) notations\n",
    "# remove '$' and 'B' from each values of 'Net_Worth' column and change its type to 'float'\n",
    "\n",
    "df['Net_Worth'] = df['Net_Worth'].str.strip('$ B').astype(float)"
   ]
  },
  {
   "cell_type": "code",
   "execution_count": 6,
   "id": "b048600d",
   "metadata": {
    "execution": {
     "iopub.execute_input": "2023-07-14T09:29:57.235594Z",
     "iopub.status.busy": "2023-07-14T09:29:57.235205Z",
     "iopub.status.idle": "2023-07-14T09:29:57.241836Z",
     "shell.execute_reply": "2023-07-14T09:29:57.240993Z"
    },
    "papermill": {
     "duration": 0.025508,
     "end_time": "2023-07-14T09:29:57.243862",
     "exception": false,
     "start_time": "2023-07-14T09:29:57.218354",
     "status": "completed"
    },
    "tags": []
   },
   "outputs": [
    {
     "data": {
      "text/plain": [
       "array(['Real Estate ', 'Fashion & Retail ', 'Energy ',\n",
       "       'Finance & Investments ', 'Food & Beverage ', 'Technology ',\n",
       "       'Diversified ', 'Media & Entertainment ', 'Manufacturing ',\n",
       "       'Healthcare ', 'Telecom ', 'Metals & Mining ', 'Automotive ',\n",
       "       'Service ', 'chemicals, Self Made', 'Logistics ', 'biscuits',\n",
       "       'Sports ', 'edtech, Self Made', 'Gambling & Casinos ',\n",
       "       'Construction & Engineering ', 'steel', 'medical diagnostics',\n",
       "       'Bangalore, India', 'software services, Self Made',\n",
       "       'financial technology, Self Made', 'tractors',\n",
       "       'mining, metals, Self Made', 'Mumbai, India', 'Delhi, India',\n",
       "       'consumer goods, Self Made', 'construction, Self Made',\n",
       "       'real estate', 'software services', 'paints', 'diversified',\n",
       "       'chemicals', 'motorcycles', 'Chennai, India',\n",
       "       'plastic pipes, Self Made', 'consumer goods', 'pharmaceuticals',\n",
       "       'pharmaceuticals, Self Made', 'Ireland', 'healthcare, Self Made',\n",
       "       'cement', 'Ahmedabad, India', 'cables & wires, Self Made',\n",
       "       'media, Self Made', 'internet, Self Made', 'vaccines', 'plastics',\n",
       "       'Pune, India', 'specialty chemicals, Self Made',\n",
       "       'telecom, Self Made', 'commodities', 'auto parts, Self Made',\n",
       "       'dairy, Self Made', 'real estate, Self Made',\n",
       "       'biopharmaceuticals, Self Made', 'adhesives',\n",
       "       'commodities, infrastructure, Self Made', 'London, United Kingdom',\n",
       "       'agrochemicals', 'India', 'tires',\n",
       "       'retail, investments, Self Made', 'infrastructure, Self Made',\n",
       "       'garments', 'automobiles', 'engineering', 'Hyderabad, India',\n",
       "       'business software, Self Made', 'soft drinks, fast food',\n",
       "       'retail, Self Made', 'banking, Self Made', 'retail'], dtype=object)"
      ]
     },
     "execution_count": 6,
     "metadata": {},
     "output_type": "execute_result"
    }
   ],
   "source": [
    "# check for the values of 'Income Source' column\n",
    "\n",
    "df['Income Source'].unique()"
   ]
  },
  {
   "cell_type": "code",
   "execution_count": 7,
   "id": "0f7b2ae7",
   "metadata": {
    "execution": {
     "iopub.execute_input": "2023-07-14T09:29:57.269690Z",
     "iopub.status.busy": "2023-07-14T09:29:57.269271Z",
     "iopub.status.idle": "2023-07-14T09:29:57.278641Z",
     "shell.execute_reply": "2023-07-14T09:29:57.277726Z"
    },
    "papermill": {
     "duration": 0.02465,
     "end_time": "2023-07-14T09:29:57.280933",
     "exception": false,
     "start_time": "2023-07-14T09:29:57.256283",
     "status": "completed"
    },
    "tags": []
   },
   "outputs": [],
   "source": [
    "# place India and Self Made are not considered as Industries\n",
    "\n",
    "self_made = df[df['Income Source'].str.contains('Self')]\n",
    "\n",
    "place_india = df[df['Income Source'].str.contains('India')]"
   ]
  },
  {
   "cell_type": "code",
   "execution_count": 8,
   "id": "b5643219",
   "metadata": {
    "execution": {
     "iopub.execute_input": "2023-07-14T09:29:57.306649Z",
     "iopub.status.busy": "2023-07-14T09:29:57.305429Z",
     "iopub.status.idle": "2023-07-14T09:29:57.316315Z",
     "shell.execute_reply": "2023-07-14T09:29:57.315064Z"
    },
    "papermill": {
     "duration": 0.026666,
     "end_time": "2023-07-14T09:29:57.319567",
     "exception": false,
     "start_time": "2023-07-14T09:29:57.292901",
     "status": "completed"
    },
    "tags": []
   },
   "outputs": [],
   "source": [
    "# remove invalid data for this question\n",
    "\n",
    "df.drop(self_made.index, inplace=True)\n",
    "df.drop(place_india.index, inplace=True)"
   ]
  },
  {
   "cell_type": "code",
   "execution_count": 9,
   "id": "189d97c2",
   "metadata": {
    "execution": {
     "iopub.execute_input": "2023-07-14T09:29:57.354698Z",
     "iopub.status.busy": "2023-07-14T09:29:57.353491Z",
     "iopub.status.idle": "2023-07-14T09:29:57.365132Z",
     "shell.execute_reply": "2023-07-14T09:29:57.364098Z"
    },
    "papermill": {
     "duration": 0.031363,
     "end_time": "2023-07-14T09:29:57.367505",
     "exception": false,
     "start_time": "2023-07-14T09:29:57.336142",
     "status": "completed"
    },
    "tags": []
   },
   "outputs": [],
   "source": [
    "# group 'Income Source' column and take 'Net_Worth' column to calculate mean of each industry\n",
    "\n",
    "industry_networth_avg = df.groupby('Income Source')['Net_Worth'].mean().reset_index(name='mean')"
   ]
  },
  {
   "cell_type": "code",
   "execution_count": 10,
   "id": "9e4a7472",
   "metadata": {
    "execution": {
     "iopub.execute_input": "2023-07-14T09:29:57.399288Z",
     "iopub.status.busy": "2023-07-14T09:29:57.398444Z",
     "iopub.status.idle": "2023-07-14T09:29:57.412882Z",
     "shell.execute_reply": "2023-07-14T09:29:57.411178Z"
    },
    "papermill": {
     "duration": 0.033999,
     "end_time": "2023-07-14T09:29:57.414851",
     "exception": false,
     "start_time": "2023-07-14T09:29:57.380852",
     "status": "completed"
    },
    "tags": []
   },
   "outputs": [
    {
     "data": {
      "text/html": [
       "<div>\n",
       "<style scoped>\n",
       "    .dataframe tbody tr th:only-of-type {\n",
       "        vertical-align: middle;\n",
       "    }\n",
       "\n",
       "    .dataframe tbody tr th {\n",
       "        vertical-align: top;\n",
       "    }\n",
       "\n",
       "    .dataframe thead th {\n",
       "        text-align: right;\n",
       "    }\n",
       "</style>\n",
       "<table border=\"1\" class=\"dataframe\">\n",
       "  <thead>\n",
       "    <tr style=\"text-align: right;\">\n",
       "      <th></th>\n",
       "      <th>Income Source</th>\n",
       "      <th>mean</th>\n",
       "    </tr>\n",
       "  </thead>\n",
       "  <tbody>\n",
       "    <tr>\n",
       "      <th>43</th>\n",
       "      <td>vaccines</td>\n",
       "      <td>21.5</td>\n",
       "    </tr>\n",
       "  </tbody>\n",
       "</table>\n",
       "</div>"
      ],
      "text/plain": [
       "   Income Source  mean\n",
       "43      vaccines  21.5"
      ]
     },
     "execution_count": 10,
     "metadata": {},
     "output_type": "execute_result"
    }
   ],
   "source": [
    "# industry with highest average networth\n",
    "\n",
    "industry_networth_avg.nlargest(1, 'mean')"
   ]
  },
  {
   "cell_type": "code",
   "execution_count": 11,
   "id": "2ebf6c8c",
   "metadata": {
    "execution": {
     "iopub.execute_input": "2023-07-14T09:29:57.445477Z",
     "iopub.status.busy": "2023-07-14T09:29:57.445090Z",
     "iopub.status.idle": "2023-07-14T09:29:57.457203Z",
     "shell.execute_reply": "2023-07-14T09:29:57.455804Z"
    },
    "papermill": {
     "duration": 0.029475,
     "end_time": "2023-07-14T09:29:57.459103",
     "exception": false,
     "start_time": "2023-07-14T09:29:57.429628",
     "status": "completed"
    },
    "tags": []
   },
   "outputs": [
    {
     "data": {
      "text/html": [
       "<div>\n",
       "<style scoped>\n",
       "    .dataframe tbody tr th:only-of-type {\n",
       "        vertical-align: middle;\n",
       "    }\n",
       "\n",
       "    .dataframe tbody tr th {\n",
       "        vertical-align: top;\n",
       "    }\n",
       "\n",
       "    .dataframe thead th {\n",
       "        text-align: right;\n",
       "    }\n",
       "</style>\n",
       "<table border=\"1\" class=\"dataframe\">\n",
       "  <thead>\n",
       "    <tr style=\"text-align: right;\">\n",
       "      <th></th>\n",
       "      <th>Income Source</th>\n",
       "      <th>mean</th>\n",
       "    </tr>\n",
       "  </thead>\n",
       "  <tbody>\n",
       "    <tr>\n",
       "      <th>31</th>\n",
       "      <td>medical diagnostics</td>\n",
       "      <td>1.5</td>\n",
       "    </tr>\n",
       "  </tbody>\n",
       "</table>\n",
       "</div>"
      ],
      "text/plain": [
       "          Income Source  mean\n",
       "31  medical diagnostics   1.5"
      ]
     },
     "execution_count": 11,
     "metadata": {},
     "output_type": "execute_result"
    }
   ],
   "source": [
    "# industry with lowest average networth\n",
    "\n",
    "industry_networth_avg.nsmallest(1, 'mean')"
   ]
  },
  {
   "cell_type": "markdown",
   "id": "a214d2f5",
   "metadata": {
    "papermill": {
     "duration": 0.011446,
     "end_time": "2023-07-14T09:29:57.482389",
     "exception": false,
     "start_time": "2023-07-14T09:29:57.470943",
     "status": "completed"
    },
    "tags": []
   },
   "source": [
    "### The industry with the highest and Lowest average net worth are **Vaccines** *(21.5B dollars)* and **Medical Diagnostics** *($1.5 B)* respectively."
   ]
  },
  {
   "cell_type": "markdown",
   "id": "c23054ed",
   "metadata": {
    "papermill": {
     "duration": 0.011131,
     "end_time": "2023-07-14T09:29:57.505332",
     "exception": false,
     "start_time": "2023-07-14T09:29:57.494201",
     "status": "completed"
    },
    "tags": []
   },
   "source": [
    "# Data Cleaning"
   ]
  },
  {
   "cell_type": "code",
   "execution_count": 12,
   "id": "7393a456",
   "metadata": {
    "execution": {
     "iopub.execute_input": "2023-07-14T09:29:57.529841Z",
     "iopub.status.busy": "2023-07-14T09:29:57.529260Z",
     "iopub.status.idle": "2023-07-14T09:29:57.540869Z",
     "shell.execute_reply": "2023-07-14T09:29:57.540293Z"
    },
    "papermill": {
     "duration": 0.025852,
     "end_time": "2023-07-14T09:29:57.542495",
     "exception": false,
     "start_time": "2023-07-14T09:29:57.516643",
     "status": "completed"
    },
    "tags": []
   },
   "outputs": [
    {
     "data": {
      "text/html": [
       "<div>\n",
       "<style scoped>\n",
       "    .dataframe tbody tr th:only-of-type {\n",
       "        vertical-align: middle;\n",
       "    }\n",
       "\n",
       "    .dataframe tbody tr th {\n",
       "        vertical-align: top;\n",
       "    }\n",
       "\n",
       "    .dataframe thead th {\n",
       "        text-align: right;\n",
       "    }\n",
       "</style>\n",
       "<table border=\"1\" class=\"dataframe\">\n",
       "  <thead>\n",
       "    <tr style=\"text-align: right;\">\n",
       "      <th></th>\n",
       "      <th>Name</th>\n",
       "      <th>Age</th>\n",
       "      <th>Net_Worth</th>\n",
       "      <th>Income Source</th>\n",
       "      <th>Citizenship</th>\n",
       "    </tr>\n",
       "  </thead>\n",
       "  <tbody>\n",
       "    <tr>\n",
       "      <th>150</th>\n",
       "      <td>Dilip &amp; Anand Surana</td>\n",
       "      <td>pharmaceuticals</td>\n",
       "      <td>2.25</td>\n",
       "      <td>Bangalore, India</td>\n",
       "      <td>NaN</td>\n",
       "    </tr>\n",
       "    <tr>\n",
       "      <th>418</th>\n",
       "      <td>Girdhari Lal Bawri, Rajendra Agarwal and Banwa...</td>\n",
       "      <td>pharmaceuticals, Self Made</td>\n",
       "      <td>6.50</td>\n",
       "      <td>Mumbai, India</td>\n",
       "      <td>NaN</td>\n",
       "    </tr>\n",
       "    <tr>\n",
       "      <th>447</th>\n",
       "      <td>Vinod &amp; Anil Rai Gupta</td>\n",
       "      <td>electrical equipment</td>\n",
       "      <td>7.60</td>\n",
       "      <td>Delhi, India</td>\n",
       "      <td>NaN</td>\n",
       "    </tr>\n",
       "    <tr>\n",
       "      <th>542</th>\n",
       "      <td>Amalgamations family</td>\n",
       "      <td>tractors</td>\n",
       "      <td>2.89</td>\n",
       "      <td>Chennai, India</td>\n",
       "      <td>NaN</td>\n",
       "    </tr>\n",
       "    <tr>\n",
       "      <th>828</th>\n",
       "      <td>Murugappa Family</td>\n",
       "      <td>diversified</td>\n",
       "      <td>4.70</td>\n",
       "      <td>Chennai, India</td>\n",
       "      <td>NaN</td>\n",
       "    </tr>\n",
       "    <tr>\n",
       "      <th>937</th>\n",
       "      <td>Sudhir &amp; Samir Mehta</td>\n",
       "      <td>pharmaceuticals, power</td>\n",
       "      <td>7.10</td>\n",
       "      <td>Ahmedabad, India</td>\n",
       "      <td>Bachelor of Arts/Science, Gujarat University</td>\n",
       "    </tr>\n",
       "    <tr>\n",
       "      <th>1016</th>\n",
       "      <td>Ramesh Kumar and Mukand Lal Dua</td>\n",
       "      <td>footwear</td>\n",
       "      <td>2.85</td>\n",
       "      <td>Delhi, India</td>\n",
       "      <td>NaN</td>\n",
       "    </tr>\n",
       "    <tr>\n",
       "      <th>1162</th>\n",
       "      <td>Godrej family</td>\n",
       "      <td>consumer goods, real estate</td>\n",
       "      <td>15.20</td>\n",
       "      <td>Mumbai, India</td>\n",
       "      <td>NaN</td>\n",
       "    </tr>\n",
       "    <tr>\n",
       "      <th>1195</th>\n",
       "      <td>Bajaj Family</td>\n",
       "      <td>diversified</td>\n",
       "      <td>14.40</td>\n",
       "      <td>Pune, India</td>\n",
       "      <td>NaN</td>\n",
       "    </tr>\n",
       "    <tr>\n",
       "      <th>1379</th>\n",
       "      <td>Singh family</td>\n",
       "      <td>pharmaceuticals</td>\n",
       "      <td>5.65</td>\n",
       "      <td>Mumbai, India</td>\n",
       "      <td>NaN</td>\n",
       "    </tr>\n",
       "    <tr>\n",
       "      <th>1599</th>\n",
       "      <td>Kapil &amp; Rahul Bhatia</td>\n",
       "      <td>airlines, Self Made</td>\n",
       "      <td>5.00</td>\n",
       "      <td>Delhi, India</td>\n",
       "      <td>Bachelor of Science in Engineering, University...</td>\n",
       "    </tr>\n",
       "    <tr>\n",
       "      <th>1677</th>\n",
       "      <td>Chandrakant &amp; Rajendra Gogri</td>\n",
       "      <td>chemicals, Self Made</td>\n",
       "      <td>2.10</td>\n",
       "      <td>Mumbai, India</td>\n",
       "      <td>Bachelor of Science in Engineering, University...</td>\n",
       "    </tr>\n",
       "    <tr>\n",
       "      <th>1772</th>\n",
       "      <td>Muthoot family</td>\n",
       "      <td>financial services</td>\n",
       "      <td>6.40</td>\n",
       "      <td>Delhi, India</td>\n",
       "      <td>NaN</td>\n",
       "    </tr>\n",
       "    <tr>\n",
       "      <th>1845</th>\n",
       "      <td>Gupta family</td>\n",
       "      <td>pharmaceuticals</td>\n",
       "      <td>2.82</td>\n",
       "      <td>Mumbai, India</td>\n",
       "      <td>NaN</td>\n",
       "    </tr>\n",
       "    <tr>\n",
       "      <th>1908</th>\n",
       "      <td>Rakesh Jhunjhunwala</td>\n",
       "      <td>investments, Self Made</td>\n",
       "      <td>5.50</td>\n",
       "      <td>India</td>\n",
       "      <td>Chartered Accountant, The Institute of Charter...</td>\n",
       "    </tr>\n",
       "    <tr>\n",
       "      <th>1911</th>\n",
       "      <td>Kuldip Singh &amp; Gurbachan Singh Dhingra</td>\n",
       "      <td>paints, Self Made</td>\n",
       "      <td>9.40</td>\n",
       "      <td>Delhi, India</td>\n",
       "      <td>Married</td>\n",
       "    </tr>\n",
       "    <tr>\n",
       "      <th>1912</th>\n",
       "      <td>Burman family</td>\n",
       "      <td>consumer goods</td>\n",
       "      <td>11.80</td>\n",
       "      <td>Delhi, India</td>\n",
       "      <td>NaN</td>\n",
       "    </tr>\n",
       "    <tr>\n",
       "      <th>2310</th>\n",
       "      <td>Reddy Family</td>\n",
       "      <td>pharmaceuticals</td>\n",
       "      <td>3.01</td>\n",
       "      <td>Hyderabad, India</td>\n",
       "      <td>NaN</td>\n",
       "    </tr>\n",
       "    <tr>\n",
       "      <th>2471</th>\n",
       "      <td>Nithin and Nikhil Kamath</td>\n",
       "      <td>financial services, Self Made</td>\n",
       "      <td>2.59</td>\n",
       "      <td>Bangalore, India</td>\n",
       "      <td>NaN</td>\n",
       "    </tr>\n",
       "    <tr>\n",
       "      <th>2692</th>\n",
       "      <td>Abhay Vakil</td>\n",
       "      <td>paints</td>\n",
       "      <td>6.25</td>\n",
       "      <td>India</td>\n",
       "      <td>Bachelor of Arts/Science, Syracuse University;...</td>\n",
       "    </tr>\n",
       "  </tbody>\n",
       "</table>\n",
       "</div>"
      ],
      "text/plain": [
       "                                                   Name  \\\n",
       "150                                Dilip & Anand Surana   \n",
       "418   Girdhari Lal Bawri, Rajendra Agarwal and Banwa...   \n",
       "447                              Vinod & Anil Rai Gupta   \n",
       "542                                Amalgamations family   \n",
       "828                                    Murugappa Family   \n",
       "937                                Sudhir & Samir Mehta   \n",
       "1016                    Ramesh Kumar and Mukand Lal Dua   \n",
       "1162                                      Godrej family   \n",
       "1195                                       Bajaj Family   \n",
       "1379                                       Singh family   \n",
       "1599                               Kapil & Rahul Bhatia   \n",
       "1677                       Chandrakant & Rajendra Gogri   \n",
       "1772                                     Muthoot family   \n",
       "1845                                       Gupta family   \n",
       "1908                                Rakesh Jhunjhunwala   \n",
       "1911             Kuldip Singh & Gurbachan Singh Dhingra   \n",
       "1912                                      Burman family   \n",
       "2310                                       Reddy Family   \n",
       "2471                           Nithin and Nikhil Kamath   \n",
       "2692                                        Abhay Vakil   \n",
       "\n",
       "                                Age  Net_Worth     Income Source  \\\n",
       "150                 pharmaceuticals       2.25  Bangalore, India   \n",
       "418      pharmaceuticals, Self Made       6.50     Mumbai, India   \n",
       "447            electrical equipment       7.60      Delhi, India   \n",
       "542                        tractors       2.89    Chennai, India   \n",
       "828                     diversified       4.70    Chennai, India   \n",
       "937          pharmaceuticals, power       7.10  Ahmedabad, India   \n",
       "1016                       footwear       2.85      Delhi, India   \n",
       "1162    consumer goods, real estate      15.20     Mumbai, India   \n",
       "1195                    diversified      14.40       Pune, India   \n",
       "1379                pharmaceuticals       5.65     Mumbai, India   \n",
       "1599            airlines, Self Made       5.00      Delhi, India   \n",
       "1677           chemicals, Self Made       2.10     Mumbai, India   \n",
       "1772             financial services       6.40      Delhi, India   \n",
       "1845                pharmaceuticals       2.82     Mumbai, India   \n",
       "1908         investments, Self Made       5.50             India   \n",
       "1911              paints, Self Made       9.40      Delhi, India   \n",
       "1912                 consumer goods      11.80      Delhi, India   \n",
       "2310                pharmaceuticals       3.01  Hyderabad, India   \n",
       "2471  financial services, Self Made       2.59  Bangalore, India   \n",
       "2692                         paints       6.25             India   \n",
       "\n",
       "                                            Citizenship  \n",
       "150                                                 NaN  \n",
       "418                                                 NaN  \n",
       "447                                                 NaN  \n",
       "542                                                 NaN  \n",
       "828                                                 NaN  \n",
       "937        Bachelor of Arts/Science, Gujarat University  \n",
       "1016                                                NaN  \n",
       "1162                                                NaN  \n",
       "1195                                                NaN  \n",
       "1379                                                NaN  \n",
       "1599  Bachelor of Science in Engineering, University...  \n",
       "1677  Bachelor of Science in Engineering, University...  \n",
       "1772                                                NaN  \n",
       "1845                                                NaN  \n",
       "1908  Chartered Accountant, The Institute of Charter...  \n",
       "1911                                            Married  \n",
       "1912                                                NaN  \n",
       "2310                                                NaN  \n",
       "2471                                                NaN  \n",
       "2692  Bachelor of Arts/Science, Syracuse University;...  "
      ]
     },
     "execution_count": 12,
     "metadata": {},
     "output_type": "execute_result"
    }
   ],
   "source": [
    "# take a look into invalid data\n",
    "\n",
    "place_india"
   ]
  },
  {
   "cell_type": "code",
   "execution_count": 13,
   "id": "312dbd54",
   "metadata": {
    "execution": {
     "iopub.execute_input": "2023-07-14T09:29:57.567553Z",
     "iopub.status.busy": "2023-07-14T09:29:57.567040Z",
     "iopub.status.idle": "2023-07-14T09:29:57.571825Z",
     "shell.execute_reply": "2023-07-14T09:29:57.570992Z"
    },
    "papermill": {
     "duration": 0.019701,
     "end_time": "2023-07-14T09:29:57.574140",
     "exception": false,
     "start_time": "2023-07-14T09:29:57.554439",
     "status": "completed"
    },
    "tags": []
   },
   "outputs": [],
   "source": [
    "# column values are misplaced\n",
    "\n",
    "india = place_india.copy()\n",
    "\n",
    "india['Income Source'] = india['Age']\n",
    "\n",
    "india['Citizenship'] = 'India'\n",
    "\n",
    "india['Age'] = np.nan"
   ]
  },
  {
   "cell_type": "code",
   "execution_count": 14,
   "id": "1cd04201",
   "metadata": {
    "execution": {
     "iopub.execute_input": "2023-07-14T09:29:57.605045Z",
     "iopub.status.busy": "2023-07-14T09:29:57.604485Z",
     "iopub.status.idle": "2023-07-14T09:29:57.614749Z",
     "shell.execute_reply": "2023-07-14T09:29:57.613723Z"
    },
    "papermill": {
     "duration": 0.028561,
     "end_time": "2023-07-14T09:29:57.616882",
     "exception": false,
     "start_time": "2023-07-14T09:29:57.588321",
     "status": "completed"
    },
    "tags": []
   },
   "outputs": [
    {
     "data": {
      "text/html": [
       "<div>\n",
       "<style scoped>\n",
       "    .dataframe tbody tr th:only-of-type {\n",
       "        vertical-align: middle;\n",
       "    }\n",
       "\n",
       "    .dataframe tbody tr th {\n",
       "        vertical-align: top;\n",
       "    }\n",
       "\n",
       "    .dataframe thead th {\n",
       "        text-align: right;\n",
       "    }\n",
       "</style>\n",
       "<table border=\"1\" class=\"dataframe\">\n",
       "  <thead>\n",
       "    <tr style=\"text-align: right;\">\n",
       "      <th></th>\n",
       "      <th>Name</th>\n",
       "      <th>Age</th>\n",
       "      <th>Net_Worth</th>\n",
       "      <th>Income Source</th>\n",
       "      <th>Citizenship</th>\n",
       "    </tr>\n",
       "  </thead>\n",
       "  <tbody>\n",
       "    <tr>\n",
       "      <th>150</th>\n",
       "      <td>Dilip &amp; Anand Surana</td>\n",
       "      <td>NaN</td>\n",
       "      <td>2.25</td>\n",
       "      <td>pharmaceuticals</td>\n",
       "      <td>India</td>\n",
       "    </tr>\n",
       "    <tr>\n",
       "      <th>418</th>\n",
       "      <td>Girdhari Lal Bawri, Rajendra Agarwal and Banwa...</td>\n",
       "      <td>NaN</td>\n",
       "      <td>6.50</td>\n",
       "      <td>pharmaceuticals, Self Made</td>\n",
       "      <td>India</td>\n",
       "    </tr>\n",
       "    <tr>\n",
       "      <th>447</th>\n",
       "      <td>Vinod &amp; Anil Rai Gupta</td>\n",
       "      <td>NaN</td>\n",
       "      <td>7.60</td>\n",
       "      <td>electrical equipment</td>\n",
       "      <td>India</td>\n",
       "    </tr>\n",
       "    <tr>\n",
       "      <th>542</th>\n",
       "      <td>Amalgamations family</td>\n",
       "      <td>NaN</td>\n",
       "      <td>2.89</td>\n",
       "      <td>tractors</td>\n",
       "      <td>India</td>\n",
       "    </tr>\n",
       "    <tr>\n",
       "      <th>828</th>\n",
       "      <td>Murugappa Family</td>\n",
       "      <td>NaN</td>\n",
       "      <td>4.70</td>\n",
       "      <td>diversified</td>\n",
       "      <td>India</td>\n",
       "    </tr>\n",
       "  </tbody>\n",
       "</table>\n",
       "</div>"
      ],
      "text/plain": [
       "                                                  Name  Age  Net_Worth  \\\n",
       "150                               Dilip & Anand Surana  NaN       2.25   \n",
       "418  Girdhari Lal Bawri, Rajendra Agarwal and Banwa...  NaN       6.50   \n",
       "447                             Vinod & Anil Rai Gupta  NaN       7.60   \n",
       "542                               Amalgamations family  NaN       2.89   \n",
       "828                                   Murugappa Family  NaN       4.70   \n",
       "\n",
       "                  Income Source Citizenship  \n",
       "150             pharmaceuticals       India  \n",
       "418  pharmaceuticals, Self Made       India  \n",
       "447        electrical equipment       India  \n",
       "542                    tractors       India  \n",
       "828                 diversified       India  "
      ]
     },
     "execution_count": 14,
     "metadata": {},
     "output_type": "execute_result"
    }
   ],
   "source": [
    "india.head()"
   ]
  },
  {
   "cell_type": "code",
   "execution_count": 15,
   "id": "56bf384f",
   "metadata": {
    "execution": {
     "iopub.execute_input": "2023-07-14T09:29:57.644903Z",
     "iopub.status.busy": "2023-07-14T09:29:57.644150Z",
     "iopub.status.idle": "2023-07-14T09:29:57.654547Z",
     "shell.execute_reply": "2023-07-14T09:29:57.653546Z"
    },
    "papermill": {
     "duration": 0.025611,
     "end_time": "2023-07-14T09:29:57.656171",
     "exception": false,
     "start_time": "2023-07-14T09:29:57.630560",
     "status": "completed"
    },
    "tags": []
   },
   "outputs": [
    {
     "data": {
      "text/plain": [
       "Name              0\n",
       "Age              86\n",
       "Net_Worth         0\n",
       "Income Source     0\n",
       "Citizenship       2\n",
       "dtype: int64"
      ]
     },
     "execution_count": 15,
     "metadata": {},
     "output_type": "execute_result"
    }
   ],
   "source": [
    "# check for NaN values in main dataframe\n",
    "\n",
    "df.isna().sum()"
   ]
  },
  {
   "cell_type": "code",
   "execution_count": 16,
   "id": "eb998c63",
   "metadata": {
    "execution": {
     "iopub.execute_input": "2023-07-14T09:29:57.683069Z",
     "iopub.status.busy": "2023-07-14T09:29:57.681783Z",
     "iopub.status.idle": "2023-07-14T09:29:57.692170Z",
     "shell.execute_reply": "2023-07-14T09:29:57.691269Z"
    },
    "papermill": {
     "duration": 0.025888,
     "end_time": "2023-07-14T09:29:57.694457",
     "exception": false,
     "start_time": "2023-07-14T09:29:57.668569",
     "status": "completed"
    },
    "tags": []
   },
   "outputs": [],
   "source": [
    "# copy NaN values to a new dataframe 'na' incase of future needs\n",
    "na = df[df.isna().any(axis=1)]\n",
    "\n",
    "# drop NaN values from df\n",
    "df.dropna(inplace=True)"
   ]
  },
  {
   "cell_type": "code",
   "execution_count": 17,
   "id": "d7ae8ef8",
   "metadata": {
    "execution": {
     "iopub.execute_input": "2023-07-14T09:29:57.721109Z",
     "iopub.status.busy": "2023-07-14T09:29:57.720791Z",
     "iopub.status.idle": "2023-07-14T09:29:57.727754Z",
     "shell.execute_reply": "2023-07-14T09:29:57.726787Z"
    },
    "papermill": {
     "duration": 0.02234,
     "end_time": "2023-07-14T09:29:57.729459",
     "exception": false,
     "start_time": "2023-07-14T09:29:57.707119",
     "status": "completed"
    },
    "tags": []
   },
   "outputs": [],
   "source": [
    "# again add back the invalid data to the main dataframe which is required for further questions\n",
    "\n",
    "# df must be used for 'Age' related questions cause it doesn't contains NaN values in 'Age' column\n",
    "df = pd.concat([df, self_made])\n",
    "\n",
    "# dfs can be used for non 'Age' related questions\n",
    "dfs = pd.concat([df, self_made, india, na])"
   ]
  },
  {
   "cell_type": "markdown",
   "id": "a7f435c9",
   "metadata": {
    "papermill": {
     "duration": 0.011986,
     "end_time": "2023-07-14T09:29:57.754024",
     "exception": false,
     "start_time": "2023-07-14T09:29:57.742038",
     "status": "completed"
    },
    "tags": []
   },
   "source": [
    "# Q4: What is the distribution of the age of billionaires in the dataset? (Medium)\n",
    "* PreProcess the Age column first either drop all the values that are not required or convert them to NAN {This is a very important step will be used in further questions as well} "
   ]
  },
  {
   "cell_type": "code",
   "execution_count": 18,
   "id": "1d96d978",
   "metadata": {
    "execution": {
     "iopub.execute_input": "2023-07-14T09:29:57.781189Z",
     "iopub.status.busy": "2023-07-14T09:29:57.780382Z",
     "iopub.status.idle": "2023-07-14T09:29:57.786558Z",
     "shell.execute_reply": "2023-07-14T09:29:57.785410Z"
    },
    "papermill": {
     "duration": 0.022292,
     "end_time": "2023-07-14T09:29:57.788606",
     "exception": false,
     "start_time": "2023-07-14T09:29:57.766314",
     "status": "completed"
    },
    "tags": []
   },
   "outputs": [],
   "source": [
    "# change dtype of 'Age' column to 'int'\n",
    "df['Age'] = df['Age'].astype(int)"
   ]
  },
  {
   "cell_type": "code",
   "execution_count": 19,
   "id": "73c0a8d6",
   "metadata": {
    "execution": {
     "iopub.execute_input": "2023-07-14T09:29:57.815101Z",
     "iopub.status.busy": "2023-07-14T09:29:57.814612Z",
     "iopub.status.idle": "2023-07-14T09:29:59.259301Z",
     "shell.execute_reply": "2023-07-14T09:29:59.258186Z"
    },
    "papermill": {
     "duration": 1.461955,
     "end_time": "2023-07-14T09:29:59.263159",
     "exception": false,
     "start_time": "2023-07-14T09:29:57.801204",
     "status": "completed"
    },
    "tags": []
   },
   "outputs": [
    {
     "data": {
      "application/vnd.plotly.v1+json": {
       "config": {
        "linkText": "Export to plot.ly",
        "plotlyServerURL": "https://plot.ly",
        "showLink": false
       },
       "data": [
        {
         "name": "Age Histogram",
         "type": "histogram",
         "x": [
          66,
          60,
          52,
          77,
          72,
          62,
          35,
          77,
          79,
          42,
          52,
          34,
          53,
          94,
          79,
          31,
          86,
          53,
          81,
          74,
          65,
          48,
          71,
          62,
          68,
          64,
          64,
          42,
          56,
          77,
          48,
          49,
          72,
          65,
          55,
          58,
          42,
          27,
          62,
          75,
          65,
          48,
          59,
          48,
          84,
          62,
          43,
          75,
          69,
          49,
          71,
          74,
          68,
          64,
          81,
          77,
          73,
          80,
          65,
          54,
          86,
          69,
          67,
          78,
          76,
          70,
          78,
          35,
          86,
          44,
          72,
          58,
          51,
          78,
          53,
          58,
          74,
          68,
          51,
          67,
          51,
          42,
          66,
          54,
          46,
          71,
          76,
          83,
          69,
          59,
          54,
          78,
          65,
          54,
          52,
          74,
          65,
          68,
          68,
          52,
          67,
          47,
          42,
          26,
          50,
          59,
          58,
          56,
          54,
          67,
          72,
          30,
          53,
          85,
          66,
          72,
          83,
          34,
          73,
          87,
          59,
          53,
          61,
          49,
          73,
          72,
          54,
          61,
          75,
          67,
          59,
          59,
          50,
          50,
          81,
          89,
          49,
          58,
          72,
          54,
          25,
          54,
          92,
          81,
          47,
          53,
          56,
          75,
          57,
          81,
          73,
          53,
          55,
          67,
          60,
          57,
          54,
          62,
          49,
          70,
          72,
          61,
          59,
          52,
          57,
          45,
          64,
          50,
          40,
          56,
          69,
          69,
          71,
          64,
          60,
          83,
          70,
          63,
          66,
          52,
          69,
          71,
          60,
          66,
          59,
          77,
          84,
          57,
          67,
          36,
          62,
          58,
          74,
          52,
          55,
          54,
          70,
          48,
          82,
          64,
          56,
          93,
          72,
          76,
          68,
          80,
          75,
          52,
          48,
          59,
          54,
          53,
          86,
          78,
          69,
          85,
          58,
          74,
          81,
          50,
          66,
          58,
          73,
          72,
          56,
          56,
          61,
          52,
          60,
          79,
          51,
          78,
          70,
          48,
          45,
          84,
          52,
          45,
          40,
          74,
          50,
          61,
          71,
          57,
          55,
          76,
          61,
          57,
          62,
          86,
          81,
          71,
          59,
          56,
          57,
          80,
          72,
          57,
          70,
          74,
          76,
          53,
          60,
          81,
          61,
          50,
          57,
          49,
          71,
          70,
          63,
          73,
          54,
          68,
          47,
          61,
          56,
          82,
          67,
          55,
          84,
          88,
          69,
          71,
          75,
          39,
          60,
          50,
          71,
          59,
          73,
          57,
          64,
          71,
          73,
          41,
          79,
          41,
          83,
          92,
          57,
          62,
          83,
          88,
          73,
          50,
          70,
          58,
          51,
          78,
          59,
          81,
          81,
          69,
          36,
          53,
          44,
          60,
          76,
          72,
          54,
          73,
          44,
          65,
          60,
          58,
          61,
          91,
          58,
          84,
          51,
          68,
          46,
          35,
          60,
          50,
          66,
          34,
          57,
          73,
          56,
          63,
          57,
          53,
          71,
          64,
          42,
          71,
          50,
          68,
          93,
          52,
          62,
          57,
          36,
          77,
          63,
          73,
          39,
          75,
          36,
          50,
          68,
          52,
          35,
          57,
          79,
          42,
          63,
          71,
          72,
          79,
          60,
          59,
          57,
          74,
          97,
          53,
          80,
          31,
          85,
          77,
          52,
          56,
          80,
          61,
          59,
          38,
          64,
          46,
          85,
          85,
          54,
          72,
          59,
          54,
          75,
          70,
          49,
          47,
          65,
          62,
          91,
          52,
          67,
          76,
          58,
          72,
          73,
          73,
          67,
          50,
          38,
          40,
          62,
          61,
          60,
          77,
          71,
          60,
          52,
          77,
          52,
          60,
          47,
          55,
          58,
          60,
          80,
          69,
          64,
          63,
          47,
          76,
          44,
          71,
          61,
          59,
          69,
          70,
          64,
          62,
          46,
          56,
          71,
          65,
          77,
          82,
          52,
          83,
          61,
          54,
          35,
          58,
          28,
          84,
          73,
          81,
          65,
          92,
          62,
          79,
          75,
          58,
          60,
          69,
          64,
          58,
          77,
          68,
          81,
          56,
          37,
          66,
          95,
          68,
          65,
          81,
          48,
          80,
          51,
          60,
          75,
          58,
          57,
          74,
          61,
          63,
          72,
          77,
          79,
          46,
          65,
          69,
          71,
          60,
          82,
          97,
          60,
          61,
          51,
          76,
          81,
          57,
          39,
          74,
          64,
          55,
          61,
          60,
          73,
          51,
          63,
          39,
          37,
          66,
          65,
          60,
          39,
          61,
          58,
          86,
          74,
          65,
          67,
          92,
          71,
          40,
          86,
          67,
          46,
          65,
          54,
          80,
          42,
          59,
          51,
          52,
          64,
          64,
          52,
          67,
          72,
          30,
          71,
          56,
          62,
          70,
          71,
          39,
          58,
          39,
          54,
          59,
          65,
          64,
          62,
          53,
          48,
          54,
          77,
          56,
          71,
          59,
          66,
          81,
          54,
          81,
          64,
          59,
          65,
          67,
          73,
          71,
          70,
          41,
          94,
          52,
          84,
          53,
          67,
          57,
          59,
          65,
          65,
          53,
          74,
          52,
          54,
          56,
          86,
          45,
          65,
          66,
          56,
          45,
          82,
          56,
          88,
          60,
          64,
          56,
          56,
          55,
          33,
          86,
          65,
          67,
          69,
          37,
          70,
          40,
          54,
          65,
          56,
          86,
          66,
          68,
          59,
          55,
          48,
          67,
          77,
          61,
          29,
          60,
          68,
          57,
          59,
          53,
          54,
          55,
          62,
          71,
          86,
          61,
          79,
          63,
          51,
          84,
          53,
          57,
          81,
          50,
          57,
          70,
          65,
          70,
          63,
          83,
          77,
          84,
          79,
          57,
          43,
          67,
          57,
          67,
          54,
          66,
          79,
          64,
          67,
          68,
          31,
          70,
          53,
          81,
          66,
          90,
          38,
          58,
          89,
          72,
          61,
          49,
          58,
          51,
          86,
          64,
          66,
          54,
          65,
          56,
          62,
          92,
          76,
          79,
          62,
          84,
          78,
          56,
          83,
          66,
          57,
          75,
          74,
          51,
          78,
          55,
          67,
          55,
          59,
          25,
          41,
          69,
          51,
          56,
          75,
          74,
          55,
          43,
          81,
          73,
          58,
          49,
          46,
          73,
          55,
          46,
          66,
          73,
          63,
          73,
          83,
          80,
          75,
          63,
          48,
          73,
          69,
          69,
          72,
          69,
          72,
          81,
          38,
          75,
          58,
          55,
          89,
          94,
          55,
          91,
          57,
          85,
          61,
          70,
          66,
          58,
          66,
          45,
          84,
          72,
          58,
          64,
          67,
          54,
          54,
          67,
          59,
          62,
          72,
          62,
          56,
          70,
          66,
          70,
          58,
          58,
          67,
          71,
          64,
          57,
          33,
          73,
          78,
          78,
          76,
          67,
          60,
          65,
          52,
          87,
          100,
          41,
          49,
          56,
          52,
          53,
          67,
          76,
          38,
          66,
          40,
          54,
          68,
          40,
          54,
          50,
          90,
          81,
          60,
          89,
          72,
          53,
          44,
          81,
          59,
          60,
          82,
          74,
          79,
          78,
          84,
          61,
          77,
          55,
          48,
          63,
          63,
          74,
          62,
          63,
          59,
          78,
          71,
          78,
          59,
          50,
          69,
          60,
          47,
          81,
          95,
          68,
          74,
          86,
          56,
          85,
          51,
          70,
          44,
          90,
          50,
          73,
          78,
          81,
          55,
          56,
          64,
          48,
          76,
          48,
          77,
          76,
          82,
          85,
          72,
          86,
          52,
          57,
          58,
          68,
          76,
          27,
          78,
          75,
          66,
          46,
          86,
          57,
          68,
          56,
          56,
          80,
          65,
          73,
          40,
          86,
          60,
          70,
          67,
          73,
          65,
          84,
          47,
          53,
          66,
          59,
          43,
          56,
          66,
          60,
          53,
          63,
          87,
          54,
          87,
          95,
          83,
          70,
          77,
          67,
          39,
          73,
          83,
          59,
          63,
          68,
          43,
          71,
          63,
          42,
          80,
          63,
          61,
          52,
          48,
          67,
          78,
          66,
          61,
          80,
          69,
          84,
          55,
          93,
          75,
          69,
          52,
          65,
          80,
          50,
          68,
          67,
          60,
          78,
          57,
          89,
          78,
          65,
          72,
          72,
          49,
          79,
          66,
          66,
          50,
          70,
          51,
          51,
          67,
          64,
          74,
          91,
          59,
          55,
          45,
          70,
          71,
          90,
          47,
          76,
          70,
          79,
          71,
          58,
          81,
          78,
          49,
          56,
          61,
          68,
          61,
          62,
          56,
          50,
          69,
          57,
          41,
          71,
          91,
          44,
          50,
          52,
          59,
          29,
          69,
          55,
          59,
          61,
          77,
          83,
          19,
          78,
          76,
          79,
          57,
          82,
          56,
          65,
          40,
          67,
          52,
          44,
          55,
          43,
          48,
          25,
          66,
          67,
          61,
          94,
          43,
          72,
          45,
          51,
          63,
          55,
          86,
          82,
          79,
          81,
          87,
          36,
          63,
          53,
          67,
          72,
          60,
          88,
          48,
          66,
          51,
          68,
          67,
          68,
          59,
          55,
          71,
          66,
          66,
          36,
          66,
          55,
          86,
          91,
          66,
          65,
          59,
          75,
          65,
          52,
          52,
          63,
          80,
          67,
          55,
          95,
          72,
          45,
          84,
          68,
          58,
          54,
          51,
          82,
          77,
          72,
          54,
          87,
          48,
          63,
          76,
          66,
          70,
          73,
          65,
          81,
          51,
          52,
          74,
          65,
          47,
          57,
          69,
          69,
          56,
          52,
          62,
          56,
          65,
          59,
          59,
          49,
          73,
          65,
          56,
          93,
          66,
          69,
          59,
          52,
          53,
          63,
          49,
          66,
          69,
          64,
          58,
          57,
          34,
          82,
          58,
          61,
          78,
          57,
          55,
          37,
          50,
          61,
          65,
          56,
          79,
          63,
          88,
          70,
          73,
          85,
          66,
          60,
          86,
          65,
          96,
          56,
          57,
          52,
          74,
          93,
          57,
          82,
          81,
          72,
          66,
          77,
          76,
          48,
          45,
          71,
          62,
          41,
          49,
          59,
          64,
          73,
          80,
          75,
          32,
          47,
          58,
          72,
          72,
          59,
          57,
          64,
          58,
          63,
          78,
          78,
          73,
          79,
          55,
          80,
          33,
          62,
          74,
          74,
          61,
          70,
          55,
          79,
          86,
          44,
          86,
          59,
          76,
          34,
          69,
          48,
          69,
          54,
          48,
          59,
          48,
          52,
          54,
          48,
          67,
          31,
          64,
          78,
          77,
          53,
          51,
          69,
          59,
          87,
          74,
          66,
          69,
          74,
          49,
          54,
          72,
          85,
          56,
          51,
          58,
          57,
          82,
          72,
          60,
          52,
          63,
          70,
          82,
          52,
          56,
          39,
          53,
          73,
          75,
          53,
          56,
          61,
          52,
          83,
          34,
          40,
          68,
          73,
          76,
          71,
          65,
          67,
          75,
          68,
          43,
          76,
          49,
          68,
          66,
          79,
          62,
          70,
          54,
          80,
          53,
          65,
          51,
          74,
          76,
          80,
          82,
          95,
          72,
          51,
          72,
          61,
          75,
          69,
          58,
          70,
          72,
          46,
          77,
          55,
          67,
          93,
          79,
          64,
          74,
          64,
          57,
          80,
          51,
          93,
          60,
          48,
          49,
          60,
          77,
          50,
          65,
          85,
          59,
          75,
          62,
          65,
          76,
          80,
          49,
          75,
          71,
          77,
          85,
          90,
          75,
          72,
          76,
          72,
          69,
          82,
          69,
          68,
          64,
          81,
          85,
          80,
          68,
          57,
          67,
          53,
          64,
          87,
          55,
          64,
          86,
          67,
          65,
          81,
          57,
          49,
          82,
          39,
          52,
          64,
          50,
          64,
          70,
          73,
          52,
          68,
          70,
          45,
          58,
          63,
          58,
          69,
          51,
          60,
          44,
          58,
          95,
          60,
          77,
          45,
          90,
          58,
          48,
          58,
          39,
          63,
          65,
          67,
          40,
          40,
          82,
          45,
          54,
          43,
          54,
          76,
          57,
          51,
          54,
          60,
          51,
          58,
          49,
          80,
          59,
          60,
          58,
          71,
          54,
          69,
          59,
          73,
          74,
          49,
          93,
          78,
          70,
          76,
          81,
          57,
          61,
          83,
          57,
          66,
          80,
          89,
          61,
          47,
          82,
          55,
          53,
          54,
          78,
          58,
          79,
          72,
          71,
          61,
          68,
          60,
          62,
          84,
          55,
          91,
          40,
          81,
          55,
          64,
          89,
          67,
          90,
          60,
          56,
          72,
          65,
          65,
          42,
          89,
          49,
          89,
          40,
          74,
          58,
          61,
          79,
          62,
          81,
          70,
          36,
          53,
          49,
          71,
          50,
          76,
          60,
          59,
          40,
          52,
          61,
          65,
          76,
          58,
          69,
          80,
          64,
          55,
          80,
          74,
          73,
          89,
          57,
          66,
          54,
          84,
          69,
          72,
          48,
          50,
          65,
          89,
          85,
          54,
          53,
          66,
          57,
          60,
          72,
          64,
          70,
          68,
          54,
          58,
          76,
          84,
          74,
          68,
          76,
          81,
          64,
          75,
          76,
          70,
          59,
          60,
          81,
          51,
          72,
          65,
          56,
          46,
          70,
          82,
          53,
          51,
          86,
          63,
          48,
          49,
          55,
          72,
          59,
          80,
          78,
          52,
          53,
          65,
          41,
          52,
          38,
          71,
          70,
          50,
          60,
          57,
          39,
          65,
          47,
          49,
          59,
          66,
          43,
          54,
          42,
          91,
          65,
          30,
          62,
          52,
          84,
          69,
          78,
          93,
          83,
          68,
          71,
          46,
          65,
          57,
          56,
          56,
          88,
          48,
          58,
          57,
          65,
          68,
          51,
          62,
          72,
          64,
          72,
          87,
          61,
          54,
          54,
          91,
          80,
          66,
          56,
          57,
          77,
          61,
          48,
          78,
          71,
          57,
          55,
          75,
          56,
          71,
          65,
          53,
          75,
          87,
          64,
          50,
          74,
          72,
          59,
          56,
          66,
          69,
          53,
          59,
          75,
          34,
          67,
          59,
          74,
          71,
          46,
          68,
          57,
          80,
          62,
          56,
          60,
          72,
          56,
          55,
          38,
          55,
          69,
          86,
          60,
          80,
          56,
          48,
          72,
          71,
          57,
          78,
          68,
          81,
          58,
          77,
          58,
          64,
          74,
          58,
          73,
          68,
          54,
          68,
          57,
          44,
          74,
          57,
          79,
          59,
          46,
          69,
          76,
          81,
          56,
          79,
          39,
          61,
          53,
          57,
          58,
          80,
          77,
          69,
          58,
          76,
          51,
          39,
          68,
          93,
          79,
          60,
          54,
          72,
          67,
          64,
          66,
          52,
          45,
          39,
          57,
          68,
          73,
          40,
          68,
          51,
          78,
          75,
          77,
          76,
          54,
          64,
          88,
          62,
          58,
          57,
          44,
          56,
          75,
          63,
          68,
          83,
          77,
          86,
          98,
          64,
          64,
          68,
          48,
          55,
          42,
          60,
          54,
          46,
          60,
          48,
          55,
          68,
          41,
          54,
          68,
          71,
          50,
          59,
          67,
          84,
          76,
          48,
          79,
          71,
          62,
          57,
          76,
          73,
          93,
          52,
          81,
          49,
          67,
          82,
          88,
          64,
          69,
          64,
          70,
          56,
          40,
          65,
          49,
          56,
          65,
          49,
          61,
          62,
          68,
          85,
          81,
          72,
          55,
          61,
          85,
          69,
          63,
          77,
          98,
          54,
          46,
          67,
          62,
          45,
          58,
          56,
          78,
          67,
          67,
          82,
          57,
          51,
          55,
          71,
          75,
          76,
          77,
          57,
          57,
          71,
          78,
          69,
          82,
          68,
          55,
          70,
          68,
          54,
          81,
          42,
          31,
          37,
          74,
          60,
          74,
          89,
          55,
          52,
          88,
          65,
          80,
          48,
          61,
          58,
          84,
          67,
          69,
          81,
          72,
          84,
          44,
          87,
          66,
          51,
          70,
          70,
          52,
          70,
          55,
          56,
          53,
          58,
          55,
          60,
          78,
          65,
          71,
          84,
          55,
          32,
          94,
          57,
          89,
          82,
          82,
          55,
          56,
          64,
          72,
          86,
          51,
          65,
          59,
          55,
          81,
          78,
          78,
          45,
          53,
          49,
          66,
          60,
          59,
          72,
          72,
          58,
          81,
          54,
          42,
          73,
          76,
          74,
          71,
          48,
          54,
          57,
          71,
          55,
          42,
          57,
          59,
          71,
          68,
          38,
          66,
          66,
          52,
          45,
          53,
          77,
          69,
          76,
          64,
          40,
          64,
          74,
          59,
          83,
          49,
          61,
          60,
          58,
          53,
          98,
          61,
          62,
          43,
          76,
          54,
          76,
          59,
          85,
          90,
          62,
          75,
          75,
          60,
          94,
          60,
          63,
          80,
          68,
          53,
          72,
          60,
          88,
          58,
          82,
          84,
          81,
          56,
          79,
          63,
          75,
          49,
          96,
          77,
          57,
          79,
          90,
          72,
          69,
          64,
          75,
          86,
          91,
          72,
          66,
          89,
          73,
          53,
          51,
          81,
          64,
          51,
          64,
          87,
          79,
          41,
          43,
          69,
          39,
          68,
          58,
          82,
          42,
          60,
          77,
          58,
          35,
          51,
          51,
          63,
          64,
          54,
          63,
          90,
          63,
          86,
          58,
          65,
          93,
          75,
          58,
          61,
          52,
          50,
          80,
          60,
          53,
          62,
          62,
          68,
          89,
          76,
          56,
          78,
          73,
          76,
          65,
          57,
          60,
          54,
          66,
          77,
          87,
          59,
          49,
          37,
          62,
          69,
          45,
          88,
          67,
          77,
          50,
          54,
          70,
          39,
          59,
          76,
          69,
          71,
          54,
          54,
          83,
          76,
          79,
          75,
          67,
          50,
          77,
          39,
          45,
          58,
          52,
          56,
          58,
          39,
          68,
          76,
          55,
          74,
          59,
          81,
          72,
          69,
          62,
          64,
          80,
          59,
          50,
          53,
          55,
          60,
          63,
          47,
          58,
          53,
          66,
          66,
          49,
          94,
          76,
          68,
          63,
          66,
          53,
          57,
          67,
          47,
          66,
          83,
          58,
          45,
          72,
          52,
          26,
          65,
          61,
          55,
          79,
          81,
          62,
          75,
          47,
          71,
          68,
          70,
          81,
          49,
          96,
          79,
          51,
          54,
          39,
          70,
          57,
          54,
          96,
          60,
          44,
          79,
          70,
          86,
          75,
          60,
          74,
          92,
          92,
          67,
          57,
          66,
          69,
          78,
          57,
          57,
          53,
          28,
          70,
          50,
          59,
          60,
          56,
          63,
          66,
          62,
          72,
          68,
          81,
          72,
          52,
          65,
          57,
          66,
          40,
          77,
          65,
          44,
          72,
          84,
          73,
          78,
          62,
          88,
          67,
          53,
          43,
          66,
          78,
          56,
          76,
          58,
          79,
          51,
          46,
          88,
          67,
          60,
          40,
          72,
          45,
          54,
          76,
          54,
          62,
          77,
          72,
          65,
          61,
          77,
          36,
          70,
          73,
          75,
          54,
          71,
          60,
          72,
          69,
          45,
          63,
          59,
          79,
          73,
          71,
          57,
          73,
          77,
          57,
          69,
          43,
          68,
          51,
          61,
          55,
          79,
          72,
          60,
          81,
          58,
          63,
          88,
          68,
          62,
          83,
          77,
          50,
          67,
          86,
          62,
          67,
          74,
          62,
          97,
          62,
          55,
          81,
          66,
          90,
          74,
          50,
          59,
          64,
          37,
          63,
          58,
          79,
          91,
          80,
          89,
          68,
          57,
          58,
          79,
          74,
          79,
          67,
          61,
          46,
          58,
          73,
          79,
          63,
          48,
          76,
          71,
          68,
          54,
          92,
          55,
          58,
          76,
          86,
          54,
          76,
          65,
          86,
          58,
          55,
          87,
          66,
          80,
          66,
          56,
          73,
          85,
          75,
          69,
          51,
          56,
          87,
          45,
          77,
          54,
          77,
          42,
          49,
          48,
          67,
          53,
          64,
          75,
          52,
          56,
          87,
          75,
          52,
          54,
          86,
          42,
          63,
          83,
          75,
          37,
          46,
          74,
          65,
          74,
          63,
          53,
          87,
          84,
          63,
          64,
          54,
          71,
          67,
          62,
          77,
          68,
          49,
          77,
          63,
          91,
          60,
          59,
          42,
          51,
          58,
          60,
          68,
          64,
          63,
          57,
          73,
          59,
          76,
          78,
          76,
          65,
          68,
          72,
          49,
          80,
          60,
          59,
          44,
          64,
          59,
          59,
          93,
          51,
          64,
          55,
          82,
          64,
          62,
          71,
          49,
          47,
          70,
          75,
          50,
          35,
          62,
          59,
          63,
          67,
          71,
          58,
          68,
          44,
          46,
          56,
          61,
          49,
          55,
          72,
          73,
          87,
          65,
          87,
          94,
          78,
          66,
          60,
          74,
          64,
          44,
          55,
          78,
          92,
          67,
          76,
          75,
          78,
          80,
          51,
          52,
          72,
          95,
          65,
          77,
          43,
          70,
          56,
          63,
          80,
          54,
          67,
          79,
          63,
          57,
          64,
          73,
          96,
          61,
          55,
          63,
          81,
          55,
          63,
          59,
          59,
          90,
          46,
          43,
          67,
          82,
          71,
          80,
          50,
          45,
          51,
          66,
          65,
          58,
          77,
          72,
          75,
          38,
          47,
          66,
          69,
          89,
          75,
          56,
          61,
          67,
          54,
          92,
          59,
          54,
          69,
          53,
          60,
          54,
          55,
          55,
          68,
          56,
          79,
          51,
          48,
          62,
          86,
          68,
          52,
          89,
          41,
          78,
          61,
          80,
          55,
          67,
          75,
          71,
          70,
          75,
          61,
          59,
          65,
          67,
          32,
          69,
          62,
          72,
          72,
          66,
          60,
          58,
          79,
          56,
          76,
          59,
          51,
          77,
          44,
          47,
          54,
          69,
          84,
          64,
          80,
          86,
          74,
          59,
          87,
          51,
          65,
          77,
          64,
          45,
          70,
          66,
          87,
          66,
          74,
          43,
          65,
          70,
          77,
          84,
          51,
          81,
          89,
          69,
          52,
          80,
          45,
          37,
          64,
          56,
          70,
          78,
          70,
          52,
          75,
          36,
          53,
          58,
          82,
          70,
          56,
          57,
          69,
          52,
          68,
          46,
          47,
          75,
          53,
          46,
          70,
          60,
          57,
          75,
          82,
          48,
          55,
          80,
          76,
          67,
          60,
          80,
          55,
          59,
          40,
          74,
          70,
          59,
          44,
          77,
          70,
          68,
          75,
          73,
          41,
          74,
          87,
          75,
          72,
          68,
          55,
          53,
          76,
          47,
          79,
          77,
          52,
          67,
          58,
          70,
          76,
          61,
          59,
          56,
          53,
          82,
          70,
          54,
          61,
          65,
          67,
          63,
          61,
          89,
          62,
          67,
          48,
          78,
          53,
          62,
          60,
          73,
          94,
          71,
          57,
          91,
          82,
          43,
          39,
          53,
          56,
          56,
          64,
          69,
          41,
          71,
          82,
          72,
          69,
          52,
          77,
          74,
          50,
          49,
          71,
          70,
          42,
          67,
          44,
          69,
          50,
          69,
          61,
          64,
          90,
          66,
          69,
          57,
          59,
          67,
          76,
          70,
          73,
          64,
          68,
          65,
          73,
          66,
          60,
          78,
          69,
          60,
          88,
          71,
          67,
          67,
          64,
          54,
          77,
          66,
          63,
          67
         ],
         "xaxis": "x",
         "yaxis": "y"
        },
        {
         "boxmean": "sd",
         "name": "Age Boxplot",
         "type": "box",
         "x": [
          66,
          60,
          52,
          77,
          72,
          62,
          35,
          77,
          79,
          42,
          52,
          34,
          53,
          94,
          79,
          31,
          86,
          53,
          81,
          74,
          65,
          48,
          71,
          62,
          68,
          64,
          64,
          42,
          56,
          77,
          48,
          49,
          72,
          65,
          55,
          58,
          42,
          27,
          62,
          75,
          65,
          48,
          59,
          48,
          84,
          62,
          43,
          75,
          69,
          49,
          71,
          74,
          68,
          64,
          81,
          77,
          73,
          80,
          65,
          54,
          86,
          69,
          67,
          78,
          76,
          70,
          78,
          35,
          86,
          44,
          72,
          58,
          51,
          78,
          53,
          58,
          74,
          68,
          51,
          67,
          51,
          42,
          66,
          54,
          46,
          71,
          76,
          83,
          69,
          59,
          54,
          78,
          65,
          54,
          52,
          74,
          65,
          68,
          68,
          52,
          67,
          47,
          42,
          26,
          50,
          59,
          58,
          56,
          54,
          67,
          72,
          30,
          53,
          85,
          66,
          72,
          83,
          34,
          73,
          87,
          59,
          53,
          61,
          49,
          73,
          72,
          54,
          61,
          75,
          67,
          59,
          59,
          50,
          50,
          81,
          89,
          49,
          58,
          72,
          54,
          25,
          54,
          92,
          81,
          47,
          53,
          56,
          75,
          57,
          81,
          73,
          53,
          55,
          67,
          60,
          57,
          54,
          62,
          49,
          70,
          72,
          61,
          59,
          52,
          57,
          45,
          64,
          50,
          40,
          56,
          69,
          69,
          71,
          64,
          60,
          83,
          70,
          63,
          66,
          52,
          69,
          71,
          60,
          66,
          59,
          77,
          84,
          57,
          67,
          36,
          62,
          58,
          74,
          52,
          55,
          54,
          70,
          48,
          82,
          64,
          56,
          93,
          72,
          76,
          68,
          80,
          75,
          52,
          48,
          59,
          54,
          53,
          86,
          78,
          69,
          85,
          58,
          74,
          81,
          50,
          66,
          58,
          73,
          72,
          56,
          56,
          61,
          52,
          60,
          79,
          51,
          78,
          70,
          48,
          45,
          84,
          52,
          45,
          40,
          74,
          50,
          61,
          71,
          57,
          55,
          76,
          61,
          57,
          62,
          86,
          81,
          71,
          59,
          56,
          57,
          80,
          72,
          57,
          70,
          74,
          76,
          53,
          60,
          81,
          61,
          50,
          57,
          49,
          71,
          70,
          63,
          73,
          54,
          68,
          47,
          61,
          56,
          82,
          67,
          55,
          84,
          88,
          69,
          71,
          75,
          39,
          60,
          50,
          71,
          59,
          73,
          57,
          64,
          71,
          73,
          41,
          79,
          41,
          83,
          92,
          57,
          62,
          83,
          88,
          73,
          50,
          70,
          58,
          51,
          78,
          59,
          81,
          81,
          69,
          36,
          53,
          44,
          60,
          76,
          72,
          54,
          73,
          44,
          65,
          60,
          58,
          61,
          91,
          58,
          84,
          51,
          68,
          46,
          35,
          60,
          50,
          66,
          34,
          57,
          73,
          56,
          63,
          57,
          53,
          71,
          64,
          42,
          71,
          50,
          68,
          93,
          52,
          62,
          57,
          36,
          77,
          63,
          73,
          39,
          75,
          36,
          50,
          68,
          52,
          35,
          57,
          79,
          42,
          63,
          71,
          72,
          79,
          60,
          59,
          57,
          74,
          97,
          53,
          80,
          31,
          85,
          77,
          52,
          56,
          80,
          61,
          59,
          38,
          64,
          46,
          85,
          85,
          54,
          72,
          59,
          54,
          75,
          70,
          49,
          47,
          65,
          62,
          91,
          52,
          67,
          76,
          58,
          72,
          73,
          73,
          67,
          50,
          38,
          40,
          62,
          61,
          60,
          77,
          71,
          60,
          52,
          77,
          52,
          60,
          47,
          55,
          58,
          60,
          80,
          69,
          64,
          63,
          47,
          76,
          44,
          71,
          61,
          59,
          69,
          70,
          64,
          62,
          46,
          56,
          71,
          65,
          77,
          82,
          52,
          83,
          61,
          54,
          35,
          58,
          28,
          84,
          73,
          81,
          65,
          92,
          62,
          79,
          75,
          58,
          60,
          69,
          64,
          58,
          77,
          68,
          81,
          56,
          37,
          66,
          95,
          68,
          65,
          81,
          48,
          80,
          51,
          60,
          75,
          58,
          57,
          74,
          61,
          63,
          72,
          77,
          79,
          46,
          65,
          69,
          71,
          60,
          82,
          97,
          60,
          61,
          51,
          76,
          81,
          57,
          39,
          74,
          64,
          55,
          61,
          60,
          73,
          51,
          63,
          39,
          37,
          66,
          65,
          60,
          39,
          61,
          58,
          86,
          74,
          65,
          67,
          92,
          71,
          40,
          86,
          67,
          46,
          65,
          54,
          80,
          42,
          59,
          51,
          52,
          64,
          64,
          52,
          67,
          72,
          30,
          71,
          56,
          62,
          70,
          71,
          39,
          58,
          39,
          54,
          59,
          65,
          64,
          62,
          53,
          48,
          54,
          77,
          56,
          71,
          59,
          66,
          81,
          54,
          81,
          64,
          59,
          65,
          67,
          73,
          71,
          70,
          41,
          94,
          52,
          84,
          53,
          67,
          57,
          59,
          65,
          65,
          53,
          74,
          52,
          54,
          56,
          86,
          45,
          65,
          66,
          56,
          45,
          82,
          56,
          88,
          60,
          64,
          56,
          56,
          55,
          33,
          86,
          65,
          67,
          69,
          37,
          70,
          40,
          54,
          65,
          56,
          86,
          66,
          68,
          59,
          55,
          48,
          67,
          77,
          61,
          29,
          60,
          68,
          57,
          59,
          53,
          54,
          55,
          62,
          71,
          86,
          61,
          79,
          63,
          51,
          84,
          53,
          57,
          81,
          50,
          57,
          70,
          65,
          70,
          63,
          83,
          77,
          84,
          79,
          57,
          43,
          67,
          57,
          67,
          54,
          66,
          79,
          64,
          67,
          68,
          31,
          70,
          53,
          81,
          66,
          90,
          38,
          58,
          89,
          72,
          61,
          49,
          58,
          51,
          86,
          64,
          66,
          54,
          65,
          56,
          62,
          92,
          76,
          79,
          62,
          84,
          78,
          56,
          83,
          66,
          57,
          75,
          74,
          51,
          78,
          55,
          67,
          55,
          59,
          25,
          41,
          69,
          51,
          56,
          75,
          74,
          55,
          43,
          81,
          73,
          58,
          49,
          46,
          73,
          55,
          46,
          66,
          73,
          63,
          73,
          83,
          80,
          75,
          63,
          48,
          73,
          69,
          69,
          72,
          69,
          72,
          81,
          38,
          75,
          58,
          55,
          89,
          94,
          55,
          91,
          57,
          85,
          61,
          70,
          66,
          58,
          66,
          45,
          84,
          72,
          58,
          64,
          67,
          54,
          54,
          67,
          59,
          62,
          72,
          62,
          56,
          70,
          66,
          70,
          58,
          58,
          67,
          71,
          64,
          57,
          33,
          73,
          78,
          78,
          76,
          67,
          60,
          65,
          52,
          87,
          100,
          41,
          49,
          56,
          52,
          53,
          67,
          76,
          38,
          66,
          40,
          54,
          68,
          40,
          54,
          50,
          90,
          81,
          60,
          89,
          72,
          53,
          44,
          81,
          59,
          60,
          82,
          74,
          79,
          78,
          84,
          61,
          77,
          55,
          48,
          63,
          63,
          74,
          62,
          63,
          59,
          78,
          71,
          78,
          59,
          50,
          69,
          60,
          47,
          81,
          95,
          68,
          74,
          86,
          56,
          85,
          51,
          70,
          44,
          90,
          50,
          73,
          78,
          81,
          55,
          56,
          64,
          48,
          76,
          48,
          77,
          76,
          82,
          85,
          72,
          86,
          52,
          57,
          58,
          68,
          76,
          27,
          78,
          75,
          66,
          46,
          86,
          57,
          68,
          56,
          56,
          80,
          65,
          73,
          40,
          86,
          60,
          70,
          67,
          73,
          65,
          84,
          47,
          53,
          66,
          59,
          43,
          56,
          66,
          60,
          53,
          63,
          87,
          54,
          87,
          95,
          83,
          70,
          77,
          67,
          39,
          73,
          83,
          59,
          63,
          68,
          43,
          71,
          63,
          42,
          80,
          63,
          61,
          52,
          48,
          67,
          78,
          66,
          61,
          80,
          69,
          84,
          55,
          93,
          75,
          69,
          52,
          65,
          80,
          50,
          68,
          67,
          60,
          78,
          57,
          89,
          78,
          65,
          72,
          72,
          49,
          79,
          66,
          66,
          50,
          70,
          51,
          51,
          67,
          64,
          74,
          91,
          59,
          55,
          45,
          70,
          71,
          90,
          47,
          76,
          70,
          79,
          71,
          58,
          81,
          78,
          49,
          56,
          61,
          68,
          61,
          62,
          56,
          50,
          69,
          57,
          41,
          71,
          91,
          44,
          50,
          52,
          59,
          29,
          69,
          55,
          59,
          61,
          77,
          83,
          19,
          78,
          76,
          79,
          57,
          82,
          56,
          65,
          40,
          67,
          52,
          44,
          55,
          43,
          48,
          25,
          66,
          67,
          61,
          94,
          43,
          72,
          45,
          51,
          63,
          55,
          86,
          82,
          79,
          81,
          87,
          36,
          63,
          53,
          67,
          72,
          60,
          88,
          48,
          66,
          51,
          68,
          67,
          68,
          59,
          55,
          71,
          66,
          66,
          36,
          66,
          55,
          86,
          91,
          66,
          65,
          59,
          75,
          65,
          52,
          52,
          63,
          80,
          67,
          55,
          95,
          72,
          45,
          84,
          68,
          58,
          54,
          51,
          82,
          77,
          72,
          54,
          87,
          48,
          63,
          76,
          66,
          70,
          73,
          65,
          81,
          51,
          52,
          74,
          65,
          47,
          57,
          69,
          69,
          56,
          52,
          62,
          56,
          65,
          59,
          59,
          49,
          73,
          65,
          56,
          93,
          66,
          69,
          59,
          52,
          53,
          63,
          49,
          66,
          69,
          64,
          58,
          57,
          34,
          82,
          58,
          61,
          78,
          57,
          55,
          37,
          50,
          61,
          65,
          56,
          79,
          63,
          88,
          70,
          73,
          85,
          66,
          60,
          86,
          65,
          96,
          56,
          57,
          52,
          74,
          93,
          57,
          82,
          81,
          72,
          66,
          77,
          76,
          48,
          45,
          71,
          62,
          41,
          49,
          59,
          64,
          73,
          80,
          75,
          32,
          47,
          58,
          72,
          72,
          59,
          57,
          64,
          58,
          63,
          78,
          78,
          73,
          79,
          55,
          80,
          33,
          62,
          74,
          74,
          61,
          70,
          55,
          79,
          86,
          44,
          86,
          59,
          76,
          34,
          69,
          48,
          69,
          54,
          48,
          59,
          48,
          52,
          54,
          48,
          67,
          31,
          64,
          78,
          77,
          53,
          51,
          69,
          59,
          87,
          74,
          66,
          69,
          74,
          49,
          54,
          72,
          85,
          56,
          51,
          58,
          57,
          82,
          72,
          60,
          52,
          63,
          70,
          82,
          52,
          56,
          39,
          53,
          73,
          75,
          53,
          56,
          61,
          52,
          83,
          34,
          40,
          68,
          73,
          76,
          71,
          65,
          67,
          75,
          68,
          43,
          76,
          49,
          68,
          66,
          79,
          62,
          70,
          54,
          80,
          53,
          65,
          51,
          74,
          76,
          80,
          82,
          95,
          72,
          51,
          72,
          61,
          75,
          69,
          58,
          70,
          72,
          46,
          77,
          55,
          67,
          93,
          79,
          64,
          74,
          64,
          57,
          80,
          51,
          93,
          60,
          48,
          49,
          60,
          77,
          50,
          65,
          85,
          59,
          75,
          62,
          65,
          76,
          80,
          49,
          75,
          71,
          77,
          85,
          90,
          75,
          72,
          76,
          72,
          69,
          82,
          69,
          68,
          64,
          81,
          85,
          80,
          68,
          57,
          67,
          53,
          64,
          87,
          55,
          64,
          86,
          67,
          65,
          81,
          57,
          49,
          82,
          39,
          52,
          64,
          50,
          64,
          70,
          73,
          52,
          68,
          70,
          45,
          58,
          63,
          58,
          69,
          51,
          60,
          44,
          58,
          95,
          60,
          77,
          45,
          90,
          58,
          48,
          58,
          39,
          63,
          65,
          67,
          40,
          40,
          82,
          45,
          54,
          43,
          54,
          76,
          57,
          51,
          54,
          60,
          51,
          58,
          49,
          80,
          59,
          60,
          58,
          71,
          54,
          69,
          59,
          73,
          74,
          49,
          93,
          78,
          70,
          76,
          81,
          57,
          61,
          83,
          57,
          66,
          80,
          89,
          61,
          47,
          82,
          55,
          53,
          54,
          78,
          58,
          79,
          72,
          71,
          61,
          68,
          60,
          62,
          84,
          55,
          91,
          40,
          81,
          55,
          64,
          89,
          67,
          90,
          60,
          56,
          72,
          65,
          65,
          42,
          89,
          49,
          89,
          40,
          74,
          58,
          61,
          79,
          62,
          81,
          70,
          36,
          53,
          49,
          71,
          50,
          76,
          60,
          59,
          40,
          52,
          61,
          65,
          76,
          58,
          69,
          80,
          64,
          55,
          80,
          74,
          73,
          89,
          57,
          66,
          54,
          84,
          69,
          72,
          48,
          50,
          65,
          89,
          85,
          54,
          53,
          66,
          57,
          60,
          72,
          64,
          70,
          68,
          54,
          58,
          76,
          84,
          74,
          68,
          76,
          81,
          64,
          75,
          76,
          70,
          59,
          60,
          81,
          51,
          72,
          65,
          56,
          46,
          70,
          82,
          53,
          51,
          86,
          63,
          48,
          49,
          55,
          72,
          59,
          80,
          78,
          52,
          53,
          65,
          41,
          52,
          38,
          71,
          70,
          50,
          60,
          57,
          39,
          65,
          47,
          49,
          59,
          66,
          43,
          54,
          42,
          91,
          65,
          30,
          62,
          52,
          84,
          69,
          78,
          93,
          83,
          68,
          71,
          46,
          65,
          57,
          56,
          56,
          88,
          48,
          58,
          57,
          65,
          68,
          51,
          62,
          72,
          64,
          72,
          87,
          61,
          54,
          54,
          91,
          80,
          66,
          56,
          57,
          77,
          61,
          48,
          78,
          71,
          57,
          55,
          75,
          56,
          71,
          65,
          53,
          75,
          87,
          64,
          50,
          74,
          72,
          59,
          56,
          66,
          69,
          53,
          59,
          75,
          34,
          67,
          59,
          74,
          71,
          46,
          68,
          57,
          80,
          62,
          56,
          60,
          72,
          56,
          55,
          38,
          55,
          69,
          86,
          60,
          80,
          56,
          48,
          72,
          71,
          57,
          78,
          68,
          81,
          58,
          77,
          58,
          64,
          74,
          58,
          73,
          68,
          54,
          68,
          57,
          44,
          74,
          57,
          79,
          59,
          46,
          69,
          76,
          81,
          56,
          79,
          39,
          61,
          53,
          57,
          58,
          80,
          77,
          69,
          58,
          76,
          51,
          39,
          68,
          93,
          79,
          60,
          54,
          72,
          67,
          64,
          66,
          52,
          45,
          39,
          57,
          68,
          73,
          40,
          68,
          51,
          78,
          75,
          77,
          76,
          54,
          64,
          88,
          62,
          58,
          57,
          44,
          56,
          75,
          63,
          68,
          83,
          77,
          86,
          98,
          64,
          64,
          68,
          48,
          55,
          42,
          60,
          54,
          46,
          60,
          48,
          55,
          68,
          41,
          54,
          68,
          71,
          50,
          59,
          67,
          84,
          76,
          48,
          79,
          71,
          62,
          57,
          76,
          73,
          93,
          52,
          81,
          49,
          67,
          82,
          88,
          64,
          69,
          64,
          70,
          56,
          40,
          65,
          49,
          56,
          65,
          49,
          61,
          62,
          68,
          85,
          81,
          72,
          55,
          61,
          85,
          69,
          63,
          77,
          98,
          54,
          46,
          67,
          62,
          45,
          58,
          56,
          78,
          67,
          67,
          82,
          57,
          51,
          55,
          71,
          75,
          76,
          77,
          57,
          57,
          71,
          78,
          69,
          82,
          68,
          55,
          70,
          68,
          54,
          81,
          42,
          31,
          37,
          74,
          60,
          74,
          89,
          55,
          52,
          88,
          65,
          80,
          48,
          61,
          58,
          84,
          67,
          69,
          81,
          72,
          84,
          44,
          87,
          66,
          51,
          70,
          70,
          52,
          70,
          55,
          56,
          53,
          58,
          55,
          60,
          78,
          65,
          71,
          84,
          55,
          32,
          94,
          57,
          89,
          82,
          82,
          55,
          56,
          64,
          72,
          86,
          51,
          65,
          59,
          55,
          81,
          78,
          78,
          45,
          53,
          49,
          66,
          60,
          59,
          72,
          72,
          58,
          81,
          54,
          42,
          73,
          76,
          74,
          71,
          48,
          54,
          57,
          71,
          55,
          42,
          57,
          59,
          71,
          68,
          38,
          66,
          66,
          52,
          45,
          53,
          77,
          69,
          76,
          64,
          40,
          64,
          74,
          59,
          83,
          49,
          61,
          60,
          58,
          53,
          98,
          61,
          62,
          43,
          76,
          54,
          76,
          59,
          85,
          90,
          62,
          75,
          75,
          60,
          94,
          60,
          63,
          80,
          68,
          53,
          72,
          60,
          88,
          58,
          82,
          84,
          81,
          56,
          79,
          63,
          75,
          49,
          96,
          77,
          57,
          79,
          90,
          72,
          69,
          64,
          75,
          86,
          91,
          72,
          66,
          89,
          73,
          53,
          51,
          81,
          64,
          51,
          64,
          87,
          79,
          41,
          43,
          69,
          39,
          68,
          58,
          82,
          42,
          60,
          77,
          58,
          35,
          51,
          51,
          63,
          64,
          54,
          63,
          90,
          63,
          86,
          58,
          65,
          93,
          75,
          58,
          61,
          52,
          50,
          80,
          60,
          53,
          62,
          62,
          68,
          89,
          76,
          56,
          78,
          73,
          76,
          65,
          57,
          60,
          54,
          66,
          77,
          87,
          59,
          49,
          37,
          62,
          69,
          45,
          88,
          67,
          77,
          50,
          54,
          70,
          39,
          59,
          76,
          69,
          71,
          54,
          54,
          83,
          76,
          79,
          75,
          67,
          50,
          77,
          39,
          45,
          58,
          52,
          56,
          58,
          39,
          68,
          76,
          55,
          74,
          59,
          81,
          72,
          69,
          62,
          64,
          80,
          59,
          50,
          53,
          55,
          60,
          63,
          47,
          58,
          53,
          66,
          66,
          49,
          94,
          76,
          68,
          63,
          66,
          53,
          57,
          67,
          47,
          66,
          83,
          58,
          45,
          72,
          52,
          26,
          65,
          61,
          55,
          79,
          81,
          62,
          75,
          47,
          71,
          68,
          70,
          81,
          49,
          96,
          79,
          51,
          54,
          39,
          70,
          57,
          54,
          96,
          60,
          44,
          79,
          70,
          86,
          75,
          60,
          74,
          92,
          92,
          67,
          57,
          66,
          69,
          78,
          57,
          57,
          53,
          28,
          70,
          50,
          59,
          60,
          56,
          63,
          66,
          62,
          72,
          68,
          81,
          72,
          52,
          65,
          57,
          66,
          40,
          77,
          65,
          44,
          72,
          84,
          73,
          78,
          62,
          88,
          67,
          53,
          43,
          66,
          78,
          56,
          76,
          58,
          79,
          51,
          46,
          88,
          67,
          60,
          40,
          72,
          45,
          54,
          76,
          54,
          62,
          77,
          72,
          65,
          61,
          77,
          36,
          70,
          73,
          75,
          54,
          71,
          60,
          72,
          69,
          45,
          63,
          59,
          79,
          73,
          71,
          57,
          73,
          77,
          57,
          69,
          43,
          68,
          51,
          61,
          55,
          79,
          72,
          60,
          81,
          58,
          63,
          88,
          68,
          62,
          83,
          77,
          50,
          67,
          86,
          62,
          67,
          74,
          62,
          97,
          62,
          55,
          81,
          66,
          90,
          74,
          50,
          59,
          64,
          37,
          63,
          58,
          79,
          91,
          80,
          89,
          68,
          57,
          58,
          79,
          74,
          79,
          67,
          61,
          46,
          58,
          73,
          79,
          63,
          48,
          76,
          71,
          68,
          54,
          92,
          55,
          58,
          76,
          86,
          54,
          76,
          65,
          86,
          58,
          55,
          87,
          66,
          80,
          66,
          56,
          73,
          85,
          75,
          69,
          51,
          56,
          87,
          45,
          77,
          54,
          77,
          42,
          49,
          48,
          67,
          53,
          64,
          75,
          52,
          56,
          87,
          75,
          52,
          54,
          86,
          42,
          63,
          83,
          75,
          37,
          46,
          74,
          65,
          74,
          63,
          53,
          87,
          84,
          63,
          64,
          54,
          71,
          67,
          62,
          77,
          68,
          49,
          77,
          63,
          91,
          60,
          59,
          42,
          51,
          58,
          60,
          68,
          64,
          63,
          57,
          73,
          59,
          76,
          78,
          76,
          65,
          68,
          72,
          49,
          80,
          60,
          59,
          44,
          64,
          59,
          59,
          93,
          51,
          64,
          55,
          82,
          64,
          62,
          71,
          49,
          47,
          70,
          75,
          50,
          35,
          62,
          59,
          63,
          67,
          71,
          58,
          68,
          44,
          46,
          56,
          61,
          49,
          55,
          72,
          73,
          87,
          65,
          87,
          94,
          78,
          66,
          60,
          74,
          64,
          44,
          55,
          78,
          92,
          67,
          76,
          75,
          78,
          80,
          51,
          52,
          72,
          95,
          65,
          77,
          43,
          70,
          56,
          63,
          80,
          54,
          67,
          79,
          63,
          57,
          64,
          73,
          96,
          61,
          55,
          63,
          81,
          55,
          63,
          59,
          59,
          90,
          46,
          43,
          67,
          82,
          71,
          80,
          50,
          45,
          51,
          66,
          65,
          58,
          77,
          72,
          75,
          38,
          47,
          66,
          69,
          89,
          75,
          56,
          61,
          67,
          54,
          92,
          59,
          54,
          69,
          53,
          60,
          54,
          55,
          55,
          68,
          56,
          79,
          51,
          48,
          62,
          86,
          68,
          52,
          89,
          41,
          78,
          61,
          80,
          55,
          67,
          75,
          71,
          70,
          75,
          61,
          59,
          65,
          67,
          32,
          69,
          62,
          72,
          72,
          66,
          60,
          58,
          79,
          56,
          76,
          59,
          51,
          77,
          44,
          47,
          54,
          69,
          84,
          64,
          80,
          86,
          74,
          59,
          87,
          51,
          65,
          77,
          64,
          45,
          70,
          66,
          87,
          66,
          74,
          43,
          65,
          70,
          77,
          84,
          51,
          81,
          89,
          69,
          52,
          80,
          45,
          37,
          64,
          56,
          70,
          78,
          70,
          52,
          75,
          36,
          53,
          58,
          82,
          70,
          56,
          57,
          69,
          52,
          68,
          46,
          47,
          75,
          53,
          46,
          70,
          60,
          57,
          75,
          82,
          48,
          55,
          80,
          76,
          67,
          60,
          80,
          55,
          59,
          40,
          74,
          70,
          59,
          44,
          77,
          70,
          68,
          75,
          73,
          41,
          74,
          87,
          75,
          72,
          68,
          55,
          53,
          76,
          47,
          79,
          77,
          52,
          67,
          58,
          70,
          76,
          61,
          59,
          56,
          53,
          82,
          70,
          54,
          61,
          65,
          67,
          63,
          61,
          89,
          62,
          67,
          48,
          78,
          53,
          62,
          60,
          73,
          94,
          71,
          57,
          91,
          82,
          43,
          39,
          53,
          56,
          56,
          64,
          69,
          41,
          71,
          82,
          72,
          69,
          52,
          77,
          74,
          50,
          49,
          71,
          70,
          42,
          67,
          44,
          69,
          50,
          69,
          61,
          64,
          90,
          66,
          69,
          57,
          59,
          67,
          76,
          70,
          73,
          64,
          68,
          65,
          73,
          66,
          60,
          78,
          69,
          60,
          88,
          71,
          67,
          67,
          64,
          54,
          77,
          66,
          63,
          67
         ],
         "xaxis": "x2",
         "yaxis": "y2"
        }
       ],
       "layout": {
        "template": {
         "data": {
          "bar": [
           {
            "error_x": {
             "color": "#2a3f5f"
            },
            "error_y": {
             "color": "#2a3f5f"
            },
            "marker": {
             "line": {
              "color": "#E5ECF6",
              "width": 0.5
             },
             "pattern": {
              "fillmode": "overlay",
              "size": 10,
              "solidity": 0.2
             }
            },
            "type": "bar"
           }
          ],
          "barpolar": [
           {
            "marker": {
             "line": {
              "color": "#E5ECF6",
              "width": 0.5
             },
             "pattern": {
              "fillmode": "overlay",
              "size": 10,
              "solidity": 0.2
             }
            },
            "type": "barpolar"
           }
          ],
          "carpet": [
           {
            "aaxis": {
             "endlinecolor": "#2a3f5f",
             "gridcolor": "white",
             "linecolor": "white",
             "minorgridcolor": "white",
             "startlinecolor": "#2a3f5f"
            },
            "baxis": {
             "endlinecolor": "#2a3f5f",
             "gridcolor": "white",
             "linecolor": "white",
             "minorgridcolor": "white",
             "startlinecolor": "#2a3f5f"
            },
            "type": "carpet"
           }
          ],
          "choropleth": [
           {
            "colorbar": {
             "outlinewidth": 0,
             "ticks": ""
            },
            "type": "choropleth"
           }
          ],
          "contour": [
           {
            "colorbar": {
             "outlinewidth": 0,
             "ticks": ""
            },
            "colorscale": [
             [
              0.0,
              "#0d0887"
             ],
             [
              0.1111111111111111,
              "#46039f"
             ],
             [
              0.2222222222222222,
              "#7201a8"
             ],
             [
              0.3333333333333333,
              "#9c179e"
             ],
             [
              0.4444444444444444,
              "#bd3786"
             ],
             [
              0.5555555555555556,
              "#d8576b"
             ],
             [
              0.6666666666666666,
              "#ed7953"
             ],
             [
              0.7777777777777778,
              "#fb9f3a"
             ],
             [
              0.8888888888888888,
              "#fdca26"
             ],
             [
              1.0,
              "#f0f921"
             ]
            ],
            "type": "contour"
           }
          ],
          "contourcarpet": [
           {
            "colorbar": {
             "outlinewidth": 0,
             "ticks": ""
            },
            "type": "contourcarpet"
           }
          ],
          "heatmap": [
           {
            "colorbar": {
             "outlinewidth": 0,
             "ticks": ""
            },
            "colorscale": [
             [
              0.0,
              "#0d0887"
             ],
             [
              0.1111111111111111,
              "#46039f"
             ],
             [
              0.2222222222222222,
              "#7201a8"
             ],
             [
              0.3333333333333333,
              "#9c179e"
             ],
             [
              0.4444444444444444,
              "#bd3786"
             ],
             [
              0.5555555555555556,
              "#d8576b"
             ],
             [
              0.6666666666666666,
              "#ed7953"
             ],
             [
              0.7777777777777778,
              "#fb9f3a"
             ],
             [
              0.8888888888888888,
              "#fdca26"
             ],
             [
              1.0,
              "#f0f921"
             ]
            ],
            "type": "heatmap"
           }
          ],
          "heatmapgl": [
           {
            "colorbar": {
             "outlinewidth": 0,
             "ticks": ""
            },
            "colorscale": [
             [
              0.0,
              "#0d0887"
             ],
             [
              0.1111111111111111,
              "#46039f"
             ],
             [
              0.2222222222222222,
              "#7201a8"
             ],
             [
              0.3333333333333333,
              "#9c179e"
             ],
             [
              0.4444444444444444,
              "#bd3786"
             ],
             [
              0.5555555555555556,
              "#d8576b"
             ],
             [
              0.6666666666666666,
              "#ed7953"
             ],
             [
              0.7777777777777778,
              "#fb9f3a"
             ],
             [
              0.8888888888888888,
              "#fdca26"
             ],
             [
              1.0,
              "#f0f921"
             ]
            ],
            "type": "heatmapgl"
           }
          ],
          "histogram": [
           {
            "marker": {
             "pattern": {
              "fillmode": "overlay",
              "size": 10,
              "solidity": 0.2
             }
            },
            "type": "histogram"
           }
          ],
          "histogram2d": [
           {
            "colorbar": {
             "outlinewidth": 0,
             "ticks": ""
            },
            "colorscale": [
             [
              0.0,
              "#0d0887"
             ],
             [
              0.1111111111111111,
              "#46039f"
             ],
             [
              0.2222222222222222,
              "#7201a8"
             ],
             [
              0.3333333333333333,
              "#9c179e"
             ],
             [
              0.4444444444444444,
              "#bd3786"
             ],
             [
              0.5555555555555556,
              "#d8576b"
             ],
             [
              0.6666666666666666,
              "#ed7953"
             ],
             [
              0.7777777777777778,
              "#fb9f3a"
             ],
             [
              0.8888888888888888,
              "#fdca26"
             ],
             [
              1.0,
              "#f0f921"
             ]
            ],
            "type": "histogram2d"
           }
          ],
          "histogram2dcontour": [
           {
            "colorbar": {
             "outlinewidth": 0,
             "ticks": ""
            },
            "colorscale": [
             [
              0.0,
              "#0d0887"
             ],
             [
              0.1111111111111111,
              "#46039f"
             ],
             [
              0.2222222222222222,
              "#7201a8"
             ],
             [
              0.3333333333333333,
              "#9c179e"
             ],
             [
              0.4444444444444444,
              "#bd3786"
             ],
             [
              0.5555555555555556,
              "#d8576b"
             ],
             [
              0.6666666666666666,
              "#ed7953"
             ],
             [
              0.7777777777777778,
              "#fb9f3a"
             ],
             [
              0.8888888888888888,
              "#fdca26"
             ],
             [
              1.0,
              "#f0f921"
             ]
            ],
            "type": "histogram2dcontour"
           }
          ],
          "mesh3d": [
           {
            "colorbar": {
             "outlinewidth": 0,
             "ticks": ""
            },
            "type": "mesh3d"
           }
          ],
          "parcoords": [
           {
            "line": {
             "colorbar": {
              "outlinewidth": 0,
              "ticks": ""
             }
            },
            "type": "parcoords"
           }
          ],
          "pie": [
           {
            "automargin": true,
            "type": "pie"
           }
          ],
          "scatter": [
           {
            "fillpattern": {
             "fillmode": "overlay",
             "size": 10,
             "solidity": 0.2
            },
            "type": "scatter"
           }
          ],
          "scatter3d": [
           {
            "line": {
             "colorbar": {
              "outlinewidth": 0,
              "ticks": ""
             }
            },
            "marker": {
             "colorbar": {
              "outlinewidth": 0,
              "ticks": ""
             }
            },
            "type": "scatter3d"
           }
          ],
          "scattercarpet": [
           {
            "marker": {
             "colorbar": {
              "outlinewidth": 0,
              "ticks": ""
             }
            },
            "type": "scattercarpet"
           }
          ],
          "scattergeo": [
           {
            "marker": {
             "colorbar": {
              "outlinewidth": 0,
              "ticks": ""
             }
            },
            "type": "scattergeo"
           }
          ],
          "scattergl": [
           {
            "marker": {
             "colorbar": {
              "outlinewidth": 0,
              "ticks": ""
             }
            },
            "type": "scattergl"
           }
          ],
          "scattermapbox": [
           {
            "marker": {
             "colorbar": {
              "outlinewidth": 0,
              "ticks": ""
             }
            },
            "type": "scattermapbox"
           }
          ],
          "scatterpolar": [
           {
            "marker": {
             "colorbar": {
              "outlinewidth": 0,
              "ticks": ""
             }
            },
            "type": "scatterpolar"
           }
          ],
          "scatterpolargl": [
           {
            "marker": {
             "colorbar": {
              "outlinewidth": 0,
              "ticks": ""
             }
            },
            "type": "scatterpolargl"
           }
          ],
          "scatterternary": [
           {
            "marker": {
             "colorbar": {
              "outlinewidth": 0,
              "ticks": ""
             }
            },
            "type": "scatterternary"
           }
          ],
          "surface": [
           {
            "colorbar": {
             "outlinewidth": 0,
             "ticks": ""
            },
            "colorscale": [
             [
              0.0,
              "#0d0887"
             ],
             [
              0.1111111111111111,
              "#46039f"
             ],
             [
              0.2222222222222222,
              "#7201a8"
             ],
             [
              0.3333333333333333,
              "#9c179e"
             ],
             [
              0.4444444444444444,
              "#bd3786"
             ],
             [
              0.5555555555555556,
              "#d8576b"
             ],
             [
              0.6666666666666666,
              "#ed7953"
             ],
             [
              0.7777777777777778,
              "#fb9f3a"
             ],
             [
              0.8888888888888888,
              "#fdca26"
             ],
             [
              1.0,
              "#f0f921"
             ]
            ],
            "type": "surface"
           }
          ],
          "table": [
           {
            "cells": {
             "fill": {
              "color": "#EBF0F8"
             },
             "line": {
              "color": "white"
             }
            },
            "header": {
             "fill": {
              "color": "#C8D4E3"
             },
             "line": {
              "color": "white"
             }
            },
            "type": "table"
           }
          ]
         },
         "layout": {
          "annotationdefaults": {
           "arrowcolor": "#2a3f5f",
           "arrowhead": 0,
           "arrowwidth": 1
          },
          "autotypenumbers": "strict",
          "coloraxis": {
           "colorbar": {
            "outlinewidth": 0,
            "ticks": ""
           }
          },
          "colorscale": {
           "diverging": [
            [
             0,
             "#8e0152"
            ],
            [
             0.1,
             "#c51b7d"
            ],
            [
             0.2,
             "#de77ae"
            ],
            [
             0.3,
             "#f1b6da"
            ],
            [
             0.4,
             "#fde0ef"
            ],
            [
             0.5,
             "#f7f7f7"
            ],
            [
             0.6,
             "#e6f5d0"
            ],
            [
             0.7,
             "#b8e186"
            ],
            [
             0.8,
             "#7fbc41"
            ],
            [
             0.9,
             "#4d9221"
            ],
            [
             1,
             "#276419"
            ]
           ],
           "sequential": [
            [
             0.0,
             "#0d0887"
            ],
            [
             0.1111111111111111,
             "#46039f"
            ],
            [
             0.2222222222222222,
             "#7201a8"
            ],
            [
             0.3333333333333333,
             "#9c179e"
            ],
            [
             0.4444444444444444,
             "#bd3786"
            ],
            [
             0.5555555555555556,
             "#d8576b"
            ],
            [
             0.6666666666666666,
             "#ed7953"
            ],
            [
             0.7777777777777778,
             "#fb9f3a"
            ],
            [
             0.8888888888888888,
             "#fdca26"
            ],
            [
             1.0,
             "#f0f921"
            ]
           ],
           "sequentialminus": [
            [
             0.0,
             "#0d0887"
            ],
            [
             0.1111111111111111,
             "#46039f"
            ],
            [
             0.2222222222222222,
             "#7201a8"
            ],
            [
             0.3333333333333333,
             "#9c179e"
            ],
            [
             0.4444444444444444,
             "#bd3786"
            ],
            [
             0.5555555555555556,
             "#d8576b"
            ],
            [
             0.6666666666666666,
             "#ed7953"
            ],
            [
             0.7777777777777778,
             "#fb9f3a"
            ],
            [
             0.8888888888888888,
             "#fdca26"
            ],
            [
             1.0,
             "#f0f921"
            ]
           ]
          },
          "colorway": [
           "#636efa",
           "#EF553B",
           "#00cc96",
           "#ab63fa",
           "#FFA15A",
           "#19d3f3",
           "#FF6692",
           "#B6E880",
           "#FF97FF",
           "#FECB52"
          ],
          "font": {
           "color": "#2a3f5f"
          },
          "geo": {
           "bgcolor": "white",
           "lakecolor": "white",
           "landcolor": "#E5ECF6",
           "showlakes": true,
           "showland": true,
           "subunitcolor": "white"
          },
          "hoverlabel": {
           "align": "left"
          },
          "hovermode": "closest",
          "mapbox": {
           "style": "light"
          },
          "paper_bgcolor": "white",
          "plot_bgcolor": "#E5ECF6",
          "polar": {
           "angularaxis": {
            "gridcolor": "white",
            "linecolor": "white",
            "ticks": ""
           },
           "bgcolor": "#E5ECF6",
           "radialaxis": {
            "gridcolor": "white",
            "linecolor": "white",
            "ticks": ""
           }
          },
          "scene": {
           "xaxis": {
            "backgroundcolor": "#E5ECF6",
            "gridcolor": "white",
            "gridwidth": 2,
            "linecolor": "white",
            "showbackground": true,
            "ticks": "",
            "zerolinecolor": "white"
           },
           "yaxis": {
            "backgroundcolor": "#E5ECF6",
            "gridcolor": "white",
            "gridwidth": 2,
            "linecolor": "white",
            "showbackground": true,
            "ticks": "",
            "zerolinecolor": "white"
           },
           "zaxis": {
            "backgroundcolor": "#E5ECF6",
            "gridcolor": "white",
            "gridwidth": 2,
            "linecolor": "white",
            "showbackground": true,
            "ticks": "",
            "zerolinecolor": "white"
           }
          },
          "shapedefaults": {
           "line": {
            "color": "#2a3f5f"
           }
          },
          "ternary": {
           "aaxis": {
            "gridcolor": "white",
            "linecolor": "white",
            "ticks": ""
           },
           "baxis": {
            "gridcolor": "white",
            "linecolor": "white",
            "ticks": ""
           },
           "bgcolor": "#E5ECF6",
           "caxis": {
            "gridcolor": "white",
            "linecolor": "white",
            "ticks": ""
           }
          },
          "title": {
           "x": 0.05
          },
          "xaxis": {
           "automargin": true,
           "gridcolor": "white",
           "linecolor": "white",
           "ticks": "",
           "title": {
            "standoff": 15
           },
           "zerolinecolor": "white",
           "zerolinewidth": 2
          },
          "yaxis": {
           "automargin": true,
           "gridcolor": "white",
           "linecolor": "white",
           "ticks": "",
           "title": {
            "standoff": 15
           },
           "zerolinecolor": "white",
           "zerolinewidth": 2
          }
         }
        },
        "xaxis": {
         "anchor": "y",
         "domain": [
          0.0,
          1.0
         ]
        },
        "xaxis2": {
         "anchor": "y2",
         "domain": [
          0.0,
          1.0
         ]
        },
        "yaxis": {
         "anchor": "x",
         "domain": [
          0.575,
          1.0
         ]
        },
        "yaxis2": {
         "anchor": "x2",
         "domain": [
          0.0,
          0.425
         ]
        }
       }
      },
      "text/html": [
       "<div>                            <div id=\"ee1de809-2c56-4fe1-a764-aa9e1e7d29af\" class=\"plotly-graph-div\" style=\"height:525px; width:100%;\"></div>            <script type=\"text/javascript\">                require([\"plotly\"], function(Plotly) {                    window.PLOTLYENV=window.PLOTLYENV || {};                                    if (document.getElementById(\"ee1de809-2c56-4fe1-a764-aa9e1e7d29af\")) {                    Plotly.newPlot(                        \"ee1de809-2c56-4fe1-a764-aa9e1e7d29af\",                        [{\"name\":\"Age Histogram\",\"x\":[66,60,52,77,72,62,35,77,79,42,52,34,53,94,79,31,86,53,81,74,65,48,71,62,68,64,64,42,56,77,48,49,72,65,55,58,42,27,62,75,65,48,59,48,84,62,43,75,69,49,71,74,68,64,81,77,73,80,65,54,86,69,67,78,76,70,78,35,86,44,72,58,51,78,53,58,74,68,51,67,51,42,66,54,46,71,76,83,69,59,54,78,65,54,52,74,65,68,68,52,67,47,42,26,50,59,58,56,54,67,72,30,53,85,66,72,83,34,73,87,59,53,61,49,73,72,54,61,75,67,59,59,50,50,81,89,49,58,72,54,25,54,92,81,47,53,56,75,57,81,73,53,55,67,60,57,54,62,49,70,72,61,59,52,57,45,64,50,40,56,69,69,71,64,60,83,70,63,66,52,69,71,60,66,59,77,84,57,67,36,62,58,74,52,55,54,70,48,82,64,56,93,72,76,68,80,75,52,48,59,54,53,86,78,69,85,58,74,81,50,66,58,73,72,56,56,61,52,60,79,51,78,70,48,45,84,52,45,40,74,50,61,71,57,55,76,61,57,62,86,81,71,59,56,57,80,72,57,70,74,76,53,60,81,61,50,57,49,71,70,63,73,54,68,47,61,56,82,67,55,84,88,69,71,75,39,60,50,71,59,73,57,64,71,73,41,79,41,83,92,57,62,83,88,73,50,70,58,51,78,59,81,81,69,36,53,44,60,76,72,54,73,44,65,60,58,61,91,58,84,51,68,46,35,60,50,66,34,57,73,56,63,57,53,71,64,42,71,50,68,93,52,62,57,36,77,63,73,39,75,36,50,68,52,35,57,79,42,63,71,72,79,60,59,57,74,97,53,80,31,85,77,52,56,80,61,59,38,64,46,85,85,54,72,59,54,75,70,49,47,65,62,91,52,67,76,58,72,73,73,67,50,38,40,62,61,60,77,71,60,52,77,52,60,47,55,58,60,80,69,64,63,47,76,44,71,61,59,69,70,64,62,46,56,71,65,77,82,52,83,61,54,35,58,28,84,73,81,65,92,62,79,75,58,60,69,64,58,77,68,81,56,37,66,95,68,65,81,48,80,51,60,75,58,57,74,61,63,72,77,79,46,65,69,71,60,82,97,60,61,51,76,81,57,39,74,64,55,61,60,73,51,63,39,37,66,65,60,39,61,58,86,74,65,67,92,71,40,86,67,46,65,54,80,42,59,51,52,64,64,52,67,72,30,71,56,62,70,71,39,58,39,54,59,65,64,62,53,48,54,77,56,71,59,66,81,54,81,64,59,65,67,73,71,70,41,94,52,84,53,67,57,59,65,65,53,74,52,54,56,86,45,65,66,56,45,82,56,88,60,64,56,56,55,33,86,65,67,69,37,70,40,54,65,56,86,66,68,59,55,48,67,77,61,29,60,68,57,59,53,54,55,62,71,86,61,79,63,51,84,53,57,81,50,57,70,65,70,63,83,77,84,79,57,43,67,57,67,54,66,79,64,67,68,31,70,53,81,66,90,38,58,89,72,61,49,58,51,86,64,66,54,65,56,62,92,76,79,62,84,78,56,83,66,57,75,74,51,78,55,67,55,59,25,41,69,51,56,75,74,55,43,81,73,58,49,46,73,55,46,66,73,63,73,83,80,75,63,48,73,69,69,72,69,72,81,38,75,58,55,89,94,55,91,57,85,61,70,66,58,66,45,84,72,58,64,67,54,54,67,59,62,72,62,56,70,66,70,58,58,67,71,64,57,33,73,78,78,76,67,60,65,52,87,100,41,49,56,52,53,67,76,38,66,40,54,68,40,54,50,90,81,60,89,72,53,44,81,59,60,82,74,79,78,84,61,77,55,48,63,63,74,62,63,59,78,71,78,59,50,69,60,47,81,95,68,74,86,56,85,51,70,44,90,50,73,78,81,55,56,64,48,76,48,77,76,82,85,72,86,52,57,58,68,76,27,78,75,66,46,86,57,68,56,56,80,65,73,40,86,60,70,67,73,65,84,47,53,66,59,43,56,66,60,53,63,87,54,87,95,83,70,77,67,39,73,83,59,63,68,43,71,63,42,80,63,61,52,48,67,78,66,61,80,69,84,55,93,75,69,52,65,80,50,68,67,60,78,57,89,78,65,72,72,49,79,66,66,50,70,51,51,67,64,74,91,59,55,45,70,71,90,47,76,70,79,71,58,81,78,49,56,61,68,61,62,56,50,69,57,41,71,91,44,50,52,59,29,69,55,59,61,77,83,19,78,76,79,57,82,56,65,40,67,52,44,55,43,48,25,66,67,61,94,43,72,45,51,63,55,86,82,79,81,87,36,63,53,67,72,60,88,48,66,51,68,67,68,59,55,71,66,66,36,66,55,86,91,66,65,59,75,65,52,52,63,80,67,55,95,72,45,84,68,58,54,51,82,77,72,54,87,48,63,76,66,70,73,65,81,51,52,74,65,47,57,69,69,56,52,62,56,65,59,59,49,73,65,56,93,66,69,59,52,53,63,49,66,69,64,58,57,34,82,58,61,78,57,55,37,50,61,65,56,79,63,88,70,73,85,66,60,86,65,96,56,57,52,74,93,57,82,81,72,66,77,76,48,45,71,62,41,49,59,64,73,80,75,32,47,58,72,72,59,57,64,58,63,78,78,73,79,55,80,33,62,74,74,61,70,55,79,86,44,86,59,76,34,69,48,69,54,48,59,48,52,54,48,67,31,64,78,77,53,51,69,59,87,74,66,69,74,49,54,72,85,56,51,58,57,82,72,60,52,63,70,82,52,56,39,53,73,75,53,56,61,52,83,34,40,68,73,76,71,65,67,75,68,43,76,49,68,66,79,62,70,54,80,53,65,51,74,76,80,82,95,72,51,72,61,75,69,58,70,72,46,77,55,67,93,79,64,74,64,57,80,51,93,60,48,49,60,77,50,65,85,59,75,62,65,76,80,49,75,71,77,85,90,75,72,76,72,69,82,69,68,64,81,85,80,68,57,67,53,64,87,55,64,86,67,65,81,57,49,82,39,52,64,50,64,70,73,52,68,70,45,58,63,58,69,51,60,44,58,95,60,77,45,90,58,48,58,39,63,65,67,40,40,82,45,54,43,54,76,57,51,54,60,51,58,49,80,59,60,58,71,54,69,59,73,74,49,93,78,70,76,81,57,61,83,57,66,80,89,61,47,82,55,53,54,78,58,79,72,71,61,68,60,62,84,55,91,40,81,55,64,89,67,90,60,56,72,65,65,42,89,49,89,40,74,58,61,79,62,81,70,36,53,49,71,50,76,60,59,40,52,61,65,76,58,69,80,64,55,80,74,73,89,57,66,54,84,69,72,48,50,65,89,85,54,53,66,57,60,72,64,70,68,54,58,76,84,74,68,76,81,64,75,76,70,59,60,81,51,72,65,56,46,70,82,53,51,86,63,48,49,55,72,59,80,78,52,53,65,41,52,38,71,70,50,60,57,39,65,47,49,59,66,43,54,42,91,65,30,62,52,84,69,78,93,83,68,71,46,65,57,56,56,88,48,58,57,65,68,51,62,72,64,72,87,61,54,54,91,80,66,56,57,77,61,48,78,71,57,55,75,56,71,65,53,75,87,64,50,74,72,59,56,66,69,53,59,75,34,67,59,74,71,46,68,57,80,62,56,60,72,56,55,38,55,69,86,60,80,56,48,72,71,57,78,68,81,58,77,58,64,74,58,73,68,54,68,57,44,74,57,79,59,46,69,76,81,56,79,39,61,53,57,58,80,77,69,58,76,51,39,68,93,79,60,54,72,67,64,66,52,45,39,57,68,73,40,68,51,78,75,77,76,54,64,88,62,58,57,44,56,75,63,68,83,77,86,98,64,64,68,48,55,42,60,54,46,60,48,55,68,41,54,68,71,50,59,67,84,76,48,79,71,62,57,76,73,93,52,81,49,67,82,88,64,69,64,70,56,40,65,49,56,65,49,61,62,68,85,81,72,55,61,85,69,63,77,98,54,46,67,62,45,58,56,78,67,67,82,57,51,55,71,75,76,77,57,57,71,78,69,82,68,55,70,68,54,81,42,31,37,74,60,74,89,55,52,88,65,80,48,61,58,84,67,69,81,72,84,44,87,66,51,70,70,52,70,55,56,53,58,55,60,78,65,71,84,55,32,94,57,89,82,82,55,56,64,72,86,51,65,59,55,81,78,78,45,53,49,66,60,59,72,72,58,81,54,42,73,76,74,71,48,54,57,71,55,42,57,59,71,68,38,66,66,52,45,53,77,69,76,64,40,64,74,59,83,49,61,60,58,53,98,61,62,43,76,54,76,59,85,90,62,75,75,60,94,60,63,80,68,53,72,60,88,58,82,84,81,56,79,63,75,49,96,77,57,79,90,72,69,64,75,86,91,72,66,89,73,53,51,81,64,51,64,87,79,41,43,69,39,68,58,82,42,60,77,58,35,51,51,63,64,54,63,90,63,86,58,65,93,75,58,61,52,50,80,60,53,62,62,68,89,76,56,78,73,76,65,57,60,54,66,77,87,59,49,37,62,69,45,88,67,77,50,54,70,39,59,76,69,71,54,54,83,76,79,75,67,50,77,39,45,58,52,56,58,39,68,76,55,74,59,81,72,69,62,64,80,59,50,53,55,60,63,47,58,53,66,66,49,94,76,68,63,66,53,57,67,47,66,83,58,45,72,52,26,65,61,55,79,81,62,75,47,71,68,70,81,49,96,79,51,54,39,70,57,54,96,60,44,79,70,86,75,60,74,92,92,67,57,66,69,78,57,57,53,28,70,50,59,60,56,63,66,62,72,68,81,72,52,65,57,66,40,77,65,44,72,84,73,78,62,88,67,53,43,66,78,56,76,58,79,51,46,88,67,60,40,72,45,54,76,54,62,77,72,65,61,77,36,70,73,75,54,71,60,72,69,45,63,59,79,73,71,57,73,77,57,69,43,68,51,61,55,79,72,60,81,58,63,88,68,62,83,77,50,67,86,62,67,74,62,97,62,55,81,66,90,74,50,59,64,37,63,58,79,91,80,89,68,57,58,79,74,79,67,61,46,58,73,79,63,48,76,71,68,54,92,55,58,76,86,54,76,65,86,58,55,87,66,80,66,56,73,85,75,69,51,56,87,45,77,54,77,42,49,48,67,53,64,75,52,56,87,75,52,54,86,42,63,83,75,37,46,74,65,74,63,53,87,84,63,64,54,71,67,62,77,68,49,77,63,91,60,59,42,51,58,60,68,64,63,57,73,59,76,78,76,65,68,72,49,80,60,59,44,64,59,59,93,51,64,55,82,64,62,71,49,47,70,75,50,35,62,59,63,67,71,58,68,44,46,56,61,49,55,72,73,87,65,87,94,78,66,60,74,64,44,55,78,92,67,76,75,78,80,51,52,72,95,65,77,43,70,56,63,80,54,67,79,63,57,64,73,96,61,55,63,81,55,63,59,59,90,46,43,67,82,71,80,50,45,51,66,65,58,77,72,75,38,47,66,69,89,75,56,61,67,54,92,59,54,69,53,60,54,55,55,68,56,79,51,48,62,86,68,52,89,41,78,61,80,55,67,75,71,70,75,61,59,65,67,32,69,62,72,72,66,60,58,79,56,76,59,51,77,44,47,54,69,84,64,80,86,74,59,87,51,65,77,64,45,70,66,87,66,74,43,65,70,77,84,51,81,89,69,52,80,45,37,64,56,70,78,70,52,75,36,53,58,82,70,56,57,69,52,68,46,47,75,53,46,70,60,57,75,82,48,55,80,76,67,60,80,55,59,40,74,70,59,44,77,70,68,75,73,41,74,87,75,72,68,55,53,76,47,79,77,52,67,58,70,76,61,59,56,53,82,70,54,61,65,67,63,61,89,62,67,48,78,53,62,60,73,94,71,57,91,82,43,39,53,56,56,64,69,41,71,82,72,69,52,77,74,50,49,71,70,42,67,44,69,50,69,61,64,90,66,69,57,59,67,76,70,73,64,68,65,73,66,60,78,69,60,88,71,67,67,64,54,77,66,63,67],\"xaxis\":\"x\",\"yaxis\":\"y\",\"type\":\"histogram\"},{\"boxmean\":\"sd\",\"name\":\"Age Boxplot\",\"x\":[66,60,52,77,72,62,35,77,79,42,52,34,53,94,79,31,86,53,81,74,65,48,71,62,68,64,64,42,56,77,48,49,72,65,55,58,42,27,62,75,65,48,59,48,84,62,43,75,69,49,71,74,68,64,81,77,73,80,65,54,86,69,67,78,76,70,78,35,86,44,72,58,51,78,53,58,74,68,51,67,51,42,66,54,46,71,76,83,69,59,54,78,65,54,52,74,65,68,68,52,67,47,42,26,50,59,58,56,54,67,72,30,53,85,66,72,83,34,73,87,59,53,61,49,73,72,54,61,75,67,59,59,50,50,81,89,49,58,72,54,25,54,92,81,47,53,56,75,57,81,73,53,55,67,60,57,54,62,49,70,72,61,59,52,57,45,64,50,40,56,69,69,71,64,60,83,70,63,66,52,69,71,60,66,59,77,84,57,67,36,62,58,74,52,55,54,70,48,82,64,56,93,72,76,68,80,75,52,48,59,54,53,86,78,69,85,58,74,81,50,66,58,73,72,56,56,61,52,60,79,51,78,70,48,45,84,52,45,40,74,50,61,71,57,55,76,61,57,62,86,81,71,59,56,57,80,72,57,70,74,76,53,60,81,61,50,57,49,71,70,63,73,54,68,47,61,56,82,67,55,84,88,69,71,75,39,60,50,71,59,73,57,64,71,73,41,79,41,83,92,57,62,83,88,73,50,70,58,51,78,59,81,81,69,36,53,44,60,76,72,54,73,44,65,60,58,61,91,58,84,51,68,46,35,60,50,66,34,57,73,56,63,57,53,71,64,42,71,50,68,93,52,62,57,36,77,63,73,39,75,36,50,68,52,35,57,79,42,63,71,72,79,60,59,57,74,97,53,80,31,85,77,52,56,80,61,59,38,64,46,85,85,54,72,59,54,75,70,49,47,65,62,91,52,67,76,58,72,73,73,67,50,38,40,62,61,60,77,71,60,52,77,52,60,47,55,58,60,80,69,64,63,47,76,44,71,61,59,69,70,64,62,46,56,71,65,77,82,52,83,61,54,35,58,28,84,73,81,65,92,62,79,75,58,60,69,64,58,77,68,81,56,37,66,95,68,65,81,48,80,51,60,75,58,57,74,61,63,72,77,79,46,65,69,71,60,82,97,60,61,51,76,81,57,39,74,64,55,61,60,73,51,63,39,37,66,65,60,39,61,58,86,74,65,67,92,71,40,86,67,46,65,54,80,42,59,51,52,64,64,52,67,72,30,71,56,62,70,71,39,58,39,54,59,65,64,62,53,48,54,77,56,71,59,66,81,54,81,64,59,65,67,73,71,70,41,94,52,84,53,67,57,59,65,65,53,74,52,54,56,86,45,65,66,56,45,82,56,88,60,64,56,56,55,33,86,65,67,69,37,70,40,54,65,56,86,66,68,59,55,48,67,77,61,29,60,68,57,59,53,54,55,62,71,86,61,79,63,51,84,53,57,81,50,57,70,65,70,63,83,77,84,79,57,43,67,57,67,54,66,79,64,67,68,31,70,53,81,66,90,38,58,89,72,61,49,58,51,86,64,66,54,65,56,62,92,76,79,62,84,78,56,83,66,57,75,74,51,78,55,67,55,59,25,41,69,51,56,75,74,55,43,81,73,58,49,46,73,55,46,66,73,63,73,83,80,75,63,48,73,69,69,72,69,72,81,38,75,58,55,89,94,55,91,57,85,61,70,66,58,66,45,84,72,58,64,67,54,54,67,59,62,72,62,56,70,66,70,58,58,67,71,64,57,33,73,78,78,76,67,60,65,52,87,100,41,49,56,52,53,67,76,38,66,40,54,68,40,54,50,90,81,60,89,72,53,44,81,59,60,82,74,79,78,84,61,77,55,48,63,63,74,62,63,59,78,71,78,59,50,69,60,47,81,95,68,74,86,56,85,51,70,44,90,50,73,78,81,55,56,64,48,76,48,77,76,82,85,72,86,52,57,58,68,76,27,78,75,66,46,86,57,68,56,56,80,65,73,40,86,60,70,67,73,65,84,47,53,66,59,43,56,66,60,53,63,87,54,87,95,83,70,77,67,39,73,83,59,63,68,43,71,63,42,80,63,61,52,48,67,78,66,61,80,69,84,55,93,75,69,52,65,80,50,68,67,60,78,57,89,78,65,72,72,49,79,66,66,50,70,51,51,67,64,74,91,59,55,45,70,71,90,47,76,70,79,71,58,81,78,49,56,61,68,61,62,56,50,69,57,41,71,91,44,50,52,59,29,69,55,59,61,77,83,19,78,76,79,57,82,56,65,40,67,52,44,55,43,48,25,66,67,61,94,43,72,45,51,63,55,86,82,79,81,87,36,63,53,67,72,60,88,48,66,51,68,67,68,59,55,71,66,66,36,66,55,86,91,66,65,59,75,65,52,52,63,80,67,55,95,72,45,84,68,58,54,51,82,77,72,54,87,48,63,76,66,70,73,65,81,51,52,74,65,47,57,69,69,56,52,62,56,65,59,59,49,73,65,56,93,66,69,59,52,53,63,49,66,69,64,58,57,34,82,58,61,78,57,55,37,50,61,65,56,79,63,88,70,73,85,66,60,86,65,96,56,57,52,74,93,57,82,81,72,66,77,76,48,45,71,62,41,49,59,64,73,80,75,32,47,58,72,72,59,57,64,58,63,78,78,73,79,55,80,33,62,74,74,61,70,55,79,86,44,86,59,76,34,69,48,69,54,48,59,48,52,54,48,67,31,64,78,77,53,51,69,59,87,74,66,69,74,49,54,72,85,56,51,58,57,82,72,60,52,63,70,82,52,56,39,53,73,75,53,56,61,52,83,34,40,68,73,76,71,65,67,75,68,43,76,49,68,66,79,62,70,54,80,53,65,51,74,76,80,82,95,72,51,72,61,75,69,58,70,72,46,77,55,67,93,79,64,74,64,57,80,51,93,60,48,49,60,77,50,65,85,59,75,62,65,76,80,49,75,71,77,85,90,75,72,76,72,69,82,69,68,64,81,85,80,68,57,67,53,64,87,55,64,86,67,65,81,57,49,82,39,52,64,50,64,70,73,52,68,70,45,58,63,58,69,51,60,44,58,95,60,77,45,90,58,48,58,39,63,65,67,40,40,82,45,54,43,54,76,57,51,54,60,51,58,49,80,59,60,58,71,54,69,59,73,74,49,93,78,70,76,81,57,61,83,57,66,80,89,61,47,82,55,53,54,78,58,79,72,71,61,68,60,62,84,55,91,40,81,55,64,89,67,90,60,56,72,65,65,42,89,49,89,40,74,58,61,79,62,81,70,36,53,49,71,50,76,60,59,40,52,61,65,76,58,69,80,64,55,80,74,73,89,57,66,54,84,69,72,48,50,65,89,85,54,53,66,57,60,72,64,70,68,54,58,76,84,74,68,76,81,64,75,76,70,59,60,81,51,72,65,56,46,70,82,53,51,86,63,48,49,55,72,59,80,78,52,53,65,41,52,38,71,70,50,60,57,39,65,47,49,59,66,43,54,42,91,65,30,62,52,84,69,78,93,83,68,71,46,65,57,56,56,88,48,58,57,65,68,51,62,72,64,72,87,61,54,54,91,80,66,56,57,77,61,48,78,71,57,55,75,56,71,65,53,75,87,64,50,74,72,59,56,66,69,53,59,75,34,67,59,74,71,46,68,57,80,62,56,60,72,56,55,38,55,69,86,60,80,56,48,72,71,57,78,68,81,58,77,58,64,74,58,73,68,54,68,57,44,74,57,79,59,46,69,76,81,56,79,39,61,53,57,58,80,77,69,58,76,51,39,68,93,79,60,54,72,67,64,66,52,45,39,57,68,73,40,68,51,78,75,77,76,54,64,88,62,58,57,44,56,75,63,68,83,77,86,98,64,64,68,48,55,42,60,54,46,60,48,55,68,41,54,68,71,50,59,67,84,76,48,79,71,62,57,76,73,93,52,81,49,67,82,88,64,69,64,70,56,40,65,49,56,65,49,61,62,68,85,81,72,55,61,85,69,63,77,98,54,46,67,62,45,58,56,78,67,67,82,57,51,55,71,75,76,77,57,57,71,78,69,82,68,55,70,68,54,81,42,31,37,74,60,74,89,55,52,88,65,80,48,61,58,84,67,69,81,72,84,44,87,66,51,70,70,52,70,55,56,53,58,55,60,78,65,71,84,55,32,94,57,89,82,82,55,56,64,72,86,51,65,59,55,81,78,78,45,53,49,66,60,59,72,72,58,81,54,42,73,76,74,71,48,54,57,71,55,42,57,59,71,68,38,66,66,52,45,53,77,69,76,64,40,64,74,59,83,49,61,60,58,53,98,61,62,43,76,54,76,59,85,90,62,75,75,60,94,60,63,80,68,53,72,60,88,58,82,84,81,56,79,63,75,49,96,77,57,79,90,72,69,64,75,86,91,72,66,89,73,53,51,81,64,51,64,87,79,41,43,69,39,68,58,82,42,60,77,58,35,51,51,63,64,54,63,90,63,86,58,65,93,75,58,61,52,50,80,60,53,62,62,68,89,76,56,78,73,76,65,57,60,54,66,77,87,59,49,37,62,69,45,88,67,77,50,54,70,39,59,76,69,71,54,54,83,76,79,75,67,50,77,39,45,58,52,56,58,39,68,76,55,74,59,81,72,69,62,64,80,59,50,53,55,60,63,47,58,53,66,66,49,94,76,68,63,66,53,57,67,47,66,83,58,45,72,52,26,65,61,55,79,81,62,75,47,71,68,70,81,49,96,79,51,54,39,70,57,54,96,60,44,79,70,86,75,60,74,92,92,67,57,66,69,78,57,57,53,28,70,50,59,60,56,63,66,62,72,68,81,72,52,65,57,66,40,77,65,44,72,84,73,78,62,88,67,53,43,66,78,56,76,58,79,51,46,88,67,60,40,72,45,54,76,54,62,77,72,65,61,77,36,70,73,75,54,71,60,72,69,45,63,59,79,73,71,57,73,77,57,69,43,68,51,61,55,79,72,60,81,58,63,88,68,62,83,77,50,67,86,62,67,74,62,97,62,55,81,66,90,74,50,59,64,37,63,58,79,91,80,89,68,57,58,79,74,79,67,61,46,58,73,79,63,48,76,71,68,54,92,55,58,76,86,54,76,65,86,58,55,87,66,80,66,56,73,85,75,69,51,56,87,45,77,54,77,42,49,48,67,53,64,75,52,56,87,75,52,54,86,42,63,83,75,37,46,74,65,74,63,53,87,84,63,64,54,71,67,62,77,68,49,77,63,91,60,59,42,51,58,60,68,64,63,57,73,59,76,78,76,65,68,72,49,80,60,59,44,64,59,59,93,51,64,55,82,64,62,71,49,47,70,75,50,35,62,59,63,67,71,58,68,44,46,56,61,49,55,72,73,87,65,87,94,78,66,60,74,64,44,55,78,92,67,76,75,78,80,51,52,72,95,65,77,43,70,56,63,80,54,67,79,63,57,64,73,96,61,55,63,81,55,63,59,59,90,46,43,67,82,71,80,50,45,51,66,65,58,77,72,75,38,47,66,69,89,75,56,61,67,54,92,59,54,69,53,60,54,55,55,68,56,79,51,48,62,86,68,52,89,41,78,61,80,55,67,75,71,70,75,61,59,65,67,32,69,62,72,72,66,60,58,79,56,76,59,51,77,44,47,54,69,84,64,80,86,74,59,87,51,65,77,64,45,70,66,87,66,74,43,65,70,77,84,51,81,89,69,52,80,45,37,64,56,70,78,70,52,75,36,53,58,82,70,56,57,69,52,68,46,47,75,53,46,70,60,57,75,82,48,55,80,76,67,60,80,55,59,40,74,70,59,44,77,70,68,75,73,41,74,87,75,72,68,55,53,76,47,79,77,52,67,58,70,76,61,59,56,53,82,70,54,61,65,67,63,61,89,62,67,48,78,53,62,60,73,94,71,57,91,82,43,39,53,56,56,64,69,41,71,82,72,69,52,77,74,50,49,71,70,42,67,44,69,50,69,61,64,90,66,69,57,59,67,76,70,73,64,68,65,73,66,60,78,69,60,88,71,67,67,64,54,77,66,63,67],\"xaxis\":\"x2\",\"yaxis\":\"y2\",\"type\":\"box\"}],                        {\"template\":{\"data\":{\"barpolar\":[{\"marker\":{\"line\":{\"color\":\"#E5ECF6\",\"width\":0.5},\"pattern\":{\"fillmode\":\"overlay\",\"size\":10,\"solidity\":0.2}},\"type\":\"barpolar\"}],\"bar\":[{\"error_x\":{\"color\":\"#2a3f5f\"},\"error_y\":{\"color\":\"#2a3f5f\"},\"marker\":{\"line\":{\"color\":\"#E5ECF6\",\"width\":0.5},\"pattern\":{\"fillmode\":\"overlay\",\"size\":10,\"solidity\":0.2}},\"type\":\"bar\"}],\"carpet\":[{\"aaxis\":{\"endlinecolor\":\"#2a3f5f\",\"gridcolor\":\"white\",\"linecolor\":\"white\",\"minorgridcolor\":\"white\",\"startlinecolor\":\"#2a3f5f\"},\"baxis\":{\"endlinecolor\":\"#2a3f5f\",\"gridcolor\":\"white\",\"linecolor\":\"white\",\"minorgridcolor\":\"white\",\"startlinecolor\":\"#2a3f5f\"},\"type\":\"carpet\"}],\"choropleth\":[{\"colorbar\":{\"outlinewidth\":0,\"ticks\":\"\"},\"type\":\"choropleth\"}],\"contourcarpet\":[{\"colorbar\":{\"outlinewidth\":0,\"ticks\":\"\"},\"type\":\"contourcarpet\"}],\"contour\":[{\"colorbar\":{\"outlinewidth\":0,\"ticks\":\"\"},\"colorscale\":[[0.0,\"#0d0887\"],[0.1111111111111111,\"#46039f\"],[0.2222222222222222,\"#7201a8\"],[0.3333333333333333,\"#9c179e\"],[0.4444444444444444,\"#bd3786\"],[0.5555555555555556,\"#d8576b\"],[0.6666666666666666,\"#ed7953\"],[0.7777777777777778,\"#fb9f3a\"],[0.8888888888888888,\"#fdca26\"],[1.0,\"#f0f921\"]],\"type\":\"contour\"}],\"heatmapgl\":[{\"colorbar\":{\"outlinewidth\":0,\"ticks\":\"\"},\"colorscale\":[[0.0,\"#0d0887\"],[0.1111111111111111,\"#46039f\"],[0.2222222222222222,\"#7201a8\"],[0.3333333333333333,\"#9c179e\"],[0.4444444444444444,\"#bd3786\"],[0.5555555555555556,\"#d8576b\"],[0.6666666666666666,\"#ed7953\"],[0.7777777777777778,\"#fb9f3a\"],[0.8888888888888888,\"#fdca26\"],[1.0,\"#f0f921\"]],\"type\":\"heatmapgl\"}],\"heatmap\":[{\"colorbar\":{\"outlinewidth\":0,\"ticks\":\"\"},\"colorscale\":[[0.0,\"#0d0887\"],[0.1111111111111111,\"#46039f\"],[0.2222222222222222,\"#7201a8\"],[0.3333333333333333,\"#9c179e\"],[0.4444444444444444,\"#bd3786\"],[0.5555555555555556,\"#d8576b\"],[0.6666666666666666,\"#ed7953\"],[0.7777777777777778,\"#fb9f3a\"],[0.8888888888888888,\"#fdca26\"],[1.0,\"#f0f921\"]],\"type\":\"heatmap\"}],\"histogram2dcontour\":[{\"colorbar\":{\"outlinewidth\":0,\"ticks\":\"\"},\"colorscale\":[[0.0,\"#0d0887\"],[0.1111111111111111,\"#46039f\"],[0.2222222222222222,\"#7201a8\"],[0.3333333333333333,\"#9c179e\"],[0.4444444444444444,\"#bd3786\"],[0.5555555555555556,\"#d8576b\"],[0.6666666666666666,\"#ed7953\"],[0.7777777777777778,\"#fb9f3a\"],[0.8888888888888888,\"#fdca26\"],[1.0,\"#f0f921\"]],\"type\":\"histogram2dcontour\"}],\"histogram2d\":[{\"colorbar\":{\"outlinewidth\":0,\"ticks\":\"\"},\"colorscale\":[[0.0,\"#0d0887\"],[0.1111111111111111,\"#46039f\"],[0.2222222222222222,\"#7201a8\"],[0.3333333333333333,\"#9c179e\"],[0.4444444444444444,\"#bd3786\"],[0.5555555555555556,\"#d8576b\"],[0.6666666666666666,\"#ed7953\"],[0.7777777777777778,\"#fb9f3a\"],[0.8888888888888888,\"#fdca26\"],[1.0,\"#f0f921\"]],\"type\":\"histogram2d\"}],\"histogram\":[{\"marker\":{\"pattern\":{\"fillmode\":\"overlay\",\"size\":10,\"solidity\":0.2}},\"type\":\"histogram\"}],\"mesh3d\":[{\"colorbar\":{\"outlinewidth\":0,\"ticks\":\"\"},\"type\":\"mesh3d\"}],\"parcoords\":[{\"line\":{\"colorbar\":{\"outlinewidth\":0,\"ticks\":\"\"}},\"type\":\"parcoords\"}],\"pie\":[{\"automargin\":true,\"type\":\"pie\"}],\"scatter3d\":[{\"line\":{\"colorbar\":{\"outlinewidth\":0,\"ticks\":\"\"}},\"marker\":{\"colorbar\":{\"outlinewidth\":0,\"ticks\":\"\"}},\"type\":\"scatter3d\"}],\"scattercarpet\":[{\"marker\":{\"colorbar\":{\"outlinewidth\":0,\"ticks\":\"\"}},\"type\":\"scattercarpet\"}],\"scattergeo\":[{\"marker\":{\"colorbar\":{\"outlinewidth\":0,\"ticks\":\"\"}},\"type\":\"scattergeo\"}],\"scattergl\":[{\"marker\":{\"colorbar\":{\"outlinewidth\":0,\"ticks\":\"\"}},\"type\":\"scattergl\"}],\"scattermapbox\":[{\"marker\":{\"colorbar\":{\"outlinewidth\":0,\"ticks\":\"\"}},\"type\":\"scattermapbox\"}],\"scatterpolargl\":[{\"marker\":{\"colorbar\":{\"outlinewidth\":0,\"ticks\":\"\"}},\"type\":\"scatterpolargl\"}],\"scatterpolar\":[{\"marker\":{\"colorbar\":{\"outlinewidth\":0,\"ticks\":\"\"}},\"type\":\"scatterpolar\"}],\"scatter\":[{\"fillpattern\":{\"fillmode\":\"overlay\",\"size\":10,\"solidity\":0.2},\"type\":\"scatter\"}],\"scatterternary\":[{\"marker\":{\"colorbar\":{\"outlinewidth\":0,\"ticks\":\"\"}},\"type\":\"scatterternary\"}],\"surface\":[{\"colorbar\":{\"outlinewidth\":0,\"ticks\":\"\"},\"colorscale\":[[0.0,\"#0d0887\"],[0.1111111111111111,\"#46039f\"],[0.2222222222222222,\"#7201a8\"],[0.3333333333333333,\"#9c179e\"],[0.4444444444444444,\"#bd3786\"],[0.5555555555555556,\"#d8576b\"],[0.6666666666666666,\"#ed7953\"],[0.7777777777777778,\"#fb9f3a\"],[0.8888888888888888,\"#fdca26\"],[1.0,\"#f0f921\"]],\"type\":\"surface\"}],\"table\":[{\"cells\":{\"fill\":{\"color\":\"#EBF0F8\"},\"line\":{\"color\":\"white\"}},\"header\":{\"fill\":{\"color\":\"#C8D4E3\"},\"line\":{\"color\":\"white\"}},\"type\":\"table\"}]},\"layout\":{\"annotationdefaults\":{\"arrowcolor\":\"#2a3f5f\",\"arrowhead\":0,\"arrowwidth\":1},\"autotypenumbers\":\"strict\",\"coloraxis\":{\"colorbar\":{\"outlinewidth\":0,\"ticks\":\"\"}},\"colorscale\":{\"diverging\":[[0,\"#8e0152\"],[0.1,\"#c51b7d\"],[0.2,\"#de77ae\"],[0.3,\"#f1b6da\"],[0.4,\"#fde0ef\"],[0.5,\"#f7f7f7\"],[0.6,\"#e6f5d0\"],[0.7,\"#b8e186\"],[0.8,\"#7fbc41\"],[0.9,\"#4d9221\"],[1,\"#276419\"]],\"sequential\":[[0.0,\"#0d0887\"],[0.1111111111111111,\"#46039f\"],[0.2222222222222222,\"#7201a8\"],[0.3333333333333333,\"#9c179e\"],[0.4444444444444444,\"#bd3786\"],[0.5555555555555556,\"#d8576b\"],[0.6666666666666666,\"#ed7953\"],[0.7777777777777778,\"#fb9f3a\"],[0.8888888888888888,\"#fdca26\"],[1.0,\"#f0f921\"]],\"sequentialminus\":[[0.0,\"#0d0887\"],[0.1111111111111111,\"#46039f\"],[0.2222222222222222,\"#7201a8\"],[0.3333333333333333,\"#9c179e\"],[0.4444444444444444,\"#bd3786\"],[0.5555555555555556,\"#d8576b\"],[0.6666666666666666,\"#ed7953\"],[0.7777777777777778,\"#fb9f3a\"],[0.8888888888888888,\"#fdca26\"],[1.0,\"#f0f921\"]]},\"colorway\":[\"#636efa\",\"#EF553B\",\"#00cc96\",\"#ab63fa\",\"#FFA15A\",\"#19d3f3\",\"#FF6692\",\"#B6E880\",\"#FF97FF\",\"#FECB52\"],\"font\":{\"color\":\"#2a3f5f\"},\"geo\":{\"bgcolor\":\"white\",\"lakecolor\":\"white\",\"landcolor\":\"#E5ECF6\",\"showlakes\":true,\"showland\":true,\"subunitcolor\":\"white\"},\"hoverlabel\":{\"align\":\"left\"},\"hovermode\":\"closest\",\"mapbox\":{\"style\":\"light\"},\"paper_bgcolor\":\"white\",\"plot_bgcolor\":\"#E5ECF6\",\"polar\":{\"angularaxis\":{\"gridcolor\":\"white\",\"linecolor\":\"white\",\"ticks\":\"\"},\"bgcolor\":\"#E5ECF6\",\"radialaxis\":{\"gridcolor\":\"white\",\"linecolor\":\"white\",\"ticks\":\"\"}},\"scene\":{\"xaxis\":{\"backgroundcolor\":\"#E5ECF6\",\"gridcolor\":\"white\",\"gridwidth\":2,\"linecolor\":\"white\",\"showbackground\":true,\"ticks\":\"\",\"zerolinecolor\":\"white\"},\"yaxis\":{\"backgroundcolor\":\"#E5ECF6\",\"gridcolor\":\"white\",\"gridwidth\":2,\"linecolor\":\"white\",\"showbackground\":true,\"ticks\":\"\",\"zerolinecolor\":\"white\"},\"zaxis\":{\"backgroundcolor\":\"#E5ECF6\",\"gridcolor\":\"white\",\"gridwidth\":2,\"linecolor\":\"white\",\"showbackground\":true,\"ticks\":\"\",\"zerolinecolor\":\"white\"}},\"shapedefaults\":{\"line\":{\"color\":\"#2a3f5f\"}},\"ternary\":{\"aaxis\":{\"gridcolor\":\"white\",\"linecolor\":\"white\",\"ticks\":\"\"},\"baxis\":{\"gridcolor\":\"white\",\"linecolor\":\"white\",\"ticks\":\"\"},\"bgcolor\":\"#E5ECF6\",\"caxis\":{\"gridcolor\":\"white\",\"linecolor\":\"white\",\"ticks\":\"\"}},\"title\":{\"x\":0.05},\"xaxis\":{\"automargin\":true,\"gridcolor\":\"white\",\"linecolor\":\"white\",\"ticks\":\"\",\"title\":{\"standoff\":15},\"zerolinecolor\":\"white\",\"zerolinewidth\":2},\"yaxis\":{\"automargin\":true,\"gridcolor\":\"white\",\"linecolor\":\"white\",\"ticks\":\"\",\"title\":{\"standoff\":15},\"zerolinecolor\":\"white\",\"zerolinewidth\":2}}},\"xaxis\":{\"anchor\":\"y\",\"domain\":[0.0,1.0]},\"yaxis\":{\"anchor\":\"x\",\"domain\":[0.575,1.0]},\"xaxis2\":{\"anchor\":\"y2\",\"domain\":[0.0,1.0]},\"yaxis2\":{\"anchor\":\"x2\",\"domain\":[0.0,0.425]}},                        {\"responsive\": true}                    ).then(function(){\n",
       "                            \n",
       "var gd = document.getElementById('ee1de809-2c56-4fe1-a764-aa9e1e7d29af');\n",
       "var x = new MutationObserver(function (mutations, observer) {{\n",
       "        var display = window.getComputedStyle(gd).display;\n",
       "        if (!display || display === 'none') {{\n",
       "            console.log([gd, 'removed!']);\n",
       "            Plotly.purge(gd);\n",
       "            observer.disconnect();\n",
       "        }}\n",
       "}});\n",
       "\n",
       "// Listen for the removal of the full notebook cells\n",
       "var notebookContainer = gd.closest('#notebook-container');\n",
       "if (notebookContainer) {{\n",
       "    x.observe(notebookContainer, {childList: true});\n",
       "}}\n",
       "\n",
       "// Listen for the clearing of the current output cell\n",
       "var outputEl = gd.closest('.output');\n",
       "if (outputEl) {{\n",
       "    x.observe(outputEl, {childList: true});\n",
       "}}\n",
       "\n",
       "                        })                };                });            </script>        </div>"
      ]
     },
     "metadata": {},
     "output_type": "display_data"
    }
   ],
   "source": [
    "# plotly distribution charts (hover over for interactive response)\n",
    "\n",
    "fig = make_subplots(2, 1)\n",
    "\n",
    "fig.add_trace(go.Histogram(x=df['Age'], name='Age Histogram'), 1, 1)\n",
    "fig.add_trace(go.Box(x=df['Age'], name='Age Boxplot', boxmean='sd'), 2, 1)\n",
    "\n",
    "iplot(fig)"
   ]
  },
  {
   "cell_type": "markdown",
   "id": "6cae9704",
   "metadata": {
    "papermill": {
     "duration": 0.024063,
     "end_time": "2023-07-14T09:29:59.311780",
     "exception": false,
     "start_time": "2023-07-14T09:29:59.287717",
     "status": "completed"
    },
    "tags": []
   },
   "source": [
    "### The distribution of the age of billionaires in the dataset\n",
    "\n",
    "#### - Ages range from 19 to 100\n",
    "#### - Obviously, 19, 25 and 26 are outliers\n",
    "#### - Inter-Quartile Range(IQR): the middle 50% of data lie between 55 and 74\n",
    "#### - The most number of billionaires are at the age 56 - 59"
   ]
  },
  {
   "cell_type": "markdown",
   "id": "6969447c",
   "metadata": {
    "papermill": {
     "duration": 0.025289,
     "end_time": "2023-07-14T09:29:59.362697",
     "exception": false,
     "start_time": "2023-07-14T09:29:59.337408",
     "status": "completed"
    },
    "tags": []
   },
   "source": [
    "# Q5: Who is the 10th Richest Indian Billionaire  (Medium)\n",
    "* Drop the Duplicate Values using Name then proceed further"
   ]
  },
  {
   "cell_type": "code",
   "execution_count": 20,
   "id": "21ac133f",
   "metadata": {
    "execution": {
     "iopub.execute_input": "2023-07-14T09:29:59.414847Z",
     "iopub.status.busy": "2023-07-14T09:29:59.413797Z",
     "iopub.status.idle": "2023-07-14T09:29:59.424088Z",
     "shell.execute_reply": "2023-07-14T09:29:59.422507Z"
    },
    "papermill": {
     "duration": 0.038729,
     "end_time": "2023-07-14T09:29:59.426576",
     "exception": false,
     "start_time": "2023-07-14T09:29:59.387847",
     "status": "completed"
    },
    "tags": []
   },
   "outputs": [],
   "source": [
    "# strip values (dfs)\n",
    "\n",
    "dfs['Name'] = dfs['Name'].str.strip()\n",
    "dfs['Income Source'] = dfs['Income Source'].str.strip()\n",
    "dfs['Citizenship'] = dfs['Citizenship'].str.strip()"
   ]
  },
  {
   "cell_type": "code",
   "execution_count": 21,
   "id": "cb5e5b27",
   "metadata": {
    "execution": {
     "iopub.execute_input": "2023-07-14T09:29:59.477982Z",
     "iopub.status.busy": "2023-07-14T09:29:59.477656Z",
     "iopub.status.idle": "2023-07-14T09:29:59.484115Z",
     "shell.execute_reply": "2023-07-14T09:29:59.483149Z"
    },
    "papermill": {
     "duration": 0.034691,
     "end_time": "2023-07-14T09:29:59.486367",
     "exception": false,
     "start_time": "2023-07-14T09:29:59.451676",
     "status": "completed"
    },
    "tags": []
   },
   "outputs": [],
   "source": [
    "# drop duplicates with 'Name' column\n",
    "\n",
    "dfs.drop_duplicates(subset='Name', inplace=True)"
   ]
  },
  {
   "cell_type": "code",
   "execution_count": 22,
   "id": "c4939078",
   "metadata": {
    "execution": {
     "iopub.execute_input": "2023-07-14T09:29:59.536635Z",
     "iopub.status.busy": "2023-07-14T09:29:59.536226Z",
     "iopub.status.idle": "2023-07-14T09:29:59.554595Z",
     "shell.execute_reply": "2023-07-14T09:29:59.553598Z"
    },
    "papermill": {
     "duration": 0.045721,
     "end_time": "2023-07-14T09:29:59.556511",
     "exception": false,
     "start_time": "2023-07-14T09:29:59.510790",
     "status": "completed"
    },
    "tags": []
   },
   "outputs": [
    {
     "data": {
      "text/html": [
       "<div>\n",
       "<style scoped>\n",
       "    .dataframe tbody tr th:only-of-type {\n",
       "        vertical-align: middle;\n",
       "    }\n",
       "\n",
       "    .dataframe tbody tr th {\n",
       "        vertical-align: top;\n",
       "    }\n",
       "\n",
       "    .dataframe thead th {\n",
       "        text-align: right;\n",
       "    }\n",
       "</style>\n",
       "<table border=\"1\" class=\"dataframe\">\n",
       "  <thead>\n",
       "    <tr style=\"text-align: right;\">\n",
       "      <th></th>\n",
       "      <th>Name</th>\n",
       "      <th>Age</th>\n",
       "      <th>Net_Worth</th>\n",
       "      <th>Income Source</th>\n",
       "      <th>Citizenship</th>\n",
       "    </tr>\n",
       "  </thead>\n",
       "  <tbody>\n",
       "    <tr>\n",
       "      <th>1177</th>\n",
       "      <td>Mukesh Ambani</td>\n",
       "      <td>65</td>\n",
       "      <td>94.1</td>\n",
       "      <td>diversified</td>\n",
       "      <td>India</td>\n",
       "    </tr>\n",
       "    <tr>\n",
       "      <th>1756</th>\n",
       "      <td>Gautam Adani</td>\n",
       "      <td>60</td>\n",
       "      <td>74.8</td>\n",
       "      <td>commodities, infrastructure, Self Made</td>\n",
       "      <td>India</td>\n",
       "    </tr>\n",
       "    <tr>\n",
       "      <th>2098</th>\n",
       "      <td>Shiv Nadar</td>\n",
       "      <td>76</td>\n",
       "      <td>28.7</td>\n",
       "      <td>Technology</td>\n",
       "      <td>India</td>\n",
       "    </tr>\n",
       "    <tr>\n",
       "      <th>760</th>\n",
       "      <td>Cyrus Poonawalla</td>\n",
       "      <td>80</td>\n",
       "      <td>24.3</td>\n",
       "      <td>Healthcare</td>\n",
       "      <td>India</td>\n",
       "    </tr>\n",
       "    <tr>\n",
       "      <th>2259</th>\n",
       "      <td>Radhakishan Damani</td>\n",
       "      <td>67</td>\n",
       "      <td>20.0</td>\n",
       "      <td>Fashion &amp; Retail</td>\n",
       "      <td>India</td>\n",
       "    </tr>\n",
       "    <tr>\n",
       "      <th>811</th>\n",
       "      <td>Lakshmi Mittal</td>\n",
       "      <td>71</td>\n",
       "      <td>17.9</td>\n",
       "      <td>Metals &amp; Mining</td>\n",
       "      <td>India</td>\n",
       "    </tr>\n",
       "    <tr>\n",
       "      <th>114</th>\n",
       "      <td>Savitri Jindal</td>\n",
       "      <td>72</td>\n",
       "      <td>17.2</td>\n",
       "      <td>steel</td>\n",
       "      <td>India</td>\n",
       "    </tr>\n",
       "    <tr>\n",
       "      <th>806</th>\n",
       "      <td>Dilip Shanghvi</td>\n",
       "      <td>66</td>\n",
       "      <td>15.6</td>\n",
       "      <td>Healthcare</td>\n",
       "      <td>India</td>\n",
       "    </tr>\n",
       "    <tr>\n",
       "      <th>1345</th>\n",
       "      <td>Kumar Birla</td>\n",
       "      <td>55</td>\n",
       "      <td>15.5</td>\n",
       "      <td>commodities</td>\n",
       "      <td>India</td>\n",
       "    </tr>\n",
       "    <tr>\n",
       "      <th>1242</th>\n",
       "      <td>Sunil Mittal</td>\n",
       "      <td>64</td>\n",
       "      <td>14.7</td>\n",
       "      <td>telecom, Self Made</td>\n",
       "      <td>India</td>\n",
       "    </tr>\n",
       "  </tbody>\n",
       "</table>\n",
       "</div>"
      ],
      "text/plain": [
       "                    Name Age  Net_Worth  \\\n",
       "1177       Mukesh Ambani  65       94.1   \n",
       "1756        Gautam Adani  60       74.8   \n",
       "2098          Shiv Nadar  76       28.7   \n",
       "760     Cyrus Poonawalla  80       24.3   \n",
       "2259  Radhakishan Damani  67       20.0   \n",
       "811       Lakshmi Mittal  71       17.9   \n",
       "114       Savitri Jindal  72       17.2   \n",
       "806       Dilip Shanghvi  66       15.6   \n",
       "1345         Kumar Birla  55       15.5   \n",
       "1242        Sunil Mittal  64       14.7   \n",
       "\n",
       "                               Income Source Citizenship  \n",
       "1177                             diversified       India  \n",
       "1756  commodities, infrastructure, Self Made       India  \n",
       "2098                              Technology       India  \n",
       "760                               Healthcare       India  \n",
       "2259                        Fashion & Retail       India  \n",
       "811                          Metals & Mining       India  \n",
       "114                                    steel       India  \n",
       "806                               Healthcare       India  \n",
       "1345                             commodities       India  \n",
       "1242                      telecom, Self Made       India  "
      ]
     },
     "execution_count": 22,
     "metadata": {},
     "output_type": "execute_result"
    }
   ],
   "source": [
    "# boolean mask 'Citizenship' to India & 'Name' doesn't contains 'family' and take top 10 'Net_Worth'\n",
    "\n",
    "dfs[(dfs['Citizenship'] == 'India') & ( ~ dfs['Name'].str.contains('family'))].nlargest(10, 'Net_Worth')"
   ]
  },
  {
   "cell_type": "markdown",
   "id": "074d6546",
   "metadata": {
    "papermill": {
     "duration": 0.025495,
     "end_time": "2023-07-14T09:29:59.608125",
     "exception": false,
     "start_time": "2023-07-14T09:29:59.582630",
     "status": "completed"
    },
    "tags": []
   },
   "source": [
    "### **Sunil Mittal** *($14.7 B)* is the 10th Richest Indian Billionaire"
   ]
  },
  {
   "cell_type": "markdown",
   "id": "746a2af5",
   "metadata": {
    "papermill": {
     "duration": 0.024409,
     "end_time": "2023-07-14T09:29:59.658560",
     "exception": false,
     "start_time": "2023-07-14T09:29:59.634151",
     "status": "completed"
    },
    "tags": []
   },
   "source": [
    "# Q6: What is the average net worth of billionaires in the technology industry?\n",
    "* Only find for billionaires having single Income Source \n",
    "* Dont consider billionaires having more than 1 Income Source"
   ]
  },
  {
   "cell_type": "code",
   "execution_count": 23,
   "id": "d04059af",
   "metadata": {
    "execution": {
     "iopub.execute_input": "2023-07-14T09:29:59.709130Z",
     "iopub.status.busy": "2023-07-14T09:29:59.708519Z",
     "iopub.status.idle": "2023-07-14T09:29:59.716547Z",
     "shell.execute_reply": "2023-07-14T09:29:59.715130Z"
    },
    "papermill": {
     "duration": 0.03556,
     "end_time": "2023-07-14T09:29:59.718369",
     "exception": false,
     "start_time": "2023-07-14T09:29:59.682809",
     "status": "completed"
    },
    "tags": []
   },
   "outputs": [
    {
     "data": {
      "text/plain": [
       "6.340882352941176"
      ]
     },
     "execution_count": 23,
     "metadata": {},
     "output_type": "execute_result"
    }
   ],
   "source": [
    "# boolean mask 'Income Source' to Technology, take 'Net_Worth' column to find mean\n",
    "\n",
    "dfs[dfs['Income Source'] == 'Technology']['Net_Worth'].mean()"
   ]
  },
  {
   "cell_type": "markdown",
   "id": "21454ab6",
   "metadata": {
    "papermill": {
     "duration": 0.02482,
     "end_time": "2023-07-14T09:29:59.768849",
     "exception": false,
     "start_time": "2023-07-14T09:29:59.744029",
     "status": "completed"
    },
    "tags": []
   },
   "source": [
    "### **$6.34 B** is the average net worth of billionaires in the *technology industry*"
   ]
  },
  {
   "cell_type": "markdown",
   "id": "035cc606",
   "metadata": {
    "papermill": {
     "duration": 0.024984,
     "end_time": "2023-07-14T09:29:59.818766",
     "exception": false,
     "start_time": "2023-07-14T09:29:59.793782",
     "status": "completed"
    },
    "tags": []
   },
   "source": [
    "# Q7: What is the position of the 10th Richest Billionaire from Tech Industry in the Forbes List (Medium)\n",
    "* Create an Index showing the rank according to Net Worth (Sort then create index column)\n",
    "* Then Proceed further with Technology as Income Source"
   ]
  },
  {
   "cell_type": "code",
   "execution_count": 24,
   "id": "526135aa",
   "metadata": {
    "execution": {
     "iopub.execute_input": "2023-07-14T09:29:59.870215Z",
     "iopub.status.busy": "2023-07-14T09:29:59.869611Z",
     "iopub.status.idle": "2023-07-14T09:29:59.875199Z",
     "shell.execute_reply": "2023-07-14T09:29:59.874357Z"
    },
    "papermill": {
     "duration": 0.03402,
     "end_time": "2023-07-14T09:29:59.877372",
     "exception": false,
     "start_time": "2023-07-14T09:29:59.843352",
     "status": "completed"
    },
    "tags": []
   },
   "outputs": [],
   "source": [
    "# sort values by DESC of 'Net_Worth' column and drop the previous index\n",
    "\n",
    "dfs = dfs.sort_values('Net_Worth', ascending=False).reset_index(drop=True)"
   ]
  },
  {
   "cell_type": "code",
   "execution_count": 25,
   "id": "e6451381",
   "metadata": {
    "execution": {
     "iopub.execute_input": "2023-07-14T09:29:59.929704Z",
     "iopub.status.busy": "2023-07-14T09:29:59.929077Z",
     "iopub.status.idle": "2023-07-14T09:29:59.939384Z",
     "shell.execute_reply": "2023-07-14T09:29:59.938688Z"
    },
    "papermill": {
     "duration": 0.037892,
     "end_time": "2023-07-14T09:29:59.941006",
     "exception": false,
     "start_time": "2023-07-14T09:29:59.903114",
     "status": "completed"
    },
    "tags": []
   },
   "outputs": [
    {
     "data": {
      "text/html": [
       "<div>\n",
       "<style scoped>\n",
       "    .dataframe tbody tr th:only-of-type {\n",
       "        vertical-align: middle;\n",
       "    }\n",
       "\n",
       "    .dataframe tbody tr th {\n",
       "        vertical-align: top;\n",
       "    }\n",
       "\n",
       "    .dataframe thead th {\n",
       "        text-align: right;\n",
       "    }\n",
       "</style>\n",
       "<table border=\"1\" class=\"dataframe\">\n",
       "  <thead>\n",
       "    <tr style=\"text-align: right;\">\n",
       "      <th></th>\n",
       "      <th>Name</th>\n",
       "      <th>Age</th>\n",
       "      <th>Net_Worth</th>\n",
       "      <th>Income Source</th>\n",
       "      <th>Citizenship</th>\n",
       "    </tr>\n",
       "  </thead>\n",
       "  <tbody>\n",
       "    <tr>\n",
       "      <th>34</th>\n",
       "      <td>Ma Huateng</td>\n",
       "      <td>50</td>\n",
       "      <td>37.2</td>\n",
       "      <td>Technology</td>\n",
       "      <td>China</td>\n",
       "    </tr>\n",
       "  </tbody>\n",
       "</table>\n",
       "</div>"
      ],
      "text/plain": [
       "          Name Age  Net_Worth Income Source Citizenship\n",
       "34  Ma Huateng  50       37.2    Technology       China"
      ]
     },
     "execution_count": 25,
     "metadata": {},
     "output_type": "execute_result"
    }
   ],
   "source": [
    "# boolean mask 'Income Source' to Technology and take the 9th record which is the 10th rank\n",
    "# and look into the index for the overall position\n",
    "\n",
    "dfs[dfs['Income Source'] == 'Technology'].iloc[9:10]"
   ]
  },
  {
   "cell_type": "markdown",
   "id": "9dd72688",
   "metadata": {
    "papermill": {
     "duration": 0.024262,
     "end_time": "2023-07-14T09:29:59.990226",
     "exception": false,
     "start_time": "2023-07-14T09:29:59.965964",
     "status": "completed"
    },
    "tags": []
   },
   "source": [
    "### The position of *the 10th Richest Billionaire from Tech Industry* in the Forbes List is **35**"
   ]
  },
  {
   "cell_type": "markdown",
   "id": "770d7447",
   "metadata": {
    "papermill": {
     "duration": 0.024534,
     "end_time": "2023-07-14T09:30:00.039488",
     "exception": false,
     "start_time": "2023-07-14T09:30:00.014954",
     "status": "completed"
    },
    "tags": []
   },
   "source": [
    "# Q8: What is the total net worth of the top 100 billionaires in the Forbes dataset, and what percentage of the total net worth of all billionaires does this represent?\n",
    "* Find Net Worth held by top 100 People\n",
    "* Then find the percentage of the answer with the total net worth"
   ]
  },
  {
   "cell_type": "code",
   "execution_count": 26,
   "id": "c3678d6d",
   "metadata": {
    "execution": {
     "iopub.execute_input": "2023-07-14T09:30:00.090857Z",
     "iopub.status.busy": "2023-07-14T09:30:00.090231Z",
     "iopub.status.idle": "2023-07-14T09:30:00.096180Z",
     "shell.execute_reply": "2023-07-14T09:30:00.094776Z"
    },
    "papermill": {
     "duration": 0.034,
     "end_time": "2023-07-14T09:30:00.098216",
     "exception": false,
     "start_time": "2023-07-14T09:30:00.064216",
     "status": "completed"
    },
    "tags": []
   },
   "outputs": [],
   "source": [
    "# sum of top 100 and total 'Net_Worth'\n",
    "\n",
    "top100 = round(dfs['Net_Worth'][:100].sum(), 2)\n",
    "total = round(dfs['Net_Worth'].sum(), 2)"
   ]
  },
  {
   "cell_type": "code",
   "execution_count": 27,
   "id": "1a027997",
   "metadata": {
    "execution": {
     "iopub.execute_input": "2023-07-14T09:30:00.150829Z",
     "iopub.status.busy": "2023-07-14T09:30:00.150463Z",
     "iopub.status.idle": "2023-07-14T09:30:00.156308Z",
     "shell.execute_reply": "2023-07-14T09:30:00.155282Z"
    },
    "papermill": {
     "duration": 0.03409,
     "end_time": "2023-07-14T09:30:00.158085",
     "exception": false,
     "start_time": "2023-07-14T09:30:00.123995",
     "status": "completed"
    },
    "tags": []
   },
   "outputs": [
    {
     "data": {
      "text/plain": [
       "4323.0"
      ]
     },
     "execution_count": 27,
     "metadata": {},
     "output_type": "execute_result"
    }
   ],
   "source": [
    "top100"
   ]
  },
  {
   "cell_type": "code",
   "execution_count": 28,
   "id": "a6d4b5b4",
   "metadata": {
    "execution": {
     "iopub.execute_input": "2023-07-14T09:30:00.211652Z",
     "iopub.status.busy": "2023-07-14T09:30:00.211290Z",
     "iopub.status.idle": "2023-07-14T09:30:00.217061Z",
     "shell.execute_reply": "2023-07-14T09:30:00.215793Z"
    },
    "papermill": {
     "duration": 0.035806,
     "end_time": "2023-07-14T09:30:00.219704",
     "exception": false,
     "start_time": "2023-07-14T09:30:00.183898",
     "status": "completed"
    },
    "tags": []
   },
   "outputs": [
    {
     "data": {
      "text/plain": [
       "33.28"
      ]
     },
     "execution_count": 28,
     "metadata": {},
     "output_type": "execute_result"
    }
   ],
   "source": [
    "# percent of top 100 billionaire's 'Net_Worth'\n",
    "\n",
    "round(top100/total * 100, 2)"
   ]
  },
  {
   "cell_type": "markdown",
   "id": "c1bca559",
   "metadata": {
    "papermill": {
     "duration": 0.025115,
     "end_time": "2023-07-14T09:30:00.272210",
     "exception": false,
     "start_time": "2023-07-14T09:30:00.247095",
     "status": "completed"
    },
    "tags": []
   },
   "source": [
    "### The total net worth of the top 100 billionaires is **$4323 B** and it represents *33.28%(one third)* of the total net worth of all billionaires"
   ]
  },
  {
   "cell_type": "markdown",
   "id": "396d8273",
   "metadata": {
    "papermill": {
     "duration": 0.025874,
     "end_time": "2023-07-14T09:30:00.324140",
     "exception": false,
     "start_time": "2023-07-14T09:30:00.298266",
     "status": "completed"
    },
    "tags": []
   },
   "source": [
    "# Q9: What is the average age of billionaires in the Technology industry? "
   ]
  },
  {
   "cell_type": "code",
   "execution_count": 29,
   "id": "fededaf5",
   "metadata": {
    "execution": {
     "iopub.execute_input": "2023-07-14T09:30:00.377682Z",
     "iopub.status.busy": "2023-07-14T09:30:00.377050Z",
     "iopub.status.idle": "2023-07-14T09:30:00.387020Z",
     "shell.execute_reply": "2023-07-14T09:30:00.386027Z"
    },
    "papermill": {
     "duration": 0.039785,
     "end_time": "2023-07-14T09:30:00.389525",
     "exception": false,
     "start_time": "2023-07-14T09:30:00.349740",
     "status": "completed"
    },
    "tags": []
   },
   "outputs": [],
   "source": [
    "# strip values (df)\n",
    "\n",
    "df['Name'] = df['Name'].str.strip()\n",
    "df['Income Source'] = df['Income Source'].str.strip()\n",
    "df['Citizenship'] = df['Citizenship'].str.strip()"
   ]
  },
  {
   "cell_type": "code",
   "execution_count": 30,
   "id": "940482b5",
   "metadata": {
    "execution": {
     "iopub.execute_input": "2023-07-14T09:30:00.443220Z",
     "iopub.status.busy": "2023-07-14T09:30:00.442809Z",
     "iopub.status.idle": "2023-07-14T09:30:00.451660Z",
     "shell.execute_reply": "2023-07-14T09:30:00.450116Z"
    },
    "papermill": {
     "duration": 0.038659,
     "end_time": "2023-07-14T09:30:00.454158",
     "exception": false,
     "start_time": "2023-07-14T09:30:00.415499",
     "status": "completed"
    },
    "tags": []
   },
   "outputs": [
    {
     "data": {
      "text/plain": [
       "56.16918429003021"
      ]
     },
     "execution_count": 30,
     "metadata": {},
     "output_type": "execute_result"
    }
   ],
   "source": [
    "# boolean mask 'Income Source' to Technology, take 'Age' column to find mean\n",
    "\n",
    "df[df['Income Source'] == 'Technology']['Age'].mean()"
   ]
  },
  {
   "cell_type": "markdown",
   "id": "05cc4e9f",
   "metadata": {
    "papermill": {
     "duration": 0.026339,
     "end_time": "2023-07-14T09:30:00.506980",
     "exception": false,
     "start_time": "2023-07-14T09:30:00.480641",
     "status": "completed"
    },
    "tags": []
   },
   "source": [
    "### **56** is the average age of billionaires in the *Technology* industry"
   ]
  },
  {
   "cell_type": "markdown",
   "id": "c7d3bc5b",
   "metadata": {
    "papermill": {
     "duration": 0.026392,
     "end_time": "2023-07-14T09:30:00.560737",
     "exception": false,
     "start_time": "2023-07-14T09:30:00.534345",
     "status": "completed"
    },
    "tags": []
   },
   "source": [
    "# Q10: Draw a Graph depicting mean Net Worth of billionaires per Country(Medium)\n",
    "* For some people Education has been written in Citizenship Column find those and change there citizenship to India\n",
    "* After doing  it plot the graph"
   ]
  },
  {
   "cell_type": "markdown",
   "id": "4f184b71",
   "metadata": {
    "papermill": {
     "duration": 0.025728,
     "end_time": "2023-07-14T09:30:00.612725",
     "exception": false,
     "start_time": "2023-07-14T09:30:00.586997",
     "status": "completed"
    },
    "tags": []
   },
   "source": [
    "The data is cleaned already"
   ]
  },
  {
   "cell_type": "code",
   "execution_count": 31,
   "id": "7ea28d93",
   "metadata": {
    "execution": {
     "iopub.execute_input": "2023-07-14T09:30:00.667489Z",
     "iopub.status.busy": "2023-07-14T09:30:00.666858Z",
     "iopub.status.idle": "2023-07-14T09:30:00.673912Z",
     "shell.execute_reply": "2023-07-14T09:30:00.672492Z"
    },
    "papermill": {
     "duration": 0.036773,
     "end_time": "2023-07-14T09:30:00.676486",
     "exception": false,
     "start_time": "2023-07-14T09:30:00.639713",
     "status": "completed"
    },
    "tags": []
   },
   "outputs": [],
   "source": [
    "# group 'Citizenship', find mean by 'Net_Worth' and sort values in DESC to better visualize the data\n",
    "\n",
    "country_networth_avg = dfs.groupby('Citizenship')['Net_Worth'].mean().reset_index(name='mean net worth').sort_values('mean net worth', ascending=False)"
   ]
  },
  {
   "cell_type": "code",
   "execution_count": 32,
   "id": "52744c34",
   "metadata": {
    "execution": {
     "iopub.execute_input": "2023-07-14T09:30:00.729622Z",
     "iopub.status.busy": "2023-07-14T09:30:00.729279Z",
     "iopub.status.idle": "2023-07-14T09:30:00.874487Z",
     "shell.execute_reply": "2023-07-14T09:30:00.872715Z"
    },
    "papermill": {
     "duration": 0.174752,
     "end_time": "2023-07-14T09:30:00.876873",
     "exception": false,
     "start_time": "2023-07-14T09:30:00.702121",
     "status": "completed"
    },
    "tags": []
   },
   "outputs": [
    {
     "data": {
      "application/vnd.plotly.v1+json": {
       "config": {
        "linkText": "Export to plot.ly",
        "plotlyServerURL": "https://plot.ly",
        "showLink": false
       },
       "data": [
        {
         "alignmentgroup": "True",
         "hovertemplate": "Citizenship=%{x}<br>mean net worth=%{y}<extra></extra>",
         "legendgroup": "",
         "marker": {
          "color": "#636efa",
          "pattern": {
           "shape": ""
          }
         },
         "name": "",
         "offsetgroup": "",
         "orientation": "v",
         "showlegend": false,
         "textposition": "auto",
         "type": "bar",
         "x": [
          "France",
          "Mexico",
          "Nigeria",
          "United States",
          "Denmark",
          "Ireland",
          "Colombia",
          "United Arab Emirates",
          "Hong Kong",
          "Austria",
          "Chile",
          "Czechia",
          "Eswatini (Swaziland)",
          "India",
          "Algeria",
          "South Africa",
          "Canada",
          "Portugal",
          "Germany",
          "Australia",
          "Switzerland",
          "New Zealand",
          "Spain",
          "Singapore",
          "United Kingdom",
          "Belgium",
          "Japan",
          "Indonesia",
          "Greece",
          "Monaco",
          "Israel",
          "Italy",
          "Russia",
          "Malaysia",
          "Sweden",
          "China",
          "Belize",
          "Venezuela",
          "Netherlands",
          "Thailand",
          "Cyprus",
          "Georgia",
          "Kazakhstan",
          "Norway",
          "Egypt",
          "Vietnam",
          "Brazil",
          "Zimbabwe",
          "Poland",
          "Taiwan",
          "South Korea",
          "Peru",
          "Philippines",
          "Oman",
          "Guernsey",
          "Argentina",
          "Liechtenstein",
          "Lebanon",
          "Bulgaria",
          "Macau",
          "Iceland",
          "Finland",
          "Ukraine",
          "Barbados",
          "Turkey",
          "Romania",
          "Morocco",
          "Qatar",
          "Tanzania",
          "Uruguay",
          "Nepal",
          "St. Kitts and Nevis",
          "Slovakia",
          "Hungary",
          "Estonia"
         ],
         "xaxis": "x",
         "y": [
          12.790697674418604,
          10.726666666666667,
          9.4,
          6.396054421768708,
          6.333333333333333,
          6.088888888888889,
          6.025,
          5.725,
          5.722388059701492,
          5.6090909090909085,
          5.514285714285714,
          5.444444444444445,
          5.3,
          5.157611940298508,
          5.1,
          5.0,
          4.809230769230769,
          4.7,
          4.537313432835821,
          4.502173913043478,
          4.4365853658536585,
          4.3999999999999995,
          4.296296296296297,
          4.103846153846154,
          4.0346,
          3.966666666666667,
          3.8625,
          3.8366666666666664,
          3.8,
          3.7750000000000004,
          3.753333333333333,
          3.7403846153846154,
          3.730769230769231,
          3.711764705882353,
          3.6822222222222227,
          3.6462756052141527,
          3.6,
          3.5,
          3.4545454545454546,
          3.4035714285714285,
          3.4,
          3.3499999999999996,
          3.3000000000000003,
          3.146153846153846,
          3.0500000000000003,
          3.0285714285714285,
          3.011290322580645,
          3.0,
          2.9714285714285715,
          2.958823529411765,
          2.6658536585365855,
          2.6,
          2.5411764705882356,
          2.5,
          2.5,
          2.3333333333333335,
          2.3,
          2.1,
          2.0,
          1.9,
          1.8,
          1.8,
          1.7,
          1.7,
          1.7,
          1.7,
          1.65,
          1.65,
          1.5,
          1.5,
          1.5,
          1.5,
          1.5,
          1.25,
          1.2
         ],
         "yaxis": "y"
        }
       ],
       "layout": {
        "barmode": "relative",
        "legend": {
         "tracegroupgap": 0
        },
        "template": {
         "data": {
          "bar": [
           {
            "error_x": {
             "color": "#2a3f5f"
            },
            "error_y": {
             "color": "#2a3f5f"
            },
            "marker": {
             "line": {
              "color": "#E5ECF6",
              "width": 0.5
             },
             "pattern": {
              "fillmode": "overlay",
              "size": 10,
              "solidity": 0.2
             }
            },
            "type": "bar"
           }
          ],
          "barpolar": [
           {
            "marker": {
             "line": {
              "color": "#E5ECF6",
              "width": 0.5
             },
             "pattern": {
              "fillmode": "overlay",
              "size": 10,
              "solidity": 0.2
             }
            },
            "type": "barpolar"
           }
          ],
          "carpet": [
           {
            "aaxis": {
             "endlinecolor": "#2a3f5f",
             "gridcolor": "white",
             "linecolor": "white",
             "minorgridcolor": "white",
             "startlinecolor": "#2a3f5f"
            },
            "baxis": {
             "endlinecolor": "#2a3f5f",
             "gridcolor": "white",
             "linecolor": "white",
             "minorgridcolor": "white",
             "startlinecolor": "#2a3f5f"
            },
            "type": "carpet"
           }
          ],
          "choropleth": [
           {
            "colorbar": {
             "outlinewidth": 0,
             "ticks": ""
            },
            "type": "choropleth"
           }
          ],
          "contour": [
           {
            "colorbar": {
             "outlinewidth": 0,
             "ticks": ""
            },
            "colorscale": [
             [
              0.0,
              "#0d0887"
             ],
             [
              0.1111111111111111,
              "#46039f"
             ],
             [
              0.2222222222222222,
              "#7201a8"
             ],
             [
              0.3333333333333333,
              "#9c179e"
             ],
             [
              0.4444444444444444,
              "#bd3786"
             ],
             [
              0.5555555555555556,
              "#d8576b"
             ],
             [
              0.6666666666666666,
              "#ed7953"
             ],
             [
              0.7777777777777778,
              "#fb9f3a"
             ],
             [
              0.8888888888888888,
              "#fdca26"
             ],
             [
              1.0,
              "#f0f921"
             ]
            ],
            "type": "contour"
           }
          ],
          "contourcarpet": [
           {
            "colorbar": {
             "outlinewidth": 0,
             "ticks": ""
            },
            "type": "contourcarpet"
           }
          ],
          "heatmap": [
           {
            "colorbar": {
             "outlinewidth": 0,
             "ticks": ""
            },
            "colorscale": [
             [
              0.0,
              "#0d0887"
             ],
             [
              0.1111111111111111,
              "#46039f"
             ],
             [
              0.2222222222222222,
              "#7201a8"
             ],
             [
              0.3333333333333333,
              "#9c179e"
             ],
             [
              0.4444444444444444,
              "#bd3786"
             ],
             [
              0.5555555555555556,
              "#d8576b"
             ],
             [
              0.6666666666666666,
              "#ed7953"
             ],
             [
              0.7777777777777778,
              "#fb9f3a"
             ],
             [
              0.8888888888888888,
              "#fdca26"
             ],
             [
              1.0,
              "#f0f921"
             ]
            ],
            "type": "heatmap"
           }
          ],
          "heatmapgl": [
           {
            "colorbar": {
             "outlinewidth": 0,
             "ticks": ""
            },
            "colorscale": [
             [
              0.0,
              "#0d0887"
             ],
             [
              0.1111111111111111,
              "#46039f"
             ],
             [
              0.2222222222222222,
              "#7201a8"
             ],
             [
              0.3333333333333333,
              "#9c179e"
             ],
             [
              0.4444444444444444,
              "#bd3786"
             ],
             [
              0.5555555555555556,
              "#d8576b"
             ],
             [
              0.6666666666666666,
              "#ed7953"
             ],
             [
              0.7777777777777778,
              "#fb9f3a"
             ],
             [
              0.8888888888888888,
              "#fdca26"
             ],
             [
              1.0,
              "#f0f921"
             ]
            ],
            "type": "heatmapgl"
           }
          ],
          "histogram": [
           {
            "marker": {
             "pattern": {
              "fillmode": "overlay",
              "size": 10,
              "solidity": 0.2
             }
            },
            "type": "histogram"
           }
          ],
          "histogram2d": [
           {
            "colorbar": {
             "outlinewidth": 0,
             "ticks": ""
            },
            "colorscale": [
             [
              0.0,
              "#0d0887"
             ],
             [
              0.1111111111111111,
              "#46039f"
             ],
             [
              0.2222222222222222,
              "#7201a8"
             ],
             [
              0.3333333333333333,
              "#9c179e"
             ],
             [
              0.4444444444444444,
              "#bd3786"
             ],
             [
              0.5555555555555556,
              "#d8576b"
             ],
             [
              0.6666666666666666,
              "#ed7953"
             ],
             [
              0.7777777777777778,
              "#fb9f3a"
             ],
             [
              0.8888888888888888,
              "#fdca26"
             ],
             [
              1.0,
              "#f0f921"
             ]
            ],
            "type": "histogram2d"
           }
          ],
          "histogram2dcontour": [
           {
            "colorbar": {
             "outlinewidth": 0,
             "ticks": ""
            },
            "colorscale": [
             [
              0.0,
              "#0d0887"
             ],
             [
              0.1111111111111111,
              "#46039f"
             ],
             [
              0.2222222222222222,
              "#7201a8"
             ],
             [
              0.3333333333333333,
              "#9c179e"
             ],
             [
              0.4444444444444444,
              "#bd3786"
             ],
             [
              0.5555555555555556,
              "#d8576b"
             ],
             [
              0.6666666666666666,
              "#ed7953"
             ],
             [
              0.7777777777777778,
              "#fb9f3a"
             ],
             [
              0.8888888888888888,
              "#fdca26"
             ],
             [
              1.0,
              "#f0f921"
             ]
            ],
            "type": "histogram2dcontour"
           }
          ],
          "mesh3d": [
           {
            "colorbar": {
             "outlinewidth": 0,
             "ticks": ""
            },
            "type": "mesh3d"
           }
          ],
          "parcoords": [
           {
            "line": {
             "colorbar": {
              "outlinewidth": 0,
              "ticks": ""
             }
            },
            "type": "parcoords"
           }
          ],
          "pie": [
           {
            "automargin": true,
            "type": "pie"
           }
          ],
          "scatter": [
           {
            "fillpattern": {
             "fillmode": "overlay",
             "size": 10,
             "solidity": 0.2
            },
            "type": "scatter"
           }
          ],
          "scatter3d": [
           {
            "line": {
             "colorbar": {
              "outlinewidth": 0,
              "ticks": ""
             }
            },
            "marker": {
             "colorbar": {
              "outlinewidth": 0,
              "ticks": ""
             }
            },
            "type": "scatter3d"
           }
          ],
          "scattercarpet": [
           {
            "marker": {
             "colorbar": {
              "outlinewidth": 0,
              "ticks": ""
             }
            },
            "type": "scattercarpet"
           }
          ],
          "scattergeo": [
           {
            "marker": {
             "colorbar": {
              "outlinewidth": 0,
              "ticks": ""
             }
            },
            "type": "scattergeo"
           }
          ],
          "scattergl": [
           {
            "marker": {
             "colorbar": {
              "outlinewidth": 0,
              "ticks": ""
             }
            },
            "type": "scattergl"
           }
          ],
          "scattermapbox": [
           {
            "marker": {
             "colorbar": {
              "outlinewidth": 0,
              "ticks": ""
             }
            },
            "type": "scattermapbox"
           }
          ],
          "scatterpolar": [
           {
            "marker": {
             "colorbar": {
              "outlinewidth": 0,
              "ticks": ""
             }
            },
            "type": "scatterpolar"
           }
          ],
          "scatterpolargl": [
           {
            "marker": {
             "colorbar": {
              "outlinewidth": 0,
              "ticks": ""
             }
            },
            "type": "scatterpolargl"
           }
          ],
          "scatterternary": [
           {
            "marker": {
             "colorbar": {
              "outlinewidth": 0,
              "ticks": ""
             }
            },
            "type": "scatterternary"
           }
          ],
          "surface": [
           {
            "colorbar": {
             "outlinewidth": 0,
             "ticks": ""
            },
            "colorscale": [
             [
              0.0,
              "#0d0887"
             ],
             [
              0.1111111111111111,
              "#46039f"
             ],
             [
              0.2222222222222222,
              "#7201a8"
             ],
             [
              0.3333333333333333,
              "#9c179e"
             ],
             [
              0.4444444444444444,
              "#bd3786"
             ],
             [
              0.5555555555555556,
              "#d8576b"
             ],
             [
              0.6666666666666666,
              "#ed7953"
             ],
             [
              0.7777777777777778,
              "#fb9f3a"
             ],
             [
              0.8888888888888888,
              "#fdca26"
             ],
             [
              1.0,
              "#f0f921"
             ]
            ],
            "type": "surface"
           }
          ],
          "table": [
           {
            "cells": {
             "fill": {
              "color": "#EBF0F8"
             },
             "line": {
              "color": "white"
             }
            },
            "header": {
             "fill": {
              "color": "#C8D4E3"
             },
             "line": {
              "color": "white"
             }
            },
            "type": "table"
           }
          ]
         },
         "layout": {
          "annotationdefaults": {
           "arrowcolor": "#2a3f5f",
           "arrowhead": 0,
           "arrowwidth": 1
          },
          "autotypenumbers": "strict",
          "coloraxis": {
           "colorbar": {
            "outlinewidth": 0,
            "ticks": ""
           }
          },
          "colorscale": {
           "diverging": [
            [
             0,
             "#8e0152"
            ],
            [
             0.1,
             "#c51b7d"
            ],
            [
             0.2,
             "#de77ae"
            ],
            [
             0.3,
             "#f1b6da"
            ],
            [
             0.4,
             "#fde0ef"
            ],
            [
             0.5,
             "#f7f7f7"
            ],
            [
             0.6,
             "#e6f5d0"
            ],
            [
             0.7,
             "#b8e186"
            ],
            [
             0.8,
             "#7fbc41"
            ],
            [
             0.9,
             "#4d9221"
            ],
            [
             1,
             "#276419"
            ]
           ],
           "sequential": [
            [
             0.0,
             "#0d0887"
            ],
            [
             0.1111111111111111,
             "#46039f"
            ],
            [
             0.2222222222222222,
             "#7201a8"
            ],
            [
             0.3333333333333333,
             "#9c179e"
            ],
            [
             0.4444444444444444,
             "#bd3786"
            ],
            [
             0.5555555555555556,
             "#d8576b"
            ],
            [
             0.6666666666666666,
             "#ed7953"
            ],
            [
             0.7777777777777778,
             "#fb9f3a"
            ],
            [
             0.8888888888888888,
             "#fdca26"
            ],
            [
             1.0,
             "#f0f921"
            ]
           ],
           "sequentialminus": [
            [
             0.0,
             "#0d0887"
            ],
            [
             0.1111111111111111,
             "#46039f"
            ],
            [
             0.2222222222222222,
             "#7201a8"
            ],
            [
             0.3333333333333333,
             "#9c179e"
            ],
            [
             0.4444444444444444,
             "#bd3786"
            ],
            [
             0.5555555555555556,
             "#d8576b"
            ],
            [
             0.6666666666666666,
             "#ed7953"
            ],
            [
             0.7777777777777778,
             "#fb9f3a"
            ],
            [
             0.8888888888888888,
             "#fdca26"
            ],
            [
             1.0,
             "#f0f921"
            ]
           ]
          },
          "colorway": [
           "#636efa",
           "#EF553B",
           "#00cc96",
           "#ab63fa",
           "#FFA15A",
           "#19d3f3",
           "#FF6692",
           "#B6E880",
           "#FF97FF",
           "#FECB52"
          ],
          "font": {
           "color": "#2a3f5f"
          },
          "geo": {
           "bgcolor": "white",
           "lakecolor": "white",
           "landcolor": "#E5ECF6",
           "showlakes": true,
           "showland": true,
           "subunitcolor": "white"
          },
          "hoverlabel": {
           "align": "left"
          },
          "hovermode": "closest",
          "mapbox": {
           "style": "light"
          },
          "paper_bgcolor": "white",
          "plot_bgcolor": "#E5ECF6",
          "polar": {
           "angularaxis": {
            "gridcolor": "white",
            "linecolor": "white",
            "ticks": ""
           },
           "bgcolor": "#E5ECF6",
           "radialaxis": {
            "gridcolor": "white",
            "linecolor": "white",
            "ticks": ""
           }
          },
          "scene": {
           "xaxis": {
            "backgroundcolor": "#E5ECF6",
            "gridcolor": "white",
            "gridwidth": 2,
            "linecolor": "white",
            "showbackground": true,
            "ticks": "",
            "zerolinecolor": "white"
           },
           "yaxis": {
            "backgroundcolor": "#E5ECF6",
            "gridcolor": "white",
            "gridwidth": 2,
            "linecolor": "white",
            "showbackground": true,
            "ticks": "",
            "zerolinecolor": "white"
           },
           "zaxis": {
            "backgroundcolor": "#E5ECF6",
            "gridcolor": "white",
            "gridwidth": 2,
            "linecolor": "white",
            "showbackground": true,
            "ticks": "",
            "zerolinecolor": "white"
           }
          },
          "shapedefaults": {
           "line": {
            "color": "#2a3f5f"
           }
          },
          "ternary": {
           "aaxis": {
            "gridcolor": "white",
            "linecolor": "white",
            "ticks": ""
           },
           "baxis": {
            "gridcolor": "white",
            "linecolor": "white",
            "ticks": ""
           },
           "bgcolor": "#E5ECF6",
           "caxis": {
            "gridcolor": "white",
            "linecolor": "white",
            "ticks": ""
           }
          },
          "title": {
           "x": 0.05
          },
          "xaxis": {
           "automargin": true,
           "gridcolor": "white",
           "linecolor": "white",
           "ticks": "",
           "title": {
            "standoff": 15
           },
           "zerolinecolor": "white",
           "zerolinewidth": 2
          },
          "yaxis": {
           "automargin": true,
           "gridcolor": "white",
           "linecolor": "white",
           "ticks": "",
           "title": {
            "standoff": 15
           },
           "zerolinecolor": "white",
           "zerolinewidth": 2
          }
         }
        },
        "title": {
         "text": "Mean Net Worth of billionaires per Country"
        },
        "xaxis": {
         "anchor": "y",
         "domain": [
          0.0,
          1.0
         ],
         "title": {
          "text": "Citizenship"
         }
        },
        "yaxis": {
         "anchor": "x",
         "domain": [
          0.0,
          1.0
         ],
         "title": {
          "text": "mean net worth"
         }
        }
       }
      },
      "text/html": [
       "<div>                            <div id=\"fb1b1f56-5fe9-412a-ae5e-4ec9a4c2a1c2\" class=\"plotly-graph-div\" style=\"height:525px; width:100%;\"></div>            <script type=\"text/javascript\">                require([\"plotly\"], function(Plotly) {                    window.PLOTLYENV=window.PLOTLYENV || {};                                    if (document.getElementById(\"fb1b1f56-5fe9-412a-ae5e-4ec9a4c2a1c2\")) {                    Plotly.newPlot(                        \"fb1b1f56-5fe9-412a-ae5e-4ec9a4c2a1c2\",                        [{\"alignmentgroup\":\"True\",\"hovertemplate\":\"Citizenship=%{x}\\u003cbr\\u003emean net worth=%{y}\\u003cextra\\u003e\\u003c\\u002fextra\\u003e\",\"legendgroup\":\"\",\"marker\":{\"color\":\"#636efa\",\"pattern\":{\"shape\":\"\"}},\"name\":\"\",\"offsetgroup\":\"\",\"orientation\":\"v\",\"showlegend\":false,\"textposition\":\"auto\",\"x\":[\"France\",\"Mexico\",\"Nigeria\",\"United States\",\"Denmark\",\"Ireland\",\"Colombia\",\"United Arab Emirates\",\"Hong Kong\",\"Austria\",\"Chile\",\"Czechia\",\"Eswatini (Swaziland)\",\"India\",\"Algeria\",\"South Africa\",\"Canada\",\"Portugal\",\"Germany\",\"Australia\",\"Switzerland\",\"New Zealand\",\"Spain\",\"Singapore\",\"United Kingdom\",\"Belgium\",\"Japan\",\"Indonesia\",\"Greece\",\"Monaco\",\"Israel\",\"Italy\",\"Russia\",\"Malaysia\",\"Sweden\",\"China\",\"Belize\",\"Venezuela\",\"Netherlands\",\"Thailand\",\"Cyprus\",\"Georgia\",\"Kazakhstan\",\"Norway\",\"Egypt\",\"Vietnam\",\"Brazil\",\"Zimbabwe\",\"Poland\",\"Taiwan\",\"South Korea\",\"Peru\",\"Philippines\",\"Oman\",\"Guernsey\",\"Argentina\",\"Liechtenstein\",\"Lebanon\",\"Bulgaria\",\"Macau\",\"Iceland\",\"Finland\",\"Ukraine\",\"Barbados\",\"Turkey\",\"Romania\",\"Morocco\",\"Qatar\",\"Tanzania\",\"Uruguay\",\"Nepal\",\"St. Kitts and Nevis\",\"Slovakia\",\"Hungary\",\"Estonia\"],\"xaxis\":\"x\",\"y\":[12.790697674418604,10.726666666666667,9.4,6.396054421768708,6.333333333333333,6.088888888888889,6.025,5.725,5.722388059701492,5.6090909090909085,5.514285714285714,5.444444444444445,5.3,5.157611940298508,5.1,5.0,4.809230769230769,4.7,4.537313432835821,4.502173913043478,4.4365853658536585,4.3999999999999995,4.296296296296297,4.103846153846154,4.0346,3.966666666666667,3.8625,3.8366666666666664,3.8,3.7750000000000004,3.753333333333333,3.7403846153846154,3.730769230769231,3.711764705882353,3.6822222222222227,3.6462756052141527,3.6,3.5,3.4545454545454546,3.4035714285714285,3.4,3.3499999999999996,3.3000000000000003,3.146153846153846,3.0500000000000003,3.0285714285714285,3.011290322580645,3.0,2.9714285714285715,2.958823529411765,2.6658536585365855,2.6,2.5411764705882356,2.5,2.5,2.3333333333333335,2.3,2.1,2.0,1.9,1.8,1.8,1.7,1.7,1.7,1.7,1.65,1.65,1.5,1.5,1.5,1.5,1.5,1.25,1.2],\"yaxis\":\"y\",\"type\":\"bar\"}],                        {\"barmode\":\"relative\",\"legend\":{\"tracegroupgap\":0},\"template\":{\"data\":{\"barpolar\":[{\"marker\":{\"line\":{\"color\":\"#E5ECF6\",\"width\":0.5},\"pattern\":{\"fillmode\":\"overlay\",\"size\":10,\"solidity\":0.2}},\"type\":\"barpolar\"}],\"bar\":[{\"error_x\":{\"color\":\"#2a3f5f\"},\"error_y\":{\"color\":\"#2a3f5f\"},\"marker\":{\"line\":{\"color\":\"#E5ECF6\",\"width\":0.5},\"pattern\":{\"fillmode\":\"overlay\",\"size\":10,\"solidity\":0.2}},\"type\":\"bar\"}],\"carpet\":[{\"aaxis\":{\"endlinecolor\":\"#2a3f5f\",\"gridcolor\":\"white\",\"linecolor\":\"white\",\"minorgridcolor\":\"white\",\"startlinecolor\":\"#2a3f5f\"},\"baxis\":{\"endlinecolor\":\"#2a3f5f\",\"gridcolor\":\"white\",\"linecolor\":\"white\",\"minorgridcolor\":\"white\",\"startlinecolor\":\"#2a3f5f\"},\"type\":\"carpet\"}],\"choropleth\":[{\"colorbar\":{\"outlinewidth\":0,\"ticks\":\"\"},\"type\":\"choropleth\"}],\"contourcarpet\":[{\"colorbar\":{\"outlinewidth\":0,\"ticks\":\"\"},\"type\":\"contourcarpet\"}],\"contour\":[{\"colorbar\":{\"outlinewidth\":0,\"ticks\":\"\"},\"colorscale\":[[0.0,\"#0d0887\"],[0.1111111111111111,\"#46039f\"],[0.2222222222222222,\"#7201a8\"],[0.3333333333333333,\"#9c179e\"],[0.4444444444444444,\"#bd3786\"],[0.5555555555555556,\"#d8576b\"],[0.6666666666666666,\"#ed7953\"],[0.7777777777777778,\"#fb9f3a\"],[0.8888888888888888,\"#fdca26\"],[1.0,\"#f0f921\"]],\"type\":\"contour\"}],\"heatmapgl\":[{\"colorbar\":{\"outlinewidth\":0,\"ticks\":\"\"},\"colorscale\":[[0.0,\"#0d0887\"],[0.1111111111111111,\"#46039f\"],[0.2222222222222222,\"#7201a8\"],[0.3333333333333333,\"#9c179e\"],[0.4444444444444444,\"#bd3786\"],[0.5555555555555556,\"#d8576b\"],[0.6666666666666666,\"#ed7953\"],[0.7777777777777778,\"#fb9f3a\"],[0.8888888888888888,\"#fdca26\"],[1.0,\"#f0f921\"]],\"type\":\"heatmapgl\"}],\"heatmap\":[{\"colorbar\":{\"outlinewidth\":0,\"ticks\":\"\"},\"colorscale\":[[0.0,\"#0d0887\"],[0.1111111111111111,\"#46039f\"],[0.2222222222222222,\"#7201a8\"],[0.3333333333333333,\"#9c179e\"],[0.4444444444444444,\"#bd3786\"],[0.5555555555555556,\"#d8576b\"],[0.6666666666666666,\"#ed7953\"],[0.7777777777777778,\"#fb9f3a\"],[0.8888888888888888,\"#fdca26\"],[1.0,\"#f0f921\"]],\"type\":\"heatmap\"}],\"histogram2dcontour\":[{\"colorbar\":{\"outlinewidth\":0,\"ticks\":\"\"},\"colorscale\":[[0.0,\"#0d0887\"],[0.1111111111111111,\"#46039f\"],[0.2222222222222222,\"#7201a8\"],[0.3333333333333333,\"#9c179e\"],[0.4444444444444444,\"#bd3786\"],[0.5555555555555556,\"#d8576b\"],[0.6666666666666666,\"#ed7953\"],[0.7777777777777778,\"#fb9f3a\"],[0.8888888888888888,\"#fdca26\"],[1.0,\"#f0f921\"]],\"type\":\"histogram2dcontour\"}],\"histogram2d\":[{\"colorbar\":{\"outlinewidth\":0,\"ticks\":\"\"},\"colorscale\":[[0.0,\"#0d0887\"],[0.1111111111111111,\"#46039f\"],[0.2222222222222222,\"#7201a8\"],[0.3333333333333333,\"#9c179e\"],[0.4444444444444444,\"#bd3786\"],[0.5555555555555556,\"#d8576b\"],[0.6666666666666666,\"#ed7953\"],[0.7777777777777778,\"#fb9f3a\"],[0.8888888888888888,\"#fdca26\"],[1.0,\"#f0f921\"]],\"type\":\"histogram2d\"}],\"histogram\":[{\"marker\":{\"pattern\":{\"fillmode\":\"overlay\",\"size\":10,\"solidity\":0.2}},\"type\":\"histogram\"}],\"mesh3d\":[{\"colorbar\":{\"outlinewidth\":0,\"ticks\":\"\"},\"type\":\"mesh3d\"}],\"parcoords\":[{\"line\":{\"colorbar\":{\"outlinewidth\":0,\"ticks\":\"\"}},\"type\":\"parcoords\"}],\"pie\":[{\"automargin\":true,\"type\":\"pie\"}],\"scatter3d\":[{\"line\":{\"colorbar\":{\"outlinewidth\":0,\"ticks\":\"\"}},\"marker\":{\"colorbar\":{\"outlinewidth\":0,\"ticks\":\"\"}},\"type\":\"scatter3d\"}],\"scattercarpet\":[{\"marker\":{\"colorbar\":{\"outlinewidth\":0,\"ticks\":\"\"}},\"type\":\"scattercarpet\"}],\"scattergeo\":[{\"marker\":{\"colorbar\":{\"outlinewidth\":0,\"ticks\":\"\"}},\"type\":\"scattergeo\"}],\"scattergl\":[{\"marker\":{\"colorbar\":{\"outlinewidth\":0,\"ticks\":\"\"}},\"type\":\"scattergl\"}],\"scattermapbox\":[{\"marker\":{\"colorbar\":{\"outlinewidth\":0,\"ticks\":\"\"}},\"type\":\"scattermapbox\"}],\"scatterpolargl\":[{\"marker\":{\"colorbar\":{\"outlinewidth\":0,\"ticks\":\"\"}},\"type\":\"scatterpolargl\"}],\"scatterpolar\":[{\"marker\":{\"colorbar\":{\"outlinewidth\":0,\"ticks\":\"\"}},\"type\":\"scatterpolar\"}],\"scatter\":[{\"fillpattern\":{\"fillmode\":\"overlay\",\"size\":10,\"solidity\":0.2},\"type\":\"scatter\"}],\"scatterternary\":[{\"marker\":{\"colorbar\":{\"outlinewidth\":0,\"ticks\":\"\"}},\"type\":\"scatterternary\"}],\"surface\":[{\"colorbar\":{\"outlinewidth\":0,\"ticks\":\"\"},\"colorscale\":[[0.0,\"#0d0887\"],[0.1111111111111111,\"#46039f\"],[0.2222222222222222,\"#7201a8\"],[0.3333333333333333,\"#9c179e\"],[0.4444444444444444,\"#bd3786\"],[0.5555555555555556,\"#d8576b\"],[0.6666666666666666,\"#ed7953\"],[0.7777777777777778,\"#fb9f3a\"],[0.8888888888888888,\"#fdca26\"],[1.0,\"#f0f921\"]],\"type\":\"surface\"}],\"table\":[{\"cells\":{\"fill\":{\"color\":\"#EBF0F8\"},\"line\":{\"color\":\"white\"}},\"header\":{\"fill\":{\"color\":\"#C8D4E3\"},\"line\":{\"color\":\"white\"}},\"type\":\"table\"}]},\"layout\":{\"annotationdefaults\":{\"arrowcolor\":\"#2a3f5f\",\"arrowhead\":0,\"arrowwidth\":1},\"autotypenumbers\":\"strict\",\"coloraxis\":{\"colorbar\":{\"outlinewidth\":0,\"ticks\":\"\"}},\"colorscale\":{\"diverging\":[[0,\"#8e0152\"],[0.1,\"#c51b7d\"],[0.2,\"#de77ae\"],[0.3,\"#f1b6da\"],[0.4,\"#fde0ef\"],[0.5,\"#f7f7f7\"],[0.6,\"#e6f5d0\"],[0.7,\"#b8e186\"],[0.8,\"#7fbc41\"],[0.9,\"#4d9221\"],[1,\"#276419\"]],\"sequential\":[[0.0,\"#0d0887\"],[0.1111111111111111,\"#46039f\"],[0.2222222222222222,\"#7201a8\"],[0.3333333333333333,\"#9c179e\"],[0.4444444444444444,\"#bd3786\"],[0.5555555555555556,\"#d8576b\"],[0.6666666666666666,\"#ed7953\"],[0.7777777777777778,\"#fb9f3a\"],[0.8888888888888888,\"#fdca26\"],[1.0,\"#f0f921\"]],\"sequentialminus\":[[0.0,\"#0d0887\"],[0.1111111111111111,\"#46039f\"],[0.2222222222222222,\"#7201a8\"],[0.3333333333333333,\"#9c179e\"],[0.4444444444444444,\"#bd3786\"],[0.5555555555555556,\"#d8576b\"],[0.6666666666666666,\"#ed7953\"],[0.7777777777777778,\"#fb9f3a\"],[0.8888888888888888,\"#fdca26\"],[1.0,\"#f0f921\"]]},\"colorway\":[\"#636efa\",\"#EF553B\",\"#00cc96\",\"#ab63fa\",\"#FFA15A\",\"#19d3f3\",\"#FF6692\",\"#B6E880\",\"#FF97FF\",\"#FECB52\"],\"font\":{\"color\":\"#2a3f5f\"},\"geo\":{\"bgcolor\":\"white\",\"lakecolor\":\"white\",\"landcolor\":\"#E5ECF6\",\"showlakes\":true,\"showland\":true,\"subunitcolor\":\"white\"},\"hoverlabel\":{\"align\":\"left\"},\"hovermode\":\"closest\",\"mapbox\":{\"style\":\"light\"},\"paper_bgcolor\":\"white\",\"plot_bgcolor\":\"#E5ECF6\",\"polar\":{\"angularaxis\":{\"gridcolor\":\"white\",\"linecolor\":\"white\",\"ticks\":\"\"},\"bgcolor\":\"#E5ECF6\",\"radialaxis\":{\"gridcolor\":\"white\",\"linecolor\":\"white\",\"ticks\":\"\"}},\"scene\":{\"xaxis\":{\"backgroundcolor\":\"#E5ECF6\",\"gridcolor\":\"white\",\"gridwidth\":2,\"linecolor\":\"white\",\"showbackground\":true,\"ticks\":\"\",\"zerolinecolor\":\"white\"},\"yaxis\":{\"backgroundcolor\":\"#E5ECF6\",\"gridcolor\":\"white\",\"gridwidth\":2,\"linecolor\":\"white\",\"showbackground\":true,\"ticks\":\"\",\"zerolinecolor\":\"white\"},\"zaxis\":{\"backgroundcolor\":\"#E5ECF6\",\"gridcolor\":\"white\",\"gridwidth\":2,\"linecolor\":\"white\",\"showbackground\":true,\"ticks\":\"\",\"zerolinecolor\":\"white\"}},\"shapedefaults\":{\"line\":{\"color\":\"#2a3f5f\"}},\"ternary\":{\"aaxis\":{\"gridcolor\":\"white\",\"linecolor\":\"white\",\"ticks\":\"\"},\"baxis\":{\"gridcolor\":\"white\",\"linecolor\":\"white\",\"ticks\":\"\"},\"bgcolor\":\"#E5ECF6\",\"caxis\":{\"gridcolor\":\"white\",\"linecolor\":\"white\",\"ticks\":\"\"}},\"title\":{\"x\":0.05},\"xaxis\":{\"automargin\":true,\"gridcolor\":\"white\",\"linecolor\":\"white\",\"ticks\":\"\",\"title\":{\"standoff\":15},\"zerolinecolor\":\"white\",\"zerolinewidth\":2},\"yaxis\":{\"automargin\":true,\"gridcolor\":\"white\",\"linecolor\":\"white\",\"ticks\":\"\",\"title\":{\"standoff\":15},\"zerolinecolor\":\"white\",\"zerolinewidth\":2}}},\"title\":{\"text\":\"Mean Net Worth of billionaires per Country\"},\"xaxis\":{\"anchor\":\"y\",\"domain\":[0.0,1.0],\"title\":{\"text\":\"Citizenship\"}},\"yaxis\":{\"anchor\":\"x\",\"domain\":[0.0,1.0],\"title\":{\"text\":\"mean net worth\"}}},                        {\"responsive\": true}                    ).then(function(){\n",
       "                            \n",
       "var gd = document.getElementById('fb1b1f56-5fe9-412a-ae5e-4ec9a4c2a1c2');\n",
       "var x = new MutationObserver(function (mutations, observer) {{\n",
       "        var display = window.getComputedStyle(gd).display;\n",
       "        if (!display || display === 'none') {{\n",
       "            console.log([gd, 'removed!']);\n",
       "            Plotly.purge(gd);\n",
       "            observer.disconnect();\n",
       "        }}\n",
       "}});\n",
       "\n",
       "// Listen for the removal of the full notebook cells\n",
       "var notebookContainer = gd.closest('#notebook-container');\n",
       "if (notebookContainer) {{\n",
       "    x.observe(notebookContainer, {childList: true});\n",
       "}}\n",
       "\n",
       "// Listen for the clearing of the current output cell\n",
       "var outputEl = gd.closest('.output');\n",
       "if (outputEl) {{\n",
       "    x.observe(outputEl, {childList: true});\n",
       "}}\n",
       "\n",
       "                        })                };                });            </script>        </div>"
      ]
     },
     "metadata": {},
     "output_type": "display_data"
    }
   ],
   "source": [
    "# bar graph\n",
    "\n",
    "fig = px.bar(country_networth_avg, x='Citizenship', y='mean net worth', title='Mean Net Worth of billionaires per Country')\n",
    "\n",
    "iplot(fig)"
   ]
  },
  {
   "cell_type": "markdown",
   "id": "9d591ba9",
   "metadata": {
    "papermill": {
     "duration": 0.029812,
     "end_time": "2023-07-14T09:30:00.936966",
     "exception": false,
     "start_time": "2023-07-14T09:30:00.907154",
     "status": "completed"
    },
    "tags": []
   },
   "source": [
    "# Q11: Top 5 industries that has the most billionaires?"
   ]
  },
  {
   "cell_type": "code",
   "execution_count": 33,
   "id": "0d31c096",
   "metadata": {
    "execution": {
     "iopub.execute_input": "2023-07-14T09:30:00.998298Z",
     "iopub.status.busy": "2023-07-14T09:30:00.997914Z",
     "iopub.status.idle": "2023-07-14T09:30:01.012800Z",
     "shell.execute_reply": "2023-07-14T09:30:01.011771Z"
    },
    "papermill": {
     "duration": 0.048842,
     "end_time": "2023-07-14T09:30:01.015446",
     "exception": false,
     "start_time": "2023-07-14T09:30:00.966604",
     "status": "completed"
    },
    "tags": []
   },
   "outputs": [
    {
     "data": {
      "text/html": [
       "<div>\n",
       "<style scoped>\n",
       "    .dataframe tbody tr th:only-of-type {\n",
       "        vertical-align: middle;\n",
       "    }\n",
       "\n",
       "    .dataframe tbody tr th {\n",
       "        vertical-align: top;\n",
       "    }\n",
       "\n",
       "    .dataframe thead th {\n",
       "        text-align: right;\n",
       "    }\n",
       "</style>\n",
       "<table border=\"1\" class=\"dataframe\">\n",
       "  <thead>\n",
       "    <tr style=\"text-align: right;\">\n",
       "      <th></th>\n",
       "      <th>Income Source</th>\n",
       "      <th>count</th>\n",
       "    </tr>\n",
       "  </thead>\n",
       "  <tbody>\n",
       "    <tr>\n",
       "      <th>5</th>\n",
       "      <td>Finance &amp; Investments</td>\n",
       "      <td>392</td>\n",
       "    </tr>\n",
       "    <tr>\n",
       "      <th>16</th>\n",
       "      <td>Technology</td>\n",
       "      <td>340</td>\n",
       "    </tr>\n",
       "    <tr>\n",
       "      <th>10</th>\n",
       "      <td>Manufacturing</td>\n",
       "      <td>333</td>\n",
       "    </tr>\n",
       "    <tr>\n",
       "      <th>4</th>\n",
       "      <td>Fashion &amp; Retail</td>\n",
       "      <td>249</td>\n",
       "    </tr>\n",
       "    <tr>\n",
       "      <th>8</th>\n",
       "      <td>Healthcare</td>\n",
       "      <td>213</td>\n",
       "    </tr>\n",
       "  </tbody>\n",
       "</table>\n",
       "</div>"
      ],
      "text/plain": [
       "            Income Source  count\n",
       "5   Finance & Investments    392\n",
       "16             Technology    340\n",
       "10          Manufacturing    333\n",
       "4        Fashion & Retail    249\n",
       "8              Healthcare    213"
      ]
     },
     "execution_count": 33,
     "metadata": {},
     "output_type": "execute_result"
    }
   ],
   "source": [
    "# group 'Income Source', count the size of each Industries and get the top 5\n",
    "\n",
    "dfs.groupby('Income Source').size().reset_index(name='count').nlargest(5, 'count')"
   ]
  },
  {
   "cell_type": "markdown",
   "id": "8212deb5",
   "metadata": {
    "papermill": {
     "duration": 0.030419,
     "end_time": "2023-07-14T09:30:01.076502",
     "exception": false,
     "start_time": "2023-07-14T09:30:01.046083",
     "status": "completed"
    },
    "tags": []
   },
   "source": [
    "### *Top 5 industries* that has the most billionaires are **Finance & Investments, Technology, Manufacturing, Fashion & Retail and Healthcare**"
   ]
  },
  {
   "cell_type": "markdown",
   "id": "f51aa677",
   "metadata": {
    "papermill": {
     "duration": 0.030995,
     "end_time": "2023-07-14T09:30:01.140856",
     "exception": false,
     "start_time": "2023-07-14T09:30:01.109861",
     "status": "completed"
    },
    "tags": []
   },
   "source": [
    "# Q12: Create a Violinplot that shows the distribution of Net Worths(Greater than 50B) across different Industries"
   ]
  },
  {
   "cell_type": "code",
   "execution_count": 34,
   "id": "bfba1c16",
   "metadata": {
    "execution": {
     "iopub.execute_input": "2023-07-14T09:30:01.206385Z",
     "iopub.status.busy": "2023-07-14T09:30:01.206004Z",
     "iopub.status.idle": "2023-07-14T09:30:01.319969Z",
     "shell.execute_reply": "2023-07-14T09:30:01.319146Z"
    },
    "papermill": {
     "duration": 0.147643,
     "end_time": "2023-07-14T09:30:01.321675",
     "exception": false,
     "start_time": "2023-07-14T09:30:01.174032",
     "status": "completed"
    },
    "tags": []
   },
   "outputs": [
    {
     "data": {
      "application/vnd.plotly.v1+json": {
       "config": {
        "linkText": "Export to plot.ly",
        "plotlyServerURL": "https://plot.ly",
        "showLink": false
       },
       "data": [
        {
         "alignmentgroup": "True",
         "box": {
          "visible": true
         },
         "hovertemplate": "Income Source=%{x}<br>Net_Worth=%{y}<extra></extra>",
         "legendgroup": "",
         "marker": {
          "color": "#636efa"
         },
         "name": "",
         "offsetgroup": "",
         "orientation": "v",
         "points": "all",
         "scalegroup": "True",
         "showlegend": false,
         "type": "violin",
         "x": [
          "Automotive",
          "Technology",
          "Fashion & Retail",
          "Technology",
          "Finance & Investments",
          "Technology",
          "Technology",
          "Technology",
          "diversified",
          "Technology",
          "Diversified",
          "Media & Entertainment",
          "Telecom",
          "Fashion & Retail",
          "commodities, infrastructure, Self Made",
          "Technology",
          "Fashion & Retail",
          "Food & Beverage",
          "Fashion & Retail",
          "Fashion & Retail",
          "Finance & Investments",
          "Diversified",
          "Diversified",
          "Fashion & Retail",
          "Technology"
         ],
         "x0": " ",
         "xaxis": "x",
         "y": [
          219.0,
          171.0,
          158.0,
          129.0,
          118.0,
          111.0,
          107.0,
          106.0,
          94.1,
          91.4,
          90.0,
          82.0,
          81.2,
          74.8,
          74.8,
          67.3,
          66.2,
          65.7,
          65.3,
          65.0,
          65.0,
          60.0,
          60.0,
          59.6,
          55.1
         ],
         "y0": " ",
         "yaxis": "y"
        }
       ],
       "layout": {
        "legend": {
         "tracegroupgap": 0
        },
        "template": {
         "data": {
          "bar": [
           {
            "error_x": {
             "color": "#2a3f5f"
            },
            "error_y": {
             "color": "#2a3f5f"
            },
            "marker": {
             "line": {
              "color": "#E5ECF6",
              "width": 0.5
             },
             "pattern": {
              "fillmode": "overlay",
              "size": 10,
              "solidity": 0.2
             }
            },
            "type": "bar"
           }
          ],
          "barpolar": [
           {
            "marker": {
             "line": {
              "color": "#E5ECF6",
              "width": 0.5
             },
             "pattern": {
              "fillmode": "overlay",
              "size": 10,
              "solidity": 0.2
             }
            },
            "type": "barpolar"
           }
          ],
          "carpet": [
           {
            "aaxis": {
             "endlinecolor": "#2a3f5f",
             "gridcolor": "white",
             "linecolor": "white",
             "minorgridcolor": "white",
             "startlinecolor": "#2a3f5f"
            },
            "baxis": {
             "endlinecolor": "#2a3f5f",
             "gridcolor": "white",
             "linecolor": "white",
             "minorgridcolor": "white",
             "startlinecolor": "#2a3f5f"
            },
            "type": "carpet"
           }
          ],
          "choropleth": [
           {
            "colorbar": {
             "outlinewidth": 0,
             "ticks": ""
            },
            "type": "choropleth"
           }
          ],
          "contour": [
           {
            "colorbar": {
             "outlinewidth": 0,
             "ticks": ""
            },
            "colorscale": [
             [
              0.0,
              "#0d0887"
             ],
             [
              0.1111111111111111,
              "#46039f"
             ],
             [
              0.2222222222222222,
              "#7201a8"
             ],
             [
              0.3333333333333333,
              "#9c179e"
             ],
             [
              0.4444444444444444,
              "#bd3786"
             ],
             [
              0.5555555555555556,
              "#d8576b"
             ],
             [
              0.6666666666666666,
              "#ed7953"
             ],
             [
              0.7777777777777778,
              "#fb9f3a"
             ],
             [
              0.8888888888888888,
              "#fdca26"
             ],
             [
              1.0,
              "#f0f921"
             ]
            ],
            "type": "contour"
           }
          ],
          "contourcarpet": [
           {
            "colorbar": {
             "outlinewidth": 0,
             "ticks": ""
            },
            "type": "contourcarpet"
           }
          ],
          "heatmap": [
           {
            "colorbar": {
             "outlinewidth": 0,
             "ticks": ""
            },
            "colorscale": [
             [
              0.0,
              "#0d0887"
             ],
             [
              0.1111111111111111,
              "#46039f"
             ],
             [
              0.2222222222222222,
              "#7201a8"
             ],
             [
              0.3333333333333333,
              "#9c179e"
             ],
             [
              0.4444444444444444,
              "#bd3786"
             ],
             [
              0.5555555555555556,
              "#d8576b"
             ],
             [
              0.6666666666666666,
              "#ed7953"
             ],
             [
              0.7777777777777778,
              "#fb9f3a"
             ],
             [
              0.8888888888888888,
              "#fdca26"
             ],
             [
              1.0,
              "#f0f921"
             ]
            ],
            "type": "heatmap"
           }
          ],
          "heatmapgl": [
           {
            "colorbar": {
             "outlinewidth": 0,
             "ticks": ""
            },
            "colorscale": [
             [
              0.0,
              "#0d0887"
             ],
             [
              0.1111111111111111,
              "#46039f"
             ],
             [
              0.2222222222222222,
              "#7201a8"
             ],
             [
              0.3333333333333333,
              "#9c179e"
             ],
             [
              0.4444444444444444,
              "#bd3786"
             ],
             [
              0.5555555555555556,
              "#d8576b"
             ],
             [
              0.6666666666666666,
              "#ed7953"
             ],
             [
              0.7777777777777778,
              "#fb9f3a"
             ],
             [
              0.8888888888888888,
              "#fdca26"
             ],
             [
              1.0,
              "#f0f921"
             ]
            ],
            "type": "heatmapgl"
           }
          ],
          "histogram": [
           {
            "marker": {
             "pattern": {
              "fillmode": "overlay",
              "size": 10,
              "solidity": 0.2
             }
            },
            "type": "histogram"
           }
          ],
          "histogram2d": [
           {
            "colorbar": {
             "outlinewidth": 0,
             "ticks": ""
            },
            "colorscale": [
             [
              0.0,
              "#0d0887"
             ],
             [
              0.1111111111111111,
              "#46039f"
             ],
             [
              0.2222222222222222,
              "#7201a8"
             ],
             [
              0.3333333333333333,
              "#9c179e"
             ],
             [
              0.4444444444444444,
              "#bd3786"
             ],
             [
              0.5555555555555556,
              "#d8576b"
             ],
             [
              0.6666666666666666,
              "#ed7953"
             ],
             [
              0.7777777777777778,
              "#fb9f3a"
             ],
             [
              0.8888888888888888,
              "#fdca26"
             ],
             [
              1.0,
              "#f0f921"
             ]
            ],
            "type": "histogram2d"
           }
          ],
          "histogram2dcontour": [
           {
            "colorbar": {
             "outlinewidth": 0,
             "ticks": ""
            },
            "colorscale": [
             [
              0.0,
              "#0d0887"
             ],
             [
              0.1111111111111111,
              "#46039f"
             ],
             [
              0.2222222222222222,
              "#7201a8"
             ],
             [
              0.3333333333333333,
              "#9c179e"
             ],
             [
              0.4444444444444444,
              "#bd3786"
             ],
             [
              0.5555555555555556,
              "#d8576b"
             ],
             [
              0.6666666666666666,
              "#ed7953"
             ],
             [
              0.7777777777777778,
              "#fb9f3a"
             ],
             [
              0.8888888888888888,
              "#fdca26"
             ],
             [
              1.0,
              "#f0f921"
             ]
            ],
            "type": "histogram2dcontour"
           }
          ],
          "mesh3d": [
           {
            "colorbar": {
             "outlinewidth": 0,
             "ticks": ""
            },
            "type": "mesh3d"
           }
          ],
          "parcoords": [
           {
            "line": {
             "colorbar": {
              "outlinewidth": 0,
              "ticks": ""
             }
            },
            "type": "parcoords"
           }
          ],
          "pie": [
           {
            "automargin": true,
            "type": "pie"
           }
          ],
          "scatter": [
           {
            "fillpattern": {
             "fillmode": "overlay",
             "size": 10,
             "solidity": 0.2
            },
            "type": "scatter"
           }
          ],
          "scatter3d": [
           {
            "line": {
             "colorbar": {
              "outlinewidth": 0,
              "ticks": ""
             }
            },
            "marker": {
             "colorbar": {
              "outlinewidth": 0,
              "ticks": ""
             }
            },
            "type": "scatter3d"
           }
          ],
          "scattercarpet": [
           {
            "marker": {
             "colorbar": {
              "outlinewidth": 0,
              "ticks": ""
             }
            },
            "type": "scattercarpet"
           }
          ],
          "scattergeo": [
           {
            "marker": {
             "colorbar": {
              "outlinewidth": 0,
              "ticks": ""
             }
            },
            "type": "scattergeo"
           }
          ],
          "scattergl": [
           {
            "marker": {
             "colorbar": {
              "outlinewidth": 0,
              "ticks": ""
             }
            },
            "type": "scattergl"
           }
          ],
          "scattermapbox": [
           {
            "marker": {
             "colorbar": {
              "outlinewidth": 0,
              "ticks": ""
             }
            },
            "type": "scattermapbox"
           }
          ],
          "scatterpolar": [
           {
            "marker": {
             "colorbar": {
              "outlinewidth": 0,
              "ticks": ""
             }
            },
            "type": "scatterpolar"
           }
          ],
          "scatterpolargl": [
           {
            "marker": {
             "colorbar": {
              "outlinewidth": 0,
              "ticks": ""
             }
            },
            "type": "scatterpolargl"
           }
          ],
          "scatterternary": [
           {
            "marker": {
             "colorbar": {
              "outlinewidth": 0,
              "ticks": ""
             }
            },
            "type": "scatterternary"
           }
          ],
          "surface": [
           {
            "colorbar": {
             "outlinewidth": 0,
             "ticks": ""
            },
            "colorscale": [
             [
              0.0,
              "#0d0887"
             ],
             [
              0.1111111111111111,
              "#46039f"
             ],
             [
              0.2222222222222222,
              "#7201a8"
             ],
             [
              0.3333333333333333,
              "#9c179e"
             ],
             [
              0.4444444444444444,
              "#bd3786"
             ],
             [
              0.5555555555555556,
              "#d8576b"
             ],
             [
              0.6666666666666666,
              "#ed7953"
             ],
             [
              0.7777777777777778,
              "#fb9f3a"
             ],
             [
              0.8888888888888888,
              "#fdca26"
             ],
             [
              1.0,
              "#f0f921"
             ]
            ],
            "type": "surface"
           }
          ],
          "table": [
           {
            "cells": {
             "fill": {
              "color": "#EBF0F8"
             },
             "line": {
              "color": "white"
             }
            },
            "header": {
             "fill": {
              "color": "#C8D4E3"
             },
             "line": {
              "color": "white"
             }
            },
            "type": "table"
           }
          ]
         },
         "layout": {
          "annotationdefaults": {
           "arrowcolor": "#2a3f5f",
           "arrowhead": 0,
           "arrowwidth": 1
          },
          "autotypenumbers": "strict",
          "coloraxis": {
           "colorbar": {
            "outlinewidth": 0,
            "ticks": ""
           }
          },
          "colorscale": {
           "diverging": [
            [
             0,
             "#8e0152"
            ],
            [
             0.1,
             "#c51b7d"
            ],
            [
             0.2,
             "#de77ae"
            ],
            [
             0.3,
             "#f1b6da"
            ],
            [
             0.4,
             "#fde0ef"
            ],
            [
             0.5,
             "#f7f7f7"
            ],
            [
             0.6,
             "#e6f5d0"
            ],
            [
             0.7,
             "#b8e186"
            ],
            [
             0.8,
             "#7fbc41"
            ],
            [
             0.9,
             "#4d9221"
            ],
            [
             1,
             "#276419"
            ]
           ],
           "sequential": [
            [
             0.0,
             "#0d0887"
            ],
            [
             0.1111111111111111,
             "#46039f"
            ],
            [
             0.2222222222222222,
             "#7201a8"
            ],
            [
             0.3333333333333333,
             "#9c179e"
            ],
            [
             0.4444444444444444,
             "#bd3786"
            ],
            [
             0.5555555555555556,
             "#d8576b"
            ],
            [
             0.6666666666666666,
             "#ed7953"
            ],
            [
             0.7777777777777778,
             "#fb9f3a"
            ],
            [
             0.8888888888888888,
             "#fdca26"
            ],
            [
             1.0,
             "#f0f921"
            ]
           ],
           "sequentialminus": [
            [
             0.0,
             "#0d0887"
            ],
            [
             0.1111111111111111,
             "#46039f"
            ],
            [
             0.2222222222222222,
             "#7201a8"
            ],
            [
             0.3333333333333333,
             "#9c179e"
            ],
            [
             0.4444444444444444,
             "#bd3786"
            ],
            [
             0.5555555555555556,
             "#d8576b"
            ],
            [
             0.6666666666666666,
             "#ed7953"
            ],
            [
             0.7777777777777778,
             "#fb9f3a"
            ],
            [
             0.8888888888888888,
             "#fdca26"
            ],
            [
             1.0,
             "#f0f921"
            ]
           ]
          },
          "colorway": [
           "#636efa",
           "#EF553B",
           "#00cc96",
           "#ab63fa",
           "#FFA15A",
           "#19d3f3",
           "#FF6692",
           "#B6E880",
           "#FF97FF",
           "#FECB52"
          ],
          "font": {
           "color": "#2a3f5f"
          },
          "geo": {
           "bgcolor": "white",
           "lakecolor": "white",
           "landcolor": "#E5ECF6",
           "showlakes": true,
           "showland": true,
           "subunitcolor": "white"
          },
          "hoverlabel": {
           "align": "left"
          },
          "hovermode": "closest",
          "mapbox": {
           "style": "light"
          },
          "paper_bgcolor": "white",
          "plot_bgcolor": "#E5ECF6",
          "polar": {
           "angularaxis": {
            "gridcolor": "white",
            "linecolor": "white",
            "ticks": ""
           },
           "bgcolor": "#E5ECF6",
           "radialaxis": {
            "gridcolor": "white",
            "linecolor": "white",
            "ticks": ""
           }
          },
          "scene": {
           "xaxis": {
            "backgroundcolor": "#E5ECF6",
            "gridcolor": "white",
            "gridwidth": 2,
            "linecolor": "white",
            "showbackground": true,
            "ticks": "",
            "zerolinecolor": "white"
           },
           "yaxis": {
            "backgroundcolor": "#E5ECF6",
            "gridcolor": "white",
            "gridwidth": 2,
            "linecolor": "white",
            "showbackground": true,
            "ticks": "",
            "zerolinecolor": "white"
           },
           "zaxis": {
            "backgroundcolor": "#E5ECF6",
            "gridcolor": "white",
            "gridwidth": 2,
            "linecolor": "white",
            "showbackground": true,
            "ticks": "",
            "zerolinecolor": "white"
           }
          },
          "shapedefaults": {
           "line": {
            "color": "#2a3f5f"
           }
          },
          "ternary": {
           "aaxis": {
            "gridcolor": "white",
            "linecolor": "white",
            "ticks": ""
           },
           "baxis": {
            "gridcolor": "white",
            "linecolor": "white",
            "ticks": ""
           },
           "bgcolor": "#E5ECF6",
           "caxis": {
            "gridcolor": "white",
            "linecolor": "white",
            "ticks": ""
           }
          },
          "title": {
           "x": 0.05
          },
          "xaxis": {
           "automargin": true,
           "gridcolor": "white",
           "linecolor": "white",
           "ticks": "",
           "title": {
            "standoff": 15
           },
           "zerolinecolor": "white",
           "zerolinewidth": 2
          },
          "yaxis": {
           "automargin": true,
           "gridcolor": "white",
           "linecolor": "white",
           "ticks": "",
           "title": {
            "standoff": 15
           },
           "zerolinecolor": "white",
           "zerolinewidth": 2
          }
         }
        },
        "title": {
         "text": "Distribution of Net Worths (Greater than 50B) across Industries"
        },
        "violinmode": "group",
        "xaxis": {
         "anchor": "y",
         "domain": [
          0.0,
          1.0
         ],
         "title": {
          "text": "Income Source"
         }
        },
        "yaxis": {
         "anchor": "x",
         "domain": [
          0.0,
          1.0
         ],
         "title": {
          "text": "Net_Worth"
         }
        }
       }
      },
      "text/html": [
       "<div>                            <div id=\"fb793dbd-7991-410f-84eb-9e53ddf6d1a9\" class=\"plotly-graph-div\" style=\"height:525px; width:100%;\"></div>            <script type=\"text/javascript\">                require([\"plotly\"], function(Plotly) {                    window.PLOTLYENV=window.PLOTLYENV || {};                                    if (document.getElementById(\"fb793dbd-7991-410f-84eb-9e53ddf6d1a9\")) {                    Plotly.newPlot(                        \"fb793dbd-7991-410f-84eb-9e53ddf6d1a9\",                        [{\"alignmentgroup\":\"True\",\"box\":{\"visible\":true},\"hovertemplate\":\"Income Source=%{x}\\u003cbr\\u003eNet_Worth=%{y}\\u003cextra\\u003e\\u003c\\u002fextra\\u003e\",\"legendgroup\":\"\",\"marker\":{\"color\":\"#636efa\"},\"name\":\"\",\"offsetgroup\":\"\",\"orientation\":\"v\",\"points\":\"all\",\"scalegroup\":\"True\",\"showlegend\":false,\"x\":[\"Automotive\",\"Technology\",\"Fashion & Retail\",\"Technology\",\"Finance & Investments\",\"Technology\",\"Technology\",\"Technology\",\"diversified\",\"Technology\",\"Diversified\",\"Media & Entertainment\",\"Telecom\",\"Fashion & Retail\",\"commodities, infrastructure, Self Made\",\"Technology\",\"Fashion & Retail\",\"Food & Beverage\",\"Fashion & Retail\",\"Fashion & Retail\",\"Finance & Investments\",\"Diversified\",\"Diversified\",\"Fashion & Retail\",\"Technology\"],\"x0\":\" \",\"xaxis\":\"x\",\"y\":[219.0,171.0,158.0,129.0,118.0,111.0,107.0,106.0,94.1,91.4,90.0,82.0,81.2,74.8,74.8,67.3,66.2,65.7,65.3,65.0,65.0,60.0,60.0,59.6,55.1],\"y0\":\" \",\"yaxis\":\"y\",\"type\":\"violin\"}],                        {\"legend\":{\"tracegroupgap\":0},\"template\":{\"data\":{\"barpolar\":[{\"marker\":{\"line\":{\"color\":\"#E5ECF6\",\"width\":0.5},\"pattern\":{\"fillmode\":\"overlay\",\"size\":10,\"solidity\":0.2}},\"type\":\"barpolar\"}],\"bar\":[{\"error_x\":{\"color\":\"#2a3f5f\"},\"error_y\":{\"color\":\"#2a3f5f\"},\"marker\":{\"line\":{\"color\":\"#E5ECF6\",\"width\":0.5},\"pattern\":{\"fillmode\":\"overlay\",\"size\":10,\"solidity\":0.2}},\"type\":\"bar\"}],\"carpet\":[{\"aaxis\":{\"endlinecolor\":\"#2a3f5f\",\"gridcolor\":\"white\",\"linecolor\":\"white\",\"minorgridcolor\":\"white\",\"startlinecolor\":\"#2a3f5f\"},\"baxis\":{\"endlinecolor\":\"#2a3f5f\",\"gridcolor\":\"white\",\"linecolor\":\"white\",\"minorgridcolor\":\"white\",\"startlinecolor\":\"#2a3f5f\"},\"type\":\"carpet\"}],\"choropleth\":[{\"colorbar\":{\"outlinewidth\":0,\"ticks\":\"\"},\"type\":\"choropleth\"}],\"contourcarpet\":[{\"colorbar\":{\"outlinewidth\":0,\"ticks\":\"\"},\"type\":\"contourcarpet\"}],\"contour\":[{\"colorbar\":{\"outlinewidth\":0,\"ticks\":\"\"},\"colorscale\":[[0.0,\"#0d0887\"],[0.1111111111111111,\"#46039f\"],[0.2222222222222222,\"#7201a8\"],[0.3333333333333333,\"#9c179e\"],[0.4444444444444444,\"#bd3786\"],[0.5555555555555556,\"#d8576b\"],[0.6666666666666666,\"#ed7953\"],[0.7777777777777778,\"#fb9f3a\"],[0.8888888888888888,\"#fdca26\"],[1.0,\"#f0f921\"]],\"type\":\"contour\"}],\"heatmapgl\":[{\"colorbar\":{\"outlinewidth\":0,\"ticks\":\"\"},\"colorscale\":[[0.0,\"#0d0887\"],[0.1111111111111111,\"#46039f\"],[0.2222222222222222,\"#7201a8\"],[0.3333333333333333,\"#9c179e\"],[0.4444444444444444,\"#bd3786\"],[0.5555555555555556,\"#d8576b\"],[0.6666666666666666,\"#ed7953\"],[0.7777777777777778,\"#fb9f3a\"],[0.8888888888888888,\"#fdca26\"],[1.0,\"#f0f921\"]],\"type\":\"heatmapgl\"}],\"heatmap\":[{\"colorbar\":{\"outlinewidth\":0,\"ticks\":\"\"},\"colorscale\":[[0.0,\"#0d0887\"],[0.1111111111111111,\"#46039f\"],[0.2222222222222222,\"#7201a8\"],[0.3333333333333333,\"#9c179e\"],[0.4444444444444444,\"#bd3786\"],[0.5555555555555556,\"#d8576b\"],[0.6666666666666666,\"#ed7953\"],[0.7777777777777778,\"#fb9f3a\"],[0.8888888888888888,\"#fdca26\"],[1.0,\"#f0f921\"]],\"type\":\"heatmap\"}],\"histogram2dcontour\":[{\"colorbar\":{\"outlinewidth\":0,\"ticks\":\"\"},\"colorscale\":[[0.0,\"#0d0887\"],[0.1111111111111111,\"#46039f\"],[0.2222222222222222,\"#7201a8\"],[0.3333333333333333,\"#9c179e\"],[0.4444444444444444,\"#bd3786\"],[0.5555555555555556,\"#d8576b\"],[0.6666666666666666,\"#ed7953\"],[0.7777777777777778,\"#fb9f3a\"],[0.8888888888888888,\"#fdca26\"],[1.0,\"#f0f921\"]],\"type\":\"histogram2dcontour\"}],\"histogram2d\":[{\"colorbar\":{\"outlinewidth\":0,\"ticks\":\"\"},\"colorscale\":[[0.0,\"#0d0887\"],[0.1111111111111111,\"#46039f\"],[0.2222222222222222,\"#7201a8\"],[0.3333333333333333,\"#9c179e\"],[0.4444444444444444,\"#bd3786\"],[0.5555555555555556,\"#d8576b\"],[0.6666666666666666,\"#ed7953\"],[0.7777777777777778,\"#fb9f3a\"],[0.8888888888888888,\"#fdca26\"],[1.0,\"#f0f921\"]],\"type\":\"histogram2d\"}],\"histogram\":[{\"marker\":{\"pattern\":{\"fillmode\":\"overlay\",\"size\":10,\"solidity\":0.2}},\"type\":\"histogram\"}],\"mesh3d\":[{\"colorbar\":{\"outlinewidth\":0,\"ticks\":\"\"},\"type\":\"mesh3d\"}],\"parcoords\":[{\"line\":{\"colorbar\":{\"outlinewidth\":0,\"ticks\":\"\"}},\"type\":\"parcoords\"}],\"pie\":[{\"automargin\":true,\"type\":\"pie\"}],\"scatter3d\":[{\"line\":{\"colorbar\":{\"outlinewidth\":0,\"ticks\":\"\"}},\"marker\":{\"colorbar\":{\"outlinewidth\":0,\"ticks\":\"\"}},\"type\":\"scatter3d\"}],\"scattercarpet\":[{\"marker\":{\"colorbar\":{\"outlinewidth\":0,\"ticks\":\"\"}},\"type\":\"scattercarpet\"}],\"scattergeo\":[{\"marker\":{\"colorbar\":{\"outlinewidth\":0,\"ticks\":\"\"}},\"type\":\"scattergeo\"}],\"scattergl\":[{\"marker\":{\"colorbar\":{\"outlinewidth\":0,\"ticks\":\"\"}},\"type\":\"scattergl\"}],\"scattermapbox\":[{\"marker\":{\"colorbar\":{\"outlinewidth\":0,\"ticks\":\"\"}},\"type\":\"scattermapbox\"}],\"scatterpolargl\":[{\"marker\":{\"colorbar\":{\"outlinewidth\":0,\"ticks\":\"\"}},\"type\":\"scatterpolargl\"}],\"scatterpolar\":[{\"marker\":{\"colorbar\":{\"outlinewidth\":0,\"ticks\":\"\"}},\"type\":\"scatterpolar\"}],\"scatter\":[{\"fillpattern\":{\"fillmode\":\"overlay\",\"size\":10,\"solidity\":0.2},\"type\":\"scatter\"}],\"scatterternary\":[{\"marker\":{\"colorbar\":{\"outlinewidth\":0,\"ticks\":\"\"}},\"type\":\"scatterternary\"}],\"surface\":[{\"colorbar\":{\"outlinewidth\":0,\"ticks\":\"\"},\"colorscale\":[[0.0,\"#0d0887\"],[0.1111111111111111,\"#46039f\"],[0.2222222222222222,\"#7201a8\"],[0.3333333333333333,\"#9c179e\"],[0.4444444444444444,\"#bd3786\"],[0.5555555555555556,\"#d8576b\"],[0.6666666666666666,\"#ed7953\"],[0.7777777777777778,\"#fb9f3a\"],[0.8888888888888888,\"#fdca26\"],[1.0,\"#f0f921\"]],\"type\":\"surface\"}],\"table\":[{\"cells\":{\"fill\":{\"color\":\"#EBF0F8\"},\"line\":{\"color\":\"white\"}},\"header\":{\"fill\":{\"color\":\"#C8D4E3\"},\"line\":{\"color\":\"white\"}},\"type\":\"table\"}]},\"layout\":{\"annotationdefaults\":{\"arrowcolor\":\"#2a3f5f\",\"arrowhead\":0,\"arrowwidth\":1},\"autotypenumbers\":\"strict\",\"coloraxis\":{\"colorbar\":{\"outlinewidth\":0,\"ticks\":\"\"}},\"colorscale\":{\"diverging\":[[0,\"#8e0152\"],[0.1,\"#c51b7d\"],[0.2,\"#de77ae\"],[0.3,\"#f1b6da\"],[0.4,\"#fde0ef\"],[0.5,\"#f7f7f7\"],[0.6,\"#e6f5d0\"],[0.7,\"#b8e186\"],[0.8,\"#7fbc41\"],[0.9,\"#4d9221\"],[1,\"#276419\"]],\"sequential\":[[0.0,\"#0d0887\"],[0.1111111111111111,\"#46039f\"],[0.2222222222222222,\"#7201a8\"],[0.3333333333333333,\"#9c179e\"],[0.4444444444444444,\"#bd3786\"],[0.5555555555555556,\"#d8576b\"],[0.6666666666666666,\"#ed7953\"],[0.7777777777777778,\"#fb9f3a\"],[0.8888888888888888,\"#fdca26\"],[1.0,\"#f0f921\"]],\"sequentialminus\":[[0.0,\"#0d0887\"],[0.1111111111111111,\"#46039f\"],[0.2222222222222222,\"#7201a8\"],[0.3333333333333333,\"#9c179e\"],[0.4444444444444444,\"#bd3786\"],[0.5555555555555556,\"#d8576b\"],[0.6666666666666666,\"#ed7953\"],[0.7777777777777778,\"#fb9f3a\"],[0.8888888888888888,\"#fdca26\"],[1.0,\"#f0f921\"]]},\"colorway\":[\"#636efa\",\"#EF553B\",\"#00cc96\",\"#ab63fa\",\"#FFA15A\",\"#19d3f3\",\"#FF6692\",\"#B6E880\",\"#FF97FF\",\"#FECB52\"],\"font\":{\"color\":\"#2a3f5f\"},\"geo\":{\"bgcolor\":\"white\",\"lakecolor\":\"white\",\"landcolor\":\"#E5ECF6\",\"showlakes\":true,\"showland\":true,\"subunitcolor\":\"white\"},\"hoverlabel\":{\"align\":\"left\"},\"hovermode\":\"closest\",\"mapbox\":{\"style\":\"light\"},\"paper_bgcolor\":\"white\",\"plot_bgcolor\":\"#E5ECF6\",\"polar\":{\"angularaxis\":{\"gridcolor\":\"white\",\"linecolor\":\"white\",\"ticks\":\"\"},\"bgcolor\":\"#E5ECF6\",\"radialaxis\":{\"gridcolor\":\"white\",\"linecolor\":\"white\",\"ticks\":\"\"}},\"scene\":{\"xaxis\":{\"backgroundcolor\":\"#E5ECF6\",\"gridcolor\":\"white\",\"gridwidth\":2,\"linecolor\":\"white\",\"showbackground\":true,\"ticks\":\"\",\"zerolinecolor\":\"white\"},\"yaxis\":{\"backgroundcolor\":\"#E5ECF6\",\"gridcolor\":\"white\",\"gridwidth\":2,\"linecolor\":\"white\",\"showbackground\":true,\"ticks\":\"\",\"zerolinecolor\":\"white\"},\"zaxis\":{\"backgroundcolor\":\"#E5ECF6\",\"gridcolor\":\"white\",\"gridwidth\":2,\"linecolor\":\"white\",\"showbackground\":true,\"ticks\":\"\",\"zerolinecolor\":\"white\"}},\"shapedefaults\":{\"line\":{\"color\":\"#2a3f5f\"}},\"ternary\":{\"aaxis\":{\"gridcolor\":\"white\",\"linecolor\":\"white\",\"ticks\":\"\"},\"baxis\":{\"gridcolor\":\"white\",\"linecolor\":\"white\",\"ticks\":\"\"},\"bgcolor\":\"#E5ECF6\",\"caxis\":{\"gridcolor\":\"white\",\"linecolor\":\"white\",\"ticks\":\"\"}},\"title\":{\"x\":0.05},\"xaxis\":{\"automargin\":true,\"gridcolor\":\"white\",\"linecolor\":\"white\",\"ticks\":\"\",\"title\":{\"standoff\":15},\"zerolinecolor\":\"white\",\"zerolinewidth\":2},\"yaxis\":{\"automargin\":true,\"gridcolor\":\"white\",\"linecolor\":\"white\",\"ticks\":\"\",\"title\":{\"standoff\":15},\"zerolinecolor\":\"white\",\"zerolinewidth\":2}}},\"title\":{\"text\":\"Distribution of Net Worths (Greater than 50B) across Industries\"},\"violinmode\":\"group\",\"xaxis\":{\"anchor\":\"y\",\"domain\":[0.0,1.0],\"title\":{\"text\":\"Income Source\"}},\"yaxis\":{\"anchor\":\"x\",\"domain\":[0.0,1.0],\"title\":{\"text\":\"Net_Worth\"}}},                        {\"responsive\": true}                    ).then(function(){\n",
       "                            \n",
       "var gd = document.getElementById('fb793dbd-7991-410f-84eb-9e53ddf6d1a9');\n",
       "var x = new MutationObserver(function (mutations, observer) {{\n",
       "        var display = window.getComputedStyle(gd).display;\n",
       "        if (!display || display === 'none') {{\n",
       "            console.log([gd, 'removed!']);\n",
       "            Plotly.purge(gd);\n",
       "            observer.disconnect();\n",
       "        }}\n",
       "}});\n",
       "\n",
       "// Listen for the removal of the full notebook cells\n",
       "var notebookContainer = gd.closest('#notebook-container');\n",
       "if (notebookContainer) {{\n",
       "    x.observe(notebookContainer, {childList: true});\n",
       "}}\n",
       "\n",
       "// Listen for the clearing of the current output cell\n",
       "var outputEl = gd.closest('.output');\n",
       "if (outputEl) {{\n",
       "    x.observe(outputEl, {childList: true});\n",
       "}}\n",
       "\n",
       "                        })                };                });            </script>        </div>"
      ]
     },
     "metadata": {},
     "output_type": "display_data"
    }
   ],
   "source": [
    "# Create violin plot\n",
    "\n",
    "fig = px.violin(dfs[dfs['Net_Worth'] > 50], x='Income Source', y='Net_Worth', box=True, points='all',\n",
    "                title='Distribution of Net Worths (Greater than 50B) across Industries')\n",
    "\n",
    "iplot(fig)"
   ]
  },
  {
   "cell_type": "markdown",
   "id": "2ca56ba6",
   "metadata": {
    "papermill": {
     "duration": 0.034529,
     "end_time": "2023-07-14T09:30:01.391548",
     "exception": false,
     "start_time": "2023-07-14T09:30:01.357019",
     "status": "completed"
    },
    "tags": []
   },
   "source": [
    "# Q13: Create a Heatmap that shows the correlation between age and net worth for billionaires in the technology industry?"
   ]
  },
  {
   "cell_type": "code",
   "execution_count": 35,
   "id": "73c1316f",
   "metadata": {
    "execution": {
     "iopub.execute_input": "2023-07-14T09:30:01.463543Z",
     "iopub.status.busy": "2023-07-14T09:30:01.462965Z",
     "iopub.status.idle": "2023-07-14T09:30:01.566143Z",
     "shell.execute_reply": "2023-07-14T09:30:01.565102Z"
    },
    "papermill": {
     "duration": 0.142912,
     "end_time": "2023-07-14T09:30:01.569372",
     "exception": false,
     "start_time": "2023-07-14T09:30:01.426460",
     "status": "completed"
    },
    "tags": []
   },
   "outputs": [
    {
     "data": {
      "application/vnd.plotly.v1+json": {
       "config": {
        "linkText": "Export to plot.ly",
        "plotlyServerURL": "https://plot.ly",
        "showLink": false
       },
       "data": [
        {
         "coloraxis": "coloraxis",
         "hovertemplate": "x: %{x}<br>y: %{y}<br>color: %{z}<extra></extra>",
         "name": "0",
         "type": "heatmap",
         "x": [
          "Age",
          "Net_Worth"
         ],
         "xaxis": "x",
         "y": [
          "Age",
          "Net_Worth"
         ],
         "yaxis": "y",
         "z": [
          [
           1.0,
           0.030654337343452492
          ],
          [
           0.030654337343452492,
           1.0
          ]
         ]
        }
       ],
       "layout": {
        "coloraxis": {
         "colorscale": [
          [
           0.0,
           "#0d0887"
          ],
          [
           0.1111111111111111,
           "#46039f"
          ],
          [
           0.2222222222222222,
           "#7201a8"
          ],
          [
           0.3333333333333333,
           "#9c179e"
          ],
          [
           0.4444444444444444,
           "#bd3786"
          ],
          [
           0.5555555555555556,
           "#d8576b"
          ],
          [
           0.6666666666666666,
           "#ed7953"
          ],
          [
           0.7777777777777778,
           "#fb9f3a"
          ],
          [
           0.8888888888888888,
           "#fdca26"
          ],
          [
           1.0,
           "#f0f921"
          ]
         ]
        },
        "margin": {
         "t": 60
        },
        "template": {
         "data": {
          "bar": [
           {
            "error_x": {
             "color": "#2a3f5f"
            },
            "error_y": {
             "color": "#2a3f5f"
            },
            "marker": {
             "line": {
              "color": "#E5ECF6",
              "width": 0.5
             },
             "pattern": {
              "fillmode": "overlay",
              "size": 10,
              "solidity": 0.2
             }
            },
            "type": "bar"
           }
          ],
          "barpolar": [
           {
            "marker": {
             "line": {
              "color": "#E5ECF6",
              "width": 0.5
             },
             "pattern": {
              "fillmode": "overlay",
              "size": 10,
              "solidity": 0.2
             }
            },
            "type": "barpolar"
           }
          ],
          "carpet": [
           {
            "aaxis": {
             "endlinecolor": "#2a3f5f",
             "gridcolor": "white",
             "linecolor": "white",
             "minorgridcolor": "white",
             "startlinecolor": "#2a3f5f"
            },
            "baxis": {
             "endlinecolor": "#2a3f5f",
             "gridcolor": "white",
             "linecolor": "white",
             "minorgridcolor": "white",
             "startlinecolor": "#2a3f5f"
            },
            "type": "carpet"
           }
          ],
          "choropleth": [
           {
            "colorbar": {
             "outlinewidth": 0,
             "ticks": ""
            },
            "type": "choropleth"
           }
          ],
          "contour": [
           {
            "colorbar": {
             "outlinewidth": 0,
             "ticks": ""
            },
            "colorscale": [
             [
              0.0,
              "#0d0887"
             ],
             [
              0.1111111111111111,
              "#46039f"
             ],
             [
              0.2222222222222222,
              "#7201a8"
             ],
             [
              0.3333333333333333,
              "#9c179e"
             ],
             [
              0.4444444444444444,
              "#bd3786"
             ],
             [
              0.5555555555555556,
              "#d8576b"
             ],
             [
              0.6666666666666666,
              "#ed7953"
             ],
             [
              0.7777777777777778,
              "#fb9f3a"
             ],
             [
              0.8888888888888888,
              "#fdca26"
             ],
             [
              1.0,
              "#f0f921"
             ]
            ],
            "type": "contour"
           }
          ],
          "contourcarpet": [
           {
            "colorbar": {
             "outlinewidth": 0,
             "ticks": ""
            },
            "type": "contourcarpet"
           }
          ],
          "heatmap": [
           {
            "colorbar": {
             "outlinewidth": 0,
             "ticks": ""
            },
            "colorscale": [
             [
              0.0,
              "#0d0887"
             ],
             [
              0.1111111111111111,
              "#46039f"
             ],
             [
              0.2222222222222222,
              "#7201a8"
             ],
             [
              0.3333333333333333,
              "#9c179e"
             ],
             [
              0.4444444444444444,
              "#bd3786"
             ],
             [
              0.5555555555555556,
              "#d8576b"
             ],
             [
              0.6666666666666666,
              "#ed7953"
             ],
             [
              0.7777777777777778,
              "#fb9f3a"
             ],
             [
              0.8888888888888888,
              "#fdca26"
             ],
             [
              1.0,
              "#f0f921"
             ]
            ],
            "type": "heatmap"
           }
          ],
          "heatmapgl": [
           {
            "colorbar": {
             "outlinewidth": 0,
             "ticks": ""
            },
            "colorscale": [
             [
              0.0,
              "#0d0887"
             ],
             [
              0.1111111111111111,
              "#46039f"
             ],
             [
              0.2222222222222222,
              "#7201a8"
             ],
             [
              0.3333333333333333,
              "#9c179e"
             ],
             [
              0.4444444444444444,
              "#bd3786"
             ],
             [
              0.5555555555555556,
              "#d8576b"
             ],
             [
              0.6666666666666666,
              "#ed7953"
             ],
             [
              0.7777777777777778,
              "#fb9f3a"
             ],
             [
              0.8888888888888888,
              "#fdca26"
             ],
             [
              1.0,
              "#f0f921"
             ]
            ],
            "type": "heatmapgl"
           }
          ],
          "histogram": [
           {
            "marker": {
             "pattern": {
              "fillmode": "overlay",
              "size": 10,
              "solidity": 0.2
             }
            },
            "type": "histogram"
           }
          ],
          "histogram2d": [
           {
            "colorbar": {
             "outlinewidth": 0,
             "ticks": ""
            },
            "colorscale": [
             [
              0.0,
              "#0d0887"
             ],
             [
              0.1111111111111111,
              "#46039f"
             ],
             [
              0.2222222222222222,
              "#7201a8"
             ],
             [
              0.3333333333333333,
              "#9c179e"
             ],
             [
              0.4444444444444444,
              "#bd3786"
             ],
             [
              0.5555555555555556,
              "#d8576b"
             ],
             [
              0.6666666666666666,
              "#ed7953"
             ],
             [
              0.7777777777777778,
              "#fb9f3a"
             ],
             [
              0.8888888888888888,
              "#fdca26"
             ],
             [
              1.0,
              "#f0f921"
             ]
            ],
            "type": "histogram2d"
           }
          ],
          "histogram2dcontour": [
           {
            "colorbar": {
             "outlinewidth": 0,
             "ticks": ""
            },
            "colorscale": [
             [
              0.0,
              "#0d0887"
             ],
             [
              0.1111111111111111,
              "#46039f"
             ],
             [
              0.2222222222222222,
              "#7201a8"
             ],
             [
              0.3333333333333333,
              "#9c179e"
             ],
             [
              0.4444444444444444,
              "#bd3786"
             ],
             [
              0.5555555555555556,
              "#d8576b"
             ],
             [
              0.6666666666666666,
              "#ed7953"
             ],
             [
              0.7777777777777778,
              "#fb9f3a"
             ],
             [
              0.8888888888888888,
              "#fdca26"
             ],
             [
              1.0,
              "#f0f921"
             ]
            ],
            "type": "histogram2dcontour"
           }
          ],
          "mesh3d": [
           {
            "colorbar": {
             "outlinewidth": 0,
             "ticks": ""
            },
            "type": "mesh3d"
           }
          ],
          "parcoords": [
           {
            "line": {
             "colorbar": {
              "outlinewidth": 0,
              "ticks": ""
             }
            },
            "type": "parcoords"
           }
          ],
          "pie": [
           {
            "automargin": true,
            "type": "pie"
           }
          ],
          "scatter": [
           {
            "fillpattern": {
             "fillmode": "overlay",
             "size": 10,
             "solidity": 0.2
            },
            "type": "scatter"
           }
          ],
          "scatter3d": [
           {
            "line": {
             "colorbar": {
              "outlinewidth": 0,
              "ticks": ""
             }
            },
            "marker": {
             "colorbar": {
              "outlinewidth": 0,
              "ticks": ""
             }
            },
            "type": "scatter3d"
           }
          ],
          "scattercarpet": [
           {
            "marker": {
             "colorbar": {
              "outlinewidth": 0,
              "ticks": ""
             }
            },
            "type": "scattercarpet"
           }
          ],
          "scattergeo": [
           {
            "marker": {
             "colorbar": {
              "outlinewidth": 0,
              "ticks": ""
             }
            },
            "type": "scattergeo"
           }
          ],
          "scattergl": [
           {
            "marker": {
             "colorbar": {
              "outlinewidth": 0,
              "ticks": ""
             }
            },
            "type": "scattergl"
           }
          ],
          "scattermapbox": [
           {
            "marker": {
             "colorbar": {
              "outlinewidth": 0,
              "ticks": ""
             }
            },
            "type": "scattermapbox"
           }
          ],
          "scatterpolar": [
           {
            "marker": {
             "colorbar": {
              "outlinewidth": 0,
              "ticks": ""
             }
            },
            "type": "scatterpolar"
           }
          ],
          "scatterpolargl": [
           {
            "marker": {
             "colorbar": {
              "outlinewidth": 0,
              "ticks": ""
             }
            },
            "type": "scatterpolargl"
           }
          ],
          "scatterternary": [
           {
            "marker": {
             "colorbar": {
              "outlinewidth": 0,
              "ticks": ""
             }
            },
            "type": "scatterternary"
           }
          ],
          "surface": [
           {
            "colorbar": {
             "outlinewidth": 0,
             "ticks": ""
            },
            "colorscale": [
             [
              0.0,
              "#0d0887"
             ],
             [
              0.1111111111111111,
              "#46039f"
             ],
             [
              0.2222222222222222,
              "#7201a8"
             ],
             [
              0.3333333333333333,
              "#9c179e"
             ],
             [
              0.4444444444444444,
              "#bd3786"
             ],
             [
              0.5555555555555556,
              "#d8576b"
             ],
             [
              0.6666666666666666,
              "#ed7953"
             ],
             [
              0.7777777777777778,
              "#fb9f3a"
             ],
             [
              0.8888888888888888,
              "#fdca26"
             ],
             [
              1.0,
              "#f0f921"
             ]
            ],
            "type": "surface"
           }
          ],
          "table": [
           {
            "cells": {
             "fill": {
              "color": "#EBF0F8"
             },
             "line": {
              "color": "white"
             }
            },
            "header": {
             "fill": {
              "color": "#C8D4E3"
             },
             "line": {
              "color": "white"
             }
            },
            "type": "table"
           }
          ]
         },
         "layout": {
          "annotationdefaults": {
           "arrowcolor": "#2a3f5f",
           "arrowhead": 0,
           "arrowwidth": 1
          },
          "autotypenumbers": "strict",
          "coloraxis": {
           "colorbar": {
            "outlinewidth": 0,
            "ticks": ""
           }
          },
          "colorscale": {
           "diverging": [
            [
             0,
             "#8e0152"
            ],
            [
             0.1,
             "#c51b7d"
            ],
            [
             0.2,
             "#de77ae"
            ],
            [
             0.3,
             "#f1b6da"
            ],
            [
             0.4,
             "#fde0ef"
            ],
            [
             0.5,
             "#f7f7f7"
            ],
            [
             0.6,
             "#e6f5d0"
            ],
            [
             0.7,
             "#b8e186"
            ],
            [
             0.8,
             "#7fbc41"
            ],
            [
             0.9,
             "#4d9221"
            ],
            [
             1,
             "#276419"
            ]
           ],
           "sequential": [
            [
             0.0,
             "#0d0887"
            ],
            [
             0.1111111111111111,
             "#46039f"
            ],
            [
             0.2222222222222222,
             "#7201a8"
            ],
            [
             0.3333333333333333,
             "#9c179e"
            ],
            [
             0.4444444444444444,
             "#bd3786"
            ],
            [
             0.5555555555555556,
             "#d8576b"
            ],
            [
             0.6666666666666666,
             "#ed7953"
            ],
            [
             0.7777777777777778,
             "#fb9f3a"
            ],
            [
             0.8888888888888888,
             "#fdca26"
            ],
            [
             1.0,
             "#f0f921"
            ]
           ],
           "sequentialminus": [
            [
             0.0,
             "#0d0887"
            ],
            [
             0.1111111111111111,
             "#46039f"
            ],
            [
             0.2222222222222222,
             "#7201a8"
            ],
            [
             0.3333333333333333,
             "#9c179e"
            ],
            [
             0.4444444444444444,
             "#bd3786"
            ],
            [
             0.5555555555555556,
             "#d8576b"
            ],
            [
             0.6666666666666666,
             "#ed7953"
            ],
            [
             0.7777777777777778,
             "#fb9f3a"
            ],
            [
             0.8888888888888888,
             "#fdca26"
            ],
            [
             1.0,
             "#f0f921"
            ]
           ]
          },
          "colorway": [
           "#636efa",
           "#EF553B",
           "#00cc96",
           "#ab63fa",
           "#FFA15A",
           "#19d3f3",
           "#FF6692",
           "#B6E880",
           "#FF97FF",
           "#FECB52"
          ],
          "font": {
           "color": "#2a3f5f"
          },
          "geo": {
           "bgcolor": "white",
           "lakecolor": "white",
           "landcolor": "#E5ECF6",
           "showlakes": true,
           "showland": true,
           "subunitcolor": "white"
          },
          "hoverlabel": {
           "align": "left"
          },
          "hovermode": "closest",
          "mapbox": {
           "style": "light"
          },
          "paper_bgcolor": "white",
          "plot_bgcolor": "#E5ECF6",
          "polar": {
           "angularaxis": {
            "gridcolor": "white",
            "linecolor": "white",
            "ticks": ""
           },
           "bgcolor": "#E5ECF6",
           "radialaxis": {
            "gridcolor": "white",
            "linecolor": "white",
            "ticks": ""
           }
          },
          "scene": {
           "xaxis": {
            "backgroundcolor": "#E5ECF6",
            "gridcolor": "white",
            "gridwidth": 2,
            "linecolor": "white",
            "showbackground": true,
            "ticks": "",
            "zerolinecolor": "white"
           },
           "yaxis": {
            "backgroundcolor": "#E5ECF6",
            "gridcolor": "white",
            "gridwidth": 2,
            "linecolor": "white",
            "showbackground": true,
            "ticks": "",
            "zerolinecolor": "white"
           },
           "zaxis": {
            "backgroundcolor": "#E5ECF6",
            "gridcolor": "white",
            "gridwidth": 2,
            "linecolor": "white",
            "showbackground": true,
            "ticks": "",
            "zerolinecolor": "white"
           }
          },
          "shapedefaults": {
           "line": {
            "color": "#2a3f5f"
           }
          },
          "ternary": {
           "aaxis": {
            "gridcolor": "white",
            "linecolor": "white",
            "ticks": ""
           },
           "baxis": {
            "gridcolor": "white",
            "linecolor": "white",
            "ticks": ""
           },
           "bgcolor": "#E5ECF6",
           "caxis": {
            "gridcolor": "white",
            "linecolor": "white",
            "ticks": ""
           }
          },
          "title": {
           "x": 0.05
          },
          "xaxis": {
           "automargin": true,
           "gridcolor": "white",
           "linecolor": "white",
           "ticks": "",
           "title": {
            "standoff": 15
           },
           "zerolinecolor": "white",
           "zerolinewidth": 2
          },
          "yaxis": {
           "automargin": true,
           "gridcolor": "white",
           "linecolor": "white",
           "ticks": "",
           "title": {
            "standoff": 15
           },
           "zerolinecolor": "white",
           "zerolinewidth": 2
          }
         }
        },
        "title": {
         "text": "Correlation Heatmap: Age vs Net Worth (Technology Industry)"
        },
        "xaxis": {
         "anchor": "y",
         "constrain": "domain",
         "domain": [
          0.0,
          1.0
         ],
         "scaleanchor": "y"
        },
        "yaxis": {
         "anchor": "x",
         "autorange": "reversed",
         "constrain": "domain",
         "domain": [
          0.0,
          1.0
         ]
        }
       }
      },
      "text/html": [
       "<div>                            <div id=\"d7ded20f-09c3-4599-b562-4dae837b3901\" class=\"plotly-graph-div\" style=\"height:525px; width:100%;\"></div>            <script type=\"text/javascript\">                require([\"plotly\"], function(Plotly) {                    window.PLOTLYENV=window.PLOTLYENV || {};                                    if (document.getElementById(\"d7ded20f-09c3-4599-b562-4dae837b3901\")) {                    Plotly.newPlot(                        \"d7ded20f-09c3-4599-b562-4dae837b3901\",                        [{\"coloraxis\":\"coloraxis\",\"hovertemplate\":\"x: %{x}\\u003cbr\\u003ey: %{y}\\u003cbr\\u003ecolor: %{z}\\u003cextra\\u003e\\u003c\\u002fextra\\u003e\",\"name\":\"0\",\"x\":[\"Age\",\"Net_Worth\"],\"xaxis\":\"x\",\"y\":[\"Age\",\"Net_Worth\"],\"yaxis\":\"y\",\"z\":[[1.0,0.030654337343452492],[0.030654337343452492,1.0]],\"type\":\"heatmap\"}],                        {\"coloraxis\":{\"colorscale\":[[0.0,\"#0d0887\"],[0.1111111111111111,\"#46039f\"],[0.2222222222222222,\"#7201a8\"],[0.3333333333333333,\"#9c179e\"],[0.4444444444444444,\"#bd3786\"],[0.5555555555555556,\"#d8576b\"],[0.6666666666666666,\"#ed7953\"],[0.7777777777777778,\"#fb9f3a\"],[0.8888888888888888,\"#fdca26\"],[1.0,\"#f0f921\"]]},\"margin\":{\"t\":60},\"template\":{\"data\":{\"barpolar\":[{\"marker\":{\"line\":{\"color\":\"#E5ECF6\",\"width\":0.5},\"pattern\":{\"fillmode\":\"overlay\",\"size\":10,\"solidity\":0.2}},\"type\":\"barpolar\"}],\"bar\":[{\"error_x\":{\"color\":\"#2a3f5f\"},\"error_y\":{\"color\":\"#2a3f5f\"},\"marker\":{\"line\":{\"color\":\"#E5ECF6\",\"width\":0.5},\"pattern\":{\"fillmode\":\"overlay\",\"size\":10,\"solidity\":0.2}},\"type\":\"bar\"}],\"carpet\":[{\"aaxis\":{\"endlinecolor\":\"#2a3f5f\",\"gridcolor\":\"white\",\"linecolor\":\"white\",\"minorgridcolor\":\"white\",\"startlinecolor\":\"#2a3f5f\"},\"baxis\":{\"endlinecolor\":\"#2a3f5f\",\"gridcolor\":\"white\",\"linecolor\":\"white\",\"minorgridcolor\":\"white\",\"startlinecolor\":\"#2a3f5f\"},\"type\":\"carpet\"}],\"choropleth\":[{\"colorbar\":{\"outlinewidth\":0,\"ticks\":\"\"},\"type\":\"choropleth\"}],\"contourcarpet\":[{\"colorbar\":{\"outlinewidth\":0,\"ticks\":\"\"},\"type\":\"contourcarpet\"}],\"contour\":[{\"colorbar\":{\"outlinewidth\":0,\"ticks\":\"\"},\"colorscale\":[[0.0,\"#0d0887\"],[0.1111111111111111,\"#46039f\"],[0.2222222222222222,\"#7201a8\"],[0.3333333333333333,\"#9c179e\"],[0.4444444444444444,\"#bd3786\"],[0.5555555555555556,\"#d8576b\"],[0.6666666666666666,\"#ed7953\"],[0.7777777777777778,\"#fb9f3a\"],[0.8888888888888888,\"#fdca26\"],[1.0,\"#f0f921\"]],\"type\":\"contour\"}],\"heatmapgl\":[{\"colorbar\":{\"outlinewidth\":0,\"ticks\":\"\"},\"colorscale\":[[0.0,\"#0d0887\"],[0.1111111111111111,\"#46039f\"],[0.2222222222222222,\"#7201a8\"],[0.3333333333333333,\"#9c179e\"],[0.4444444444444444,\"#bd3786\"],[0.5555555555555556,\"#d8576b\"],[0.6666666666666666,\"#ed7953\"],[0.7777777777777778,\"#fb9f3a\"],[0.8888888888888888,\"#fdca26\"],[1.0,\"#f0f921\"]],\"type\":\"heatmapgl\"}],\"heatmap\":[{\"colorbar\":{\"outlinewidth\":0,\"ticks\":\"\"},\"colorscale\":[[0.0,\"#0d0887\"],[0.1111111111111111,\"#46039f\"],[0.2222222222222222,\"#7201a8\"],[0.3333333333333333,\"#9c179e\"],[0.4444444444444444,\"#bd3786\"],[0.5555555555555556,\"#d8576b\"],[0.6666666666666666,\"#ed7953\"],[0.7777777777777778,\"#fb9f3a\"],[0.8888888888888888,\"#fdca26\"],[1.0,\"#f0f921\"]],\"type\":\"heatmap\"}],\"histogram2dcontour\":[{\"colorbar\":{\"outlinewidth\":0,\"ticks\":\"\"},\"colorscale\":[[0.0,\"#0d0887\"],[0.1111111111111111,\"#46039f\"],[0.2222222222222222,\"#7201a8\"],[0.3333333333333333,\"#9c179e\"],[0.4444444444444444,\"#bd3786\"],[0.5555555555555556,\"#d8576b\"],[0.6666666666666666,\"#ed7953\"],[0.7777777777777778,\"#fb9f3a\"],[0.8888888888888888,\"#fdca26\"],[1.0,\"#f0f921\"]],\"type\":\"histogram2dcontour\"}],\"histogram2d\":[{\"colorbar\":{\"outlinewidth\":0,\"ticks\":\"\"},\"colorscale\":[[0.0,\"#0d0887\"],[0.1111111111111111,\"#46039f\"],[0.2222222222222222,\"#7201a8\"],[0.3333333333333333,\"#9c179e\"],[0.4444444444444444,\"#bd3786\"],[0.5555555555555556,\"#d8576b\"],[0.6666666666666666,\"#ed7953\"],[0.7777777777777778,\"#fb9f3a\"],[0.8888888888888888,\"#fdca26\"],[1.0,\"#f0f921\"]],\"type\":\"histogram2d\"}],\"histogram\":[{\"marker\":{\"pattern\":{\"fillmode\":\"overlay\",\"size\":10,\"solidity\":0.2}},\"type\":\"histogram\"}],\"mesh3d\":[{\"colorbar\":{\"outlinewidth\":0,\"ticks\":\"\"},\"type\":\"mesh3d\"}],\"parcoords\":[{\"line\":{\"colorbar\":{\"outlinewidth\":0,\"ticks\":\"\"}},\"type\":\"parcoords\"}],\"pie\":[{\"automargin\":true,\"type\":\"pie\"}],\"scatter3d\":[{\"line\":{\"colorbar\":{\"outlinewidth\":0,\"ticks\":\"\"}},\"marker\":{\"colorbar\":{\"outlinewidth\":0,\"ticks\":\"\"}},\"type\":\"scatter3d\"}],\"scattercarpet\":[{\"marker\":{\"colorbar\":{\"outlinewidth\":0,\"ticks\":\"\"}},\"type\":\"scattercarpet\"}],\"scattergeo\":[{\"marker\":{\"colorbar\":{\"outlinewidth\":0,\"ticks\":\"\"}},\"type\":\"scattergeo\"}],\"scattergl\":[{\"marker\":{\"colorbar\":{\"outlinewidth\":0,\"ticks\":\"\"}},\"type\":\"scattergl\"}],\"scattermapbox\":[{\"marker\":{\"colorbar\":{\"outlinewidth\":0,\"ticks\":\"\"}},\"type\":\"scattermapbox\"}],\"scatterpolargl\":[{\"marker\":{\"colorbar\":{\"outlinewidth\":0,\"ticks\":\"\"}},\"type\":\"scatterpolargl\"}],\"scatterpolar\":[{\"marker\":{\"colorbar\":{\"outlinewidth\":0,\"ticks\":\"\"}},\"type\":\"scatterpolar\"}],\"scatter\":[{\"fillpattern\":{\"fillmode\":\"overlay\",\"size\":10,\"solidity\":0.2},\"type\":\"scatter\"}],\"scatterternary\":[{\"marker\":{\"colorbar\":{\"outlinewidth\":0,\"ticks\":\"\"}},\"type\":\"scatterternary\"}],\"surface\":[{\"colorbar\":{\"outlinewidth\":0,\"ticks\":\"\"},\"colorscale\":[[0.0,\"#0d0887\"],[0.1111111111111111,\"#46039f\"],[0.2222222222222222,\"#7201a8\"],[0.3333333333333333,\"#9c179e\"],[0.4444444444444444,\"#bd3786\"],[0.5555555555555556,\"#d8576b\"],[0.6666666666666666,\"#ed7953\"],[0.7777777777777778,\"#fb9f3a\"],[0.8888888888888888,\"#fdca26\"],[1.0,\"#f0f921\"]],\"type\":\"surface\"}],\"table\":[{\"cells\":{\"fill\":{\"color\":\"#EBF0F8\"},\"line\":{\"color\":\"white\"}},\"header\":{\"fill\":{\"color\":\"#C8D4E3\"},\"line\":{\"color\":\"white\"}},\"type\":\"table\"}]},\"layout\":{\"annotationdefaults\":{\"arrowcolor\":\"#2a3f5f\",\"arrowhead\":0,\"arrowwidth\":1},\"autotypenumbers\":\"strict\",\"coloraxis\":{\"colorbar\":{\"outlinewidth\":0,\"ticks\":\"\"}},\"colorscale\":{\"diverging\":[[0,\"#8e0152\"],[0.1,\"#c51b7d\"],[0.2,\"#de77ae\"],[0.3,\"#f1b6da\"],[0.4,\"#fde0ef\"],[0.5,\"#f7f7f7\"],[0.6,\"#e6f5d0\"],[0.7,\"#b8e186\"],[0.8,\"#7fbc41\"],[0.9,\"#4d9221\"],[1,\"#276419\"]],\"sequential\":[[0.0,\"#0d0887\"],[0.1111111111111111,\"#46039f\"],[0.2222222222222222,\"#7201a8\"],[0.3333333333333333,\"#9c179e\"],[0.4444444444444444,\"#bd3786\"],[0.5555555555555556,\"#d8576b\"],[0.6666666666666666,\"#ed7953\"],[0.7777777777777778,\"#fb9f3a\"],[0.8888888888888888,\"#fdca26\"],[1.0,\"#f0f921\"]],\"sequentialminus\":[[0.0,\"#0d0887\"],[0.1111111111111111,\"#46039f\"],[0.2222222222222222,\"#7201a8\"],[0.3333333333333333,\"#9c179e\"],[0.4444444444444444,\"#bd3786\"],[0.5555555555555556,\"#d8576b\"],[0.6666666666666666,\"#ed7953\"],[0.7777777777777778,\"#fb9f3a\"],[0.8888888888888888,\"#fdca26\"],[1.0,\"#f0f921\"]]},\"colorway\":[\"#636efa\",\"#EF553B\",\"#00cc96\",\"#ab63fa\",\"#FFA15A\",\"#19d3f3\",\"#FF6692\",\"#B6E880\",\"#FF97FF\",\"#FECB52\"],\"font\":{\"color\":\"#2a3f5f\"},\"geo\":{\"bgcolor\":\"white\",\"lakecolor\":\"white\",\"landcolor\":\"#E5ECF6\",\"showlakes\":true,\"showland\":true,\"subunitcolor\":\"white\"},\"hoverlabel\":{\"align\":\"left\"},\"hovermode\":\"closest\",\"mapbox\":{\"style\":\"light\"},\"paper_bgcolor\":\"white\",\"plot_bgcolor\":\"#E5ECF6\",\"polar\":{\"angularaxis\":{\"gridcolor\":\"white\",\"linecolor\":\"white\",\"ticks\":\"\"},\"bgcolor\":\"#E5ECF6\",\"radialaxis\":{\"gridcolor\":\"white\",\"linecolor\":\"white\",\"ticks\":\"\"}},\"scene\":{\"xaxis\":{\"backgroundcolor\":\"#E5ECF6\",\"gridcolor\":\"white\",\"gridwidth\":2,\"linecolor\":\"white\",\"showbackground\":true,\"ticks\":\"\",\"zerolinecolor\":\"white\"},\"yaxis\":{\"backgroundcolor\":\"#E5ECF6\",\"gridcolor\":\"white\",\"gridwidth\":2,\"linecolor\":\"white\",\"showbackground\":true,\"ticks\":\"\",\"zerolinecolor\":\"white\"},\"zaxis\":{\"backgroundcolor\":\"#E5ECF6\",\"gridcolor\":\"white\",\"gridwidth\":2,\"linecolor\":\"white\",\"showbackground\":true,\"ticks\":\"\",\"zerolinecolor\":\"white\"}},\"shapedefaults\":{\"line\":{\"color\":\"#2a3f5f\"}},\"ternary\":{\"aaxis\":{\"gridcolor\":\"white\",\"linecolor\":\"white\",\"ticks\":\"\"},\"baxis\":{\"gridcolor\":\"white\",\"linecolor\":\"white\",\"ticks\":\"\"},\"bgcolor\":\"#E5ECF6\",\"caxis\":{\"gridcolor\":\"white\",\"linecolor\":\"white\",\"ticks\":\"\"}},\"title\":{\"x\":0.05},\"xaxis\":{\"automargin\":true,\"gridcolor\":\"white\",\"linecolor\":\"white\",\"ticks\":\"\",\"title\":{\"standoff\":15},\"zerolinecolor\":\"white\",\"zerolinewidth\":2},\"yaxis\":{\"automargin\":true,\"gridcolor\":\"white\",\"linecolor\":\"white\",\"ticks\":\"\",\"title\":{\"standoff\":15},\"zerolinecolor\":\"white\",\"zerolinewidth\":2}}},\"title\":{\"text\":\"Correlation Heatmap: Age vs Net Worth (Technology Industry)\"},\"xaxis\":{\"anchor\":\"y\",\"constrain\":\"domain\",\"domain\":[0.0,1.0],\"scaleanchor\":\"y\"},\"yaxis\":{\"anchor\":\"x\",\"autorange\":\"reversed\",\"constrain\":\"domain\",\"domain\":[0.0,1.0]}},                        {\"responsive\": true}                    ).then(function(){\n",
       "                            \n",
       "var gd = document.getElementById('d7ded20f-09c3-4599-b562-4dae837b3901');\n",
       "var x = new MutationObserver(function (mutations, observer) {{\n",
       "        var display = window.getComputedStyle(gd).display;\n",
       "        if (!display || display === 'none') {{\n",
       "            console.log([gd, 'removed!']);\n",
       "            Plotly.purge(gd);\n",
       "            observer.disconnect();\n",
       "        }}\n",
       "}});\n",
       "\n",
       "// Listen for the removal of the full notebook cells\n",
       "var notebookContainer = gd.closest('#notebook-container');\n",
       "if (notebookContainer) {{\n",
       "    x.observe(notebookContainer, {childList: true});\n",
       "}}\n",
       "\n",
       "// Listen for the clearing of the current output cell\n",
       "var outputEl = gd.closest('.output');\n",
       "if (outputEl) {{\n",
       "    x.observe(outputEl, {childList: true});\n",
       "}}\n",
       "\n",
       "                        })                };                });            </script>        </div>"
      ]
     },
     "metadata": {},
     "output_type": "display_data"
    }
   ],
   "source": [
    "# boolean mask 'Income Source' to Technology\n",
    "tech = df[df['Income Source'] == 'Technology']\n",
    "\n",
    "# take 'Age' and 'Net_Worth' column\n",
    "subset = tech[['Age', 'Net_Worth']]\n",
    "\n",
    "# correlation\n",
    "corr_matrix = subset.corr()\n",
    "\n",
    "# heat map\n",
    "fig = px.imshow(corr_matrix)\n",
    "\n",
    "fig.update_layout(title=\"Correlation Heatmap: Age vs Net Worth (Technology Industry)\")\n",
    "\n",
    "iplot(fig)"
   ]
  },
  {
   "cell_type": "markdown",
   "id": "1504302b",
   "metadata": {
    "papermill": {
     "duration": 0.040309,
     "end_time": "2023-07-14T09:30:01.650368",
     "exception": false,
     "start_time": "2023-07-14T09:30:01.610059",
     "status": "completed"
    },
    "tags": []
   },
   "source": [
    "# Q14: What is the relationship between the age and net worth of billionaires from the top 10 countries? Create a scatter plot matrix to visualize it."
   ]
  },
  {
   "cell_type": "code",
   "execution_count": 36,
   "id": "727ef953",
   "metadata": {
    "execution": {
     "iopub.execute_input": "2023-07-14T09:30:01.733666Z",
     "iopub.status.busy": "2023-07-14T09:30:01.732426Z",
     "iopub.status.idle": "2023-07-14T09:30:01.742607Z",
     "shell.execute_reply": "2023-07-14T09:30:01.741203Z"
    },
    "papermill": {
     "duration": 0.054094,
     "end_time": "2023-07-14T09:30:01.745002",
     "exception": false,
     "start_time": "2023-07-14T09:30:01.690908",
     "status": "completed"
    },
    "tags": []
   },
   "outputs": [],
   "source": [
    "# use top10 variable from Q1 and take only top 10 countries from df\n",
    "\n",
    "data = df[df['Citizenship'].isin(top10['Citizenship'])]"
   ]
  },
  {
   "cell_type": "code",
   "execution_count": 37,
   "id": "d6622db3",
   "metadata": {
    "execution": {
     "iopub.execute_input": "2023-07-14T09:30:01.828948Z",
     "iopub.status.busy": "2023-07-14T09:30:01.828199Z",
     "iopub.status.idle": "2023-07-14T09:30:02.004479Z",
     "shell.execute_reply": "2023-07-14T09:30:02.002651Z"
    },
    "papermill": {
     "duration": 0.222732,
     "end_time": "2023-07-14T09:30:02.009315",
     "exception": false,
     "start_time": "2023-07-14T09:30:01.786583",
     "status": "completed"
    },
    "tags": []
   },
   "outputs": [
    {
     "data": {
      "application/vnd.plotly.v1+json": {
       "config": {
        "linkText": "Export to plot.ly",
        "plotlyServerURL": "https://plot.ly",
        "showLink": false
       },
       "data": [
        {
         "dimensions": [
          {
           "axis": {
            "matches": true
           },
           "label": "Age",
           "values": [
            66,
            77,
            79,
            52,
            79,
            81,
            62,
            68,
            64,
            64,
            48,
            27,
            65,
            59,
            75,
            71,
            74,
            73,
            80,
            65,
            54,
            67,
            78,
            76,
            78,
            51,
            68,
            71,
            83,
            69,
            59,
            78,
            67,
            56,
            30,
            53,
            66,
            87,
            53,
            89,
            72,
            81,
            81,
            73,
            53,
            55,
            60,
            62,
            49,
            72,
            64,
            50,
            69,
            60,
            77,
            84,
            57,
            62,
            58,
            74,
            55,
            64,
            93,
            80,
            52,
            48,
            59,
            86,
            58,
            50,
            72,
            52,
            60,
            48,
            45,
            52,
            40,
            61,
            62,
            81,
            72,
            57,
            76,
            84,
            75,
            73,
            73,
            79,
            41,
            83,
            57,
            73,
            69,
            60,
            72,
            54,
            65,
            60,
            61,
            68,
            57,
            42,
            50,
            68,
            62,
            57,
            63,
            39,
            75,
            68,
            72,
            97,
            31,
            85,
            59,
            47,
            62,
            91,
            73,
            62,
            61,
            77,
            60,
            77,
            52,
            55,
            60,
            80,
            64,
            47,
            70,
            61,
            35,
            65,
            77,
            37,
            95,
            75,
            61,
            63,
            77,
            79,
            61,
            39,
            64,
            55,
            60,
            73,
            63,
            39,
            66,
            39,
            86,
            65,
            92,
            86,
            67,
            46,
            80,
            59,
            71,
            39,
            39,
            54,
            64,
            77,
            71,
            59,
            81,
            59,
            65,
            67,
            84,
            53,
            67,
            65,
            45,
            65,
            66,
            45,
            82,
            56,
            88,
            33,
            67,
            70,
            40,
            86,
            66,
            77,
            61,
            29,
            68,
            59,
            53,
            50,
            63,
            57,
            57,
            79,
            64,
            31,
            81,
            90,
            58,
            89,
            58,
            86,
            76,
            84,
            67,
            41,
            55,
            63,
            83,
            81,
            38,
            55,
            94,
            66,
            45,
            84,
            72,
            67,
            62,
            64,
            57,
            73,
            78,
            67,
            87,
            100,
            49,
            56,
            67,
            66,
            44,
            60,
            82,
            74,
            78,
            61,
            63,
            78,
            86,
            70,
            78,
            48,
            76,
            72,
            52,
            27,
            78,
            47,
            43,
            63,
            54,
            83,
            67,
            39,
            83,
            71,
            63,
            80,
            80,
            69,
            84,
            75,
            80,
            89,
            72,
            72,
            79,
            70,
            51,
            67,
            64,
            74,
            91,
            71,
            90,
            76,
            79,
            71,
            68,
            56,
            44,
            59,
            29,
            55,
            61,
            77,
            83,
            57,
            82,
            65,
            67,
            52,
            44,
            66,
            82,
            36,
            60,
            88,
            48,
            86,
            66,
            65,
            80,
            95,
            84,
            58,
            51,
            72,
            76,
            66,
            65,
            47,
            57,
            69,
            62,
            59,
            49,
            52,
            63,
            66,
            34,
            50,
            61,
            60,
            86,
            65,
            57,
            82,
            66,
            59,
            80,
            75,
            32,
            47,
            63,
            78,
            73,
            80,
            33,
            74,
            79,
            86,
            59,
            77,
            51,
            87,
            66,
            54,
            85,
            60,
            52,
            70,
            56,
            83,
            34,
            40,
            73,
            76,
            68,
            80,
            80,
            67,
            51,
            93,
            60,
            77,
            85,
            65,
            49,
            75,
            71,
            64,
            85,
            80,
            57,
            64,
            87,
            67,
            70,
            58,
            58,
            95,
            48,
            40,
            51,
            51,
            80,
            60,
            76,
            81,
            83,
            66,
            82,
            78,
            79,
            62,
            84,
            40,
            64,
            89,
            65,
            42,
            49,
            61,
            62,
            70,
            71,
            76,
            61,
            69,
            74,
            66,
            69,
            65,
            84,
            74,
            59,
            60,
            70,
            86,
            80,
            78,
            38,
            50,
            60,
            57,
            65,
            59,
            42,
            30,
            84,
            93,
            71,
            65,
            51,
            64,
            72,
            61,
            57,
            53,
            72,
            66,
            75,
            46,
            72,
            55,
            78,
            68,
            74,
            73,
            68,
            54,
            68,
            74,
            57,
            79,
            59,
            76,
            79,
            51,
            93,
            68,
            73,
            40,
            78,
            88,
            63,
            77,
            86,
            64,
            68,
            54,
            41,
            54,
            84,
            79,
            62,
            76,
            73,
            49,
            64,
            40,
            85,
            81,
            72,
            85,
            69,
            63,
            77,
            98,
            62,
            82,
            77,
            71,
            55,
            70,
            68,
            54,
            81,
            88,
            81,
            51,
            58,
            71,
            84,
            55,
            32,
            56,
            64,
            72,
            51,
            78,
            72,
            58,
            81,
            71,
            71,
            68,
            45,
            76,
            83,
            98,
            76,
            85,
            90,
            60,
            68,
            72,
            60,
            84,
            79,
            63,
            96,
            75,
            86,
            66,
            64,
            87,
            39,
            82,
            42,
            77,
            63,
            58,
            75,
            50,
            62,
            89,
            57,
            60,
            66,
            87,
            37,
            62,
            69,
            67,
            39,
            59,
            54,
            83,
            75,
            77,
            58,
            76,
            69,
            62,
            80,
            50,
            66,
            94,
            63,
            67,
            47,
            72,
            65,
            62,
            75,
            71,
            70,
            96,
            79,
            92,
            67,
            66,
            57,
            28,
            70,
            59,
            60,
            62,
            68,
            81,
            65,
            40,
            77,
            65,
            53,
            43,
            78,
            79,
            51,
            88,
            45,
            77,
            72,
            71,
            72,
            69,
            45,
            63,
            77,
            79,
            81,
            63,
            62,
            77,
            62,
            67,
            66,
            64,
            37,
            79,
            91,
            80,
            89,
            79,
            61,
            76,
            58,
            76,
            65,
            86,
            66,
            80,
            66,
            73,
            87,
            49,
            75,
            52,
            74,
            84,
            62,
            77,
            49,
            63,
            59,
            64,
            63,
            78,
            60,
            59,
            71,
            63,
            71,
            44,
            49,
            92,
            75,
            78,
            73,
            61,
            67,
            71,
            45,
            47,
            66,
            89,
            61,
            60,
            55,
            68,
            51,
            48,
            86,
            89,
            80,
            71,
            65,
            66,
            58,
            79,
            44,
            80,
            77,
            70,
            66,
            74,
            43,
            84,
            89,
            52,
            56,
            70,
            82,
            56,
            47,
            53,
            75,
            82,
            80,
            59,
            74,
            73,
            41,
            75,
            53,
            47,
            79,
            52,
            70,
            59,
            53,
            62,
            67,
            78,
            73,
            94,
            69,
            82,
            72,
            69,
            71
           ]
          },
          {
           "axis": {
            "matches": true
           },
           "label": "Net_Worth",
           "values": [
            1.6,
            1.6,
            5.2,
            1.6,
            2.8,
            2.2,
            2.3,
            1.5,
            5.8,
            32.5,
            1.9,
            1.6,
            1.3,
            3.4,
            34.8,
            1.3,
            5.1,
            3.6,
            7.3,
            3.3,
            2.1,
            7.3,
            1.4,
            1.7,
            5.5,
            2.8,
            1.4,
            2.0,
            2.8,
            3.5,
            1.7,
            2.0,
            5.1,
            2.8,
            24.0,
            2.2,
            2.8,
            2.0,
            27.2,
            4.4,
            65.3,
            4.9,
            2.3,
            7.9,
            2.7,
            5.0,
            2.6,
            1.6,
            2.4,
            3.8,
            5.2,
            219.0,
            4.7,
            1.4,
            2.5,
            8.0,
            3.6,
            1.4,
            1.1,
            10.7,
            3.2,
            2.0,
            1.5,
            5.6,
            1.1,
            3.4,
            2.5,
            1.3,
            5.1,
            5.0,
            2.5,
            6.6,
            6.6,
            107.0,
            2.2,
            1.9,
            10.0,
            4.3,
            4.3,
            1.1,
            2.8,
            4.3,
            2.8,
            3.0,
            2.7,
            2.8,
            9.0,
            3.6,
            1.3,
            21.8,
            3.1,
            2.8,
            1.2,
            2.4,
            3.5,
            5.0,
            1.1,
            4.6,
            2.2,
            2.6,
            1.6,
            2.0,
            5.0,
            3.0,
            2.3,
            1.8,
            4.7,
            1.6,
            3.8,
            2.7,
            3.6,
            2.0,
            2.2,
            2.9,
            2.4,
            1.0,
            11.4,
            20.8,
            4.6,
            2.4,
            2.0,
            4.7,
            4.5,
            65.0,
            2.7,
            3.0,
            3.4,
            6.9,
            8.6,
            3.2,
            1.7,
            7.9,
            16.5,
            2.9,
            2.8,
            1.3,
            2.1,
            1.6,
            2.0,
            1.3,
            1.7,
            1.8,
            5.9,
            6.6,
            1.8,
            1.0,
            22.0,
            66.2,
            1.8,
            3.2,
            1.3,
            4.2,
            3.2,
            1.6,
            14.4,
            3.4,
            2.8,
            9.8,
            2.7,
            11.1,
            4.7,
            1.4,
            1.3,
            6.5,
            1.8,
            106.0,
            2.3,
            6.7,
            12.9,
            2.9,
            1.3,
            5.9,
            12.2,
            3.0,
            6.9,
            1.2,
            3.2,
            2.0,
            1.1,
            2.6,
            4.0,
            2.0,
            4.3,
            2.1,
            6.8,
            3.5,
            1.3,
            1.2,
            129.0,
            3.1,
            2.0,
            1.1,
            4.0,
            2.8,
            3.4,
            1.2,
            1.6,
            1.0,
            6.0,
            2.6,
            8.6,
            6.1,
            8.2,
            2.3,
            1.0,
            5.1,
            3.4,
            31.7,
            6.4,
            5.5,
            4.6,
            1.8,
            1.6,
            2.3,
            3.5,
            1.2,
            9.2,
            2.8,
            1.5,
            4.2,
            6.1,
            1.5,
            4.0,
            3.4,
            3.2,
            6.9,
            6.3,
            1.6,
            7.0,
            1.6,
            6.9,
            1.8,
            1.5,
            2.7,
            4.1,
            3.3,
            5.0,
            1.1,
            5.8,
            4.2,
            2.8,
            1.1,
            1.5,
            1.0,
            1.1,
            10.0,
            8.0,
            1.6,
            2.5,
            4.1,
            1.4,
            2.0,
            3.2,
            1.5,
            1.6,
            1.2,
            1.5,
            2.3,
            1.2,
            1.5,
            5.6,
            3.4,
            1.7,
            1.8,
            4.7,
            1.5,
            2.9,
            4.2,
            82.0,
            2.6,
            1.1,
            1.8,
            6.7,
            3.6,
            43.6,
            2.8,
            1.5,
            1.2,
            118.0,
            1.2,
            4.7,
            2.8,
            4.7,
            1.0,
            5.0,
            1.4,
            14.6,
            1.8,
            1.2,
            3.6,
            4.3,
            4.3,
            5.0,
            4.0,
            1.3,
            2.2,
            1.7,
            1.7,
            1.5,
            2.9,
            1.0,
            2.0,
            2.9,
            2.1,
            1.5,
            5.8,
            91.4,
            1.2,
            2.3,
            5.4,
            2.7,
            5.0,
            1.0,
            6.9,
            2.0,
            4.0,
            2.1,
            2.2,
            8.1,
            1.2,
            3.5,
            1.7,
            1.5,
            4.1,
            4.2,
            4.0,
            2.4,
            2.8,
            1.8,
            3.2,
            4.2,
            7.9,
            7.9,
            1.6,
            3.9,
            3.9,
            1.9,
            3.8,
            2.4,
            5.0,
            7.5,
            1.8,
            11.5,
            4.5,
            6.3,
            3.0,
            5.1,
            6.9,
            20.6,
            4.3,
            6.3,
            3.0,
            2.2,
            11.3,
            3.7,
            6.5,
            5.2,
            5.6,
            2.4,
            2.3,
            1.5,
            1.4,
            1.2,
            27.5,
            1.2,
            4.4,
            2.5,
            7.3,
            2.3,
            9.5,
            1.9,
            5.2,
            2.2,
            2.7,
            5.5,
            2.0,
            7.8,
            1.8,
            2.4,
            5.4,
            55.1,
            3.1,
            3.7,
            1.1,
            1.6,
            3.5,
            3.8,
            3.4,
            4.5,
            11.5,
            3.3,
            2.5,
            8.3,
            21.2,
            17.2,
            3.6,
            28.6,
            7.1,
            16.6,
            1.1,
            9.9,
            1.2,
            6.2,
            1.7,
            1.2,
            23.1,
            5.7,
            4.9,
            2.2,
            2.1,
            5.5,
            4.5,
            4.0,
            2.8,
            3.7,
            8.7,
            3.3,
            4.6,
            1.0,
            5.8,
            1.6,
            7.8,
            4.8,
            4.2,
            8.1,
            3.4,
            3.3,
            3.2,
            1.5,
            2.0,
            1.3,
            2.7,
            3.4,
            4.0,
            2.8,
            2.2,
            2.6,
            4.3,
            2.2,
            3.7,
            1.1,
            1.5,
            6.1,
            4.3,
            4.8,
            1.5,
            1.7,
            2.9,
            2.2,
            10.3,
            1.6,
            8.8,
            5.0,
            6.8,
            3.3,
            1.5,
            7.1,
            1.1,
            2.0,
            1.5,
            5.8,
            10.0,
            1.1,
            2.2,
            4.5,
            2.3,
            1.5,
            3.8,
            1.8,
            4.0,
            5.4,
            8.8,
            3.4,
            5.3,
            1.8,
            1.5,
            1.6,
            1.4,
            1.3,
            1.5,
            1.4,
            3.4,
            2.8,
            3.6,
            3.7,
            8.0,
            5.6,
            1.1,
            1.2,
            7.4,
            1.6,
            4.2,
            7.3,
            4.1,
            1.8,
            2.5,
            2.6,
            10.9,
            2.8,
            1.5,
            1.8,
            1.3,
            1.4,
            5.1,
            4.3,
            1.8,
            1.6,
            2.1,
            16.4,
            5.3,
            3.6,
            1.4,
            1.4,
            2.4,
            2.1,
            22.0,
            4.1,
            1.0,
            5.0,
            6.6,
            1.4,
            5.0,
            5.8,
            2.4,
            2.8,
            4.1,
            8.8,
            2.3,
            2.4,
            2.9,
            2.6,
            8.5,
            1.3,
            2.3,
            1.5,
            47.3,
            1.8,
            1.4,
            4.5,
            3.0,
            1.2,
            1.3,
            16.7,
            5.4,
            1.2,
            2.9,
            1.7,
            6.1,
            7.9,
            171.0,
            3.6,
            1.7,
            6.5,
            1.3,
            1.8,
            5.5,
            1.6,
            3.9,
            67.3,
            1.1,
            2.1,
            7.2,
            6.6,
            60.0,
            1.1,
            1.2,
            2.7,
            6.2,
            1.7,
            1.6,
            9.9,
            1.6,
            1.9,
            1.6,
            1.5,
            1.5,
            3.2,
            1.3,
            1.4,
            1.4,
            3.1,
            1.9,
            3.7,
            1.1,
            2.9,
            1.5,
            7.1,
            8.7,
            6.0,
            1.6,
            6.2,
            5.9,
            5.8,
            1.4,
            5.7,
            3.1,
            4.0,
            4.3,
            2.6,
            4.0,
            1.8,
            2.1,
            4.0,
            3.1,
            4.5,
            1.8,
            7.4,
            1.0,
            3.2,
            1.4,
            2.4,
            7.5,
            2.2,
            4.6,
            3.4,
            3.3,
            20.1,
            2.1,
            1.1,
            2.6,
            3.3,
            7.5,
            1.6,
            1.4,
            1.6,
            2.5,
            11.5,
            1.7,
            8.6,
            4.6,
            3.0,
            1.0,
            3.7,
            1.6,
            1.6,
            3.7,
            17.4,
            16.5,
            2.9,
            5.8,
            4.0,
            1.6,
            3.5,
            1.0,
            1.7,
            6.8,
            2.1,
            2.4,
            4.5,
            2.0,
            111.0,
            12.0,
            1.7,
            4.6,
            2.2,
            2.5,
            2.1,
            5.7,
            3.4,
            4.3,
            7.6,
            2.0,
            1.4,
            3.4,
            1.7,
            7.7,
            5.8,
            3.7,
            1.0,
            5.0,
            3.4,
            1.5,
            1.6,
            3.7,
            4.0,
            2.3,
            1.0,
            4.5,
            3.5,
            3.3,
            60.0,
            4.8,
            1.4,
            8.4,
            3.4,
            22.1,
            7.5,
            10.6,
            1.0,
            2.0,
            1.7,
            12.7,
            1.0,
            6.0,
            1.6,
            5.8,
            16.2,
            6.5,
            1.4,
            3.9,
            1.0,
            1.2,
            2.5,
            1.2,
            3.7,
            6.9,
            5.5,
            1.1,
            1.9,
            2.3,
            1.3,
            10.7,
            2.8,
            2.8,
            1.3,
            1.0,
            2.9,
            3.0,
            2.6,
            2.6,
            1.0,
            6.5,
            2.9,
            1.7,
            1.3,
            31.7,
            1.6,
            2.6,
            1.6
           ]
          }
         ],
         "hovertemplate": "Citizenship=United States<br>%{xaxis.title.text}=%{x}<br>%{yaxis.title.text}=%{y}<extra></extra>",
         "legendgroup": "United States",
         "marker": {
          "color": "#636efa",
          "symbol": "circle"
         },
         "name": "United States",
         "showlegend": true,
         "type": "splom"
        },
        {
         "dimensions": [
          {
           "axis": {
            "matches": true
           },
           "label": "Age",
           "values": [
            60,
            62,
            35,
            44,
            72,
            75,
            59,
            57,
            71,
            81,
            71,
            82,
            39,
            59,
            71,
            76,
            50,
            34,
            59,
            70,
            65,
            84,
            75,
            66,
            74,
            82,
            60,
            42,
            57,
            77,
            56,
            58,
            69,
            58,
            78,
            78,
            66,
            70,
            19,
            65,
            53,
            49,
            63,
            78,
            82,
            43,
            95,
            80,
            48,
            45,
            43,
            49,
            70,
            57,
            68,
            89,
            70,
            82,
            43,
            57,
            74,
            69,
            53,
            67,
            38,
            86,
            58,
            46,
            80,
            39,
            77,
            62,
            75,
            88,
            55,
            55,
            57,
            42,
            67,
            84,
            70,
            78,
            82,
            45,
            62,
            76,
            78,
            69,
            55,
            58,
            57,
            55,
            39,
            60,
            56,
            88,
            43,
            74,
            55,
            79,
            75,
            54,
            87,
            72,
            55,
            65,
            80,
            67,
            70,
            32,
            47,
            64
           ]
          },
          {
           "axis": {
            "matches": true
           },
           "label": "Net_Worth",
           "values": [
            2.2,
            1.5,
            1.5,
            2.8,
            11.9,
            6.4,
            1.5,
            5.8,
            4.0,
            5.3,
            18.7,
            4.8,
            1.5,
            1.8,
            1.4,
            1.7,
            3.6,
            1.1,
            24.3,
            5.8,
            1.2,
            3.0,
            2.3,
            9.9,
            3.1,
            4.7,
            1.0,
            1.3,
            1.5,
            6.9,
            5.3,
            3.3,
            5.8,
            3.3,
            7.9,
            3.8,
            2.0,
            5.8,
            2.4,
            2.9,
            1.7,
            1.7,
            4.9,
            4.0,
            2.3,
            3.3,
            4.2,
            1.2,
            1.0,
            2.7,
            1.8,
            3.3,
            2.4,
            5.8,
            1.9,
            2.3,
            1.0,
            47.1,
            1.2,
            4.4,
            5.7,
            4.3,
            1.1,
            1.7,
            1.2,
            19.0,
            3.8,
            2.5,
            5.2,
            1.3,
            2.4,
            1.2,
            1.6,
            1.7,
            1.1,
            20.7,
            1.2,
            1.0,
            1.2,
            37.3,
            3.7,
            4.2,
            3.9,
            1.5,
            1.8,
            5.6,
            8.9,
            1.0,
            1.8,
            5.8,
            8.1,
            2.2,
            1.0,
            2.6,
            1.1,
            4.0,
            1.3,
            1.4,
            6.5,
            3.5,
            8.9,
            10.9,
            4.0,
            11.9,
            3.3,
            1.6,
            2.0,
            3.0,
            3.1,
            1.2,
            1.1,
            1.4
           ]
          }
         ],
         "hovertemplate": "Citizenship=Germany<br>%{xaxis.title.text}=%{x}<br>%{yaxis.title.text}=%{y}<extra></extra>",
         "legendgroup": "Germany",
         "marker": {
          "color": "#EF553B",
          "symbol": "circle"
         },
         "name": "Germany",
         "showlegend": true,
         "type": "splom"
        },
        {
         "dimensions": [
          {
           "axis": {
            "matches": true
           },
           "label": "Age",
           "values": [
            52,
            74,
            72,
            86,
            52,
            72,
            73,
            75,
            81,
            40,
            64,
            66,
            69,
            85,
            66,
            73,
            79,
            71,
            80,
            70,
            74,
            73,
            60,
            64,
            88,
            81,
            91,
            66,
            63,
            52,
            64,
            67,
            72,
            69,
            71,
            64,
            56,
            77,
            54,
            79,
            69,
            64,
            68,
            81,
            80,
            71,
            65,
            64,
            56,
            71,
            74,
            86,
            56,
            68,
            66,
            81,
            66,
            73,
            80,
            73,
            69,
            69,
            91,
            66,
            71,
            90,
            63,
            69,
            47,
            95,
            74,
            90,
            66,
            70,
            61,
            50,
            68,
            51,
            78,
            71,
            45,
            55,
            91,
            75,
            67,
            63,
            81,
            51,
            56,
            65,
            88,
            70,
            71,
            72,
            70,
            76,
            59,
            53,
            39,
            61,
            75,
            69,
            77,
            55,
            79,
            64,
            75,
            85,
            72,
            76,
            64,
            49,
            64,
            69,
            77,
            65,
            58,
            69,
            59,
            78,
            81,
            81,
            40,
            73,
            66,
            39,
            49,
            66,
            91,
            77,
            59,
            80,
            80,
            81,
            77,
            64,
            76,
            51,
            68,
            83,
            67,
            67,
            64,
            61,
            56,
            71,
            75,
            78,
            84,
            87,
            71,
            77,
            69,
            64,
            49,
            61,
            75,
            80,
            88,
            79,
            69,
            93,
            58,
            61,
            60,
            76,
            54,
            67,
            64,
            68,
            66,
            68,
            79,
            70,
            78,
            67,
            54,
            77,
            73,
            67,
            73,
            63,
            71,
            67,
            60,
            65,
            67,
            90,
            69,
            79,
            75,
            74,
            65,
            69,
            52,
            76,
            68,
            61,
            70,
            65,
            43,
            64,
            70,
            42,
            67,
            44,
            69,
            50,
            69,
            61,
            64,
            90,
            66,
            69,
            57,
            59,
            67,
            76,
            70,
            73,
            64,
            68,
            73,
            66,
            60,
            78,
            69,
            60,
            88,
            71,
            67,
            67,
            64,
            54,
            77,
            66,
            63,
            67
           ]
          },
          {
           "axis": {
            "matches": true
           },
           "label": "Net_Worth",
           "values": [
            2.2,
            2.4,
            17.7,
            2.9,
            1.3,
            17.2,
            1.5,
            4.4,
            1.1,
            1.3,
            13.9,
            4.7,
            1.8,
            1.1,
            1.4,
            2.3,
            1.9,
            2.5,
            1.8,
            3.3,
            2.4,
            1.4,
            1.6,
            1.3,
            6.8,
            1.7,
            2.3,
            1.0,
            2.5,
            1.6,
            3.8,
            5.2,
            1.5,
            2.4,
            3.8,
            1.7,
            1.9,
            8.6,
            1.2,
            8.6,
            4.0,
            2.0,
            1.1,
            3.8,
            6.0,
            2.6,
            1.7,
            2.0,
            1.9,
            6.3,
            1.8,
            3.95,
            2.4,
            2.6,
            1.4,
            3.6,
            1.7,
            1.2,
            24.3,
            1.4,
            1.1,
            2.3,
            7.1,
            15.6,
            17.9,
            6.7,
            2.4,
            4.95,
            3.1,
            1.1,
            2.2,
            8.8,
            2.7,
            2.5,
            1.4,
            1.3,
            4.0,
            3.2,
            3.3,
            1.4,
            2.5,
            1.5,
            2.5,
            3.1,
            2.7,
            2.6,
            21.5,
            1.2,
            1.3,
            94.1,
            1.95,
            1.2,
            1.5,
            14.4,
            3.1,
            1.4,
            90.0,
            1.1,
            1.3,
            5.8,
            2.3,
            2.0,
            1.0,
            15.5,
            7.7,
            2.1,
            1.5,
            2.3,
            1.6,
            9.8,
            2.1,
            1.9,
            90.7,
            1.2,
            2.8,
            1.9,
            3.1,
            1.4,
            1.3,
            1.4,
            3.3,
            6.7,
            3.6,
            2.5,
            4.2,
            1.3,
            1.4,
            3.4,
            9.5,
            1.4,
            4.5,
            4.3,
            5.9,
            3.9,
            1.3,
            2.1,
            11.7,
            1.9,
            3.5,
            2.1,
            2.2,
            2.4,
            7.8,
            1.0,
            2.1,
            2.5,
            3.65,
            3.6,
            2.7,
            2.5,
            8.1,
            1.0,
            1.3,
            3.97,
            1.7,
            2.5,
            1.3,
            2.5,
            1.8,
            1.8,
            3.9,
            3.0,
            2.6,
            2.4,
            2.6,
            28.7,
            1.3,
            2.8,
            2.6,
            1.4,
            5.4,
            2.3,
            1.2,
            1.4,
            3.0,
            20.0,
            16.5,
            3.0,
            2.7,
            3.1,
            2.5,
            14.3,
            1.5,
            8.0,
            1.1,
            1.6,
            4.1,
            2.5,
            1.6,
            1.1,
            1.5,
            3.8,
            2.05,
            3.3,
            3.5,
            1.0,
            3.1,
            1.0,
            3.0,
            3.7,
            1.2,
            3.0,
            2.2,
            4.05,
            2.9,
            1.1,
            1.9,
            2.1,
            2.6,
            3.22,
            1.6,
            2.2,
            14.3,
            3.6,
            2.5,
            3.91,
            1.9,
            4.6,
            2.3,
            1.4,
            14.7,
            2.3,
            2.1,
            4.6,
            2.7,
            3.0,
            2.9,
            74.8,
            6.5,
            6.4,
            3.4,
            29.4,
            2.73,
            3.75,
            22.4,
            5.0,
            14.8,
            3.5
           ]
          }
         ],
         "hovertemplate": "Citizenship=India<br>%{xaxis.title.text}=%{x}<br>%{yaxis.title.text}=%{y}<extra></extra>",
         "legendgroup": "India",
         "marker": {
          "color": "#00cc96",
          "symbol": "circle"
         },
         "name": "India",
         "showlegend": true,
         "type": "splom"
        },
        {
         "dimensions": [
          {
           "axis": {
            "matches": true
           },
           "label": "Age",
           "values": [
            62,
            85,
            76,
            86,
            44,
            46,
            82,
            52,
            79,
            72,
            68,
            84,
            50,
            86,
            87,
            68,
            65,
            50,
            87,
            81,
            76,
            69,
            48,
            66,
            86,
            57,
            59,
            54,
            84,
            68,
            57,
            62,
            76,
            68,
            53,
            76,
            79,
            81,
            79,
            63,
            76,
            87,
            85,
            82,
            60,
            44,
            81,
            68,
            74,
            60
           ]
          },
          {
           "axis": {
            "matches": true
           },
           "label": "Net_Worth",
           "values": [
            1.3,
            7.1,
            4.2,
            3.2,
            1.3,
            2.1,
            1.2,
            1.3,
            3.8,
            4.0,
            2.0,
            1.5,
            1.3,
            27.3,
            1.9,
            1.4,
            3.8,
            1.3,
            7.8,
            1.9,
            2.8,
            1.7,
            1.4,
            3.5,
            2.7,
            36.2,
            1.5,
            2.6,
            2.7,
            1.7,
            1.2,
            3.1,
            1.5,
            1.4,
            3.8,
            4.0,
            3.9,
            2.1,
            5.4,
            1.5,
            1.7,
            2.0,
            3.7,
            4.4,
            3.0,
            1.5,
            1.5,
            1.5,
            1.4,
            1.4
           ]
          }
         ],
         "hovertemplate": "Citizenship=Italy<br>%{xaxis.title.text}=%{x}<br>%{yaxis.title.text}=%{y}<extra></extra>",
         "legendgroup": "Italy",
         "marker": {
          "color": "#ab63fa",
          "symbol": "circle"
         },
         "name": "Italy",
         "showlegend": true,
         "type": "splom"
        },
        {
         "dimensions": [
          {
           "axis": {
            "matches": true
           },
           "label": "Age",
           "values": [
            35,
            49,
            42,
            75,
            58,
            60,
            62,
            73,
            93,
            60,
            56,
            76,
            55,
            70,
            79,
            62,
            78,
            48,
            43,
            42,
            57,
            41,
            51,
            81,
            70,
            59,
            65,
            67,
            72,
            71,
            90,
            36,
            50,
            50,
            85,
            64,
            65,
            65,
            48,
            71,
            81,
            65,
            58,
            94,
            63,
            53,
            89,
            71,
            61,
            60,
            44,
            72,
            73,
            92,
            56,
            80,
            62,
            94,
            72,
            96,
            71
           ]
          },
          {
           "axis": {
            "matches": true
           },
           "label": "Net_Worth",
           "values": [
            3.5,
            1.4,
            4.0,
            1.1,
            2.9,
            3.1,
            2.9,
            1.3,
            12.2,
            1.8,
            4.6,
            1.8,
            3.3,
            4.7,
            1.6,
            3.0,
            1.6,
            2.5,
            2.8,
            4.0,
            2.8,
            5.0,
            2.0,
            2.7,
            2.8,
            1.7,
            2.5,
            4.2,
            1.8,
            1.1,
            2.5,
            2.1,
            1.1,
            1.1,
            4.8,
            49.2,
            2.5,
            5.3,
            5.3,
            2.0,
            3.3,
            2.0,
            8.4,
            3.3,
            5.0,
            2.1,
            1.8,
            3.2,
            1.5,
            4.5,
            65.0,
            8.4,
            5.0,
            4.0,
            1.5,
            1.6,
            1.2,
            4.1,
            2.3,
            1.8,
            10.9
           ]
          }
         ],
         "hovertemplate": "Citizenship=Canada<br>%{xaxis.title.text}=%{x}<br>%{yaxis.title.text}=%{y}<extra></extra>",
         "legendgroup": "Canada",
         "marker": {
          "color": "#FFA15A",
          "symbol": "circle"
         },
         "name": "Canada",
         "showlegend": true,
         "type": "splom"
        },
        {
         "dimensions": [
          {
           "axis": {
            "matches": true
           },
           "label": "Age",
           "values": [
            34,
            53,
            31,
            53,
            65,
            48,
            42,
            56,
            55,
            58,
            48,
            69,
            53,
            51,
            67,
            51,
            42,
            66,
            54,
            54,
            54,
            68,
            47,
            50,
            58,
            54,
            72,
            73,
            59,
            49,
            59,
            50,
            54,
            47,
            57,
            67,
            57,
            61,
            52,
            56,
            52,
            70,
            48,
            56,
            54,
            53,
            69,
            58,
            56,
            51,
            57,
            55,
            57,
            59,
            57,
            49,
            71,
            63,
            54,
            47,
            61,
            56,
            55,
            71,
            71,
            50,
            58,
            78,
            59,
            58,
            58,
            51,
            60,
            53,
            71,
            52,
            50,
            57,
            63,
            79,
            59,
            53,
            61,
            54,
            65,
            67,
            50,
            38,
            60,
            71,
            52,
            59,
            62,
            46,
            60,
            58,
            56,
            60,
            58,
            46,
            51,
            57,
            51,
            58,
            52,
            52,
            58,
            59,
            65,
            48,
            54,
            56,
            54,
            70,
            59,
            53,
            56,
            60,
            64,
            56,
            86,
            65,
            37,
            54,
            56,
            59,
            55,
            48,
            67,
            60,
            57,
            54,
            71,
            86,
            61,
            51,
            57,
            70,
            43,
            67,
            54,
            67,
            53,
            51,
            64,
            54,
            56,
            74,
            51,
            55,
            59,
            25,
            56,
            73,
            46,
            55,
            46,
            63,
            55,
            66,
            54,
            54,
            59,
            62,
            58,
            67,
            60,
            65,
            52,
            52,
            53,
            38,
            40,
            54,
            50,
            81,
            72,
            53,
            59,
            71,
            59,
            44,
            81,
            55,
            56,
            48,
            76,
            57,
            46,
            56,
            56,
            59,
            56,
            60,
            53,
            59,
            63,
            52,
            49,
            50,
            59,
            55,
            47,
            58,
            49,
            61,
            61,
            57,
            52,
            69,
            59,
            56,
            40,
            55,
            43,
            53,
            67,
            68,
            66,
            66,
            55,
            59,
            52,
            52,
            63,
            55,
            72,
            52,
            56,
            52,
            73,
            56,
            58,
            52,
            48,
            62,
            58,
            59,
            58,
            48,
            48,
            52,
            54,
            64,
            59,
            51,
            58,
            57,
            72,
            52,
            53,
            53,
            68,
            49,
            79,
            54,
            53,
            51,
            58,
            64,
            49,
            50,
            62,
            65,
            39,
            73,
            52,
            58,
            60,
            58,
            58,
            39,
            67,
            54,
            76,
            57,
            58,
            49,
            61,
            57,
            60,
            65,
            40,
            58,
            49,
            58,
            64,
            55,
            48,
            53,
            57,
            51,
            55,
            72,
            59,
            52,
            53,
            52,
            70,
            52,
            57,
            56,
            48,
            58,
            72,
            87,
            61,
            57,
            48,
            55,
            56,
            50,
            59,
            59,
            56,
            55,
            60,
            57,
            58,
            58,
            44,
            39,
            53,
            57,
            58,
            77,
            58,
            39,
            68,
            60,
            54,
            72,
            66,
            45,
            57,
            56,
            64,
            46,
            60,
            48,
            68,
            68,
            71,
            70,
            56,
            65,
            68,
            61,
            54,
            67,
            45,
            57,
            51,
            69,
            68,
            52,
            48,
            61,
            69,
            70,
            53,
            60,
            57,
            60,
            59,
            54,
            42,
            73,
            76,
            42,
            57,
            59,
            38,
            52,
            53,
            61,
            58,
            53,
            54,
            60,
            58,
            81,
            56,
            49,
            57,
            64,
            53,
            51,
            51,
            43,
            58,
            60,
            58,
            35,
            63,
            65,
            52,
            73,
            54,
            77,
            45,
            39,
            45,
            58,
            52,
            56,
            59,
            72,
            55,
            63,
            53,
            49,
            66,
            58,
            47,
            54,
            57,
            54,
            70,
            57,
            57,
            53,
            50,
            63,
            72,
            57,
            66,
            73,
            62,
            58,
            67,
            62,
            65,
            73,
            86,
            59,
            57,
            54,
            55,
            51,
            54,
            48,
            53,
            63,
            75,
            37,
            46,
            64,
            54,
            51,
            58,
            57,
            59,
            44,
            59,
            51,
            47,
            70,
            35,
            59,
            58,
            46,
            56,
            87,
            74,
            78,
            67,
            76,
            51,
            52,
            65,
            70,
            63,
            57,
            64,
            55,
            55,
            59,
            51,
            56,
            59,
            56,
            52,
            41,
            61,
            55,
            67,
            75,
            59,
            60,
            51,
            64,
            65,
            70,
            45,
            70,
            58,
            46,
            60,
            57,
            48,
            55,
            70,
            59,
            44,
            68,
            56,
            54,
            61,
            62,
            57,
            53,
            56,
            52,
            74,
            49
           ]
          },
          {
           "axis": {
            "matches": true
           },
           "label": "Net_Worth",
           "values": [
            1.3,
            1.9,
            1.6,
            3.3,
            1.5,
            1.7,
            1.3,
            2.7,
            2.0,
            1.6,
            1.7,
            2.4,
            1.5,
            2.1,
            1.0,
            6.5,
            2.2,
            1.9,
            3.9,
            2.8,
            2.5,
            1.0,
            2.1,
            1.2,
            23.7,
            2.7,
            3.5,
            5.1,
            1.4,
            2.0,
            1.3,
            1.5,
            2.3,
            1.1,
            1.6,
            2.0,
            5.4,
            2.9,
            1.2,
            10.0,
            1.1,
            9.1,
            1.9,
            1.3,
            17.7,
            1.7,
            2.6,
            1.4,
            12.7,
            7.8,
            1.2,
            2.8,
            2.1,
            4.8,
            1.0,
            1.6,
            1.4,
            1.3,
            1.3,
            1.7,
            4.7,
            2.1,
            4.5,
            1.7,
            1.9,
            25.2,
            1.3,
            3.3,
            1.3,
            1.7,
            2.2,
            2.1,
            3.5,
            1.6,
            3.0,
            1.1,
            37.2,
            2.4,
            2.1,
            2.6,
            1.0,
            1.5,
            1.6,
            1.2,
            1.7,
            1.7,
            1.0,
            3.4,
            1.5,
            1.3,
            11.7,
            2.0,
            1.3,
            1.3,
            3.6,
            5.4,
            1.2,
            1.4,
            15.5,
            1.5,
            1.8,
            1.6,
            2.5,
            1.0,
            1.2,
            6.4,
            2.1,
            8.7,
            1.2,
            1.8,
            5.2,
            19.5,
            1.7,
            2.5,
            5.3,
            1.2,
            1.5,
            3.5,
            5.2,
            8.6,
            1.7,
            1.1,
            1.8,
            1.2,
            2.7,
            1.0,
            1.0,
            1.4,
            2.4,
            1.4,
            22.8,
            1.1,
            1.4,
            2.0,
            1.5,
            1.0,
            8.1,
            1.6,
            11.0,
            1.6,
            1.0,
            1.5,
            1.3,
            24.3,
            4.8,
            1.7,
            3.0,
            1.8,
            1.1,
            2.6,
            1.8,
            1.5,
            3.0,
            3.3,
            1.8,
            3.7,
            3.5,
            8.8,
            1.6,
            17.0,
            3.4,
            9.5,
            1.4,
            1.1,
            2.7,
            65.7,
            1.2,
            7.8,
            1.5,
            1.8,
            4.8,
            50.0,
            4.3,
            1.5,
            1.5,
            5.1,
            1.6,
            2.6,
            12.1,
            1.5,
            15.7,
            4.0,
            1.3,
            2.3,
            1.1,
            1.7,
            2.3,
            9.8,
            1.4,
            1.2,
            1.6,
            1.4,
            3.2,
            6.3,
            1.1,
            4.8,
            1.3,
            1.2,
            4.3,
            1.1,
            1.6,
            2.2,
            2.1,
            1.1,
            5.0,
            6.5,
            1.7,
            1.0,
            4.4,
            3.2,
            1.3,
            2.4,
            18.7,
            1.0,
            2.0,
            9.3,
            13.2,
            2.2,
            2.9,
            3.6,
            1.0,
            1.0,
            1.3,
            1.1,
            3.5,
            18.2,
            2.8,
            1.4,
            4.5,
            2.6,
            1.8,
            3.8,
            3.7,
            1.2,
            1.4,
            2.0,
            5.9,
            3.6,
            1.5,
            1.9,
            2.0,
            1.9,
            1.1,
            7.1,
            1.1,
            4.7,
            1.8,
            8.7,
            3.9,
            3.5,
            1.0,
            1.5,
            1.9,
            1.7,
            28.3,
            1.2,
            1.3,
            3.1,
            3.6,
            3.9,
            1.6,
            12.8,
            1.3,
            10.3,
            2.3,
            2.8,
            1.7,
            1.3,
            3.6,
            2.9,
            6.1,
            1.2,
            1.4,
            1.2,
            8.8,
            2.1,
            3.0,
            2.0,
            1.6,
            8.4,
            2.3,
            1.8,
            3.9,
            4.4,
            3.1,
            1.6,
            2.5,
            20.3,
            10.5,
            3.0,
            1.0,
            2.6,
            2.1,
            2.3,
            1.5,
            1.1,
            7.0,
            3.5,
            1.3,
            1.9,
            1.7,
            1.5,
            1.4,
            5.6,
            1.1,
            2.8,
            2.1,
            1.5,
            1.3,
            6.9,
            2.0,
            2.4,
            2.8,
            1.8,
            2.9,
            5.1,
            3.7,
            1.8,
            2.3,
            1.1,
            1.3,
            1.5,
            1.1,
            2.2,
            8.4,
            1.8,
            2.3,
            1.3,
            1.9,
            1.3,
            1.1,
            2.3,
            19.6,
            1.0,
            1.7,
            1.3,
            2.9,
            2.1,
            2.2,
            1.8,
            1.4,
            1.8,
            1.1,
            4.3,
            2.5,
            1.2,
            17.7,
            1.6,
            1.4,
            6.4,
            1.7,
            1.2,
            1.0,
            11.3,
            1.0,
            2.8,
            1.1,
            1.8,
            1.9,
            2.8,
            2.0,
            1.0,
            1.5,
            1.9,
            1.6,
            1.1,
            11.3,
            1.5,
            2.5,
            1.4,
            1.1,
            4.6,
            5.4,
            1.1,
            5.2,
            2.7,
            2.9,
            3.7,
            1.2,
            2.9,
            1.5,
            1.5,
            1.5,
            3.0,
            4.1,
            3.3,
            1.3,
            3.1,
            1.4,
            1.0,
            1.6,
            1.6,
            2.5,
            3.0,
            1.9,
            2.0,
            1.6,
            1.4,
            1.3,
            1.5,
            2.2,
            2.1,
            1.7,
            7.7,
            2.3,
            3.1,
            3.3,
            1.9,
            1.6,
            1.2,
            7.0,
            1.7,
            1.0,
            1.6,
            1.0,
            1.3,
            5.0,
            2.9,
            1.7,
            2.5,
            2.3,
            2.2,
            1.3,
            17.1,
            3.2,
            1.1,
            4.6,
            2.1,
            4.7,
            15.3,
            1.2,
            1.5,
            2.1,
            13.2,
            3.8,
            1.7,
            1.3,
            2.2,
            1.5,
            1.5,
            1.8,
            1.1,
            4.1,
            1.9,
            3.6,
            1.6,
            3.4,
            3.1,
            2.9,
            1.1,
            1.3,
            1.1,
            1.1,
            1.2,
            2.3,
            1.3,
            2.5,
            1.5,
            4.4,
            1.5,
            1.4,
            2.7,
            3.3,
            3.0,
            2.9,
            1.0,
            1.9,
            9.4,
            2.1,
            1.8,
            2.1,
            1.8,
            12.5,
            1.4,
            7.7,
            6.1,
            1.0,
            1.3,
            2.9,
            2.8,
            1.3,
            24.1,
            1.2,
            4.8,
            5.2,
            1.4,
            1.4,
            1.7,
            1.1,
            1.2,
            1.3,
            1.3,
            1.2,
            5.7,
            1.2,
            3.4,
            13.65,
            5.4,
            1.2,
            6.3,
            5.0,
            1.2,
            4.2,
            1.1,
            1.2,
            2.2,
            1.9,
            12.9,
            8.1,
            1.8,
            1.4,
            5.4,
            4.0,
            9.9,
            2.0,
            14.8
           ]
          }
         ],
         "hovertemplate": "Citizenship=China<br>%{xaxis.title.text}=%{x}<br>%{yaxis.title.text}=%{y}<extra></extra>",
         "legendgroup": "China",
         "marker": {
          "color": "#19d3f3",
          "symbol": "circle"
         },
         "name": "China",
         "showlegend": true,
         "type": "splom"
        },
        {
         "dimensions": [
          {
           "axis": {
            "matches": true
           },
           "label": "Age",
           "values": [
            69,
            64,
            86,
            76,
            74,
            71,
            81,
            71,
            72,
            81,
            65,
            68,
            65,
            81,
            65,
            73,
            66,
            72,
            79,
            67,
            71,
            93,
            80,
            72,
            69,
            68,
            90,
            60,
            65,
            72,
            65,
            63,
            75,
            69,
            67,
            65,
            94,
            89,
            72,
            90,
            81,
            65,
            86,
            54,
            63,
            75,
            77
           ]
          },
          {
           "axis": {
            "matches": true
           },
           "label": "Net_Worth",
           "values": [
            5.1,
            5.1,
            1.7,
            1.4,
            11.7,
            3.0,
            2.2,
            5.4,
            2.1,
            1.2,
            1.2,
            1.6,
            1.6,
            1.9,
            4.7,
            2.5,
            1.2,
            3.3,
            2.3,
            1.6,
            6.9,
            7.2,
            1.2,
            5.9,
            2.4,
            2.5,
            2.1,
            2.7,
            2.8,
            5.0,
            4.9,
            1.4,
            2.8,
            1.6,
            3.0,
            7.8,
            2.0,
            1.4,
            1.0,
            2.7,
            3.2,
            1.1,
            2.1,
            4.7,
            1.9,
            1.4,
            2.4
           ]
          }
         ],
         "hovertemplate": "Citizenship=Taiwan<br>%{xaxis.title.text}=%{x}<br>%{yaxis.title.text}=%{y}<extra></extra>",
         "legendgroup": "Taiwan",
         "marker": {
          "color": "#FF6692",
          "symbol": "circle"
         },
         "name": "Taiwan",
         "showlegend": true,
         "type": "splom"
        },
        {
         "dimensions": [
          {
           "axis": {
            "matches": true
           },
           "label": "Age",
           "values": [
            70,
            72,
            54,
            61,
            70,
            70,
            63,
            50,
            88,
            70,
            53,
            36,
            73,
            58,
            65,
            69,
            30,
            64,
            94,
            84,
            49,
            92,
            73,
            73,
            57,
            58,
            80,
            86,
            93,
            60,
            62,
            59,
            65,
            54,
            93,
            55,
            80,
            74,
            56,
            71,
            57,
            64,
            52,
            55,
            52,
            58,
            86,
            56,
            72,
            36,
            70,
            61,
            55,
            79,
            68,
            61,
            75,
            78,
            75,
            57,
            52,
            82,
            39,
            41
           ]
          },
          {
           "axis": {
            "matches": true
           },
           "label": "Net_Worth",
           "values": [
            1.2,
            1.1,
            5.7,
            2.8,
            13.6,
            3.3,
            1.0,
            5.8,
            2.4,
            4.4,
            44.8,
            1.5,
            6.6,
            4.5,
            3.3,
            1.0,
            2.2,
            1.4,
            32.6,
            2.8,
            2.2,
            12.6,
            3.2,
            1.6,
            13.2,
            5.8,
            7.2,
            1.7,
            11.6,
            5.0,
            1.6,
            3.2,
            1.6,
            9.0,
            34.8,
            1.9,
            4.0,
            8.1,
            2.2,
            5.4,
            2.8,
            1.0,
            7.1,
            4.7,
            1.5,
            6.3,
            3.5,
            1.4,
            2.0,
            2.8,
            1.9,
            3.0,
            16.1,
            3.6,
            1.3,
            2.0,
            3.6,
            3.4,
            17.0,
            1.6,
            2.3,
            4.1,
            2.3,
            1.5
           ]
          }
         ],
         "hovertemplate": "Citizenship=Hong Kong<br>%{xaxis.title.text}=%{x}<br>%{yaxis.title.text}=%{y}<extra></extra>",
         "legendgroup": "Hong Kong",
         "marker": {
          "color": "#B6E880",
          "symbol": "circle"
         },
         "name": "Hong Kong",
         "showlegend": true,
         "type": "splom"
        },
        {
         "dimensions": [
          {
           "axis": {
            "matches": true
           },
           "label": "Age",
           "values": [
            26,
            60,
            72,
            74,
            69,
            79,
            52,
            52,
            62,
            40,
            62,
            76,
            50,
            64,
            65,
            66,
            69,
            25,
            67,
            72,
            67,
            36,
            82,
            85,
            73,
            74,
            72,
            75,
            81,
            68,
            91,
            89,
            72,
            51,
            64,
            48,
            60,
            59,
            31,
            65,
            49,
            59,
            82,
            49,
            77,
            45,
            66,
            52,
            76,
            75,
            74,
            86,
            68,
            75,
            59,
            58,
            55,
            72,
            70,
            89,
            53
           ]
          },
          {
           "axis": {
            "matches": true
           },
           "label": "Net_Worth",
           "values": [
            1.5,
            1.4,
            3.3,
            8.5,
            1.1,
            1.5,
            1.8,
            1.5,
            1.5,
            10.6,
            1.9,
            2.8,
            4.3,
            2.8,
            1.8,
            2.0,
            1.3,
            1.5,
            3.3,
            1.8,
            1.3,
            1.1,
            15.4,
            2.7,
            1.0,
            2.0,
            2.6,
            1.8,
            1.1,
            2.4,
            4.1,
            4.1,
            2.3,
            1.6,
            1.3,
            1.6,
            1.8,
            1.4,
            1.1,
            1.5,
            4.3,
            1.6,
            1.3,
            1.6,
            9.8,
            2.0,
            1.2,
            1.0,
            1.4,
            1.9,
            1.7,
            2.0,
            2.0,
            3.2,
            4.8,
            1.3,
            5.1,
            10.3,
            1.4,
            6.9,
            5.8
           ]
          }
         ],
         "hovertemplate": "Citizenship=Brazil<br>%{xaxis.title.text}=%{x}<br>%{yaxis.title.text}=%{y}<extra></extra>",
         "legendgroup": "Brazil",
         "marker": {
          "color": "#FF97FF",
          "symbol": "circle"
         },
         "name": "Brazil",
         "showlegend": true,
         "type": "splom"
        },
        {
         "dimensions": [
          {
           "axis": {
            "matches": true
           },
           "label": "Age",
           "values": [
            67,
            66,
            59,
            56,
            53,
            73,
            71,
            57,
            54,
            49,
            69,
            58,
            54,
            64,
            66,
            57,
            57,
            60,
            59,
            62,
            68,
            70,
            55,
            55,
            65,
            59,
            65,
            61,
            55,
            49,
            55,
            55,
            70,
            61,
            57,
            50,
            60,
            54,
            53,
            64,
            54,
            54,
            72,
            69,
            50,
            56,
            49,
            66,
            65,
            43,
            62,
            50,
            54,
            49,
            69,
            56,
            60,
            57,
            50,
            58,
            55,
            56,
            42,
            73,
            76,
            68,
            55,
            56,
            63,
            46,
            54,
            61,
            56,
            51,
            64,
            68,
            70,
            63
           ]
          },
          {
           "axis": {
            "matches": true
           },
           "label": "Net_Worth",
           "values": [
            4.3,
            1.7,
            1.9,
            13.2,
            1.5,
            1.7,
            10.5,
            1.9,
            3.2,
            1.1,
            11.3,
            1.2,
            1.7,
            1.4,
            5.0,
            2.3,
            11.8,
            7.8,
            1.4,
            2.1,
            4.6,
            1.6,
            6.9,
            2.6,
            1.1,
            6.0,
            18.4,
            1.9,
            1.2,
            1.3,
            1.2,
            6.6,
            1.7,
            1.2,
            1.3,
            1.1,
            2.1,
            2.2,
            1.7,
            1.3,
            2.0,
            1.5,
            1.5,
            1.4,
            11.1,
            10.3,
            1.6,
            14.0,
            1.0,
            1.4,
            4.8,
            2.0,
            1.4,
            1.4,
            1.3,
            4.4,
            1.2,
            1.2,
            3.1,
            3.6,
            1.1,
            1.0,
            1.4,
            6.6,
            1.2,
            11.5,
            1.3,
            4.7,
            1.6,
            2.1,
            1.5,
            17.3,
            1.1,
            1.8,
            5.5,
            1.3,
            1.3,
            5.5
           ]
          }
         ],
         "hovertemplate": "Citizenship=Russia<br>%{xaxis.title.text}=%{x}<br>%{yaxis.title.text}=%{y}<extra></extra>",
         "legendgroup": "Russia",
         "marker": {
          "color": "#FECB52",
          "symbol": "circle"
         },
         "name": "Russia",
         "showlegend": true,
         "type": "splom"
        }
       ],
       "layout": {
        "dragmode": "select",
        "legend": {
         "title": {
          "text": "Citizenship"
         },
         "tracegroupgap": 0
        },
        "template": {
         "data": {
          "bar": [
           {
            "error_x": {
             "color": "#2a3f5f"
            },
            "error_y": {
             "color": "#2a3f5f"
            },
            "marker": {
             "line": {
              "color": "#E5ECF6",
              "width": 0.5
             },
             "pattern": {
              "fillmode": "overlay",
              "size": 10,
              "solidity": 0.2
             }
            },
            "type": "bar"
           }
          ],
          "barpolar": [
           {
            "marker": {
             "line": {
              "color": "#E5ECF6",
              "width": 0.5
             },
             "pattern": {
              "fillmode": "overlay",
              "size": 10,
              "solidity": 0.2
             }
            },
            "type": "barpolar"
           }
          ],
          "carpet": [
           {
            "aaxis": {
             "endlinecolor": "#2a3f5f",
             "gridcolor": "white",
             "linecolor": "white",
             "minorgridcolor": "white",
             "startlinecolor": "#2a3f5f"
            },
            "baxis": {
             "endlinecolor": "#2a3f5f",
             "gridcolor": "white",
             "linecolor": "white",
             "minorgridcolor": "white",
             "startlinecolor": "#2a3f5f"
            },
            "type": "carpet"
           }
          ],
          "choropleth": [
           {
            "colorbar": {
             "outlinewidth": 0,
             "ticks": ""
            },
            "type": "choropleth"
           }
          ],
          "contour": [
           {
            "colorbar": {
             "outlinewidth": 0,
             "ticks": ""
            },
            "colorscale": [
             [
              0.0,
              "#0d0887"
             ],
             [
              0.1111111111111111,
              "#46039f"
             ],
             [
              0.2222222222222222,
              "#7201a8"
             ],
             [
              0.3333333333333333,
              "#9c179e"
             ],
             [
              0.4444444444444444,
              "#bd3786"
             ],
             [
              0.5555555555555556,
              "#d8576b"
             ],
             [
              0.6666666666666666,
              "#ed7953"
             ],
             [
              0.7777777777777778,
              "#fb9f3a"
             ],
             [
              0.8888888888888888,
              "#fdca26"
             ],
             [
              1.0,
              "#f0f921"
             ]
            ],
            "type": "contour"
           }
          ],
          "contourcarpet": [
           {
            "colorbar": {
             "outlinewidth": 0,
             "ticks": ""
            },
            "type": "contourcarpet"
           }
          ],
          "heatmap": [
           {
            "colorbar": {
             "outlinewidth": 0,
             "ticks": ""
            },
            "colorscale": [
             [
              0.0,
              "#0d0887"
             ],
             [
              0.1111111111111111,
              "#46039f"
             ],
             [
              0.2222222222222222,
              "#7201a8"
             ],
             [
              0.3333333333333333,
              "#9c179e"
             ],
             [
              0.4444444444444444,
              "#bd3786"
             ],
             [
              0.5555555555555556,
              "#d8576b"
             ],
             [
              0.6666666666666666,
              "#ed7953"
             ],
             [
              0.7777777777777778,
              "#fb9f3a"
             ],
             [
              0.8888888888888888,
              "#fdca26"
             ],
             [
              1.0,
              "#f0f921"
             ]
            ],
            "type": "heatmap"
           }
          ],
          "heatmapgl": [
           {
            "colorbar": {
             "outlinewidth": 0,
             "ticks": ""
            },
            "colorscale": [
             [
              0.0,
              "#0d0887"
             ],
             [
              0.1111111111111111,
              "#46039f"
             ],
             [
              0.2222222222222222,
              "#7201a8"
             ],
             [
              0.3333333333333333,
              "#9c179e"
             ],
             [
              0.4444444444444444,
              "#bd3786"
             ],
             [
              0.5555555555555556,
              "#d8576b"
             ],
             [
              0.6666666666666666,
              "#ed7953"
             ],
             [
              0.7777777777777778,
              "#fb9f3a"
             ],
             [
              0.8888888888888888,
              "#fdca26"
             ],
             [
              1.0,
              "#f0f921"
             ]
            ],
            "type": "heatmapgl"
           }
          ],
          "histogram": [
           {
            "marker": {
             "pattern": {
              "fillmode": "overlay",
              "size": 10,
              "solidity": 0.2
             }
            },
            "type": "histogram"
           }
          ],
          "histogram2d": [
           {
            "colorbar": {
             "outlinewidth": 0,
             "ticks": ""
            },
            "colorscale": [
             [
              0.0,
              "#0d0887"
             ],
             [
              0.1111111111111111,
              "#46039f"
             ],
             [
              0.2222222222222222,
              "#7201a8"
             ],
             [
              0.3333333333333333,
              "#9c179e"
             ],
             [
              0.4444444444444444,
              "#bd3786"
             ],
             [
              0.5555555555555556,
              "#d8576b"
             ],
             [
              0.6666666666666666,
              "#ed7953"
             ],
             [
              0.7777777777777778,
              "#fb9f3a"
             ],
             [
              0.8888888888888888,
              "#fdca26"
             ],
             [
              1.0,
              "#f0f921"
             ]
            ],
            "type": "histogram2d"
           }
          ],
          "histogram2dcontour": [
           {
            "colorbar": {
             "outlinewidth": 0,
             "ticks": ""
            },
            "colorscale": [
             [
              0.0,
              "#0d0887"
             ],
             [
              0.1111111111111111,
              "#46039f"
             ],
             [
              0.2222222222222222,
              "#7201a8"
             ],
             [
              0.3333333333333333,
              "#9c179e"
             ],
             [
              0.4444444444444444,
              "#bd3786"
             ],
             [
              0.5555555555555556,
              "#d8576b"
             ],
             [
              0.6666666666666666,
              "#ed7953"
             ],
             [
              0.7777777777777778,
              "#fb9f3a"
             ],
             [
              0.8888888888888888,
              "#fdca26"
             ],
             [
              1.0,
              "#f0f921"
             ]
            ],
            "type": "histogram2dcontour"
           }
          ],
          "mesh3d": [
           {
            "colorbar": {
             "outlinewidth": 0,
             "ticks": ""
            },
            "type": "mesh3d"
           }
          ],
          "parcoords": [
           {
            "line": {
             "colorbar": {
              "outlinewidth": 0,
              "ticks": ""
             }
            },
            "type": "parcoords"
           }
          ],
          "pie": [
           {
            "automargin": true,
            "type": "pie"
           }
          ],
          "scatter": [
           {
            "fillpattern": {
             "fillmode": "overlay",
             "size": 10,
             "solidity": 0.2
            },
            "type": "scatter"
           }
          ],
          "scatter3d": [
           {
            "line": {
             "colorbar": {
              "outlinewidth": 0,
              "ticks": ""
             }
            },
            "marker": {
             "colorbar": {
              "outlinewidth": 0,
              "ticks": ""
             }
            },
            "type": "scatter3d"
           }
          ],
          "scattercarpet": [
           {
            "marker": {
             "colorbar": {
              "outlinewidth": 0,
              "ticks": ""
             }
            },
            "type": "scattercarpet"
           }
          ],
          "scattergeo": [
           {
            "marker": {
             "colorbar": {
              "outlinewidth": 0,
              "ticks": ""
             }
            },
            "type": "scattergeo"
           }
          ],
          "scattergl": [
           {
            "marker": {
             "colorbar": {
              "outlinewidth": 0,
              "ticks": ""
             }
            },
            "type": "scattergl"
           }
          ],
          "scattermapbox": [
           {
            "marker": {
             "colorbar": {
              "outlinewidth": 0,
              "ticks": ""
             }
            },
            "type": "scattermapbox"
           }
          ],
          "scatterpolar": [
           {
            "marker": {
             "colorbar": {
              "outlinewidth": 0,
              "ticks": ""
             }
            },
            "type": "scatterpolar"
           }
          ],
          "scatterpolargl": [
           {
            "marker": {
             "colorbar": {
              "outlinewidth": 0,
              "ticks": ""
             }
            },
            "type": "scatterpolargl"
           }
          ],
          "scatterternary": [
           {
            "marker": {
             "colorbar": {
              "outlinewidth": 0,
              "ticks": ""
             }
            },
            "type": "scatterternary"
           }
          ],
          "surface": [
           {
            "colorbar": {
             "outlinewidth": 0,
             "ticks": ""
            },
            "colorscale": [
             [
              0.0,
              "#0d0887"
             ],
             [
              0.1111111111111111,
              "#46039f"
             ],
             [
              0.2222222222222222,
              "#7201a8"
             ],
             [
              0.3333333333333333,
              "#9c179e"
             ],
             [
              0.4444444444444444,
              "#bd3786"
             ],
             [
              0.5555555555555556,
              "#d8576b"
             ],
             [
              0.6666666666666666,
              "#ed7953"
             ],
             [
              0.7777777777777778,
              "#fb9f3a"
             ],
             [
              0.8888888888888888,
              "#fdca26"
             ],
             [
              1.0,
              "#f0f921"
             ]
            ],
            "type": "surface"
           }
          ],
          "table": [
           {
            "cells": {
             "fill": {
              "color": "#EBF0F8"
             },
             "line": {
              "color": "white"
             }
            },
            "header": {
             "fill": {
              "color": "#C8D4E3"
             },
             "line": {
              "color": "white"
             }
            },
            "type": "table"
           }
          ]
         },
         "layout": {
          "annotationdefaults": {
           "arrowcolor": "#2a3f5f",
           "arrowhead": 0,
           "arrowwidth": 1
          },
          "autotypenumbers": "strict",
          "coloraxis": {
           "colorbar": {
            "outlinewidth": 0,
            "ticks": ""
           }
          },
          "colorscale": {
           "diverging": [
            [
             0,
             "#8e0152"
            ],
            [
             0.1,
             "#c51b7d"
            ],
            [
             0.2,
             "#de77ae"
            ],
            [
             0.3,
             "#f1b6da"
            ],
            [
             0.4,
             "#fde0ef"
            ],
            [
             0.5,
             "#f7f7f7"
            ],
            [
             0.6,
             "#e6f5d0"
            ],
            [
             0.7,
             "#b8e186"
            ],
            [
             0.8,
             "#7fbc41"
            ],
            [
             0.9,
             "#4d9221"
            ],
            [
             1,
             "#276419"
            ]
           ],
           "sequential": [
            [
             0.0,
             "#0d0887"
            ],
            [
             0.1111111111111111,
             "#46039f"
            ],
            [
             0.2222222222222222,
             "#7201a8"
            ],
            [
             0.3333333333333333,
             "#9c179e"
            ],
            [
             0.4444444444444444,
             "#bd3786"
            ],
            [
             0.5555555555555556,
             "#d8576b"
            ],
            [
             0.6666666666666666,
             "#ed7953"
            ],
            [
             0.7777777777777778,
             "#fb9f3a"
            ],
            [
             0.8888888888888888,
             "#fdca26"
            ],
            [
             1.0,
             "#f0f921"
            ]
           ],
           "sequentialminus": [
            [
             0.0,
             "#0d0887"
            ],
            [
             0.1111111111111111,
             "#46039f"
            ],
            [
             0.2222222222222222,
             "#7201a8"
            ],
            [
             0.3333333333333333,
             "#9c179e"
            ],
            [
             0.4444444444444444,
             "#bd3786"
            ],
            [
             0.5555555555555556,
             "#d8576b"
            ],
            [
             0.6666666666666666,
             "#ed7953"
            ],
            [
             0.7777777777777778,
             "#fb9f3a"
            ],
            [
             0.8888888888888888,
             "#fdca26"
            ],
            [
             1.0,
             "#f0f921"
            ]
           ]
          },
          "colorway": [
           "#636efa",
           "#EF553B",
           "#00cc96",
           "#ab63fa",
           "#FFA15A",
           "#19d3f3",
           "#FF6692",
           "#B6E880",
           "#FF97FF",
           "#FECB52"
          ],
          "font": {
           "color": "#2a3f5f"
          },
          "geo": {
           "bgcolor": "white",
           "lakecolor": "white",
           "landcolor": "#E5ECF6",
           "showlakes": true,
           "showland": true,
           "subunitcolor": "white"
          },
          "hoverlabel": {
           "align": "left"
          },
          "hovermode": "closest",
          "mapbox": {
           "style": "light"
          },
          "paper_bgcolor": "white",
          "plot_bgcolor": "#E5ECF6",
          "polar": {
           "angularaxis": {
            "gridcolor": "white",
            "linecolor": "white",
            "ticks": ""
           },
           "bgcolor": "#E5ECF6",
           "radialaxis": {
            "gridcolor": "white",
            "linecolor": "white",
            "ticks": ""
           }
          },
          "scene": {
           "xaxis": {
            "backgroundcolor": "#E5ECF6",
            "gridcolor": "white",
            "gridwidth": 2,
            "linecolor": "white",
            "showbackground": true,
            "ticks": "",
            "zerolinecolor": "white"
           },
           "yaxis": {
            "backgroundcolor": "#E5ECF6",
            "gridcolor": "white",
            "gridwidth": 2,
            "linecolor": "white",
            "showbackground": true,
            "ticks": "",
            "zerolinecolor": "white"
           },
           "zaxis": {
            "backgroundcolor": "#E5ECF6",
            "gridcolor": "white",
            "gridwidth": 2,
            "linecolor": "white",
            "showbackground": true,
            "ticks": "",
            "zerolinecolor": "white"
           }
          },
          "shapedefaults": {
           "line": {
            "color": "#2a3f5f"
           }
          },
          "ternary": {
           "aaxis": {
            "gridcolor": "white",
            "linecolor": "white",
            "ticks": ""
           },
           "baxis": {
            "gridcolor": "white",
            "linecolor": "white",
            "ticks": ""
           },
           "bgcolor": "#E5ECF6",
           "caxis": {
            "gridcolor": "white",
            "linecolor": "white",
            "ticks": ""
           }
          },
          "title": {
           "x": 0.05
          },
          "xaxis": {
           "automargin": true,
           "gridcolor": "white",
           "linecolor": "white",
           "ticks": "",
           "title": {
            "standoff": 15
           },
           "zerolinecolor": "white",
           "zerolinewidth": 2
          },
          "yaxis": {
           "automargin": true,
           "gridcolor": "white",
           "linecolor": "white",
           "ticks": "",
           "title": {
            "standoff": 15
           },
           "zerolinecolor": "white",
           "zerolinewidth": 2
          }
         }
        },
        "title": {
         "text": "Scatter Plot Matrix: Age Vs. Net Worth of Billionaires (Top 10 Countries)"
        }
       }
      },
      "text/html": [
       "<div>                            <div id=\"bb778ad1-2443-45e6-9d48-2c3d19964b17\" class=\"plotly-graph-div\" style=\"height:525px; width:100%;\"></div>            <script type=\"text/javascript\">                require([\"plotly\"], function(Plotly) {                    window.PLOTLYENV=window.PLOTLYENV || {};                                    if (document.getElementById(\"bb778ad1-2443-45e6-9d48-2c3d19964b17\")) {                    Plotly.newPlot(                        \"bb778ad1-2443-45e6-9d48-2c3d19964b17\",                        [{\"dimensions\":[{\"axis\":{\"matches\":true},\"label\":\"Age\",\"values\":[66,77,79,52,79,81,62,68,64,64,48,27,65,59,75,71,74,73,80,65,54,67,78,76,78,51,68,71,83,69,59,78,67,56,30,53,66,87,53,89,72,81,81,73,53,55,60,62,49,72,64,50,69,60,77,84,57,62,58,74,55,64,93,80,52,48,59,86,58,50,72,52,60,48,45,52,40,61,62,81,72,57,76,84,75,73,73,79,41,83,57,73,69,60,72,54,65,60,61,68,57,42,50,68,62,57,63,39,75,68,72,97,31,85,59,47,62,91,73,62,61,77,60,77,52,55,60,80,64,47,70,61,35,65,77,37,95,75,61,63,77,79,61,39,64,55,60,73,63,39,66,39,86,65,92,86,67,46,80,59,71,39,39,54,64,77,71,59,81,59,65,67,84,53,67,65,45,65,66,45,82,56,88,33,67,70,40,86,66,77,61,29,68,59,53,50,63,57,57,79,64,31,81,90,58,89,58,86,76,84,67,41,55,63,83,81,38,55,94,66,45,84,72,67,62,64,57,73,78,67,87,100,49,56,67,66,44,60,82,74,78,61,63,78,86,70,78,48,76,72,52,27,78,47,43,63,54,83,67,39,83,71,63,80,80,69,84,75,80,89,72,72,79,70,51,67,64,74,91,71,90,76,79,71,68,56,44,59,29,55,61,77,83,57,82,65,67,52,44,66,82,36,60,88,48,86,66,65,80,95,84,58,51,72,76,66,65,47,57,69,62,59,49,52,63,66,34,50,61,60,86,65,57,82,66,59,80,75,32,47,63,78,73,80,33,74,79,86,59,77,51,87,66,54,85,60,52,70,56,83,34,40,73,76,68,80,80,67,51,93,60,77,85,65,49,75,71,64,85,80,57,64,87,67,70,58,58,95,48,40,51,51,80,60,76,81,83,66,82,78,79,62,84,40,64,89,65,42,49,61,62,70,71,76,61,69,74,66,69,65,84,74,59,60,70,86,80,78,38,50,60,57,65,59,42,30,84,93,71,65,51,64,72,61,57,53,72,66,75,46,72,55,78,68,74,73,68,54,68,74,57,79,59,76,79,51,93,68,73,40,78,88,63,77,86,64,68,54,41,54,84,79,62,76,73,49,64,40,85,81,72,85,69,63,77,98,62,82,77,71,55,70,68,54,81,88,81,51,58,71,84,55,32,56,64,72,51,78,72,58,81,71,71,68,45,76,83,98,76,85,90,60,68,72,60,84,79,63,96,75,86,66,64,87,39,82,42,77,63,58,75,50,62,89,57,60,66,87,37,62,69,67,39,59,54,83,75,77,58,76,69,62,80,50,66,94,63,67,47,72,65,62,75,71,70,96,79,92,67,66,57,28,70,59,60,62,68,81,65,40,77,65,53,43,78,79,51,88,45,77,72,71,72,69,45,63,77,79,81,63,62,77,62,67,66,64,37,79,91,80,89,79,61,76,58,76,65,86,66,80,66,73,87,49,75,52,74,84,62,77,49,63,59,64,63,78,60,59,71,63,71,44,49,92,75,78,73,61,67,71,45,47,66,89,61,60,55,68,51,48,86,89,80,71,65,66,58,79,44,80,77,70,66,74,43,84,89,52,56,70,82,56,47,53,75,82,80,59,74,73,41,75,53,47,79,52,70,59,53,62,67,78,73,94,69,82,72,69,71]},{\"axis\":{\"matches\":true},\"label\":\"Net_Worth\",\"values\":[1.6,1.6,5.2,1.6,2.8,2.2,2.3,1.5,5.8,32.5,1.9,1.6,1.3,3.4,34.8,1.3,5.1,3.6,7.3,3.3,2.1,7.3,1.4,1.7,5.5,2.8,1.4,2.0,2.8,3.5,1.7,2.0,5.1,2.8,24.0,2.2,2.8,2.0,27.2,4.4,65.3,4.9,2.3,7.9,2.7,5.0,2.6,1.6,2.4,3.8,5.2,219.0,4.7,1.4,2.5,8.0,3.6,1.4,1.1,10.7,3.2,2.0,1.5,5.6,1.1,3.4,2.5,1.3,5.1,5.0,2.5,6.6,6.6,107.0,2.2,1.9,10.0,4.3,4.3,1.1,2.8,4.3,2.8,3.0,2.7,2.8,9.0,3.6,1.3,21.8,3.1,2.8,1.2,2.4,3.5,5.0,1.1,4.6,2.2,2.6,1.6,2.0,5.0,3.0,2.3,1.8,4.7,1.6,3.8,2.7,3.6,2.0,2.2,2.9,2.4,1.0,11.4,20.8,4.6,2.4,2.0,4.7,4.5,65.0,2.7,3.0,3.4,6.9,8.6,3.2,1.7,7.9,16.5,2.9,2.8,1.3,2.1,1.6,2.0,1.3,1.7,1.8,5.9,6.6,1.8,1.0,22.0,66.2,1.8,3.2,1.3,4.2,3.2,1.6,14.4,3.4,2.8,9.8,2.7,11.1,4.7,1.4,1.3,6.5,1.8,106.0,2.3,6.7,12.9,2.9,1.3,5.9,12.2,3.0,6.9,1.2,3.2,2.0,1.1,2.6,4.0,2.0,4.3,2.1,6.8,3.5,1.3,1.2,129.0,3.1,2.0,1.1,4.0,2.8,3.4,1.2,1.6,1.0,6.0,2.6,8.6,6.1,8.2,2.3,1.0,5.1,3.4,31.7,6.4,5.5,4.6,1.8,1.6,2.3,3.5,1.2,9.2,2.8,1.5,4.2,6.1,1.5,4.0,3.4,3.2,6.9,6.3,1.6,7.0,1.6,6.9,1.8,1.5,2.7,4.1,3.3,5.0,1.1,5.8,4.2,2.8,1.1,1.5,1.0,1.1,10.0,8.0,1.6,2.5,4.1,1.4,2.0,3.2,1.5,1.6,1.2,1.5,2.3,1.2,1.5,5.6,3.4,1.7,1.8,4.7,1.5,2.9,4.2,82.0,2.6,1.1,1.8,6.7,3.6,43.6,2.8,1.5,1.2,118.0,1.2,4.7,2.8,4.7,1.0,5.0,1.4,14.6,1.8,1.2,3.6,4.3,4.3,5.0,4.0,1.3,2.2,1.7,1.7,1.5,2.9,1.0,2.0,2.9,2.1,1.5,5.8,91.4,1.2,2.3,5.4,2.7,5.0,1.0,6.9,2.0,4.0,2.1,2.2,8.1,1.2,3.5,1.7,1.5,4.1,4.2,4.0,2.4,2.8,1.8,3.2,4.2,7.9,7.9,1.6,3.9,3.9,1.9,3.8,2.4,5.0,7.5,1.8,11.5,4.5,6.3,3.0,5.1,6.9,20.6,4.3,6.3,3.0,2.2,11.3,3.7,6.5,5.2,5.6,2.4,2.3,1.5,1.4,1.2,27.5,1.2,4.4,2.5,7.3,2.3,9.5,1.9,5.2,2.2,2.7,5.5,2.0,7.8,1.8,2.4,5.4,55.1,3.1,3.7,1.1,1.6,3.5,3.8,3.4,4.5,11.5,3.3,2.5,8.3,21.2,17.2,3.6,28.6,7.1,16.6,1.1,9.9,1.2,6.2,1.7,1.2,23.1,5.7,4.9,2.2,2.1,5.5,4.5,4.0,2.8,3.7,8.7,3.3,4.6,1.0,5.8,1.6,7.8,4.8,4.2,8.1,3.4,3.3,3.2,1.5,2.0,1.3,2.7,3.4,4.0,2.8,2.2,2.6,4.3,2.2,3.7,1.1,1.5,6.1,4.3,4.8,1.5,1.7,2.9,2.2,10.3,1.6,8.8,5.0,6.8,3.3,1.5,7.1,1.1,2.0,1.5,5.8,10.0,1.1,2.2,4.5,2.3,1.5,3.8,1.8,4.0,5.4,8.8,3.4,5.3,1.8,1.5,1.6,1.4,1.3,1.5,1.4,3.4,2.8,3.6,3.7,8.0,5.6,1.1,1.2,7.4,1.6,4.2,7.3,4.1,1.8,2.5,2.6,10.9,2.8,1.5,1.8,1.3,1.4,5.1,4.3,1.8,1.6,2.1,16.4,5.3,3.6,1.4,1.4,2.4,2.1,22.0,4.1,1.0,5.0,6.6,1.4,5.0,5.8,2.4,2.8,4.1,8.8,2.3,2.4,2.9,2.6,8.5,1.3,2.3,1.5,47.3,1.8,1.4,4.5,3.0,1.2,1.3,16.7,5.4,1.2,2.9,1.7,6.1,7.9,171.0,3.6,1.7,6.5,1.3,1.8,5.5,1.6,3.9,67.3,1.1,2.1,7.2,6.6,60.0,1.1,1.2,2.7,6.2,1.7,1.6,9.9,1.6,1.9,1.6,1.5,1.5,3.2,1.3,1.4,1.4,3.1,1.9,3.7,1.1,2.9,1.5,7.1,8.7,6.0,1.6,6.2,5.9,5.8,1.4,5.7,3.1,4.0,4.3,2.6,4.0,1.8,2.1,4.0,3.1,4.5,1.8,7.4,1.0,3.2,1.4,2.4,7.5,2.2,4.6,3.4,3.3,20.1,2.1,1.1,2.6,3.3,7.5,1.6,1.4,1.6,2.5,11.5,1.7,8.6,4.6,3.0,1.0,3.7,1.6,1.6,3.7,17.4,16.5,2.9,5.8,4.0,1.6,3.5,1.0,1.7,6.8,2.1,2.4,4.5,2.0,111.0,12.0,1.7,4.6,2.2,2.5,2.1,5.7,3.4,4.3,7.6,2.0,1.4,3.4,1.7,7.7,5.8,3.7,1.0,5.0,3.4,1.5,1.6,3.7,4.0,2.3,1.0,4.5,3.5,3.3,60.0,4.8,1.4,8.4,3.4,22.1,7.5,10.6,1.0,2.0,1.7,12.7,1.0,6.0,1.6,5.8,16.2,6.5,1.4,3.9,1.0,1.2,2.5,1.2,3.7,6.9,5.5,1.1,1.9,2.3,1.3,10.7,2.8,2.8,1.3,1.0,2.9,3.0,2.6,2.6,1.0,6.5,2.9,1.7,1.3,31.7,1.6,2.6,1.6]}],\"hovertemplate\":\"Citizenship=United States\\u003cbr\\u003e%{xaxis.title.text}=%{x}\\u003cbr\\u003e%{yaxis.title.text}=%{y}\\u003cextra\\u003e\\u003c\\u002fextra\\u003e\",\"legendgroup\":\"United States\",\"marker\":{\"color\":\"#636efa\",\"symbol\":\"circle\"},\"name\":\"United States\",\"showlegend\":true,\"type\":\"splom\"},{\"dimensions\":[{\"axis\":{\"matches\":true},\"label\":\"Age\",\"values\":[60,62,35,44,72,75,59,57,71,81,71,82,39,59,71,76,50,34,59,70,65,84,75,66,74,82,60,42,57,77,56,58,69,58,78,78,66,70,19,65,53,49,63,78,82,43,95,80,48,45,43,49,70,57,68,89,70,82,43,57,74,69,53,67,38,86,58,46,80,39,77,62,75,88,55,55,57,42,67,84,70,78,82,45,62,76,78,69,55,58,57,55,39,60,56,88,43,74,55,79,75,54,87,72,55,65,80,67,70,32,47,64]},{\"axis\":{\"matches\":true},\"label\":\"Net_Worth\",\"values\":[2.2,1.5,1.5,2.8,11.9,6.4,1.5,5.8,4.0,5.3,18.7,4.8,1.5,1.8,1.4,1.7,3.6,1.1,24.3,5.8,1.2,3.0,2.3,9.9,3.1,4.7,1.0,1.3,1.5,6.9,5.3,3.3,5.8,3.3,7.9,3.8,2.0,5.8,2.4,2.9,1.7,1.7,4.9,4.0,2.3,3.3,4.2,1.2,1.0,2.7,1.8,3.3,2.4,5.8,1.9,2.3,1.0,47.1,1.2,4.4,5.7,4.3,1.1,1.7,1.2,19.0,3.8,2.5,5.2,1.3,2.4,1.2,1.6,1.7,1.1,20.7,1.2,1.0,1.2,37.3,3.7,4.2,3.9,1.5,1.8,5.6,8.9,1.0,1.8,5.8,8.1,2.2,1.0,2.6,1.1,4.0,1.3,1.4,6.5,3.5,8.9,10.9,4.0,11.9,3.3,1.6,2.0,3.0,3.1,1.2,1.1,1.4]}],\"hovertemplate\":\"Citizenship=Germany\\u003cbr\\u003e%{xaxis.title.text}=%{x}\\u003cbr\\u003e%{yaxis.title.text}=%{y}\\u003cextra\\u003e\\u003c\\u002fextra\\u003e\",\"legendgroup\":\"Germany\",\"marker\":{\"color\":\"#EF553B\",\"symbol\":\"circle\"},\"name\":\"Germany\",\"showlegend\":true,\"type\":\"splom\"},{\"dimensions\":[{\"axis\":{\"matches\":true},\"label\":\"Age\",\"values\":[52,74,72,86,52,72,73,75,81,40,64,66,69,85,66,73,79,71,80,70,74,73,60,64,88,81,91,66,63,52,64,67,72,69,71,64,56,77,54,79,69,64,68,81,80,71,65,64,56,71,74,86,56,68,66,81,66,73,80,73,69,69,91,66,71,90,63,69,47,95,74,90,66,70,61,50,68,51,78,71,45,55,91,75,67,63,81,51,56,65,88,70,71,72,70,76,59,53,39,61,75,69,77,55,79,64,75,85,72,76,64,49,64,69,77,65,58,69,59,78,81,81,40,73,66,39,49,66,91,77,59,80,80,81,77,64,76,51,68,83,67,67,64,61,56,71,75,78,84,87,71,77,69,64,49,61,75,80,88,79,69,93,58,61,60,76,54,67,64,68,66,68,79,70,78,67,54,77,73,67,73,63,71,67,60,65,67,90,69,79,75,74,65,69,52,76,68,61,70,65,43,64,70,42,67,44,69,50,69,61,64,90,66,69,57,59,67,76,70,73,64,68,73,66,60,78,69,60,88,71,67,67,64,54,77,66,63,67]},{\"axis\":{\"matches\":true},\"label\":\"Net_Worth\",\"values\":[2.2,2.4,17.7,2.9,1.3,17.2,1.5,4.4,1.1,1.3,13.9,4.7,1.8,1.1,1.4,2.3,1.9,2.5,1.8,3.3,2.4,1.4,1.6,1.3,6.8,1.7,2.3,1.0,2.5,1.6,3.8,5.2,1.5,2.4,3.8,1.7,1.9,8.6,1.2,8.6,4.0,2.0,1.1,3.8,6.0,2.6,1.7,2.0,1.9,6.3,1.8,3.95,2.4,2.6,1.4,3.6,1.7,1.2,24.3,1.4,1.1,2.3,7.1,15.6,17.9,6.7,2.4,4.95,3.1,1.1,2.2,8.8,2.7,2.5,1.4,1.3,4.0,3.2,3.3,1.4,2.5,1.5,2.5,3.1,2.7,2.6,21.5,1.2,1.3,94.1,1.95,1.2,1.5,14.4,3.1,1.4,90.0,1.1,1.3,5.8,2.3,2.0,1.0,15.5,7.7,2.1,1.5,2.3,1.6,9.8,2.1,1.9,90.7,1.2,2.8,1.9,3.1,1.4,1.3,1.4,3.3,6.7,3.6,2.5,4.2,1.3,1.4,3.4,9.5,1.4,4.5,4.3,5.9,3.9,1.3,2.1,11.7,1.9,3.5,2.1,2.2,2.4,7.8,1.0,2.1,2.5,3.65,3.6,2.7,2.5,8.1,1.0,1.3,3.97,1.7,2.5,1.3,2.5,1.8,1.8,3.9,3.0,2.6,2.4,2.6,28.7,1.3,2.8,2.6,1.4,5.4,2.3,1.2,1.4,3.0,20.0,16.5,3.0,2.7,3.1,2.5,14.3,1.5,8.0,1.1,1.6,4.1,2.5,1.6,1.1,1.5,3.8,2.05,3.3,3.5,1.0,3.1,1.0,3.0,3.7,1.2,3.0,2.2,4.05,2.9,1.1,1.9,2.1,2.6,3.22,1.6,2.2,14.3,3.6,2.5,3.91,1.9,4.6,2.3,1.4,14.7,2.3,2.1,4.6,2.7,3.0,2.9,74.8,6.5,6.4,3.4,29.4,2.73,3.75,22.4,5.0,14.8,3.5]}],\"hovertemplate\":\"Citizenship=India\\u003cbr\\u003e%{xaxis.title.text}=%{x}\\u003cbr\\u003e%{yaxis.title.text}=%{y}\\u003cextra\\u003e\\u003c\\u002fextra\\u003e\",\"legendgroup\":\"India\",\"marker\":{\"color\":\"#00cc96\",\"symbol\":\"circle\"},\"name\":\"India\",\"showlegend\":true,\"type\":\"splom\"},{\"dimensions\":[{\"axis\":{\"matches\":true},\"label\":\"Age\",\"values\":[62,85,76,86,44,46,82,52,79,72,68,84,50,86,87,68,65,50,87,81,76,69,48,66,86,57,59,54,84,68,57,62,76,68,53,76,79,81,79,63,76,87,85,82,60,44,81,68,74,60]},{\"axis\":{\"matches\":true},\"label\":\"Net_Worth\",\"values\":[1.3,7.1,4.2,3.2,1.3,2.1,1.2,1.3,3.8,4.0,2.0,1.5,1.3,27.3,1.9,1.4,3.8,1.3,7.8,1.9,2.8,1.7,1.4,3.5,2.7,36.2,1.5,2.6,2.7,1.7,1.2,3.1,1.5,1.4,3.8,4.0,3.9,2.1,5.4,1.5,1.7,2.0,3.7,4.4,3.0,1.5,1.5,1.5,1.4,1.4]}],\"hovertemplate\":\"Citizenship=Italy\\u003cbr\\u003e%{xaxis.title.text}=%{x}\\u003cbr\\u003e%{yaxis.title.text}=%{y}\\u003cextra\\u003e\\u003c\\u002fextra\\u003e\",\"legendgroup\":\"Italy\",\"marker\":{\"color\":\"#ab63fa\",\"symbol\":\"circle\"},\"name\":\"Italy\",\"showlegend\":true,\"type\":\"splom\"},{\"dimensions\":[{\"axis\":{\"matches\":true},\"label\":\"Age\",\"values\":[35,49,42,75,58,60,62,73,93,60,56,76,55,70,79,62,78,48,43,42,57,41,51,81,70,59,65,67,72,71,90,36,50,50,85,64,65,65,48,71,81,65,58,94,63,53,89,71,61,60,44,72,73,92,56,80,62,94,72,96,71]},{\"axis\":{\"matches\":true},\"label\":\"Net_Worth\",\"values\":[3.5,1.4,4.0,1.1,2.9,3.1,2.9,1.3,12.2,1.8,4.6,1.8,3.3,4.7,1.6,3.0,1.6,2.5,2.8,4.0,2.8,5.0,2.0,2.7,2.8,1.7,2.5,4.2,1.8,1.1,2.5,2.1,1.1,1.1,4.8,49.2,2.5,5.3,5.3,2.0,3.3,2.0,8.4,3.3,5.0,2.1,1.8,3.2,1.5,4.5,65.0,8.4,5.0,4.0,1.5,1.6,1.2,4.1,2.3,1.8,10.9]}],\"hovertemplate\":\"Citizenship=Canada\\u003cbr\\u003e%{xaxis.title.text}=%{x}\\u003cbr\\u003e%{yaxis.title.text}=%{y}\\u003cextra\\u003e\\u003c\\u002fextra\\u003e\",\"legendgroup\":\"Canada\",\"marker\":{\"color\":\"#FFA15A\",\"symbol\":\"circle\"},\"name\":\"Canada\",\"showlegend\":true,\"type\":\"splom\"},{\"dimensions\":[{\"axis\":{\"matches\":true},\"label\":\"Age\",\"values\":[34,53,31,53,65,48,42,56,55,58,48,69,53,51,67,51,42,66,54,54,54,68,47,50,58,54,72,73,59,49,59,50,54,47,57,67,57,61,52,56,52,70,48,56,54,53,69,58,56,51,57,55,57,59,57,49,71,63,54,47,61,56,55,71,71,50,58,78,59,58,58,51,60,53,71,52,50,57,63,79,59,53,61,54,65,67,50,38,60,71,52,59,62,46,60,58,56,60,58,46,51,57,51,58,52,52,58,59,65,48,54,56,54,70,59,53,56,60,64,56,86,65,37,54,56,59,55,48,67,60,57,54,71,86,61,51,57,70,43,67,54,67,53,51,64,54,56,74,51,55,59,25,56,73,46,55,46,63,55,66,54,54,59,62,58,67,60,65,52,52,53,38,40,54,50,81,72,53,59,71,59,44,81,55,56,48,76,57,46,56,56,59,56,60,53,59,63,52,49,50,59,55,47,58,49,61,61,57,52,69,59,56,40,55,43,53,67,68,66,66,55,59,52,52,63,55,72,52,56,52,73,56,58,52,48,62,58,59,58,48,48,52,54,64,59,51,58,57,72,52,53,53,68,49,79,54,53,51,58,64,49,50,62,65,39,73,52,58,60,58,58,39,67,54,76,57,58,49,61,57,60,65,40,58,49,58,64,55,48,53,57,51,55,72,59,52,53,52,70,52,57,56,48,58,72,87,61,57,48,55,56,50,59,59,56,55,60,57,58,58,44,39,53,57,58,77,58,39,68,60,54,72,66,45,57,56,64,46,60,48,68,68,71,70,56,65,68,61,54,67,45,57,51,69,68,52,48,61,69,70,53,60,57,60,59,54,42,73,76,42,57,59,38,52,53,61,58,53,54,60,58,81,56,49,57,64,53,51,51,43,58,60,58,35,63,65,52,73,54,77,45,39,45,58,52,56,59,72,55,63,53,49,66,58,47,54,57,54,70,57,57,53,50,63,72,57,66,73,62,58,67,62,65,73,86,59,57,54,55,51,54,48,53,63,75,37,46,64,54,51,58,57,59,44,59,51,47,70,35,59,58,46,56,87,74,78,67,76,51,52,65,70,63,57,64,55,55,59,51,56,59,56,52,41,61,55,67,75,59,60,51,64,65,70,45,70,58,46,60,57,48,55,70,59,44,68,56,54,61,62,57,53,56,52,74,49]},{\"axis\":{\"matches\":true},\"label\":\"Net_Worth\",\"values\":[1.3,1.9,1.6,3.3,1.5,1.7,1.3,2.7,2.0,1.6,1.7,2.4,1.5,2.1,1.0,6.5,2.2,1.9,3.9,2.8,2.5,1.0,2.1,1.2,23.7,2.7,3.5,5.1,1.4,2.0,1.3,1.5,2.3,1.1,1.6,2.0,5.4,2.9,1.2,10.0,1.1,9.1,1.9,1.3,17.7,1.7,2.6,1.4,12.7,7.8,1.2,2.8,2.1,4.8,1.0,1.6,1.4,1.3,1.3,1.7,4.7,2.1,4.5,1.7,1.9,25.2,1.3,3.3,1.3,1.7,2.2,2.1,3.5,1.6,3.0,1.1,37.2,2.4,2.1,2.6,1.0,1.5,1.6,1.2,1.7,1.7,1.0,3.4,1.5,1.3,11.7,2.0,1.3,1.3,3.6,5.4,1.2,1.4,15.5,1.5,1.8,1.6,2.5,1.0,1.2,6.4,2.1,8.7,1.2,1.8,5.2,19.5,1.7,2.5,5.3,1.2,1.5,3.5,5.2,8.6,1.7,1.1,1.8,1.2,2.7,1.0,1.0,1.4,2.4,1.4,22.8,1.1,1.4,2.0,1.5,1.0,8.1,1.6,11.0,1.6,1.0,1.5,1.3,24.3,4.8,1.7,3.0,1.8,1.1,2.6,1.8,1.5,3.0,3.3,1.8,3.7,3.5,8.8,1.6,17.0,3.4,9.5,1.4,1.1,2.7,65.7,1.2,7.8,1.5,1.8,4.8,50.0,4.3,1.5,1.5,5.1,1.6,2.6,12.1,1.5,15.7,4.0,1.3,2.3,1.1,1.7,2.3,9.8,1.4,1.2,1.6,1.4,3.2,6.3,1.1,4.8,1.3,1.2,4.3,1.1,1.6,2.2,2.1,1.1,5.0,6.5,1.7,1.0,4.4,3.2,1.3,2.4,18.7,1.0,2.0,9.3,13.2,2.2,2.9,3.6,1.0,1.0,1.3,1.1,3.5,18.2,2.8,1.4,4.5,2.6,1.8,3.8,3.7,1.2,1.4,2.0,5.9,3.6,1.5,1.9,2.0,1.9,1.1,7.1,1.1,4.7,1.8,8.7,3.9,3.5,1.0,1.5,1.9,1.7,28.3,1.2,1.3,3.1,3.6,3.9,1.6,12.8,1.3,10.3,2.3,2.8,1.7,1.3,3.6,2.9,6.1,1.2,1.4,1.2,8.8,2.1,3.0,2.0,1.6,8.4,2.3,1.8,3.9,4.4,3.1,1.6,2.5,20.3,10.5,3.0,1.0,2.6,2.1,2.3,1.5,1.1,7.0,3.5,1.3,1.9,1.7,1.5,1.4,5.6,1.1,2.8,2.1,1.5,1.3,6.9,2.0,2.4,2.8,1.8,2.9,5.1,3.7,1.8,2.3,1.1,1.3,1.5,1.1,2.2,8.4,1.8,2.3,1.3,1.9,1.3,1.1,2.3,19.6,1.0,1.7,1.3,2.9,2.1,2.2,1.8,1.4,1.8,1.1,4.3,2.5,1.2,17.7,1.6,1.4,6.4,1.7,1.2,1.0,11.3,1.0,2.8,1.1,1.8,1.9,2.8,2.0,1.0,1.5,1.9,1.6,1.1,11.3,1.5,2.5,1.4,1.1,4.6,5.4,1.1,5.2,2.7,2.9,3.7,1.2,2.9,1.5,1.5,1.5,3.0,4.1,3.3,1.3,3.1,1.4,1.0,1.6,1.6,2.5,3.0,1.9,2.0,1.6,1.4,1.3,1.5,2.2,2.1,1.7,7.7,2.3,3.1,3.3,1.9,1.6,1.2,7.0,1.7,1.0,1.6,1.0,1.3,5.0,2.9,1.7,2.5,2.3,2.2,1.3,17.1,3.2,1.1,4.6,2.1,4.7,15.3,1.2,1.5,2.1,13.2,3.8,1.7,1.3,2.2,1.5,1.5,1.8,1.1,4.1,1.9,3.6,1.6,3.4,3.1,2.9,1.1,1.3,1.1,1.1,1.2,2.3,1.3,2.5,1.5,4.4,1.5,1.4,2.7,3.3,3.0,2.9,1.0,1.9,9.4,2.1,1.8,2.1,1.8,12.5,1.4,7.7,6.1,1.0,1.3,2.9,2.8,1.3,24.1,1.2,4.8,5.2,1.4,1.4,1.7,1.1,1.2,1.3,1.3,1.2,5.7,1.2,3.4,13.65,5.4,1.2,6.3,5.0,1.2,4.2,1.1,1.2,2.2,1.9,12.9,8.1,1.8,1.4,5.4,4.0,9.9,2.0,14.8]}],\"hovertemplate\":\"Citizenship=China\\u003cbr\\u003e%{xaxis.title.text}=%{x}\\u003cbr\\u003e%{yaxis.title.text}=%{y}\\u003cextra\\u003e\\u003c\\u002fextra\\u003e\",\"legendgroup\":\"China\",\"marker\":{\"color\":\"#19d3f3\",\"symbol\":\"circle\"},\"name\":\"China\",\"showlegend\":true,\"type\":\"splom\"},{\"dimensions\":[{\"axis\":{\"matches\":true},\"label\":\"Age\",\"values\":[69,64,86,76,74,71,81,71,72,81,65,68,65,81,65,73,66,72,79,67,71,93,80,72,69,68,90,60,65,72,65,63,75,69,67,65,94,89,72,90,81,65,86,54,63,75,77]},{\"axis\":{\"matches\":true},\"label\":\"Net_Worth\",\"values\":[5.1,5.1,1.7,1.4,11.7,3.0,2.2,5.4,2.1,1.2,1.2,1.6,1.6,1.9,4.7,2.5,1.2,3.3,2.3,1.6,6.9,7.2,1.2,5.9,2.4,2.5,2.1,2.7,2.8,5.0,4.9,1.4,2.8,1.6,3.0,7.8,2.0,1.4,1.0,2.7,3.2,1.1,2.1,4.7,1.9,1.4,2.4]}],\"hovertemplate\":\"Citizenship=Taiwan\\u003cbr\\u003e%{xaxis.title.text}=%{x}\\u003cbr\\u003e%{yaxis.title.text}=%{y}\\u003cextra\\u003e\\u003c\\u002fextra\\u003e\",\"legendgroup\":\"Taiwan\",\"marker\":{\"color\":\"#FF6692\",\"symbol\":\"circle\"},\"name\":\"Taiwan\",\"showlegend\":true,\"type\":\"splom\"},{\"dimensions\":[{\"axis\":{\"matches\":true},\"label\":\"Age\",\"values\":[70,72,54,61,70,70,63,50,88,70,53,36,73,58,65,69,30,64,94,84,49,92,73,73,57,58,80,86,93,60,62,59,65,54,93,55,80,74,56,71,57,64,52,55,52,58,86,56,72,36,70,61,55,79,68,61,75,78,75,57,52,82,39,41]},{\"axis\":{\"matches\":true},\"label\":\"Net_Worth\",\"values\":[1.2,1.1,5.7,2.8,13.6,3.3,1.0,5.8,2.4,4.4,44.8,1.5,6.6,4.5,3.3,1.0,2.2,1.4,32.6,2.8,2.2,12.6,3.2,1.6,13.2,5.8,7.2,1.7,11.6,5.0,1.6,3.2,1.6,9.0,34.8,1.9,4.0,8.1,2.2,5.4,2.8,1.0,7.1,4.7,1.5,6.3,3.5,1.4,2.0,2.8,1.9,3.0,16.1,3.6,1.3,2.0,3.6,3.4,17.0,1.6,2.3,4.1,2.3,1.5]}],\"hovertemplate\":\"Citizenship=Hong Kong\\u003cbr\\u003e%{xaxis.title.text}=%{x}\\u003cbr\\u003e%{yaxis.title.text}=%{y}\\u003cextra\\u003e\\u003c\\u002fextra\\u003e\",\"legendgroup\":\"Hong Kong\",\"marker\":{\"color\":\"#B6E880\",\"symbol\":\"circle\"},\"name\":\"Hong Kong\",\"showlegend\":true,\"type\":\"splom\"},{\"dimensions\":[{\"axis\":{\"matches\":true},\"label\":\"Age\",\"values\":[26,60,72,74,69,79,52,52,62,40,62,76,50,64,65,66,69,25,67,72,67,36,82,85,73,74,72,75,81,68,91,89,72,51,64,48,60,59,31,65,49,59,82,49,77,45,66,52,76,75,74,86,68,75,59,58,55,72,70,89,53]},{\"axis\":{\"matches\":true},\"label\":\"Net_Worth\",\"values\":[1.5,1.4,3.3,8.5,1.1,1.5,1.8,1.5,1.5,10.6,1.9,2.8,4.3,2.8,1.8,2.0,1.3,1.5,3.3,1.8,1.3,1.1,15.4,2.7,1.0,2.0,2.6,1.8,1.1,2.4,4.1,4.1,2.3,1.6,1.3,1.6,1.8,1.4,1.1,1.5,4.3,1.6,1.3,1.6,9.8,2.0,1.2,1.0,1.4,1.9,1.7,2.0,2.0,3.2,4.8,1.3,5.1,10.3,1.4,6.9,5.8]}],\"hovertemplate\":\"Citizenship=Brazil\\u003cbr\\u003e%{xaxis.title.text}=%{x}\\u003cbr\\u003e%{yaxis.title.text}=%{y}\\u003cextra\\u003e\\u003c\\u002fextra\\u003e\",\"legendgroup\":\"Brazil\",\"marker\":{\"color\":\"#FF97FF\",\"symbol\":\"circle\"},\"name\":\"Brazil\",\"showlegend\":true,\"type\":\"splom\"},{\"dimensions\":[{\"axis\":{\"matches\":true},\"label\":\"Age\",\"values\":[67,66,59,56,53,73,71,57,54,49,69,58,54,64,66,57,57,60,59,62,68,70,55,55,65,59,65,61,55,49,55,55,70,61,57,50,60,54,53,64,54,54,72,69,50,56,49,66,65,43,62,50,54,49,69,56,60,57,50,58,55,56,42,73,76,68,55,56,63,46,54,61,56,51,64,68,70,63]},{\"axis\":{\"matches\":true},\"label\":\"Net_Worth\",\"values\":[4.3,1.7,1.9,13.2,1.5,1.7,10.5,1.9,3.2,1.1,11.3,1.2,1.7,1.4,5.0,2.3,11.8,7.8,1.4,2.1,4.6,1.6,6.9,2.6,1.1,6.0,18.4,1.9,1.2,1.3,1.2,6.6,1.7,1.2,1.3,1.1,2.1,2.2,1.7,1.3,2.0,1.5,1.5,1.4,11.1,10.3,1.6,14.0,1.0,1.4,4.8,2.0,1.4,1.4,1.3,4.4,1.2,1.2,3.1,3.6,1.1,1.0,1.4,6.6,1.2,11.5,1.3,4.7,1.6,2.1,1.5,17.3,1.1,1.8,5.5,1.3,1.3,5.5]}],\"hovertemplate\":\"Citizenship=Russia\\u003cbr\\u003e%{xaxis.title.text}=%{x}\\u003cbr\\u003e%{yaxis.title.text}=%{y}\\u003cextra\\u003e\\u003c\\u002fextra\\u003e\",\"legendgroup\":\"Russia\",\"marker\":{\"color\":\"#FECB52\",\"symbol\":\"circle\"},\"name\":\"Russia\",\"showlegend\":true,\"type\":\"splom\"}],                        {\"dragmode\":\"select\",\"legend\":{\"title\":{\"text\":\"Citizenship\"},\"tracegroupgap\":0},\"template\":{\"data\":{\"barpolar\":[{\"marker\":{\"line\":{\"color\":\"#E5ECF6\",\"width\":0.5},\"pattern\":{\"fillmode\":\"overlay\",\"size\":10,\"solidity\":0.2}},\"type\":\"barpolar\"}],\"bar\":[{\"error_x\":{\"color\":\"#2a3f5f\"},\"error_y\":{\"color\":\"#2a3f5f\"},\"marker\":{\"line\":{\"color\":\"#E5ECF6\",\"width\":0.5},\"pattern\":{\"fillmode\":\"overlay\",\"size\":10,\"solidity\":0.2}},\"type\":\"bar\"}],\"carpet\":[{\"aaxis\":{\"endlinecolor\":\"#2a3f5f\",\"gridcolor\":\"white\",\"linecolor\":\"white\",\"minorgridcolor\":\"white\",\"startlinecolor\":\"#2a3f5f\"},\"baxis\":{\"endlinecolor\":\"#2a3f5f\",\"gridcolor\":\"white\",\"linecolor\":\"white\",\"minorgridcolor\":\"white\",\"startlinecolor\":\"#2a3f5f\"},\"type\":\"carpet\"}],\"choropleth\":[{\"colorbar\":{\"outlinewidth\":0,\"ticks\":\"\"},\"type\":\"choropleth\"}],\"contourcarpet\":[{\"colorbar\":{\"outlinewidth\":0,\"ticks\":\"\"},\"type\":\"contourcarpet\"}],\"contour\":[{\"colorbar\":{\"outlinewidth\":0,\"ticks\":\"\"},\"colorscale\":[[0.0,\"#0d0887\"],[0.1111111111111111,\"#46039f\"],[0.2222222222222222,\"#7201a8\"],[0.3333333333333333,\"#9c179e\"],[0.4444444444444444,\"#bd3786\"],[0.5555555555555556,\"#d8576b\"],[0.6666666666666666,\"#ed7953\"],[0.7777777777777778,\"#fb9f3a\"],[0.8888888888888888,\"#fdca26\"],[1.0,\"#f0f921\"]],\"type\":\"contour\"}],\"heatmapgl\":[{\"colorbar\":{\"outlinewidth\":0,\"ticks\":\"\"},\"colorscale\":[[0.0,\"#0d0887\"],[0.1111111111111111,\"#46039f\"],[0.2222222222222222,\"#7201a8\"],[0.3333333333333333,\"#9c179e\"],[0.4444444444444444,\"#bd3786\"],[0.5555555555555556,\"#d8576b\"],[0.6666666666666666,\"#ed7953\"],[0.7777777777777778,\"#fb9f3a\"],[0.8888888888888888,\"#fdca26\"],[1.0,\"#f0f921\"]],\"type\":\"heatmapgl\"}],\"heatmap\":[{\"colorbar\":{\"outlinewidth\":0,\"ticks\":\"\"},\"colorscale\":[[0.0,\"#0d0887\"],[0.1111111111111111,\"#46039f\"],[0.2222222222222222,\"#7201a8\"],[0.3333333333333333,\"#9c179e\"],[0.4444444444444444,\"#bd3786\"],[0.5555555555555556,\"#d8576b\"],[0.6666666666666666,\"#ed7953\"],[0.7777777777777778,\"#fb9f3a\"],[0.8888888888888888,\"#fdca26\"],[1.0,\"#f0f921\"]],\"type\":\"heatmap\"}],\"histogram2dcontour\":[{\"colorbar\":{\"outlinewidth\":0,\"ticks\":\"\"},\"colorscale\":[[0.0,\"#0d0887\"],[0.1111111111111111,\"#46039f\"],[0.2222222222222222,\"#7201a8\"],[0.3333333333333333,\"#9c179e\"],[0.4444444444444444,\"#bd3786\"],[0.5555555555555556,\"#d8576b\"],[0.6666666666666666,\"#ed7953\"],[0.7777777777777778,\"#fb9f3a\"],[0.8888888888888888,\"#fdca26\"],[1.0,\"#f0f921\"]],\"type\":\"histogram2dcontour\"}],\"histogram2d\":[{\"colorbar\":{\"outlinewidth\":0,\"ticks\":\"\"},\"colorscale\":[[0.0,\"#0d0887\"],[0.1111111111111111,\"#46039f\"],[0.2222222222222222,\"#7201a8\"],[0.3333333333333333,\"#9c179e\"],[0.4444444444444444,\"#bd3786\"],[0.5555555555555556,\"#d8576b\"],[0.6666666666666666,\"#ed7953\"],[0.7777777777777778,\"#fb9f3a\"],[0.8888888888888888,\"#fdca26\"],[1.0,\"#f0f921\"]],\"type\":\"histogram2d\"}],\"histogram\":[{\"marker\":{\"pattern\":{\"fillmode\":\"overlay\",\"size\":10,\"solidity\":0.2}},\"type\":\"histogram\"}],\"mesh3d\":[{\"colorbar\":{\"outlinewidth\":0,\"ticks\":\"\"},\"type\":\"mesh3d\"}],\"parcoords\":[{\"line\":{\"colorbar\":{\"outlinewidth\":0,\"ticks\":\"\"}},\"type\":\"parcoords\"}],\"pie\":[{\"automargin\":true,\"type\":\"pie\"}],\"scatter3d\":[{\"line\":{\"colorbar\":{\"outlinewidth\":0,\"ticks\":\"\"}},\"marker\":{\"colorbar\":{\"outlinewidth\":0,\"ticks\":\"\"}},\"type\":\"scatter3d\"}],\"scattercarpet\":[{\"marker\":{\"colorbar\":{\"outlinewidth\":0,\"ticks\":\"\"}},\"type\":\"scattercarpet\"}],\"scattergeo\":[{\"marker\":{\"colorbar\":{\"outlinewidth\":0,\"ticks\":\"\"}},\"type\":\"scattergeo\"}],\"scattergl\":[{\"marker\":{\"colorbar\":{\"outlinewidth\":0,\"ticks\":\"\"}},\"type\":\"scattergl\"}],\"scattermapbox\":[{\"marker\":{\"colorbar\":{\"outlinewidth\":0,\"ticks\":\"\"}},\"type\":\"scattermapbox\"}],\"scatterpolargl\":[{\"marker\":{\"colorbar\":{\"outlinewidth\":0,\"ticks\":\"\"}},\"type\":\"scatterpolargl\"}],\"scatterpolar\":[{\"marker\":{\"colorbar\":{\"outlinewidth\":0,\"ticks\":\"\"}},\"type\":\"scatterpolar\"}],\"scatter\":[{\"fillpattern\":{\"fillmode\":\"overlay\",\"size\":10,\"solidity\":0.2},\"type\":\"scatter\"}],\"scatterternary\":[{\"marker\":{\"colorbar\":{\"outlinewidth\":0,\"ticks\":\"\"}},\"type\":\"scatterternary\"}],\"surface\":[{\"colorbar\":{\"outlinewidth\":0,\"ticks\":\"\"},\"colorscale\":[[0.0,\"#0d0887\"],[0.1111111111111111,\"#46039f\"],[0.2222222222222222,\"#7201a8\"],[0.3333333333333333,\"#9c179e\"],[0.4444444444444444,\"#bd3786\"],[0.5555555555555556,\"#d8576b\"],[0.6666666666666666,\"#ed7953\"],[0.7777777777777778,\"#fb9f3a\"],[0.8888888888888888,\"#fdca26\"],[1.0,\"#f0f921\"]],\"type\":\"surface\"}],\"table\":[{\"cells\":{\"fill\":{\"color\":\"#EBF0F8\"},\"line\":{\"color\":\"white\"}},\"header\":{\"fill\":{\"color\":\"#C8D4E3\"},\"line\":{\"color\":\"white\"}},\"type\":\"table\"}]},\"layout\":{\"annotationdefaults\":{\"arrowcolor\":\"#2a3f5f\",\"arrowhead\":0,\"arrowwidth\":1},\"autotypenumbers\":\"strict\",\"coloraxis\":{\"colorbar\":{\"outlinewidth\":0,\"ticks\":\"\"}},\"colorscale\":{\"diverging\":[[0,\"#8e0152\"],[0.1,\"#c51b7d\"],[0.2,\"#de77ae\"],[0.3,\"#f1b6da\"],[0.4,\"#fde0ef\"],[0.5,\"#f7f7f7\"],[0.6,\"#e6f5d0\"],[0.7,\"#b8e186\"],[0.8,\"#7fbc41\"],[0.9,\"#4d9221\"],[1,\"#276419\"]],\"sequential\":[[0.0,\"#0d0887\"],[0.1111111111111111,\"#46039f\"],[0.2222222222222222,\"#7201a8\"],[0.3333333333333333,\"#9c179e\"],[0.4444444444444444,\"#bd3786\"],[0.5555555555555556,\"#d8576b\"],[0.6666666666666666,\"#ed7953\"],[0.7777777777777778,\"#fb9f3a\"],[0.8888888888888888,\"#fdca26\"],[1.0,\"#f0f921\"]],\"sequentialminus\":[[0.0,\"#0d0887\"],[0.1111111111111111,\"#46039f\"],[0.2222222222222222,\"#7201a8\"],[0.3333333333333333,\"#9c179e\"],[0.4444444444444444,\"#bd3786\"],[0.5555555555555556,\"#d8576b\"],[0.6666666666666666,\"#ed7953\"],[0.7777777777777778,\"#fb9f3a\"],[0.8888888888888888,\"#fdca26\"],[1.0,\"#f0f921\"]]},\"colorway\":[\"#636efa\",\"#EF553B\",\"#00cc96\",\"#ab63fa\",\"#FFA15A\",\"#19d3f3\",\"#FF6692\",\"#B6E880\",\"#FF97FF\",\"#FECB52\"],\"font\":{\"color\":\"#2a3f5f\"},\"geo\":{\"bgcolor\":\"white\",\"lakecolor\":\"white\",\"landcolor\":\"#E5ECF6\",\"showlakes\":true,\"showland\":true,\"subunitcolor\":\"white\"},\"hoverlabel\":{\"align\":\"left\"},\"hovermode\":\"closest\",\"mapbox\":{\"style\":\"light\"},\"paper_bgcolor\":\"white\",\"plot_bgcolor\":\"#E5ECF6\",\"polar\":{\"angularaxis\":{\"gridcolor\":\"white\",\"linecolor\":\"white\",\"ticks\":\"\"},\"bgcolor\":\"#E5ECF6\",\"radialaxis\":{\"gridcolor\":\"white\",\"linecolor\":\"white\",\"ticks\":\"\"}},\"scene\":{\"xaxis\":{\"backgroundcolor\":\"#E5ECF6\",\"gridcolor\":\"white\",\"gridwidth\":2,\"linecolor\":\"white\",\"showbackground\":true,\"ticks\":\"\",\"zerolinecolor\":\"white\"},\"yaxis\":{\"backgroundcolor\":\"#E5ECF6\",\"gridcolor\":\"white\",\"gridwidth\":2,\"linecolor\":\"white\",\"showbackground\":true,\"ticks\":\"\",\"zerolinecolor\":\"white\"},\"zaxis\":{\"backgroundcolor\":\"#E5ECF6\",\"gridcolor\":\"white\",\"gridwidth\":2,\"linecolor\":\"white\",\"showbackground\":true,\"ticks\":\"\",\"zerolinecolor\":\"white\"}},\"shapedefaults\":{\"line\":{\"color\":\"#2a3f5f\"}},\"ternary\":{\"aaxis\":{\"gridcolor\":\"white\",\"linecolor\":\"white\",\"ticks\":\"\"},\"baxis\":{\"gridcolor\":\"white\",\"linecolor\":\"white\",\"ticks\":\"\"},\"bgcolor\":\"#E5ECF6\",\"caxis\":{\"gridcolor\":\"white\",\"linecolor\":\"white\",\"ticks\":\"\"}},\"title\":{\"x\":0.05},\"xaxis\":{\"automargin\":true,\"gridcolor\":\"white\",\"linecolor\":\"white\",\"ticks\":\"\",\"title\":{\"standoff\":15},\"zerolinecolor\":\"white\",\"zerolinewidth\":2},\"yaxis\":{\"automargin\":true,\"gridcolor\":\"white\",\"linecolor\":\"white\",\"ticks\":\"\",\"title\":{\"standoff\":15},\"zerolinecolor\":\"white\",\"zerolinewidth\":2}}},\"title\":{\"text\":\"Scatter Plot Matrix: Age Vs. Net Worth of Billionaires (Top 10 Countries)\"}},                        {\"responsive\": true}                    ).then(function(){\n",
       "                            \n",
       "var gd = document.getElementById('bb778ad1-2443-45e6-9d48-2c3d19964b17');\n",
       "var x = new MutationObserver(function (mutations, observer) {{\n",
       "        var display = window.getComputedStyle(gd).display;\n",
       "        if (!display || display === 'none') {{\n",
       "            console.log([gd, 'removed!']);\n",
       "            Plotly.purge(gd);\n",
       "            observer.disconnect();\n",
       "        }}\n",
       "}});\n",
       "\n",
       "// Listen for the removal of the full notebook cells\n",
       "var notebookContainer = gd.closest('#notebook-container');\n",
       "if (notebookContainer) {{\n",
       "    x.observe(notebookContainer, {childList: true});\n",
       "}}\n",
       "\n",
       "// Listen for the clearing of the current output cell\n",
       "var outputEl = gd.closest('.output');\n",
       "if (outputEl) {{\n",
       "    x.observe(outputEl, {childList: true});\n",
       "}}\n",
       "\n",
       "                        })                };                });            </script>        </div>"
      ]
     },
     "metadata": {},
     "output_type": "display_data"
    }
   ],
   "source": [
    "# Create the scatter plot matrix (click on a label to remove that plot from the graph, its interactive)\n",
    "\n",
    "fig = px.scatter_matrix(data, dimensions=['Age', 'Net_Worth'], color='Citizenship',\n",
    "    title='Scatter Plot Matrix: Age Vs. Net Worth of Billionaires (Top 10 Countries)')\n",
    "\n",
    "iplot(fig)"
   ]
  },
  {
   "cell_type": "markdown",
   "id": "e18812d5",
   "metadata": {
    "papermill": {
     "duration": 0.053619,
     "end_time": "2023-07-14T09:30:02.124633",
     "exception": false,
     "start_time": "2023-07-14T09:30:02.071014",
     "status": "completed"
    },
    "tags": []
   },
   "source": [
    "# Q15: What is the average age of billionaires in the USA? How does it compare to the average age of billionaires in other countries? \n",
    "* Find Mean of Age when Citizenship == USA\n",
    "* Find Mean of Age when Citizenship is not equal to USA(All other countries other than USA)"
   ]
  },
  {
   "cell_type": "code",
   "execution_count": 38,
   "id": "a841706a",
   "metadata": {
    "execution": {
     "iopub.execute_input": "2023-07-14T09:30:02.233273Z",
     "iopub.status.busy": "2023-07-14T09:30:02.232720Z",
     "iopub.status.idle": "2023-07-14T09:30:02.238972Z",
     "shell.execute_reply": "2023-07-14T09:30:02.238307Z"
    },
    "papermill": {
     "duration": 0.062407,
     "end_time": "2023-07-14T09:30:02.241021",
     "exception": false,
     "start_time": "2023-07-14T09:30:02.178614",
     "status": "completed"
    },
    "tags": []
   },
   "outputs": [],
   "source": [
    "# boolean mask 'Citizenship' to 'USA' and other countries\n",
    "# and to find the mean of 'Age' column\n",
    "\n",
    "usa = df[df['Citizenship'] == 'United States']['Age'].mean()\n",
    "others = df[df['Citizenship'] != 'USA']['Age'].mean()"
   ]
  },
  {
   "cell_type": "code",
   "execution_count": 39,
   "id": "04c45265",
   "metadata": {
    "execution": {
     "iopub.execute_input": "2023-07-14T09:30:02.368767Z",
     "iopub.status.busy": "2023-07-14T09:30:02.368050Z",
     "iopub.status.idle": "2023-07-14T09:30:02.373492Z",
     "shell.execute_reply": "2023-07-14T09:30:02.372713Z"
    },
    "papermill": {
     "duration": 0.065717,
     "end_time": "2023-07-14T09:30:02.375196",
     "exception": false,
     "start_time": "2023-07-14T09:30:02.309479",
     "status": "completed"
    },
    "tags": []
   },
   "outputs": [
    {
     "name": "stdout",
     "output_type": "stream",
     "text": [
      "66.45\n",
      "64.39\n"
     ]
    }
   ],
   "source": [
    "print(round(usa, 2))\n",
    "print(round(others, 2))"
   ]
  },
  {
   "cell_type": "markdown",
   "id": "cd0ada39",
   "metadata": {
    "papermill": {
     "duration": 0.053054,
     "end_time": "2023-07-14T09:30:02.479894",
     "exception": false,
     "start_time": "2023-07-14T09:30:02.426840",
     "status": "completed"
    },
    "tags": []
   },
   "source": [
    "### The average age of billionaires in the USA is **66.45** and it's slightly higher than the average age of billionaires in other countries *(64.39)*"
   ]
  }
 ],
 "metadata": {
  "kernelspec": {
   "display_name": "Python 3",
   "language": "python",
   "name": "python3"
  },
  "language_info": {
   "codemirror_mode": {
    "name": "ipython",
    "version": 3
   },
   "file_extension": ".py",
   "mimetype": "text/x-python",
   "name": "python",
   "nbconvert_exporter": "python",
   "pygments_lexer": "ipython3",
   "version": "3.10.12"
  },
  "papermill": {
   "default_parameters": {},
   "duration": 15.524316,
   "end_time": "2023-07-14T09:30:03.453403",
   "environment_variables": {},
   "exception": null,
   "input_path": "__notebook__.ipynb",
   "output_path": "__notebook__.ipynb",
   "parameters": {},
   "start_time": "2023-07-14T09:29:47.929087",
   "version": "2.4.0"
  }
 },
 "nbformat": 4,
 "nbformat_minor": 5
}
